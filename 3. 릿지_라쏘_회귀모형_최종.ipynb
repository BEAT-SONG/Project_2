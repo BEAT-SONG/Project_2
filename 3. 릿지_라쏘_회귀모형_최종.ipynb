{
 "cells": [
  {
   "cell_type": "code",
   "execution_count": 22,
   "id": "97029c19",
   "metadata": {},
   "outputs": [],
   "source": [
    "import numpy as np\n",
    "import matplotlib.pyplot as plt\n",
    "from sklearn.linear_model import Ridge\n",
    "import pandas as pd\n",
    "\n",
    "# 데이터 전처리 패키지\n",
    "import numpy as np\n",
    "import pandas as pd\n",
    "\n",
    "# 데이터 시각화 패키지\n",
    "import seaborn as sns\n",
    "import matplotlib.pyplot as plt\n",
    "import matplotlib.font_manager as fm\n",
    "\n",
    "# 한글 폰트 설정\n",
    "plt.rc('font',family=\"Malgun Gothic\")\n"
   ]
  },
  {
   "cell_type": "code",
   "execution_count": 23,
   "id": "3040e9bc",
   "metadata": {},
   "outputs": [],
   "source": [
    "import numpy as np\n",
    "import matplotlib.pyplot as plt\n",
    "from sklearn.linear_model import LinearRegression, Ridge, Lasso, ElasticNet\n",
    "%matplotlib inline"
   ]
  },
  {
   "cell_type": "code",
   "execution_count": 24,
   "id": "43f89ee8",
   "metadata": {},
   "outputs": [
    {
     "data": {
      "text/html": [
       "<div>\n",
       "<style scoped>\n",
       "    .dataframe tbody tr th:only-of-type {\n",
       "        vertical-align: middle;\n",
       "    }\n",
       "\n",
       "    .dataframe tbody tr th {\n",
       "        vertical-align: top;\n",
       "    }\n",
       "\n",
       "    .dataframe thead th {\n",
       "        text-align: right;\n",
       "    }\n",
       "</style>\n",
       "<table border=\"1\" class=\"dataframe\">\n",
       "  <thead>\n",
       "    <tr style=\"text-align: right;\">\n",
       "      <th></th>\n",
       "      <th>price</th>\n",
       "      <th>mileage</th>\n",
       "      <th>mpg</th>\n",
       "      <th>engineSize</th>\n",
       "      <th>brand_bmw</th>\n",
       "      <th>brand_cclass</th>\n",
       "      <th>brand_focus</th>\n",
       "      <th>brand_ford</th>\n",
       "      <th>brand_hyundi</th>\n",
       "      <th>brand_merc</th>\n",
       "      <th>...</th>\n",
       "      <th>year_2017</th>\n",
       "      <th>year_2018</th>\n",
       "      <th>year_2019</th>\n",
       "      <th>year_2020</th>\n",
       "      <th>transmission_Manual</th>\n",
       "      <th>transmission_Other</th>\n",
       "      <th>transmission_Semi-Auto</th>\n",
       "      <th>fuelType_Hybrid</th>\n",
       "      <th>fuelType_Other</th>\n",
       "      <th>fuelType_Petrol</th>\n",
       "    </tr>\n",
       "  </thead>\n",
       "  <tbody>\n",
       "    <tr>\n",
       "      <th>0</th>\n",
       "      <td>12500</td>\n",
       "      <td>15735</td>\n",
       "      <td>55.4</td>\n",
       "      <td>1.4</td>\n",
       "      <td>0</td>\n",
       "      <td>0</td>\n",
       "      <td>0</td>\n",
       "      <td>0</td>\n",
       "      <td>0</td>\n",
       "      <td>0</td>\n",
       "      <td>...</td>\n",
       "      <td>1</td>\n",
       "      <td>0</td>\n",
       "      <td>0</td>\n",
       "      <td>0</td>\n",
       "      <td>1</td>\n",
       "      <td>0</td>\n",
       "      <td>0</td>\n",
       "      <td>0</td>\n",
       "      <td>0</td>\n",
       "      <td>1</td>\n",
       "    </tr>\n",
       "    <tr>\n",
       "      <th>1</th>\n",
       "      <td>11000</td>\n",
       "      <td>29946</td>\n",
       "      <td>55.4</td>\n",
       "      <td>1.4</td>\n",
       "      <td>0</td>\n",
       "      <td>0</td>\n",
       "      <td>0</td>\n",
       "      <td>0</td>\n",
       "      <td>0</td>\n",
       "      <td>0</td>\n",
       "      <td>...</td>\n",
       "      <td>0</td>\n",
       "      <td>0</td>\n",
       "      <td>0</td>\n",
       "      <td>0</td>\n",
       "      <td>1</td>\n",
       "      <td>0</td>\n",
       "      <td>0</td>\n",
       "      <td>0</td>\n",
       "      <td>0</td>\n",
       "      <td>1</td>\n",
       "    </tr>\n",
       "    <tr>\n",
       "      <th>2</th>\n",
       "      <td>17300</td>\n",
       "      <td>1998</td>\n",
       "      <td>49.6</td>\n",
       "      <td>1.0</td>\n",
       "      <td>0</td>\n",
       "      <td>0</td>\n",
       "      <td>0</td>\n",
       "      <td>0</td>\n",
       "      <td>0</td>\n",
       "      <td>0</td>\n",
       "      <td>...</td>\n",
       "      <td>0</td>\n",
       "      <td>0</td>\n",
       "      <td>1</td>\n",
       "      <td>0</td>\n",
       "      <td>1</td>\n",
       "      <td>0</td>\n",
       "      <td>0</td>\n",
       "      <td>0</td>\n",
       "      <td>0</td>\n",
       "      <td>1</td>\n",
       "    </tr>\n",
       "    <tr>\n",
       "      <th>3</th>\n",
       "      <td>13900</td>\n",
       "      <td>32260</td>\n",
       "      <td>58.9</td>\n",
       "      <td>1.4</td>\n",
       "      <td>0</td>\n",
       "      <td>0</td>\n",
       "      <td>0</td>\n",
       "      <td>0</td>\n",
       "      <td>0</td>\n",
       "      <td>0</td>\n",
       "      <td>...</td>\n",
       "      <td>0</td>\n",
       "      <td>0</td>\n",
       "      <td>0</td>\n",
       "      <td>0</td>\n",
       "      <td>0</td>\n",
       "      <td>0</td>\n",
       "      <td>0</td>\n",
       "      <td>0</td>\n",
       "      <td>0</td>\n",
       "      <td>1</td>\n",
       "    </tr>\n",
       "    <tr>\n",
       "      <th>4</th>\n",
       "      <td>13250</td>\n",
       "      <td>76788</td>\n",
       "      <td>61.4</td>\n",
       "      <td>2.0</td>\n",
       "      <td>0</td>\n",
       "      <td>0</td>\n",
       "      <td>0</td>\n",
       "      <td>0</td>\n",
       "      <td>0</td>\n",
       "      <td>0</td>\n",
       "      <td>...</td>\n",
       "      <td>0</td>\n",
       "      <td>0</td>\n",
       "      <td>0</td>\n",
       "      <td>0</td>\n",
       "      <td>0</td>\n",
       "      <td>0</td>\n",
       "      <td>0</td>\n",
       "      <td>0</td>\n",
       "      <td>0</td>\n",
       "      <td>0</td>\n",
       "    </tr>\n",
       "    <tr>\n",
       "      <th>...</th>\n",
       "      <td>...</td>\n",
       "      <td>...</td>\n",
       "      <td>...</td>\n",
       "      <td>...</td>\n",
       "      <td>...</td>\n",
       "      <td>...</td>\n",
       "      <td>...</td>\n",
       "      <td>...</td>\n",
       "      <td>...</td>\n",
       "      <td>...</td>\n",
       "      <td>...</td>\n",
       "      <td>...</td>\n",
       "      <td>...</td>\n",
       "      <td>...</td>\n",
       "      <td>...</td>\n",
       "      <td>...</td>\n",
       "      <td>...</td>\n",
       "      <td>...</td>\n",
       "      <td>...</td>\n",
       "      <td>...</td>\n",
       "      <td>...</td>\n",
       "    </tr>\n",
       "    <tr>\n",
       "      <th>57502</th>\n",
       "      <td>4995</td>\n",
       "      <td>65000</td>\n",
       "      <td>48.0</td>\n",
       "      <td>2.0</td>\n",
       "      <td>0</td>\n",
       "      <td>0</td>\n",
       "      <td>0</td>\n",
       "      <td>0</td>\n",
       "      <td>0</td>\n",
       "      <td>0</td>\n",
       "      <td>...</td>\n",
       "      <td>0</td>\n",
       "      <td>0</td>\n",
       "      <td>0</td>\n",
       "      <td>0</td>\n",
       "      <td>1</td>\n",
       "      <td>0</td>\n",
       "      <td>0</td>\n",
       "      <td>0</td>\n",
       "      <td>0</td>\n",
       "      <td>0</td>\n",
       "    </tr>\n",
       "    <tr>\n",
       "      <th>57503</th>\n",
       "      <td>12495</td>\n",
       "      <td>41850</td>\n",
       "      <td>58.9</td>\n",
       "      <td>2.0</td>\n",
       "      <td>0</td>\n",
       "      <td>0</td>\n",
       "      <td>0</td>\n",
       "      <td>0</td>\n",
       "      <td>0</td>\n",
       "      <td>0</td>\n",
       "      <td>...</td>\n",
       "      <td>0</td>\n",
       "      <td>0</td>\n",
       "      <td>0</td>\n",
       "      <td>0</td>\n",
       "      <td>1</td>\n",
       "      <td>0</td>\n",
       "      <td>0</td>\n",
       "      <td>0</td>\n",
       "      <td>0</td>\n",
       "      <td>0</td>\n",
       "    </tr>\n",
       "    <tr>\n",
       "      <th>57504</th>\n",
       "      <td>8950</td>\n",
       "      <td>58000</td>\n",
       "      <td>58.9</td>\n",
       "      <td>2.0</td>\n",
       "      <td>0</td>\n",
       "      <td>0</td>\n",
       "      <td>0</td>\n",
       "      <td>0</td>\n",
       "      <td>0</td>\n",
       "      <td>0</td>\n",
       "      <td>...</td>\n",
       "      <td>0</td>\n",
       "      <td>0</td>\n",
       "      <td>0</td>\n",
       "      <td>0</td>\n",
       "      <td>1</td>\n",
       "      <td>0</td>\n",
       "      <td>0</td>\n",
       "      <td>0</td>\n",
       "      <td>0</td>\n",
       "      <td>0</td>\n",
       "    </tr>\n",
       "    <tr>\n",
       "      <th>57505</th>\n",
       "      <td>2995</td>\n",
       "      <td>92640</td>\n",
       "      <td>48.0</td>\n",
       "      <td>2.0</td>\n",
       "      <td>0</td>\n",
       "      <td>0</td>\n",
       "      <td>0</td>\n",
       "      <td>0</td>\n",
       "      <td>0</td>\n",
       "      <td>0</td>\n",
       "      <td>...</td>\n",
       "      <td>0</td>\n",
       "      <td>0</td>\n",
       "      <td>0</td>\n",
       "      <td>0</td>\n",
       "      <td>1</td>\n",
       "      <td>0</td>\n",
       "      <td>0</td>\n",
       "      <td>0</td>\n",
       "      <td>0</td>\n",
       "      <td>0</td>\n",
       "    </tr>\n",
       "    <tr>\n",
       "      <th>57506</th>\n",
       "      <td>5990</td>\n",
       "      <td>74000</td>\n",
       "      <td>58.9</td>\n",
       "      <td>2.0</td>\n",
       "      <td>0</td>\n",
       "      <td>0</td>\n",
       "      <td>0</td>\n",
       "      <td>0</td>\n",
       "      <td>0</td>\n",
       "      <td>0</td>\n",
       "      <td>...</td>\n",
       "      <td>0</td>\n",
       "      <td>0</td>\n",
       "      <td>0</td>\n",
       "      <td>0</td>\n",
       "      <td>1</td>\n",
       "      <td>0</td>\n",
       "      <td>0</td>\n",
       "      <td>0</td>\n",
       "      <td>0</td>\n",
       "      <td>0</td>\n",
       "    </tr>\n",
       "  </tbody>\n",
       "</table>\n",
       "<p>57507 rows × 42 columns</p>\n",
       "</div>"
      ],
      "text/plain": [
       "       price  mileage   mpg  engineSize  brand_bmw  brand_cclass  brand_focus  \\\n",
       "0      12500    15735  55.4         1.4          0             0            0   \n",
       "1      11000    29946  55.4         1.4          0             0            0   \n",
       "2      17300     1998  49.6         1.0          0             0            0   \n",
       "3      13900    32260  58.9         1.4          0             0            0   \n",
       "4      13250    76788  61.4         2.0          0             0            0   \n",
       "...      ...      ...   ...         ...        ...           ...          ...   \n",
       "57502   4995    65000  48.0         2.0          0             0            0   \n",
       "57503  12495    41850  58.9         2.0          0             0            0   \n",
       "57504   8950    58000  58.9         2.0          0             0            0   \n",
       "57505   2995    92640  48.0         2.0          0             0            0   \n",
       "57506   5990    74000  58.9         2.0          0             0            0   \n",
       "\n",
       "       brand_ford  brand_hyundi  brand_merc  ...  year_2017  year_2018  \\\n",
       "0               0             0           0  ...          1          0   \n",
       "1               0             0           0  ...          0          0   \n",
       "2               0             0           0  ...          0          0   \n",
       "3               0             0           0  ...          0          0   \n",
       "4               0             0           0  ...          0          0   \n",
       "...           ...           ...         ...  ...        ...        ...   \n",
       "57502           0             0           0  ...          0          0   \n",
       "57503           0             0           0  ...          0          0   \n",
       "57504           0             0           0  ...          0          0   \n",
       "57505           0             0           0  ...          0          0   \n",
       "57506           0             0           0  ...          0          0   \n",
       "\n",
       "       year_2019  year_2020  transmission_Manual  transmission_Other  \\\n",
       "0              0          0                    1                   0   \n",
       "1              0          0                    1                   0   \n",
       "2              1          0                    1                   0   \n",
       "3              0          0                    0                   0   \n",
       "4              0          0                    0                   0   \n",
       "...          ...        ...                  ...                 ...   \n",
       "57502          0          0                    1                   0   \n",
       "57503          0          0                    1                   0   \n",
       "57504          0          0                    1                   0   \n",
       "57505          0          0                    1                   0   \n",
       "57506          0          0                    1                   0   \n",
       "\n",
       "       transmission_Semi-Auto  fuelType_Hybrid  fuelType_Other  \\\n",
       "0                           0                0               0   \n",
       "1                           0                0               0   \n",
       "2                           0                0               0   \n",
       "3                           0                0               0   \n",
       "4                           0                0               0   \n",
       "...                       ...              ...             ...   \n",
       "57502                       0                0               0   \n",
       "57503                       0                0               0   \n",
       "57504                       0                0               0   \n",
       "57505                       0                0               0   \n",
       "57506                       0                0               0   \n",
       "\n",
       "       fuelType_Petrol  \n",
       "0                    1  \n",
       "1                    1  \n",
       "2                    1  \n",
       "3                    1  \n",
       "4                    0  \n",
       "...                ...  \n",
       "57502                0  \n",
       "57503                0  \n",
       "57504                0  \n",
       "57505                0  \n",
       "57506                0  \n",
       "\n",
       "[57507 rows x 42 columns]"
      ]
     },
     "execution_count": 24,
     "metadata": {},
     "output_type": "execute_result"
    }
   ],
   "source": [
    "car = pd.read_csv(\"./car_year2.csv\")\n",
    "car"
   ]
  },
  {
   "cell_type": "code",
   "execution_count": 25,
   "id": "697c0bc8",
   "metadata": {},
   "outputs": [
    {
     "data": {
      "text/plain": [
       "((40254, 41), (17253, 41), (40254,), (17253,))"
      ]
     },
     "execution_count": 25,
     "metadata": {},
     "output_type": "execute_result"
    }
   ],
   "source": [
    "from sklearn.model_selection import train_test_split\n",
    "x = car.drop(\"price\", axis = 1)\n",
    "y = car[\"price\"]\n",
    "x_train, x_test, y_train, y_test = train_test_split(x, y,test_size=0.3, random_state=0)\n",
    "x_train.shape , x_test.shape , y_train.shape, y_test.shape"
   ]
  },
  {
   "cell_type": "code",
   "execution_count": 26,
   "id": "d4163fc3",
   "metadata": {},
   "outputs": [
    {
     "name": "stdout",
     "output_type": "stream",
     "text": [
      "훈련 점수: 0.8276\n",
      "테스트점수:0.8245\n"
     ]
    }
   ],
   "source": [
    "# 선형모델 적용시킨 결과\n",
    "model = LinearRegression().fit(x_train, y_train)\n",
    "\n",
    "print('훈련 점수: {:.4f}'.format(model.score(x_train, y_train)))\n",
    "print('테스트점수:{:.4f}'.format(model.score(x_test, y_test)))"
   ]
  },
  {
   "cell_type": "code",
   "execution_count": 27,
   "id": "8a1f65df",
   "metadata": {},
   "outputs": [
    {
     "name": "stdout",
     "output_type": "stream",
     "text": [
      "훈련 점수: 0.7939\n",
      "테스트점수:0.7922\n",
      "릿지회귀모델의 오차: 2473.2395\n"
     ]
    }
   ],
   "source": [
    "# model_ridge 적용시킨 결과\n",
    "\n",
    "model_ridge = Ridge(alpha=1).fit(x_train, y_train)\n",
    "\n",
    "print('훈련 점수: {:.4f}'.format(model_ridge.score(x_train, y_train) ))\n",
    "print('테스트점수:{:.4f}'.format(model_ridge.score(x_test, y_test) ))\n",
    "\n",
    "# 만들어진 모델을 X_test에 넣어서 pred_y(예측 y 값 도출)\n",
    "y_pred = model_ridge.predict(x_test) \n",
    "\n",
    "from sklearn.metrics import mean_squared_error, r2_score, mean_absolute_error\n",
    "\n",
    "# 우리가 만든 모델의 에러를 점검해본다. \n",
    "mae_pred = mean_absolute_error( y_test, y_pred)   # mae\n",
    "print('릿지회귀모델의 오차: {:.4f}'.format(mae_pred))\n"
   ]
  },
  {
   "cell_type": "code",
   "execution_count": 28,
   "id": "7b302855",
   "metadata": {},
   "outputs": [
    {
     "name": "stdout",
     "output_type": "stream",
     "text": [
      "훈련 점수: 0.7348\n",
      "테스트점수:0.7303\n",
      "릿지회귀모델의 오차: 2828.7737\n"
     ]
    }
   ],
   "source": [
    "# 릿지 회귀 모델을 적용시킨 결과 2 #alpha 값 조정\n",
    "\n",
    "model_ridge_10 = Ridge(alpha=10).fit(x_train, y_train)\n",
    "\n",
    "print('훈련 점수: {:.4f}'.format(model_ridge_10.score(x_train, y_train) ))\n",
    "print('테스트점수:{:.4f}'.format(model_ridge_10.score(x_test, y_test) ))\n",
    "\n",
    "# 만들어진 모델을 X_test에 넣어서 pred_y(예측 y 값 도출)\n",
    "y_pred = model_ridge_10.predict(x_test) \n",
    "\n",
    "from sklearn.metrics import mean_squared_error, r2_score, mean_absolute_error\n",
    "\n",
    "# 우리가 만든 모델의 에러를 점검해본다. \n",
    "mae_pred = mean_absolute_error( y_test, y_pred)   # mae\n",
    "print('릿지회귀모델의 오차: {:.4f}'.format(mae_pred))\n"
   ]
  },
  {
   "cell_type": "code",
   "execution_count": 34,
   "id": "8e9ca2bd",
   "metadata": {},
   "outputs": [
    {
     "name": "stdout",
     "output_type": "stream",
     "text": [
      "훈련 점수: 0.8276\n",
      "테스트점수:0.8248\n",
      "릿지회귀모델의 오차: 2230.8167\n"
     ]
    }
   ],
   "source": [
    " # 릿지 회귀 모델을 적용시킨 결과 3\n",
    "model_ridge_01 = Ridge(alpha=0.1).fit(x_train, y_train)\n",
    "\n",
    "print('훈련 점수: {:.4f}'.format(model_ridge_01.score(x_train, y_train) ))\n",
    "print('테스트점수:{:.4f}'.format(model_ridge_01.score(x_test, y_test) ))\n",
    "\n",
    "# 만들어진 모델을 X_test에 넣어서 pred_y(예측 y 값 도출)\n",
    "y_pred = model_ridge_01.predict(x_test) \n",
    "\n",
    "from sklearn.metrics import mean_squared_error, r2_score, mean_absolute_error\n",
    "\n",
    "# 우리가 만든 모델의 에러를 점검해본다. \n",
    "mae_pred = mean_absolute_error( y_test, y_pred)   # mae\n",
    "print('릿지회귀모델의 오차: {:.4f}'.format(mae_pred))\n"
   ]
  },
  {
   "cell_type": "code",
   "execution_count": 30,
   "id": "172c8c24",
   "metadata": {},
   "outputs": [
    {
     "data": {
      "text/plain": [
       "<matplotlib.legend.Legend at 0x29b53645310>"
      ]
     },
     "execution_count": 30,
     "metadata": {},
     "output_type": "execute_result"
    },
    {
     "name": "stderr",
     "output_type": "stream",
     "text": [
      "C:\\Users\\admin\\anaconda3\\lib\\site-packages\\matplotlib\\backends\\backend_agg.py:240: RuntimeWarning: Glyph 8722 missing from current font.\n",
      "  font.set_text(s, 0.0, flags=flags)\n",
      "C:\\Users\\admin\\anaconda3\\lib\\site-packages\\matplotlib\\backends\\backend_agg.py:203: RuntimeWarning: Glyph 8722 missing from current font.\n",
      "  font.set_text(s, 0, flags=flags)\n"
     ]
    },
    {
     "data": {
      "image/png": "[encoded data removed]",
      "text/plain": [
       "<Figure size 720x720 with 4 Axes>"
      ]
     },
     "metadata": {
      "needs_background": "light"
     },
     "output_type": "display_data"
    }
   ],
   "source": [
    " # alpha값에 따른 가중치를 시각화\n",
    "# α 값의 변화에 따른 가중치 (coef_)의 변화를 시각화\n",
    "\n",
    "\n",
    "fig = plt.figure(figsize=(10,10))\n",
    "a = fig.add_subplot(2,2,1)\n",
    "b = fig.add_subplot(2,2,2)\n",
    "c = fig.add_subplot(2,2,3)\n",
    "d = fig.add_subplot(2,2,4)\n",
    "\n",
    "a.plot(model_ridge_10.coef_, '^', label='Ridge alpha=10',color= 'indianred')\n",
    "b.plot(model_ridge.coef_, 's', label='Ridge alpha=1',color = 'mediumseagreen')\n",
    "c.plot(model_ridge_01.coef_, 'v', label='Ridge alpha=0.1', color = 'darksalmon')\n",
    "d.plot(model.coef_, 'o', label='LinearRegression',color = 'rosybrown')\n",
    "\n",
    "a.hlines(0, 0, len(model.coef_))\n",
    "b.hlines(0, 0, len(model.coef_))\n",
    "c.hlines(0, 0, len(model.coef_))\n",
    "d.hlines(0, 0, len(model.coef_))\n",
    "\n",
    "a.legend()\n",
    "b.legend()\n",
    "c.legend()\n",
    "d.legend()"
   ]
  },
  {
   "cell_type": "markdown",
   "id": "02642961",
   "metadata": {},
   "source": [
    "# 라쏘 회귀모형"
   ]
  },
  {
   "cell_type": "code",
   "execution_count": 61,
   "id": "45d275cd",
   "metadata": {},
   "outputs": [],
   "source": [
    "# 42개 특성\n",
    "from sklearn.linear_model import Lasso"
   ]
  },
  {
   "cell_type": "code",
   "execution_count": 62,
   "id": "8136e26d",
   "metadata": {},
   "outputs": [
    {
     "name": "stdout",
     "output_type": "stream",
     "text": [
      "훈련 점수:0.8272\n",
      "테스트 점수:0.8249\n",
      "사용한 특성 수: 29\n"
     ]
    }
   ],
   "source": [
    "# lasso\n",
    "model_lasso = Lasso().fit(x_train, y_train)\n",
    "\n",
    "print('훈련 점수:{:.4f}'.format(model_lasso.score(x_train, y_train) ))\n",
    "print('테스트 점수:{:.4f}'.format(model_lasso.score(x_test, y_test) ))\n",
    "print('사용한 특성 수:', np.sum( model_lasso.coef_ != 0 ) )"
   ]
  },
  {
   "cell_type": "code",
   "execution_count": 58,
   "id": "e8c21cb7",
   "metadata": {},
   "outputs": [
    {
     "name": "stdout",
     "output_type": "stream",
     "text": [
      "훈련 점수:0.8276\n",
      "테스트 점수:0.8248\n",
      "사용한 특성 수: 40\n"
     ]
    }
   ],
   "source": [
    "model_lasso_001 = Lasso(alpha=0.01, max_iter=100000).fit(x_train, y_train)\n",
    "\n",
    "print('훈련 점수:{:.4f}'.format(model_lasso_001.score(x_train, y_train) ))\n",
    "print('테스트 점수:{:.4f}'.format(model_lasso_001.score(x_test, y_test) ))\n",
    "print('사용한 특성 수:', np.sum( model_lasso_001.coef_ != 0 ) )"
   ]
  },
  {
   "cell_type": "code",
   "execution_count": 60,
   "id": "f400c780",
   "metadata": {},
   "outputs": [
    {
     "name": "stdout",
     "output_type": "stream",
     "text": [
      "훈련 점수:0.8276\n",
      "테스트 점수:0.8245\n",
      "사용한 특성 수: 40\n"
     ]
    }
   ],
   "source": [
    "model_lasso_00001 = Lasso(alpha=0.0001, max_iter=1000000).fit(x_train, y_train)\n",
    "\n",
    "print('훈련 점수:{:.4f}'.format(model_lasso_00001.score(x_train, y_train) ))\n",
    "print('테스트 점수:{:.4f}'.format(model_lasso_00001.score(x_test, y_test) ))\n",
    "print('사용한 특성 수:', np.sum( model_lasso_00001.coef_ != 0 ) )"
   ]
  },
  {
   "cell_type": "markdown",
   "id": "48ba276e",
   "metadata": {},
   "source": [
    "# ElasticNet Regression"
   ]
  },
  {
   "cell_type": "markdown",
   "id": "e5721c7c",
   "metadata": {},
   "source": [
    "## 선형 회귀에 2가지 규제항 (L1, L2)을 추가한 모델\n",
    "- 라쏘랑 릿지 두개 항 다 합친 것"
   ]
  },
  {
   "cell_type": "code",
   "execution_count": 46,
   "id": "24925a35",
   "metadata": {},
   "outputs": [],
   "source": [
    "from sklearn.linear_model import ElasticNet"
   ]
  },
  {
   "cell_type": "code",
   "execution_count": 47,
   "id": "16bfb519",
   "metadata": {},
   "outputs": [
    {
     "name": "stdout",
     "output_type": "stream",
     "text": [
      "훈련세트 점수:0.8193\n",
      "검증세트 점수:0.8178\n"
     ]
    }
   ],
   "source": [
    "ela = ElasticNet(alpha=0.01, l1_ratio = 0.5, max_iter = 100000).fit(x_train, y_train)\n",
    "print('훈련세트 점수:{:.4f}'.format(ela.score(x_train, y_train)))\n",
    "print('검증세트 점수:{:.4f}'.format(ela.score(x_test, y_test)))"
   ]
  },
  {
   "cell_type": "code",
   "execution_count": 48,
   "id": "8f241273",
   "metadata": {},
   "outputs": [
    {
     "name": "stdout",
     "output_type": "stream",
     "text": [
      "훈련세트 점수:0.8129\n",
      "검증세트 점수:0.8115\n"
     ]
    }
   ],
   "source": [
    "ela = ElasticNet(alpha=0.01, l1_ratio = 0.1, max_iter = 100000).fit(x_train, y_train)\n",
    "print('훈련세트 점수:{:.4f}'.format(ela.score(x_train, y_train)))\n",
    "print('검증세트 점수:{:.4f}'.format(ela.score(x_test, y_test)))"
   ]
  },
  {
   "cell_type": "code",
   "execution_count": 49,
   "id": "aab68cc0",
   "metadata": {},
   "outputs": [
    {
     "name": "stdout",
     "output_type": "stream",
     "text": [
      "훈련세트 점수:0.8262\n",
      "검증세트 점수:0.8242\n"
     ]
    }
   ],
   "source": [
    "ela = ElasticNet(alpha=0.01, l1_ratio = 0.9, max_iter = 100000).fit(x_train, y_train)\n",
    "print('훈련세트 점수:{:.4f}'.format(ela.score(x_train, y_train)))\n",
    "print('검증세트 점수:{:.4f}'.format(ela.score(x_test, y_test)))"
   ]
  },
  {
   "cell_type": "code",
   "execution_count": null,
   "id": "61587397",
   "metadata": {},
   "outputs": [],
   "source": []
  },
  {
   "cell_type": "code",
   "execution_count": null,
   "id": "bd284d0d",
   "metadata": {},
   "outputs": [],
   "source": [
    "# L1 라쏘, L2 릿지 \n",
    "# l1_ratio 를 조정해보았을 때 0.5 기준 정확도 => 0.86 , \n",
    "# l1_ratio                    0.7 정확도 => 0.87 따라서 우리 데이터는 라쏘회귀모형이 성능이 더 좋다!\n",
    "print('사용한 특성의 수:{}.'.format(np.sum(ela.coef_ !=0)))"
   ]
  }
 ],
 "metadata": {
  "kernelspec": {
   "display_name": "Python 3 (ipykernel)",
   "language": "python",
   "name": "python3"
  },
  "language_info": {
   "codemirror_mode": {
    "name": "ipython",
    "version": 3
   },
   "file_extension": ".py",
   "mimetype": "text/x-python",
   "name": "python",
   "nbconvert_exporter": "python",
   "pygments_lexer": "ipython3",
   "version": "3.9.7"
  }
 },
 "nbformat": 4,
 "nbformat_minor": 5
}
