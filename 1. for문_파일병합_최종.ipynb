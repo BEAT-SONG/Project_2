{
 "cells": [
  {
   "cell_type": "code",
   "execution_count": 1,
   "id": "9c37c3d1",
   "metadata": {},
   "outputs": [],
   "source": [
    "import os\n",
    "import pandas as pd"
   ]
  },
  {
   "cell_type": "code",
   "execution_count": 2,
   "id": "b00950ad",
   "metadata": {},
   "outputs": [
    {
     "data": {
      "text/plain": [
       "['.ipynb_checkpoints',\n",
       " '01_데이터셋준비.ipynb',\n",
       " '02-1 . 회귀모델 연습.ipynb',\n",
       " '02-2.중고차 회귀모델.ipynb',\n",
       " '02.회귀분석모델.ipynb',\n",
       " '03. 다중선형회귀모델.ipynb',\n",
       " '04. 선형회귀모델.ipynb',\n",
       " '04.20_하이퍼파라미터튜닝.ipynb',\n",
       " '04.로지스틱회귀모형.ipynb',\n",
       " '235801_2021 농산물 가격예측 AI 경진대회 (2)',\n",
       " 'adaboosting 모델.ipynb',\n",
       " 'cache',\n",
       " 'car.csv',\n",
       " 'car1.csv',\n",
       " 'car2020.csv',\n",
       " 'car_year.csv',\n",
       " 'car_year2.csv',\n",
       " 'df_apple.csv',\n",
       " 'df_apple.zip',\n",
       " 'df_corn.csv',\n",
       " 'knn알고리즘모델.ipynb',\n",
       " 'lightGBM모델.ipynb',\n",
       " 'rain.csv',\n",
       " 'real_data_corn.csv',\n",
       " 'SVM 모델.ipynb',\n",
       " 'temp.csv',\n",
       " 'total_data_apple_corn.csv',\n",
       " 'total_data_apple_corn.zip',\n",
       " 'Untitled.ipynb',\n",
       " 'weather.csv',\n",
       " '광조버s~KNN.ipynb',\n",
       " '광조버스~KNN.ipynb',\n",
       " '다중선형회귀분석_최종.ipynb',\n",
       " '데이터 낙서장.ipynb',\n",
       " '릿지, 라쏘 회귀모형.ipynb',\n",
       " '릿지, 라쏘 회귀모형_최종.ipynb',\n",
       " '예측데이터.csv',\n",
       " '예측데이터2.csv',\n",
       " '찐 car1 데이터 모델.ipynb',\n",
       " '찐데이터',\n",
       " '찐찐',\n",
       " '찐찐.zip',\n",
       " '파일병합.ipynb',\n",
       " '학습 위한 car데이터 전처리.ipynb']"
      ]
     },
     "execution_count": 2,
     "metadata": {},
     "output_type": "execute_result"
    }
   ],
   "source": [
    "file_list = os.listdir(\"./\") # 폴더에 파일 확인\n",
    "file_list"
   ]
  },
  {
   "cell_type": "code",
   "execution_count": 3,
   "id": "d73929e2",
   "metadata": {},
   "outputs": [
    {
     "ename": "FileNotFoundError",
     "evalue": "[Errno 2] No such file or directory: './audi.csv'",
     "output_type": "error",
     "traceback": [
      "\u001b[1;31m---------------------------------------------------------------------------\u001b[0m",
      "\u001b[1;31mFileNotFoundError\u001b[0m                         Traceback (most recent call last)",
      "\u001b[1;32m~\\AppData\\Local\\Temp/ipykernel_2772/2502536817.py\u001b[0m in \u001b[0;36m<module>\u001b[1;34m\u001b[0m\n\u001b[0;32m      6\u001b[0m             \u001b[0mfile_path\u001b[0m \u001b[1;33m=\u001b[0m \u001b[1;34m\"./{}.csv\"\u001b[0m\u001b[1;33m.\u001b[0m\u001b[0mformat\u001b[0m\u001b[1;33m(\u001b[0m\u001b[0mi\u001b[0m\u001b[1;33m)\u001b[0m\u001b[1;33m\u001b[0m\u001b[1;33m\u001b[0m\u001b[0m\n\u001b[0;32m      7\u001b[0m \u001b[1;33m\u001b[0m\u001b[0m\n\u001b[1;32m----> 8\u001b[1;33m             \u001b[0mdf\u001b[0m \u001b[1;33m=\u001b[0m \u001b[0mpd\u001b[0m\u001b[1;33m.\u001b[0m\u001b[0mread_csv\u001b[0m\u001b[1;33m(\u001b[0m\u001b[0mfile_path\u001b[0m\u001b[1;33m)\u001b[0m\u001b[1;33m\u001b[0m\u001b[1;33m\u001b[0m\u001b[0m\n\u001b[0m\u001b[0;32m      9\u001b[0m             \u001b[0mdf\u001b[0m\u001b[1;33m[\u001b[0m\u001b[1;34m\"brand\"\u001b[0m\u001b[1;33m]\u001b[0m \u001b[1;33m=\u001b[0m \u001b[1;34m\"{}\"\u001b[0m\u001b[1;33m.\u001b[0m\u001b[0mformat\u001b[0m\u001b[1;33m(\u001b[0m\u001b[0mi\u001b[0m\u001b[1;33m)\u001b[0m\u001b[1;33m\u001b[0m\u001b[1;33m\u001b[0m\u001b[0m\n\u001b[0;32m     10\u001b[0m             \u001b[0mtmp\u001b[0m\u001b[1;33m.\u001b[0m\u001b[0mappend\u001b[0m\u001b[1;33m(\u001b[0m\u001b[0mdf\u001b[0m\u001b[1;33m)\u001b[0m\u001b[1;33m\u001b[0m\u001b[1;33m\u001b[0m\u001b[0m\n",
      "\u001b[1;32m~\\anaconda3\\lib\\site-packages\\pandas\\util\\_decorators.py\u001b[0m in \u001b[0;36mwrapper\u001b[1;34m(*args, **kwargs)\u001b[0m\n\u001b[0;32m    309\u001b[0m                     \u001b[0mstacklevel\u001b[0m\u001b[1;33m=\u001b[0m\u001b[0mstacklevel\u001b[0m\u001b[1;33m,\u001b[0m\u001b[1;33m\u001b[0m\u001b[1;33m\u001b[0m\u001b[0m\n\u001b[0;32m    310\u001b[0m                 )\n\u001b[1;32m--> 311\u001b[1;33m             \u001b[1;32mreturn\u001b[0m \u001b[0mfunc\u001b[0m\u001b[1;33m(\u001b[0m\u001b[1;33m*\u001b[0m\u001b[0margs\u001b[0m\u001b[1;33m,\u001b[0m \u001b[1;33m**\u001b[0m\u001b[0mkwargs\u001b[0m\u001b[1;33m)\u001b[0m\u001b[1;33m\u001b[0m\u001b[1;33m\u001b[0m\u001b[0m\n\u001b[0m\u001b[0;32m    312\u001b[0m \u001b[1;33m\u001b[0m\u001b[0m\n\u001b[0;32m    313\u001b[0m         \u001b[1;32mreturn\u001b[0m \u001b[0mwrapper\u001b[0m\u001b[1;33m\u001b[0m\u001b[1;33m\u001b[0m\u001b[0m\n",
      "\u001b[1;32m~\\anaconda3\\lib\\site-packages\\pandas\\io\\parsers\\readers.py\u001b[0m in \u001b[0;36mread_csv\u001b[1;34m(filepath_or_buffer, sep, delimiter, header, names, index_col, usecols, squeeze, prefix, mangle_dupe_cols, dtype, engine, converters, true_values, false_values, skipinitialspace, skiprows, skipfooter, nrows, na_values, keep_default_na, na_filter, verbose, skip_blank_lines, parse_dates, infer_datetime_format, keep_date_col, date_parser, dayfirst, cache_dates, iterator, chunksize, compression, thousands, decimal, lineterminator, quotechar, quoting, doublequote, escapechar, comment, encoding, encoding_errors, dialect, error_bad_lines, warn_bad_lines, on_bad_lines, delim_whitespace, low_memory, memory_map, float_precision, storage_options)\u001b[0m\n\u001b[0;32m    584\u001b[0m     \u001b[0mkwds\u001b[0m\u001b[1;33m.\u001b[0m\u001b[0mupdate\u001b[0m\u001b[1;33m(\u001b[0m\u001b[0mkwds_defaults\u001b[0m\u001b[1;33m)\u001b[0m\u001b[1;33m\u001b[0m\u001b[1;33m\u001b[0m\u001b[0m\n\u001b[0;32m    585\u001b[0m \u001b[1;33m\u001b[0m\u001b[0m\n\u001b[1;32m--> 586\u001b[1;33m     \u001b[1;32mreturn\u001b[0m \u001b[0m_read\u001b[0m\u001b[1;33m(\u001b[0m\u001b[0mfilepath_or_buffer\u001b[0m\u001b[1;33m,\u001b[0m \u001b[0mkwds\u001b[0m\u001b[1;33m)\u001b[0m\u001b[1;33m\u001b[0m\u001b[1;33m\u001b[0m\u001b[0m\n\u001b[0m\u001b[0;32m    587\u001b[0m \u001b[1;33m\u001b[0m\u001b[0m\n\u001b[0;32m    588\u001b[0m \u001b[1;33m\u001b[0m\u001b[0m\n",
      "\u001b[1;32m~\\anaconda3\\lib\\site-packages\\pandas\\io\\parsers\\readers.py\u001b[0m in \u001b[0;36m_read\u001b[1;34m(filepath_or_buffer, kwds)\u001b[0m\n\u001b[0;32m    480\u001b[0m \u001b[1;33m\u001b[0m\u001b[0m\n\u001b[0;32m    481\u001b[0m     \u001b[1;31m# Create the parser.\u001b[0m\u001b[1;33m\u001b[0m\u001b[1;33m\u001b[0m\u001b[0m\n\u001b[1;32m--> 482\u001b[1;33m     \u001b[0mparser\u001b[0m \u001b[1;33m=\u001b[0m \u001b[0mTextFileReader\u001b[0m\u001b[1;33m(\u001b[0m\u001b[0mfilepath_or_buffer\u001b[0m\u001b[1;33m,\u001b[0m \u001b[1;33m**\u001b[0m\u001b[0mkwds\u001b[0m\u001b[1;33m)\u001b[0m\u001b[1;33m\u001b[0m\u001b[1;33m\u001b[0m\u001b[0m\n\u001b[0m\u001b[0;32m    483\u001b[0m \u001b[1;33m\u001b[0m\u001b[0m\n\u001b[0;32m    484\u001b[0m     \u001b[1;32mif\u001b[0m \u001b[0mchunksize\u001b[0m \u001b[1;32mor\u001b[0m \u001b[0miterator\u001b[0m\u001b[1;33m:\u001b[0m\u001b[1;33m\u001b[0m\u001b[1;33m\u001b[0m\u001b[0m\n",
      "\u001b[1;32m~\\anaconda3\\lib\\site-packages\\pandas\\io\\parsers\\readers.py\u001b[0m in \u001b[0;36m__init__\u001b[1;34m(self, f, engine, **kwds)\u001b[0m\n\u001b[0;32m    809\u001b[0m             \u001b[0mself\u001b[0m\u001b[1;33m.\u001b[0m\u001b[0moptions\u001b[0m\u001b[1;33m[\u001b[0m\u001b[1;34m\"has_index_names\"\u001b[0m\u001b[1;33m]\u001b[0m \u001b[1;33m=\u001b[0m \u001b[0mkwds\u001b[0m\u001b[1;33m[\u001b[0m\u001b[1;34m\"has_index_names\"\u001b[0m\u001b[1;33m]\u001b[0m\u001b[1;33m\u001b[0m\u001b[1;33m\u001b[0m\u001b[0m\n\u001b[0;32m    810\u001b[0m \u001b[1;33m\u001b[0m\u001b[0m\n\u001b[1;32m--> 811\u001b[1;33m         \u001b[0mself\u001b[0m\u001b[1;33m.\u001b[0m\u001b[0m_engine\u001b[0m \u001b[1;33m=\u001b[0m \u001b[0mself\u001b[0m\u001b[1;33m.\u001b[0m\u001b[0m_make_engine\u001b[0m\u001b[1;33m(\u001b[0m\u001b[0mself\u001b[0m\u001b[1;33m.\u001b[0m\u001b[0mengine\u001b[0m\u001b[1;33m)\u001b[0m\u001b[1;33m\u001b[0m\u001b[1;33m\u001b[0m\u001b[0m\n\u001b[0m\u001b[0;32m    812\u001b[0m \u001b[1;33m\u001b[0m\u001b[0m\n\u001b[0;32m    813\u001b[0m     \u001b[1;32mdef\u001b[0m \u001b[0mclose\u001b[0m\u001b[1;33m(\u001b[0m\u001b[0mself\u001b[0m\u001b[1;33m)\u001b[0m\u001b[1;33m:\u001b[0m\u001b[1;33m\u001b[0m\u001b[1;33m\u001b[0m\u001b[0m\n",
      "\u001b[1;32m~\\anaconda3\\lib\\site-packages\\pandas\\io\\parsers\\readers.py\u001b[0m in \u001b[0;36m_make_engine\u001b[1;34m(self, engine)\u001b[0m\n\u001b[0;32m   1038\u001b[0m             )\n\u001b[0;32m   1039\u001b[0m         \u001b[1;31m# error: Too many arguments for \"ParserBase\"\u001b[0m\u001b[1;33m\u001b[0m\u001b[1;33m\u001b[0m\u001b[0m\n\u001b[1;32m-> 1040\u001b[1;33m         \u001b[1;32mreturn\u001b[0m \u001b[0mmapping\u001b[0m\u001b[1;33m[\u001b[0m\u001b[0mengine\u001b[0m\u001b[1;33m]\u001b[0m\u001b[1;33m(\u001b[0m\u001b[0mself\u001b[0m\u001b[1;33m.\u001b[0m\u001b[0mf\u001b[0m\u001b[1;33m,\u001b[0m \u001b[1;33m**\u001b[0m\u001b[0mself\u001b[0m\u001b[1;33m.\u001b[0m\u001b[0moptions\u001b[0m\u001b[1;33m)\u001b[0m  \u001b[1;31m# type: ignore[call-arg]\u001b[0m\u001b[1;33m\u001b[0m\u001b[1;33m\u001b[0m\u001b[0m\n\u001b[0m\u001b[0;32m   1041\u001b[0m \u001b[1;33m\u001b[0m\u001b[0m\n\u001b[0;32m   1042\u001b[0m     \u001b[1;32mdef\u001b[0m \u001b[0m_failover_to_python\u001b[0m\u001b[1;33m(\u001b[0m\u001b[0mself\u001b[0m\u001b[1;33m)\u001b[0m\u001b[1;33m:\u001b[0m\u001b[1;33m\u001b[0m\u001b[1;33m\u001b[0m\u001b[0m\n",
      "\u001b[1;32m~\\anaconda3\\lib\\site-packages\\pandas\\io\\parsers\\c_parser_wrapper.py\u001b[0m in \u001b[0;36m__init__\u001b[1;34m(self, src, **kwds)\u001b[0m\n\u001b[0;32m     49\u001b[0m \u001b[1;33m\u001b[0m\u001b[0m\n\u001b[0;32m     50\u001b[0m         \u001b[1;31m# open handles\u001b[0m\u001b[1;33m\u001b[0m\u001b[1;33m\u001b[0m\u001b[0m\n\u001b[1;32m---> 51\u001b[1;33m         \u001b[0mself\u001b[0m\u001b[1;33m.\u001b[0m\u001b[0m_open_handles\u001b[0m\u001b[1;33m(\u001b[0m\u001b[0msrc\u001b[0m\u001b[1;33m,\u001b[0m \u001b[0mkwds\u001b[0m\u001b[1;33m)\u001b[0m\u001b[1;33m\u001b[0m\u001b[1;33m\u001b[0m\u001b[0m\n\u001b[0m\u001b[0;32m     52\u001b[0m         \u001b[1;32massert\u001b[0m \u001b[0mself\u001b[0m\u001b[1;33m.\u001b[0m\u001b[0mhandles\u001b[0m \u001b[1;32mis\u001b[0m \u001b[1;32mnot\u001b[0m \u001b[1;32mNone\u001b[0m\u001b[1;33m\u001b[0m\u001b[1;33m\u001b[0m\u001b[0m\n\u001b[0;32m     53\u001b[0m \u001b[1;33m\u001b[0m\u001b[0m\n",
      "\u001b[1;32m~\\anaconda3\\lib\\site-packages\\pandas\\io\\parsers\\base_parser.py\u001b[0m in \u001b[0;36m_open_handles\u001b[1;34m(self, src, kwds)\u001b[0m\n\u001b[0;32m    220\u001b[0m         \u001b[0mLet\u001b[0m \u001b[0mthe\u001b[0m \u001b[0mreaders\u001b[0m \u001b[0mopen\u001b[0m \u001b[0mIOHandles\u001b[0m \u001b[0mafter\u001b[0m \u001b[0mthey\u001b[0m \u001b[0mare\u001b[0m \u001b[0mdone\u001b[0m \u001b[1;32mwith\u001b[0m \u001b[0mtheir\u001b[0m \u001b[0mpotential\u001b[0m \u001b[0mraises\u001b[0m\u001b[1;33m.\u001b[0m\u001b[1;33m\u001b[0m\u001b[1;33m\u001b[0m\u001b[0m\n\u001b[0;32m    221\u001b[0m         \"\"\"\n\u001b[1;32m--> 222\u001b[1;33m         self.handles = get_handle(\n\u001b[0m\u001b[0;32m    223\u001b[0m             \u001b[0msrc\u001b[0m\u001b[1;33m,\u001b[0m\u001b[1;33m\u001b[0m\u001b[1;33m\u001b[0m\u001b[0m\n\u001b[0;32m    224\u001b[0m             \u001b[1;34m\"r\"\u001b[0m\u001b[1;33m,\u001b[0m\u001b[1;33m\u001b[0m\u001b[1;33m\u001b[0m\u001b[0m\n",
      "\u001b[1;32m~\\anaconda3\\lib\\site-packages\\pandas\\io\\common.py\u001b[0m in \u001b[0;36mget_handle\u001b[1;34m(path_or_buf, mode, encoding, compression, memory_map, is_text, errors, storage_options)\u001b[0m\n\u001b[0;32m    700\u001b[0m         \u001b[1;32mif\u001b[0m \u001b[0mioargs\u001b[0m\u001b[1;33m.\u001b[0m\u001b[0mencoding\u001b[0m \u001b[1;32mand\u001b[0m \u001b[1;34m\"b\"\u001b[0m \u001b[1;32mnot\u001b[0m \u001b[1;32min\u001b[0m \u001b[0mioargs\u001b[0m\u001b[1;33m.\u001b[0m\u001b[0mmode\u001b[0m\u001b[1;33m:\u001b[0m\u001b[1;33m\u001b[0m\u001b[1;33m\u001b[0m\u001b[0m\n\u001b[0;32m    701\u001b[0m             \u001b[1;31m# Encoding\u001b[0m\u001b[1;33m\u001b[0m\u001b[1;33m\u001b[0m\u001b[0m\n\u001b[1;32m--> 702\u001b[1;33m             handle = open(\n\u001b[0m\u001b[0;32m    703\u001b[0m                 \u001b[0mhandle\u001b[0m\u001b[1;33m,\u001b[0m\u001b[1;33m\u001b[0m\u001b[1;33m\u001b[0m\u001b[0m\n\u001b[0;32m    704\u001b[0m                 \u001b[0mioargs\u001b[0m\u001b[1;33m.\u001b[0m\u001b[0mmode\u001b[0m\u001b[1;33m,\u001b[0m\u001b[1;33m\u001b[0m\u001b[1;33m\u001b[0m\u001b[0m\n",
      "\u001b[1;31mFileNotFoundError\u001b[0m: [Errno 2] No such file or directory: './audi.csv'"
     ]
    }
   ],
   "source": [
    "# for문으로 파일 병합\n",
    "tmp = []\n",
    "brand = ['audi','bmw','cclass','focus','ford','hyundi','merc','skoda','toyota','vauxhall','vw']\n",
    "\n",
    "for i in brand:\n",
    "\n",
    "            file_path = \"./{}.csv\".format(i)\n",
    "            \n",
    "            df = pd.read_csv(file_path)\n",
    "            df[\"brand\"] = \"{}\".format(i)\n",
    "            tmp.append(df)\n",
    "\n",
    "            df_total = pd.concat(tmp, ignore_index = False)\n",
    "\n",
    "            \n",
    "            \n",
    "           "
   ]
  },
  {
   "cell_type": "code",
   "execution_count": 4,
   "id": "717a7212",
   "metadata": {
    "scrolled": true
   },
   "outputs": [
    {
     "ename": "NameError",
     "evalue": "name 'df_total' is not defined",
     "output_type": "error",
     "traceback": [
      "\u001b[1;31m---------------------------------------------------------------------------\u001b[0m",
      "\u001b[1;31mNameError\u001b[0m                                 Traceback (most recent call last)",
      "\u001b[1;32m~\\AppData\\Local\\Temp/ipykernel_2772/1035744761.py\u001b[0m in \u001b[0;36m<module>\u001b[1;34m\u001b[0m\n\u001b[1;32m----> 1\u001b[1;33m \u001b[0mdf_total\u001b[0m\u001b[1;33m\u001b[0m\u001b[1;33m\u001b[0m\u001b[0m\n\u001b[0m",
      "\u001b[1;31mNameError\u001b[0m: name 'df_total' is not defined"
     ]
    }
   ],
   "source": [
    "df_total"
   ]
  },
  {
   "cell_type": "code",
   "execution_count": 14,
   "id": "589f0ab2",
   "metadata": {},
   "outputs": [],
   "source": [
    "# 필요없는 컬럼 삭제\n",
    "df_total = df_total.drop(\"model\", axis = 1)\n",
    "df_total = df_total.drop(\"tax(£)\", axis = 1)\n",
    "df_total = df_total.drop(\"tax\", axis = 1)\n"
   ]
  },
  {
   "cell_type": "code",
   "execution_count": 16,
   "id": "b1259c83",
   "metadata": {},
   "outputs": [
    {
     "name": "stdout",
     "output_type": "stream",
     "text": [
      "<class 'pandas.core.frame.DataFrame'>\n",
      "Int64Index: 108540 entries, 0 to 15156\n",
      "Data columns (total 8 columns):\n",
      " #   Column        Non-Null Count   Dtype  \n",
      "---  ------        --------------   -----  \n",
      " 0   year          108540 non-null  int64  \n",
      " 1   price         108540 non-null  int64  \n",
      " 2   transmission  108540 non-null  object \n",
      " 3   mileage       108540 non-null  int64  \n",
      " 4   fuelType      108540 non-null  object \n",
      " 5   mpg           99187 non-null   float64\n",
      " 6   engineSize    108540 non-null  float64\n",
      " 7   brand         108540 non-null  object \n",
      "dtypes: float64(2), int64(3), object(3)\n",
      "memory usage: 7.5+ MB\n"
     ]
    }
   ],
   "source": [
    "df_total.info()"
   ]
  },
  {
   "cell_type": "code",
   "execution_count": 17,
   "id": "7795d696",
   "metadata": {},
   "outputs": [],
   "source": [
    "# 데이터 저장\n",
    "df_total.to_csv('./df_total.csv', mode='w', encoding='utf-8', index=False)"
   ]
  },
  {
   "cell_type": "code",
   "execution_count": 18,
   "id": "9143766f",
   "metadata": {},
   "outputs": [],
   "source": [
    "df_total = df_total.loc[:,[\"brand\",\"year\",\"price\",\"transmission\",\"mileage\",\"fuelType\",\"mpg\",\"engineSize\"]] "
   ]
  },
  {
   "cell_type": "code",
   "execution_count": 19,
   "id": "f01b1940",
   "metadata": {},
   "outputs": [
    {
     "data": {
      "text/html": [
       "<div>\n",
       "<style scoped>\n",
       "    .dataframe tbody tr th:only-of-type {\n",
       "        vertical-align: middle;\n",
       "    }\n",
       "\n",
       "    .dataframe tbody tr th {\n",
       "        vertical-align: top;\n",
       "    }\n",
       "\n",
       "    .dataframe thead th {\n",
       "        text-align: right;\n",
       "    }\n",
       "</style>\n",
       "<table border=\"1\" class=\"dataframe\">\n",
       "  <thead>\n",
       "    <tr style=\"text-align: right;\">\n",
       "      <th></th>\n",
       "      <th>brand</th>\n",
       "      <th>year</th>\n",
       "      <th>price</th>\n",
       "      <th>transmission</th>\n",
       "      <th>mileage</th>\n",
       "      <th>fuelType</th>\n",
       "      <th>mpg</th>\n",
       "      <th>engineSize</th>\n",
       "    </tr>\n",
       "  </thead>\n",
       "  <tbody>\n",
       "    <tr>\n",
       "      <th>0</th>\n",
       "      <td>audi</td>\n",
       "      <td>2017</td>\n",
       "      <td>12500</td>\n",
       "      <td>Manual</td>\n",
       "      <td>15735</td>\n",
       "      <td>Petrol</td>\n",
       "      <td>55.4</td>\n",
       "      <td>1.4</td>\n",
       "    </tr>\n",
       "    <tr>\n",
       "      <th>1</th>\n",
       "      <td>audi</td>\n",
       "      <td>2016</td>\n",
       "      <td>16500</td>\n",
       "      <td>Automatic</td>\n",
       "      <td>36203</td>\n",
       "      <td>Diesel</td>\n",
       "      <td>64.2</td>\n",
       "      <td>2.0</td>\n",
       "    </tr>\n",
       "    <tr>\n",
       "      <th>2</th>\n",
       "      <td>audi</td>\n",
       "      <td>2016</td>\n",
       "      <td>11000</td>\n",
       "      <td>Manual</td>\n",
       "      <td>29946</td>\n",
       "      <td>Petrol</td>\n",
       "      <td>55.4</td>\n",
       "      <td>1.4</td>\n",
       "    </tr>\n",
       "    <tr>\n",
       "      <th>3</th>\n",
       "      <td>audi</td>\n",
       "      <td>2017</td>\n",
       "      <td>16800</td>\n",
       "      <td>Automatic</td>\n",
       "      <td>25952</td>\n",
       "      <td>Diesel</td>\n",
       "      <td>67.3</td>\n",
       "      <td>2.0</td>\n",
       "    </tr>\n",
       "    <tr>\n",
       "      <th>4</th>\n",
       "      <td>audi</td>\n",
       "      <td>2019</td>\n",
       "      <td>17300</td>\n",
       "      <td>Manual</td>\n",
       "      <td>1998</td>\n",
       "      <td>Petrol</td>\n",
       "      <td>49.6</td>\n",
       "      <td>1.0</td>\n",
       "    </tr>\n",
       "    <tr>\n",
       "      <th>...</th>\n",
       "      <td>...</td>\n",
       "      <td>...</td>\n",
       "      <td>...</td>\n",
       "      <td>...</td>\n",
       "      <td>...</td>\n",
       "      <td>...</td>\n",
       "      <td>...</td>\n",
       "      <td>...</td>\n",
       "    </tr>\n",
       "    <tr>\n",
       "      <th>15152</th>\n",
       "      <td>vw</td>\n",
       "      <td>2012</td>\n",
       "      <td>5990</td>\n",
       "      <td>Manual</td>\n",
       "      <td>74000</td>\n",
       "      <td>Diesel</td>\n",
       "      <td>58.9</td>\n",
       "      <td>2.0</td>\n",
       "    </tr>\n",
       "    <tr>\n",
       "      <th>15153</th>\n",
       "      <td>vw</td>\n",
       "      <td>2008</td>\n",
       "      <td>1799</td>\n",
       "      <td>Manual</td>\n",
       "      <td>88102</td>\n",
       "      <td>Petrol</td>\n",
       "      <td>46.3</td>\n",
       "      <td>1.2</td>\n",
       "    </tr>\n",
       "    <tr>\n",
       "      <th>15154</th>\n",
       "      <td>vw</td>\n",
       "      <td>2009</td>\n",
       "      <td>1590</td>\n",
       "      <td>Manual</td>\n",
       "      <td>70000</td>\n",
       "      <td>Petrol</td>\n",
       "      <td>42.0</td>\n",
       "      <td>1.4</td>\n",
       "    </tr>\n",
       "    <tr>\n",
       "      <th>15155</th>\n",
       "      <td>vw</td>\n",
       "      <td>2006</td>\n",
       "      <td>1250</td>\n",
       "      <td>Manual</td>\n",
       "      <td>82704</td>\n",
       "      <td>Petrol</td>\n",
       "      <td>46.3</td>\n",
       "      <td>1.2</td>\n",
       "    </tr>\n",
       "    <tr>\n",
       "      <th>15156</th>\n",
       "      <td>vw</td>\n",
       "      <td>2007</td>\n",
       "      <td>2295</td>\n",
       "      <td>Manual</td>\n",
       "      <td>74000</td>\n",
       "      <td>Petrol</td>\n",
       "      <td>46.3</td>\n",
       "      <td>1.2</td>\n",
       "    </tr>\n",
       "  </tbody>\n",
       "</table>\n",
       "<p>108540 rows × 8 columns</p>\n",
       "</div>"
      ],
      "text/plain": [
       "      brand  year  price transmission  mileage fuelType   mpg  engineSize\n",
       "0      audi  2017  12500       Manual    15735   Petrol  55.4         1.4\n",
       "1      audi  2016  16500    Automatic    36203   Diesel  64.2         2.0\n",
       "2      audi  2016  11000       Manual    29946   Petrol  55.4         1.4\n",
       "3      audi  2017  16800    Automatic    25952   Diesel  67.3         2.0\n",
       "4      audi  2019  17300       Manual     1998   Petrol  49.6         1.0\n",
       "...     ...   ...    ...          ...      ...      ...   ...         ...\n",
       "15152    vw  2012   5990       Manual    74000   Diesel  58.9         2.0\n",
       "15153    vw  2008   1799       Manual    88102   Petrol  46.3         1.2\n",
       "15154    vw  2009   1590       Manual    70000   Petrol  42.0         1.4\n",
       "15155    vw  2006   1250       Manual    82704   Petrol  46.3         1.2\n",
       "15156    vw  2007   2295       Manual    74000   Petrol  46.3         1.2\n",
       "\n",
       "[108540 rows x 8 columns]"
      ]
     },
     "execution_count": 19,
     "metadata": {},
     "output_type": "execute_result"
    }
   ],
   "source": [
    "df_total"
   ]
  },
  {
   "cell_type": "code",
   "execution_count": 20,
   "id": "56173ac6",
   "metadata": {},
   "outputs": [],
   "source": [
    "df_total.to_csv('./df_total.csv', mode='w', encoding='utf-8', index=False)"
   ]
  },
  {
   "cell_type": "code",
   "execution_count": 21,
   "id": "1ea502d0",
   "metadata": {},
   "outputs": [],
   "source": [
    "import pandas as pd\n",
    "df_total = pd.read_csv(\"./df_total.csv\")"
   ]
  },
  {
   "cell_type": "code",
   "execution_count": 27,
   "id": "31599d4d",
   "metadata": {},
   "outputs": [
    {
     "data": {
      "text/html": [
       "<div>\n",
       "<style scoped>\n",
       "    .dataframe tbody tr th:only-of-type {\n",
       "        vertical-align: middle;\n",
       "    }\n",
       "\n",
       "    .dataframe tbody tr th {\n",
       "        vertical-align: top;\n",
       "    }\n",
       "\n",
       "    .dataframe thead th {\n",
       "        text-align: right;\n",
       "    }\n",
       "</style>\n",
       "<table border=\"1\" class=\"dataframe\">\n",
       "  <thead>\n",
       "    <tr style=\"text-align: right;\">\n",
       "      <th></th>\n",
       "      <th>brand</th>\n",
       "      <th>year</th>\n",
       "      <th>price</th>\n",
       "      <th>transmission</th>\n",
       "      <th>mileage</th>\n",
       "      <th>fuelType</th>\n",
       "      <th>mpg</th>\n",
       "      <th>engineSize</th>\n",
       "    </tr>\n",
       "  </thead>\n",
       "  <tbody>\n",
       "    <tr>\n",
       "      <th>0</th>\n",
       "      <td>audi</td>\n",
       "      <td>2017</td>\n",
       "      <td>12500</td>\n",
       "      <td>Manual</td>\n",
       "      <td>15735</td>\n",
       "      <td>Petrol</td>\n",
       "      <td>55.4</td>\n",
       "      <td>1.4</td>\n",
       "    </tr>\n",
       "    <tr>\n",
       "      <th>1</th>\n",
       "      <td>audi</td>\n",
       "      <td>2016</td>\n",
       "      <td>16500</td>\n",
       "      <td>Automatic</td>\n",
       "      <td>36203</td>\n",
       "      <td>Diesel</td>\n",
       "      <td>64.2</td>\n",
       "      <td>2.0</td>\n",
       "    </tr>\n",
       "    <tr>\n",
       "      <th>2</th>\n",
       "      <td>audi</td>\n",
       "      <td>2016</td>\n",
       "      <td>11000</td>\n",
       "      <td>Manual</td>\n",
       "      <td>29946</td>\n",
       "      <td>Petrol</td>\n",
       "      <td>55.4</td>\n",
       "      <td>1.4</td>\n",
       "    </tr>\n",
       "    <tr>\n",
       "      <th>3</th>\n",
       "      <td>audi</td>\n",
       "      <td>2017</td>\n",
       "      <td>16800</td>\n",
       "      <td>Automatic</td>\n",
       "      <td>25952</td>\n",
       "      <td>Diesel</td>\n",
       "      <td>67.3</td>\n",
       "      <td>2.0</td>\n",
       "    </tr>\n",
       "    <tr>\n",
       "      <th>4</th>\n",
       "      <td>audi</td>\n",
       "      <td>2019</td>\n",
       "      <td>17300</td>\n",
       "      <td>Manual</td>\n",
       "      <td>1998</td>\n",
       "      <td>Petrol</td>\n",
       "      <td>49.6</td>\n",
       "      <td>1.0</td>\n",
       "    </tr>\n",
       "    <tr>\n",
       "      <th>...</th>\n",
       "      <td>...</td>\n",
       "      <td>...</td>\n",
       "      <td>...</td>\n",
       "      <td>...</td>\n",
       "      <td>...</td>\n",
       "      <td>...</td>\n",
       "      <td>...</td>\n",
       "      <td>...</td>\n",
       "    </tr>\n",
       "    <tr>\n",
       "      <th>108535</th>\n",
       "      <td>vw</td>\n",
       "      <td>2012</td>\n",
       "      <td>5990</td>\n",
       "      <td>Manual</td>\n",
       "      <td>74000</td>\n",
       "      <td>Diesel</td>\n",
       "      <td>58.9</td>\n",
       "      <td>2.0</td>\n",
       "    </tr>\n",
       "    <tr>\n",
       "      <th>108536</th>\n",
       "      <td>vw</td>\n",
       "      <td>2008</td>\n",
       "      <td>1799</td>\n",
       "      <td>Manual</td>\n",
       "      <td>88102</td>\n",
       "      <td>Petrol</td>\n",
       "      <td>46.3</td>\n",
       "      <td>1.2</td>\n",
       "    </tr>\n",
       "    <tr>\n",
       "      <th>108537</th>\n",
       "      <td>vw</td>\n",
       "      <td>2009</td>\n",
       "      <td>1590</td>\n",
       "      <td>Manual</td>\n",
       "      <td>70000</td>\n",
       "      <td>Petrol</td>\n",
       "      <td>42.0</td>\n",
       "      <td>1.4</td>\n",
       "    </tr>\n",
       "    <tr>\n",
       "      <th>108538</th>\n",
       "      <td>vw</td>\n",
       "      <td>2006</td>\n",
       "      <td>1250</td>\n",
       "      <td>Manual</td>\n",
       "      <td>82704</td>\n",
       "      <td>Petrol</td>\n",
       "      <td>46.3</td>\n",
       "      <td>1.2</td>\n",
       "    </tr>\n",
       "    <tr>\n",
       "      <th>108539</th>\n",
       "      <td>vw</td>\n",
       "      <td>2007</td>\n",
       "      <td>2295</td>\n",
       "      <td>Manual</td>\n",
       "      <td>74000</td>\n",
       "      <td>Petrol</td>\n",
       "      <td>46.3</td>\n",
       "      <td>1.2</td>\n",
       "    </tr>\n",
       "  </tbody>\n",
       "</table>\n",
       "<p>108540 rows × 8 columns</p>\n",
       "</div>"
      ],
      "text/plain": [
       "       brand  year  price transmission  mileage fuelType   mpg  engineSize\n",
       "0       audi  2017  12500       Manual    15735   Petrol  55.4         1.4\n",
       "1       audi  2016  16500    Automatic    36203   Diesel  64.2         2.0\n",
       "2       audi  2016  11000       Manual    29946   Petrol  55.4         1.4\n",
       "3       audi  2017  16800    Automatic    25952   Diesel  67.3         2.0\n",
       "4       audi  2019  17300       Manual     1998   Petrol  49.6         1.0\n",
       "...      ...   ...    ...          ...      ...      ...   ...         ...\n",
       "108535    vw  2012   5990       Manual    74000   Diesel  58.9         2.0\n",
       "108536    vw  2008   1799       Manual    88102   Petrol  46.3         1.2\n",
       "108537    vw  2009   1590       Manual    70000   Petrol  42.0         1.4\n",
       "108538    vw  2006   1250       Manual    82704   Petrol  46.3         1.2\n",
       "108539    vw  2007   2295       Manual    74000   Petrol  46.3         1.2\n",
       "\n",
       "[108540 rows x 8 columns]"
      ]
     },
     "execution_count": 27,
     "metadata": {},
     "output_type": "execute_result"
    }
   ],
   "source": [
    "df_total"
   ]
  },
  {
   "cell_type": "code",
   "execution_count": 23,
   "id": "45f399f4",
   "metadata": {},
   "outputs": [
    {
     "data": {
      "text/plain": [
       "470.8"
      ]
     },
     "execution_count": 23,
     "metadata": {},
     "output_type": "execute_result"
    }
   ],
   "source": [
    "df_total[\"mpg\"].max()"
   ]
  },
  {
   "cell_type": "code",
   "execution_count": 8,
   "id": "881d8b49",
   "metadata": {
    "scrolled": true
   },
   "outputs": [
    {
     "data": {
      "text/plain": [
       "array([5.540e+01, 6.420e+01, 6.730e+01, 4.960e+01, 5.890e+01, 6.140e+01,\n",
       "       7.060e+01, 6.010e+01, 5.760e+01, 5.230e+01, 5.330e+01, 5.650e+01,\n",
       "       4.710e+01, 4.790e+01, 6.280e+01, 7.630e+01, 5.140e+01, 6.570e+01,\n",
       "       6.890e+01, 5.040e+01, 7.240e+01, 3.870e+01, 7.430e+01, 4.280e+01,\n",
       "       8.310e+01, 5.770e+01, 5.430e+01, 4.040e+01, 4.410e+01, 3.320e+01,\n",
       "       4.220e+01, 4.480e+01, 4.870e+01, 3.770e+01, 3.580e+01, 4.090e+01,\n",
       "       4.560e+01, 3.400e+01, 2.940e+01, 3.980e+01, 3.920e+01, 4.150e+01,\n",
       "       3.820e+01, 3.210e+01, 3.070e+01, 3.490e+01, 4.350e+01, 3.620e+01,\n",
       "       3.010e+01, 3.280e+01, 2.970e+01, 2.640e+01, 3.360e+01, 3.450e+01,\n",
       "       4.630e+01, 3.720e+01, 8.070e+01, 2.880e+01, 3.170e+01, 3.250e+01,\n",
       "       3.140e+01, 1.413e+02, 3.100e+01, 3.530e+01, 3.670e+01, 1.177e+02,\n",
       "       2.910e+01, 2.140e+01, 1.960e+01, 2.690e+01, 2.110e+01, 7.640e+01,\n",
       "       1.569e+02, 1.883e+02, 2.410e+01, 2.210e+01, 2.160e+01, 2.300e+01,\n",
       "       1.766e+02, 2.280e+01, 2.240e+01, 2.260e+01, 2.480e+01, 2.190e+01,\n",
       "       3.810e+01, 4.210e+01, 5.000e+01, 1.930e+01, 2.850e+01, 2.100e+01,\n",
       "       2.820e+01, 3.040e+01, 4.340e+01, 3.760e+01, 2.030e+01, 3.080e+01,\n",
       "       5.130e+01, 2.740e+01, 3.330e+01, 2.720e+01, 3.440e+01, 1.890e+01,\n",
       "       2.500e+01, 4.450e+01, 1.487e+02, 4.708e+02, 1.412e+02, 8.560e+01,\n",
       "       1.345e+02, 5.550e+01, 1.130e+02, 7.850e+01, 2.670e+01, 2.440e+01,\n",
       "       1.355e+02, 5.500e+00, 2.540e+01, 8.800e+00, 1.284e+02, 2.320e+01,\n",
       "       2.370e+01, 2.330e+01, 1.910e+01, 2.460e+01, 2.770e+01, 2.520e+01,\n",
       "       2.660e+01, 2.080e+01,       nan, 4.030e+01, 7.440e+01, 2.350e+01,\n",
       "       5.660e+01, 2.090e+01, 8.830e+01, 2.018e+02, 2.830e+01, 6.900e+01,\n",
       "       2.630e+01, 3.710e+01, 2.800e+01, 5.420e+01, 2.390e+01, 6.170e+01,\n",
       "       7.840e+01, 1.100e+00, 4.600e+01, 4.360e+01, 2.568e+02, 2.170e+01,\n",
       "       2.950e+01, 4.240e+01, 3.290e+01, 1.228e+02, 1.229e+02, 3.370e+01,\n",
       "       1.100e+01, 2.050e+01, 2.173e+02, 1.009e+02, 5.350e+01, 5.500e+01,\n",
       "       2.220e+01, 2.000e+01, 1.900e+01, 1.780e+01, 4.460e+01, 3.000e+01,\n",
       "       2.550e+01, 4.000e+01, 1.980e+01, 2.230e+01, 1.950e+01, 5.880e+01,\n",
       "       7.860e+01, 5.110e+01, 5.300e+01, 7.800e+01, 5.800e+01, 8.600e+01,\n",
       "       6.600e+01, 4.290e+01, 6.560e+01, 6.880e+01, 6.700e+01, 6.000e+00,\n",
       "       9.410e+01, 2.350e+02, 2.800e+00, 5.440e+01, 6.770e+01, 4.300e+01,\n",
       "       6.270e+01, 3.860e+01, 5.470e+01, 2.590e+01, 4.840e+01, 2.354e+02,\n",
       "       4.216e+01, 2.790e+01, 1.662e+02, 2.620e+01, 1.660e+02, 6.110e+01,\n",
       "       4.700e+01, 4.770e+01, 3.000e-01, 4.800e+01, 4.200e+01])"
      ]
     },
     "execution_count": 8,
     "metadata": {},
     "output_type": "execute_result"
    }
   ],
   "source": [
    "df_total[\"mpg\"].unique()"
   ]
  },
  {
   "cell_type": "code",
   "execution_count": 18,
   "id": "3a0ff0df",
   "metadata": {},
   "outputs": [],
   "source": [
    "import matplotlib.pyplot as plt\n",
    "import numpy as np"
   ]
  },
  {
   "cell_type": "markdown",
   "id": "37e86ec6",
   "metadata": {},
   "source": [
    "## 결측치 평균으로 대체"
   ]
  },
  {
   "cell_type": "code",
   "execution_count": 28,
   "id": "3b743868",
   "metadata": {},
   "outputs": [
    {
     "name": "stdout",
     "output_type": "stream",
     "text": [
      "<class 'pandas.core.frame.DataFrame'>\n",
      "RangeIndex: 108540 entries, 0 to 108539\n",
      "Data columns (total 8 columns):\n",
      " #   Column        Non-Null Count   Dtype  \n",
      "---  ------        --------------   -----  \n",
      " 0   brand         108540 non-null  object \n",
      " 1   year          108540 non-null  int64  \n",
      " 2   price         108540 non-null  int64  \n",
      " 3   transmission  108540 non-null  object \n",
      " 4   mileage       108540 non-null  int64  \n",
      " 5   fuelType      108540 non-null  object \n",
      " 6   mpg           108540 non-null  float64\n",
      " 7   engineSize    108540 non-null  float64\n",
      "dtypes: float64(2), int64(3), object(3)\n",
      "memory usage: 6.6+ MB\n"
     ]
    }
   ],
   "source": [
    "df_total[\"mpg\"] = df_total[\"mpg\"].fillna(df_total[\"mpg\"].mean())\n",
    "df_total.info()"
   ]
  },
  {
   "cell_type": "markdown",
   "id": "bf38d686",
   "metadata": {},
   "source": [
    "## 이상치 확인, 처리"
   ]
  },
  {
   "cell_type": "code",
   "execution_count": 5,
   "id": "4a526394",
   "metadata": {},
   "outputs": [
    {
     "data": {
      "text/plain": [
       "count    108540.000000\n",
       "mean         55.166825\n",
       "std          15.427517\n",
       "min           0.300000\n",
       "25%          47.100000\n",
       "50%          55.166825\n",
       "75%          61.400000\n",
       "max         470.800000\n",
       "Name: mpg, dtype: float64"
      ]
     },
     "execution_count": 5,
     "metadata": {},
     "output_type": "execute_result"
    }
   ],
   "source": [
    "df_total[\"mpg\"].describe()"
   ]
  },
  {
   "cell_type": "code",
   "execution_count": 11,
   "id": "31af5d38",
   "metadata": {},
   "outputs": [
    {
     "data": {
      "text/plain": [
       "[]"
      ]
     },
     "execution_count": 11,
     "metadata": {},
     "output_type": "execute_result"
    },
    {
     "data": {
      "image/png": "[encoded data removed]",
      "text/plain": [
       "<Figure size 432x288 with 1 Axes>"
      ]
     },
     "metadata": {
      "needs_background": "light"
     },
     "output_type": "display_data"
    }
   ],
   "source": [
    "boxplot = df_total.boxplot(column=['mpg'])\n",
    "boxplot.plot()"
   ]
  },
  {
   "cell_type": "code",
   "execution_count": 8,
   "id": "7bd0c60a",
   "metadata": {},
   "outputs": [
    {
     "data": {
      "text/plain": [
       "count    108540.000000\n",
       "mean         55.166825\n",
       "std          15.427517\n",
       "min           0.300000\n",
       "25%          47.100000\n",
       "50%          55.166825\n",
       "75%          61.400000\n",
       "max         470.800000\n",
       "Name: mpg, dtype: float64"
      ]
     },
     "execution_count": 8,
     "metadata": {},
     "output_type": "execute_result"
    }
   ],
   "source": [
    "df_total[\"mpg\"].describe()"
   ]
  },
  {
   "cell_type": "code",
   "execution_count": 22,
   "id": "c92b1483",
   "metadata": {},
   "outputs": [
    {
     "data": {
      "text/html": [
       "<div>\n",
       "<style scoped>\n",
       "    .dataframe tbody tr th:only-of-type {\n",
       "        vertical-align: middle;\n",
       "    }\n",
       "\n",
       "    .dataframe tbody tr th {\n",
       "        vertical-align: top;\n",
       "    }\n",
       "\n",
       "    .dataframe thead th {\n",
       "        text-align: right;\n",
       "    }\n",
       "</style>\n",
       "<table border=\"1\" class=\"dataframe\">\n",
       "  <thead>\n",
       "    <tr style=\"text-align: right;\">\n",
       "      <th></th>\n",
       "      <th>brand</th>\n",
       "      <th>model</th>\n",
       "      <th>year</th>\n",
       "      <th>price</th>\n",
       "      <th>transmission</th>\n",
       "      <th>mileage</th>\n",
       "      <th>fuelType</th>\n",
       "      <th>mpg</th>\n",
       "      <th>engineSize</th>\n",
       "    </tr>\n",
       "  </thead>\n",
       "  <tbody>\n",
       "    <tr>\n",
       "      <th>0</th>\n",
       "      <td>audi</td>\n",
       "      <td>A1</td>\n",
       "      <td>2017</td>\n",
       "      <td>12500</td>\n",
       "      <td>Manual</td>\n",
       "      <td>15735</td>\n",
       "      <td>Petrol</td>\n",
       "      <td>55.4</td>\n",
       "      <td>1.4</td>\n",
       "    </tr>\n",
       "    <tr>\n",
       "      <th>1</th>\n",
       "      <td>audi</td>\n",
       "      <td>A6</td>\n",
       "      <td>2016</td>\n",
       "      <td>16500</td>\n",
       "      <td>Automatic</td>\n",
       "      <td>36203</td>\n",
       "      <td>Diesel</td>\n",
       "      <td>64.2</td>\n",
       "      <td>2.0</td>\n",
       "    </tr>\n",
       "    <tr>\n",
       "      <th>2</th>\n",
       "      <td>audi</td>\n",
       "      <td>A1</td>\n",
       "      <td>2016</td>\n",
       "      <td>11000</td>\n",
       "      <td>Manual</td>\n",
       "      <td>29946</td>\n",
       "      <td>Petrol</td>\n",
       "      <td>55.4</td>\n",
       "      <td>1.4</td>\n",
       "    </tr>\n",
       "    <tr>\n",
       "      <th>3</th>\n",
       "      <td>audi</td>\n",
       "      <td>A4</td>\n",
       "      <td>2017</td>\n",
       "      <td>16800</td>\n",
       "      <td>Automatic</td>\n",
       "      <td>25952</td>\n",
       "      <td>Diesel</td>\n",
       "      <td>67.3</td>\n",
       "      <td>2.0</td>\n",
       "    </tr>\n",
       "    <tr>\n",
       "      <th>4</th>\n",
       "      <td>audi</td>\n",
       "      <td>A3</td>\n",
       "      <td>2019</td>\n",
       "      <td>17300</td>\n",
       "      <td>Manual</td>\n",
       "      <td>1998</td>\n",
       "      <td>Petrol</td>\n",
       "      <td>49.6</td>\n",
       "      <td>1.0</td>\n",
       "    </tr>\n",
       "    <tr>\n",
       "      <th>...</th>\n",
       "      <td>...</td>\n",
       "      <td>...</td>\n",
       "      <td>...</td>\n",
       "      <td>...</td>\n",
       "      <td>...</td>\n",
       "      <td>...</td>\n",
       "      <td>...</td>\n",
       "      <td>...</td>\n",
       "      <td>...</td>\n",
       "    </tr>\n",
       "    <tr>\n",
       "      <th>15152</th>\n",
       "      <td>vw</td>\n",
       "      <td>Eos</td>\n",
       "      <td>2012</td>\n",
       "      <td>5990</td>\n",
       "      <td>Manual</td>\n",
       "      <td>74000</td>\n",
       "      <td>Diesel</td>\n",
       "      <td>58.9</td>\n",
       "      <td>2.0</td>\n",
       "    </tr>\n",
       "    <tr>\n",
       "      <th>15153</th>\n",
       "      <td>vw</td>\n",
       "      <td>Fox</td>\n",
       "      <td>2008</td>\n",
       "      <td>1799</td>\n",
       "      <td>Manual</td>\n",
       "      <td>88102</td>\n",
       "      <td>Petrol</td>\n",
       "      <td>46.3</td>\n",
       "      <td>1.2</td>\n",
       "    </tr>\n",
       "    <tr>\n",
       "      <th>15154</th>\n",
       "      <td>vw</td>\n",
       "      <td>Fox</td>\n",
       "      <td>2009</td>\n",
       "      <td>1590</td>\n",
       "      <td>Manual</td>\n",
       "      <td>70000</td>\n",
       "      <td>Petrol</td>\n",
       "      <td>42.0</td>\n",
       "      <td>1.4</td>\n",
       "    </tr>\n",
       "    <tr>\n",
       "      <th>15155</th>\n",
       "      <td>vw</td>\n",
       "      <td>Fox</td>\n",
       "      <td>2006</td>\n",
       "      <td>1250</td>\n",
       "      <td>Manual</td>\n",
       "      <td>82704</td>\n",
       "      <td>Petrol</td>\n",
       "      <td>46.3</td>\n",
       "      <td>1.2</td>\n",
       "    </tr>\n",
       "    <tr>\n",
       "      <th>15156</th>\n",
       "      <td>vw</td>\n",
       "      <td>Fox</td>\n",
       "      <td>2007</td>\n",
       "      <td>2295</td>\n",
       "      <td>Manual</td>\n",
       "      <td>74000</td>\n",
       "      <td>Petrol</td>\n",
       "      <td>46.3</td>\n",
       "      <td>1.2</td>\n",
       "    </tr>\n",
       "  </tbody>\n",
       "</table>\n",
       "<p>108497 rows × 9 columns</p>\n",
       "</div>"
      ],
      "text/plain": [
       "      brand model  year  price transmission  mileage fuelType   mpg  \\\n",
       "0      audi    A1  2017  12500       Manual    15735   Petrol  55.4   \n",
       "1      audi    A6  2016  16500    Automatic    36203   Diesel  64.2   \n",
       "2      audi    A1  2016  11000       Manual    29946   Petrol  55.4   \n",
       "3      audi    A4  2017  16800    Automatic    25952   Diesel  67.3   \n",
       "4      audi    A3  2019  17300       Manual     1998   Petrol  49.6   \n",
       "...     ...   ...   ...    ...          ...      ...      ...   ...   \n",
       "15152    vw   Eos  2012   5990       Manual    74000   Diesel  58.9   \n",
       "15153    vw   Fox  2008   1799       Manual    88102   Petrol  46.3   \n",
       "15154    vw   Fox  2009   1590       Manual    70000   Petrol  42.0   \n",
       "15155    vw   Fox  2006   1250       Manual    82704   Petrol  46.3   \n",
       "15156    vw   Fox  2007   2295       Manual    74000   Petrol  46.3   \n",
       "\n",
       "       engineSize  \n",
       "0             1.4  \n",
       "1             2.0  \n",
       "2             1.4  \n",
       "3             2.0  \n",
       "4             1.0  \n",
       "...           ...  \n",
       "15152         2.0  \n",
       "15153         1.2  \n",
       "15154         1.4  \n",
       "15155         1.2  \n",
       "15156         1.2  \n",
       "\n",
       "[108497 rows x 9 columns]"
      ]
     },
     "execution_count": 22,
     "metadata": {},
     "output_type": "execute_result"
    }
   ],
   "source": [
    "condition = df_total[\"mpg\"] == 470.8\n",
    "\n",
    "\n",
    "df_total = df_total[condition != True]\n",
    "df_total\n",
    "\n"
   ]
  },
  {
   "cell_type": "code",
   "execution_count": 23,
   "id": "868f3b96",
   "metadata": {},
   "outputs": [],
   "source": [
    "condition = df_total[\"mpg\"] >= 100\n",
    "\n",
    "\n",
    "df_total = df_total[condition != True]\n",
    "\n"
   ]
  },
  {
   "cell_type": "code",
   "execution_count": 24,
   "id": "a3a9ca73",
   "metadata": {},
   "outputs": [
    {
     "data": {
      "text/html": [
       "<div>\n",
       "<style scoped>\n",
       "    .dataframe tbody tr th:only-of-type {\n",
       "        vertical-align: middle;\n",
       "    }\n",
       "\n",
       "    .dataframe tbody tr th {\n",
       "        vertical-align: top;\n",
       "    }\n",
       "\n",
       "    .dataframe thead th {\n",
       "        text-align: right;\n",
       "    }\n",
       "</style>\n",
       "<table border=\"1\" class=\"dataframe\">\n",
       "  <thead>\n",
       "    <tr style=\"text-align: right;\">\n",
       "      <th></th>\n",
       "      <th>brand</th>\n",
       "      <th>model</th>\n",
       "      <th>year</th>\n",
       "      <th>price</th>\n",
       "      <th>transmission</th>\n",
       "      <th>mileage</th>\n",
       "      <th>fuelType</th>\n",
       "      <th>mpg</th>\n",
       "      <th>engineSize</th>\n",
       "    </tr>\n",
       "  </thead>\n",
       "  <tbody>\n",
       "  </tbody>\n",
       "</table>\n",
       "</div>"
      ],
      "text/plain": [
       "Empty DataFrame\n",
       "Columns: [brand, model, year, price, transmission, mileage, fuelType, mpg, engineSize]\n",
       "Index: []"
      ]
     },
     "execution_count": 24,
     "metadata": {},
     "output_type": "execute_result"
    }
   ],
   "source": [
    "df_total[df_total[\"mpg\"]==188.3]"
   ]
  },
  {
   "cell_type": "code",
   "execution_count": 25,
   "id": "f82717e0",
   "metadata": {},
   "outputs": [
    {
     "data": {
      "text/plain": [
       "94.1"
      ]
     },
     "execution_count": 25,
     "metadata": {},
     "output_type": "execute_result"
    }
   ],
   "source": [
    "df_total[\"mpg\"].max()"
   ]
  },
  {
   "cell_type": "code",
   "execution_count": 26,
   "id": "d02cdce8",
   "metadata": {},
   "outputs": [
    {
     "data": {
      "text/plain": [
       "[]"
      ]
     },
     "execution_count": 26,
     "metadata": {},
     "output_type": "execute_result"
    },
    {
     "data": {
      "image/png": "[encoded data removed]",
      "text/plain": [
       "<Figure size 432x288 with 1 Axes>"
      ]
     },
     "metadata": {
      "needs_background": "light"
     },
     "output_type": "display_data"
    }
   ],
   "source": [
    "boxplot = df_total.boxplot(column=['mpg'])\n",
    "boxplot.plot()"
   ]
  },
  {
   "cell_type": "code",
   "execution_count": 27,
   "id": "90ff0009",
   "metadata": {},
   "outputs": [
    {
     "data": {
      "text/plain": [
       "count    107966.000000\n",
       "mean         54.389174\n",
       "std          10.835971\n",
       "min           0.300000\n",
       "25%          47.100000\n",
       "50%          53.753355\n",
       "75%          61.400000\n",
       "max          94.100000\n",
       "Name: mpg, dtype: float64"
      ]
     },
     "execution_count": 27,
     "metadata": {},
     "output_type": "execute_result"
    }
   ],
   "source": [
    "df_total['mpg'].describe()"
   ]
  },
  {
   "cell_type": "code",
   "execution_count": 28,
   "id": "09774c79",
   "metadata": {},
   "outputs": [
    {
     "data": {
      "text/plain": [
       "0        55.4\n",
       "1        64.2\n",
       "2        55.4\n",
       "3        67.3\n",
       "4        49.6\n",
       "         ... \n",
       "15152    58.9\n",
       "15153    46.3\n",
       "15154    42.0\n",
       "15155    46.3\n",
       "15156    46.3\n",
       "Name: mpg, Length: 107966, dtype: float64"
      ]
     },
     "execution_count": 28,
     "metadata": {},
     "output_type": "execute_result"
    }
   ],
   "source": [
    "df_total['mpg']"
   ]
  },
  {
   "cell_type": "code",
   "execution_count": 33,
   "id": "22ca5d93",
   "metadata": {},
   "outputs": [],
   "source": [
    "condition = (df_total[\"mpg\"] >=  47.1) & (df_total[\"mpg\"] <= 61.4)\n",
    "car = df_total[condition]\n",
    "car.to_csv(\"./car.csv\", index = False)\n",
    "car = pd.read_csv(\"./car.csv\")"
   ]
  },
  {
   "cell_type": "code",
   "execution_count": 35,
   "id": "7d4f3d57",
   "metadata": {},
   "outputs": [
    {
     "name": "stdout",
     "output_type": "stream",
     "text": [
      "<class 'pandas.core.frame.DataFrame'>\n",
      "RangeIndex: 57507 entries, 0 to 57506\n",
      "Data columns (total 8 columns):\n",
      " #   Column        Non-Null Count  Dtype  \n",
      "---  ------        --------------  -----  \n",
      " 0   brand         57507 non-null  object \n",
      " 1   year          57507 non-null  int64  \n",
      " 2   price         57507 non-null  int64  \n",
      " 3   transmission  57507 non-null  object \n",
      " 4   mileage       57507 non-null  int64  \n",
      " 5   fuelType      57507 non-null  object \n",
      " 6   mpg           57507 non-null  float64\n",
      " 7   engineSize    57507 non-null  float64\n",
      "dtypes: float64(2), int64(3), object(3)\n",
      "memory usage: 3.5+ MB\n"
     ]
    }
   ],
   "source": [
    "car.info()"
   ]
  },
  {
   "cell_type": "code",
   "execution_count": null,
   "id": "1675cbcb",
   "metadata": {},
   "outputs": [],
   "source": []
  },
  {
   "cell_type": "code",
   "execution_count": 15,
   "id": "348805e0",
   "metadata": {},
   "outputs": [],
   "source": [
    "car = pd.read_csv(\"./car.csv\")"
   ]
  },
  {
   "cell_type": "code",
   "execution_count": 16,
   "id": "e992deaa",
   "metadata": {},
   "outputs": [
    {
     "data": {
      "text/plain": [
       "[]"
      ]
     },
     "execution_count": 16,
     "metadata": {},
     "output_type": "execute_result"
    },
    {
     "data": {
      "image/png": "[encoded data removed]",
      "text/plain": [
       "<Figure size 432x288 with 1 Axes>"
      ]
     },
     "metadata": {
      "needs_background": "light"
     },
     "output_type": "display_data"
    }
   ],
   "source": [
    "boxplot = car.boxplot(column=['mpg'])\n",
    "boxplot.plot()"
   ]
  },
  {
   "cell_type": "code",
   "execution_count": 18,
   "id": "2b53169a",
   "metadata": {},
   "outputs": [],
   "source": [
    "car.to_csv(\"./car_tmp.csv\", index = False)"
   ]
  },
  {
   "cell_type": "markdown",
   "id": "290bff69",
   "metadata": {},
   "source": [
    "## 원핫인코딩 진행"
   ]
  },
  {
   "cell_type": "code",
   "execution_count": 20,
   "id": "05965460",
   "metadata": {},
   "outputs": [
    {
     "name": "stdout",
     "output_type": "stream",
     "text": [
      "<class 'pandas.core.frame.DataFrame'>\n",
      "RangeIndex: 57507 entries, 0 to 57506\n",
      "Data columns (total 9 columns):\n",
      " #   Column        Non-Null Count  Dtype  \n",
      "---  ------        --------------  -----  \n",
      " 0   brand         57507 non-null  object \n",
      " 1   model         57507 non-null  object \n",
      " 2   year          57507 non-null  int64  \n",
      " 3   price         57507 non-null  int64  \n",
      " 4   transmission  57507 non-null  object \n",
      " 5   mileage       57507 non-null  int64  \n",
      " 6   fuelType      57507 non-null  object \n",
      " 7   mpg           57507 non-null  float64\n",
      " 8   engineSize    57507 non-null  float64\n",
      "dtypes: float64(2), int64(3), object(4)\n",
      "memory usage: 3.9+ MB\n"
     ]
    }
   ],
   "source": [
    "car.info()"
   ]
  },
  {
   "cell_type": "code",
   "execution_count": 1,
   "id": "f0f3e897",
   "metadata": {},
   "outputs": [
    {
     "ename": "NameError",
     "evalue": "name 'car' is not defined",
     "output_type": "error",
     "traceback": [
      "\u001b[1;31m---------------------------------------------------------------------------\u001b[0m",
      "\u001b[1;31mNameError\u001b[0m                                 Traceback (most recent call last)",
      "\u001b[1;32m~\\AppData\\Local\\Temp/ipykernel_9944/2361860884.py\u001b[0m in \u001b[0;36m<module>\u001b[1;34m\u001b[0m\n\u001b[1;32m----> 1\u001b[1;33m \u001b[0mcar\u001b[0m\u001b[1;33m.\u001b[0m\u001b[0myear\u001b[0m \u001b[1;33m=\u001b[0m \u001b[0mcar\u001b[0m\u001b[1;33m.\u001b[0m\u001b[0myear\u001b[0m\u001b[1;33m.\u001b[0m\u001b[0mastype\u001b[0m\u001b[1;33m(\u001b[0m\u001b[1;34m'str'\u001b[0m\u001b[1;33m)\u001b[0m \u001b[1;31m# year컬럼도 명목형 변수이므로 형식변환 int -> object\u001b[0m\u001b[1;33m\u001b[0m\u001b[1;33m\u001b[0m\u001b[0m\n\u001b[0m\u001b[0;32m      2\u001b[0m \u001b[0mcar\u001b[0m\u001b[1;33m.\u001b[0m\u001b[0minfo\u001b[0m\u001b[1;33m(\u001b[0m\u001b[1;33m)\u001b[0m\u001b[1;33m\u001b[0m\u001b[1;33m\u001b[0m\u001b[0m\n",
      "\u001b[1;31mNameError\u001b[0m: name 'car' is not defined"
     ]
    }
   ],
   "source": [
    "car.year = car.year.astype('str') # year컬럼도 명목형 변수이므로 형식변환 int -> str\n",
    "car.info()"
   ]
  },
  {
   "cell_type": "code",
   "execution_count": 23,
   "id": "0b3ffc4d",
   "metadata": {},
   "outputs": [
    {
     "data": {
      "text/html": [
       "<div>\n",
       "<style scoped>\n",
       "    .dataframe tbody tr th:only-of-type {\n",
       "        vertical-align: middle;\n",
       "    }\n",
       "\n",
       "    .dataframe tbody tr th {\n",
       "        vertical-align: top;\n",
       "    }\n",
       "\n",
       "    .dataframe thead th {\n",
       "        text-align: right;\n",
       "    }\n",
       "</style>\n",
       "<table border=\"1\" class=\"dataframe\">\n",
       "  <thead>\n",
       "    <tr style=\"text-align: right;\">\n",
       "      <th></th>\n",
       "      <th>price</th>\n",
       "      <th>mileage</th>\n",
       "      <th>mpg</th>\n",
       "      <th>engineSize</th>\n",
       "      <th>brand_bmw</th>\n",
       "      <th>brand_cclass</th>\n",
       "      <th>brand_focus</th>\n",
       "      <th>brand_ford</th>\n",
       "      <th>brand_hyundi</th>\n",
       "      <th>brand_merc</th>\n",
       "      <th>...</th>\n",
       "      <th>year_2017</th>\n",
       "      <th>year_2018</th>\n",
       "      <th>year_2019</th>\n",
       "      <th>year_2020</th>\n",
       "      <th>transmission_Manual</th>\n",
       "      <th>transmission_Other</th>\n",
       "      <th>transmission_Semi-Auto</th>\n",
       "      <th>fuelType_Hybrid</th>\n",
       "      <th>fuelType_Other</th>\n",
       "      <th>fuelType_Petrol</th>\n",
       "    </tr>\n",
       "  </thead>\n",
       "  <tbody>\n",
       "    <tr>\n",
       "      <th>0</th>\n",
       "      <td>12500</td>\n",
       "      <td>15735</td>\n",
       "      <td>55.4</td>\n",
       "      <td>1.4</td>\n",
       "      <td>0</td>\n",
       "      <td>0</td>\n",
       "      <td>0</td>\n",
       "      <td>0</td>\n",
       "      <td>0</td>\n",
       "      <td>0</td>\n",
       "      <td>...</td>\n",
       "      <td>1</td>\n",
       "      <td>0</td>\n",
       "      <td>0</td>\n",
       "      <td>0</td>\n",
       "      <td>1</td>\n",
       "      <td>0</td>\n",
       "      <td>0</td>\n",
       "      <td>0</td>\n",
       "      <td>0</td>\n",
       "      <td>1</td>\n",
       "    </tr>\n",
       "    <tr>\n",
       "      <th>1</th>\n",
       "      <td>11000</td>\n",
       "      <td>29946</td>\n",
       "      <td>55.4</td>\n",
       "      <td>1.4</td>\n",
       "      <td>0</td>\n",
       "      <td>0</td>\n",
       "      <td>0</td>\n",
       "      <td>0</td>\n",
       "      <td>0</td>\n",
       "      <td>0</td>\n",
       "      <td>...</td>\n",
       "      <td>0</td>\n",
       "      <td>0</td>\n",
       "      <td>0</td>\n",
       "      <td>0</td>\n",
       "      <td>1</td>\n",
       "      <td>0</td>\n",
       "      <td>0</td>\n",
       "      <td>0</td>\n",
       "      <td>0</td>\n",
       "      <td>1</td>\n",
       "    </tr>\n",
       "    <tr>\n",
       "      <th>2</th>\n",
       "      <td>17300</td>\n",
       "      <td>1998</td>\n",
       "      <td>49.6</td>\n",
       "      <td>1.0</td>\n",
       "      <td>0</td>\n",
       "      <td>0</td>\n",
       "      <td>0</td>\n",
       "      <td>0</td>\n",
       "      <td>0</td>\n",
       "      <td>0</td>\n",
       "      <td>...</td>\n",
       "      <td>0</td>\n",
       "      <td>0</td>\n",
       "      <td>1</td>\n",
       "      <td>0</td>\n",
       "      <td>1</td>\n",
       "      <td>0</td>\n",
       "      <td>0</td>\n",
       "      <td>0</td>\n",
       "      <td>0</td>\n",
       "      <td>1</td>\n",
       "    </tr>\n",
       "    <tr>\n",
       "      <th>3</th>\n",
       "      <td>13900</td>\n",
       "      <td>32260</td>\n",
       "      <td>58.9</td>\n",
       "      <td>1.4</td>\n",
       "      <td>0</td>\n",
       "      <td>0</td>\n",
       "      <td>0</td>\n",
       "      <td>0</td>\n",
       "      <td>0</td>\n",
       "      <td>0</td>\n",
       "      <td>...</td>\n",
       "      <td>0</td>\n",
       "      <td>0</td>\n",
       "      <td>0</td>\n",
       "      <td>0</td>\n",
       "      <td>0</td>\n",
       "      <td>0</td>\n",
       "      <td>0</td>\n",
       "      <td>0</td>\n",
       "      <td>0</td>\n",
       "      <td>1</td>\n",
       "    </tr>\n",
       "    <tr>\n",
       "      <th>4</th>\n",
       "      <td>13250</td>\n",
       "      <td>76788</td>\n",
       "      <td>61.4</td>\n",
       "      <td>2.0</td>\n",
       "      <td>0</td>\n",
       "      <td>0</td>\n",
       "      <td>0</td>\n",
       "      <td>0</td>\n",
       "      <td>0</td>\n",
       "      <td>0</td>\n",
       "      <td>...</td>\n",
       "      <td>0</td>\n",
       "      <td>0</td>\n",
       "      <td>0</td>\n",
       "      <td>0</td>\n",
       "      <td>0</td>\n",
       "      <td>0</td>\n",
       "      <td>0</td>\n",
       "      <td>0</td>\n",
       "      <td>0</td>\n",
       "      <td>0</td>\n",
       "    </tr>\n",
       "    <tr>\n",
       "      <th>...</th>\n",
       "      <td>...</td>\n",
       "      <td>...</td>\n",
       "      <td>...</td>\n",
       "      <td>...</td>\n",
       "      <td>...</td>\n",
       "      <td>...</td>\n",
       "      <td>...</td>\n",
       "      <td>...</td>\n",
       "      <td>...</td>\n",
       "      <td>...</td>\n",
       "      <td>...</td>\n",
       "      <td>...</td>\n",
       "      <td>...</td>\n",
       "      <td>...</td>\n",
       "      <td>...</td>\n",
       "      <td>...</td>\n",
       "      <td>...</td>\n",
       "      <td>...</td>\n",
       "      <td>...</td>\n",
       "      <td>...</td>\n",
       "      <td>...</td>\n",
       "    </tr>\n",
       "    <tr>\n",
       "      <th>57502</th>\n",
       "      <td>4995</td>\n",
       "      <td>65000</td>\n",
       "      <td>48.0</td>\n",
       "      <td>2.0</td>\n",
       "      <td>0</td>\n",
       "      <td>0</td>\n",
       "      <td>0</td>\n",
       "      <td>0</td>\n",
       "      <td>0</td>\n",
       "      <td>0</td>\n",
       "      <td>...</td>\n",
       "      <td>0</td>\n",
       "      <td>0</td>\n",
       "      <td>0</td>\n",
       "      <td>0</td>\n",
       "      <td>1</td>\n",
       "      <td>0</td>\n",
       "      <td>0</td>\n",
       "      <td>0</td>\n",
       "      <td>0</td>\n",
       "      <td>0</td>\n",
       "    </tr>\n",
       "    <tr>\n",
       "      <th>57503</th>\n",
       "      <td>12495</td>\n",
       "      <td>41850</td>\n",
       "      <td>58.9</td>\n",
       "      <td>2.0</td>\n",
       "      <td>0</td>\n",
       "      <td>0</td>\n",
       "      <td>0</td>\n",
       "      <td>0</td>\n",
       "      <td>0</td>\n",
       "      <td>0</td>\n",
       "      <td>...</td>\n",
       "      <td>0</td>\n",
       "      <td>0</td>\n",
       "      <td>0</td>\n",
       "      <td>0</td>\n",
       "      <td>1</td>\n",
       "      <td>0</td>\n",
       "      <td>0</td>\n",
       "      <td>0</td>\n",
       "      <td>0</td>\n",
       "      <td>0</td>\n",
       "    </tr>\n",
       "    <tr>\n",
       "      <th>57504</th>\n",
       "      <td>8950</td>\n",
       "      <td>58000</td>\n",
       "      <td>58.9</td>\n",
       "      <td>2.0</td>\n",
       "      <td>0</td>\n",
       "      <td>0</td>\n",
       "      <td>0</td>\n",
       "      <td>0</td>\n",
       "      <td>0</td>\n",
       "      <td>0</td>\n",
       "      <td>...</td>\n",
       "      <td>0</td>\n",
       "      <td>0</td>\n",
       "      <td>0</td>\n",
       "      <td>0</td>\n",
       "      <td>1</td>\n",
       "      <td>0</td>\n",
       "      <td>0</td>\n",
       "      <td>0</td>\n",
       "      <td>0</td>\n",
       "      <td>0</td>\n",
       "    </tr>\n",
       "    <tr>\n",
       "      <th>57505</th>\n",
       "      <td>2995</td>\n",
       "      <td>92640</td>\n",
       "      <td>48.0</td>\n",
       "      <td>2.0</td>\n",
       "      <td>0</td>\n",
       "      <td>0</td>\n",
       "      <td>0</td>\n",
       "      <td>0</td>\n",
       "      <td>0</td>\n",
       "      <td>0</td>\n",
       "      <td>...</td>\n",
       "      <td>0</td>\n",
       "      <td>0</td>\n",
       "      <td>0</td>\n",
       "      <td>0</td>\n",
       "      <td>1</td>\n",
       "      <td>0</td>\n",
       "      <td>0</td>\n",
       "      <td>0</td>\n",
       "      <td>0</td>\n",
       "      <td>0</td>\n",
       "    </tr>\n",
       "    <tr>\n",
       "      <th>57506</th>\n",
       "      <td>5990</td>\n",
       "      <td>74000</td>\n",
       "      <td>58.9</td>\n",
       "      <td>2.0</td>\n",
       "      <td>0</td>\n",
       "      <td>0</td>\n",
       "      <td>0</td>\n",
       "      <td>0</td>\n",
       "      <td>0</td>\n",
       "      <td>0</td>\n",
       "      <td>...</td>\n",
       "      <td>0</td>\n",
       "      <td>0</td>\n",
       "      <td>0</td>\n",
       "      <td>0</td>\n",
       "      <td>1</td>\n",
       "      <td>0</td>\n",
       "      <td>0</td>\n",
       "      <td>0</td>\n",
       "      <td>0</td>\n",
       "      <td>0</td>\n",
       "    </tr>\n",
       "  </tbody>\n",
       "</table>\n",
       "<p>57507 rows × 173 columns</p>\n",
       "</div>"
      ],
      "text/plain": [
       "       price  mileage   mpg  engineSize  brand_bmw  brand_cclass  brand_focus  \\\n",
       "0      12500    15735  55.4         1.4          0             0            0   \n",
       "1      11000    29946  55.4         1.4          0             0            0   \n",
       "2      17300     1998  49.6         1.0          0             0            0   \n",
       "3      13900    32260  58.9         1.4          0             0            0   \n",
       "4      13250    76788  61.4         2.0          0             0            0   \n",
       "...      ...      ...   ...         ...        ...           ...          ...   \n",
       "57502   4995    65000  48.0         2.0          0             0            0   \n",
       "57503  12495    41850  58.9         2.0          0             0            0   \n",
       "57504   8950    58000  58.9         2.0          0             0            0   \n",
       "57505   2995    92640  48.0         2.0          0             0            0   \n",
       "57506   5990    74000  58.9         2.0          0             0            0   \n",
       "\n",
       "       brand_ford  brand_hyundi  brand_merc  ...  year_2017  year_2018  \\\n",
       "0               0             0           0  ...          1          0   \n",
       "1               0             0           0  ...          0          0   \n",
       "2               0             0           0  ...          0          0   \n",
       "3               0             0           0  ...          0          0   \n",
       "4               0             0           0  ...          0          0   \n",
       "...           ...           ...         ...  ...        ...        ...   \n",
       "57502           0             0           0  ...          0          0   \n",
       "57503           0             0           0  ...          0          0   \n",
       "57504           0             0           0  ...          0          0   \n",
       "57505           0             0           0  ...          0          0   \n",
       "57506           0             0           0  ...          0          0   \n",
       "\n",
       "       year_2019  year_2020  transmission_Manual  transmission_Other  \\\n",
       "0              0          0                    1                   0   \n",
       "1              0          0                    1                   0   \n",
       "2              1          0                    1                   0   \n",
       "3              0          0                    0                   0   \n",
       "4              0          0                    0                   0   \n",
       "...          ...        ...                  ...                 ...   \n",
       "57502          0          0                    1                   0   \n",
       "57503          0          0                    1                   0   \n",
       "57504          0          0                    1                   0   \n",
       "57505          0          0                    1                   0   \n",
       "57506          0          0                    1                   0   \n",
       "\n",
       "       transmission_Semi-Auto  fuelType_Hybrid  fuelType_Other  \\\n",
       "0                           0                0               0   \n",
       "1                           0                0               0   \n",
       "2                           0                0               0   \n",
       "3                           0                0               0   \n",
       "4                           0                0               0   \n",
       "...                       ...              ...             ...   \n",
       "57502                       0                0               0   \n",
       "57503                       0                0               0   \n",
       "57504                       0                0               0   \n",
       "57505                       0                0               0   \n",
       "57506                       0                0               0   \n",
       "\n",
       "       fuelType_Petrol  \n",
       "0                    1  \n",
       "1                    1  \n",
       "2                    1  \n",
       "3                    1  \n",
       "4                    0  \n",
       "...                ...  \n",
       "57502                0  \n",
       "57503                0  \n",
       "57504                0  \n",
       "57505                0  \n",
       "57506                0  \n",
       "\n",
       "[57507 rows x 173 columns]"
      ]
     },
     "execution_count": 23,
     "metadata": {},
     "output_type": "execute_result"
    }
   ],
   "source": [
    "# 원핫인코딩 진행( 모델까지 원핫인코딩 진행해서 잘못된 것임)\n",
    "car = pd.get_dummies(car, prefix_sep='_', drop_first=True)\n",
    "car"
   ]
  },
  {
   "cell_type": "code",
   "execution_count": null,
   "id": "db10cf6b",
   "metadata": {},
   "outputs": [],
   "source": []
  }
 ],
 "metadata": {
  "kernelspec": {
   "display_name": "Python 3 (ipykernel)",
   "language": "python",
   "name": "python3"
  },
  "language_info": {
   "codemirror_mode": {
    "name": "ipython",
    "version": 3
   },
   "file_extension": ".py",
   "mimetype": "text/x-python",
   "name": "python",
   "nbconvert_exporter": "python",
   "pygments_lexer": "ipython3",
   "version": "3.9.7"
  }
 },
 "nbformat": 4,
 "nbformat_minor": 5
}
