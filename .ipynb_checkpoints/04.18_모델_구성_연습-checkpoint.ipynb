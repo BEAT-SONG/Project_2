{
 "cells": [
  {
   "cell_type": "markdown",
   "id": "c14d84c8",
   "metadata": {},
   "source": [
    "- 층은 하나 이상의 텐서를 입력으로 받아 하나 이상의 텐서를 출력하는 데이터 처리 모듈입니다.\n"
   ]
  },
  {
   "cell_type": "code",
   "execution_count": 2,
   "id": "9dc90973",
   "metadata": {},
   "outputs": [],
   "source": [
    "from keras import layers\n",
    "\n",
    "layer = layers.Dense(32, input_shape=(784,))  \n",
    "# 32개의 유닛으로 된 밀집 층\n",
    "# 첫 번째 차원이 784인 2D 텐서만 입력으로 받는 층\n",
    "# 이 층은 첫 번째 차원 크기가 32로 변환된 텐서를 출력할 것이다. "
   ]
  },
  {
   "cell_type": "markdown",
   "id": "da71e9ae",
   "metadata": {},
   "source": [
    "- 케라스에서는 모델에 추가된 층을 자동으로 상위 층의 크기에 맞추어 주기 때문에 호환성을 걱정하지 않아도 됩니다."
   ]
  },
  {
   "cell_type": "code",
   "execution_count": 3,
   "id": "0f24fe6d",
   "metadata": {},
   "outputs": [],
   "source": [
    "from keras import models\n",
    "from keras import layers\n",
    "\n",
    "model = models.Sequential()\n",
    "model.add(layers.Dense(32, input_shape=(784,)))\n",
    "model.add(layers.Dense(10))\n",
    "# 두 번째 층에는 input_shape 매개변수를 지정하지 않았습니다. \n",
    "# 그 대신 앞선 층의 출력 크기를 입력 크기로 자동으로 채택합니다."
   ]
  },
  {
   "cell_type": "markdown",
   "id": "0e4d84c4",
   "metadata": {},
   "source": [
    "- 케라스는 거의 모든 종류의 딥러닝 모델을 간편하게 만들고 훈련시킬 수 있는 파이썬을 위한 딥러닝 프레임워크입니다.\n",
    "\n",
    "- 케라스의 특징은 다음과 같습니다.\n",
    "\n",
    "- 동일한 코드로 CPU와 GPU에서 실행할 수 있습니다.\n",
    "- 사용하기 쉬운 API를 가지고 있어 딥러닝 모델의 프로토타입을 빠르게 만들 수 있습니다.\n",
    "- (컴퓨터 비전을 위한) 합성곱 신경망, (시퀀스 처리를 위한) 순환 신경망을 지원하며 이 둘을 자유롭게 조합하여 사용할 수 있습니다.\n",
    "- 다중 입력이나 다중 출력 모델, 층의 공유, 모델 공유 등 어떤 네트워크 구조도 만들 수 있습니다. 이 말은 적대적 생성 신경망Generative Adversarial Network, GAN부터 뉴럴 튜링 머신Neural Turing Machine까지 케라스는 기본적으로 어떤 딥러닝 모델에도 적합하다는 뜻입니다."
   ]
  },
  {
   "cell_type": "markdown",
   "id": "af21e34b",
   "metadata": {},
   "source": [
    "- Sequential 클래스를 사용하여 정의한 2개의 층으로 된 모델을 다시 보겠습니다(첫 번째 층에 입력 데이터의 크기가 전달된 점을 주목하세요)."
   ]
  },
  {
   "cell_type": "code",
   "execution_count": 1,
   "id": "4b638f52",
   "metadata": {},
   "outputs": [],
   "source": [
    "from keras import models\n",
    "from keras import layers\n",
    "\n",
    "model = models.Sequential()\n",
    "model.add(layers.Dense(32, activation='relu', input_shape=(784,)))\n",
    "# activation : 활성화 함수\n",
    "# input_shape : 입력 데이터의 크기\n",
    "model.add(layers.Dense(10, activation='softmax'))"
   ]
  },
  {
   "cell_type": "markdown",
   "id": "74f41428",
   "metadata": {},
   "source": [
    "- 같은 모델을 함수형 API를 사용하여 만들어 보겠습니다."
   ]
  },
  {
   "cell_type": "code",
   "execution_count": 5,
   "id": "da3a9874",
   "metadata": {},
   "outputs": [],
   "source": [
    "input_tensor = layers.Input(shape=(784,))\n",
    "x = layers.Dense(32, activation='relu')(input_tensor)\n",
    "output_tensor = layers.Dense(10, activation='softmax')(x)\n",
    "\n",
    "model = models.Model(inputs=input_tensor, outputs=output_tensor)"
   ]
  },
  {
   "cell_type": "markdown",
   "id": "bab7a782",
   "metadata": {},
   "source": [
    "- 함수형 API를 사용하면 모델이 처리할 데이터 텐서를 만들고 마치 함수처럼 이 텐서에 층을 적용합니다."
   ]
  },
  {
   "cell_type": "code",
   "execution_count": 45,
   "id": "148d5698",
   "metadata": {},
   "outputs": [
    {
     "name": "stdout",
     "output_type": "stream",
     "text": [
      "Requirement already satisfied: tensorflow in c:\\users\\admin\\anaconda3\\lib\\site-packages (2.8.0)\n",
      "Requirement already satisfied: gast>=0.2.1 in c:\\users\\admin\\anaconda3\\lib\\site-packages (from tensorflow) (0.5.3)\n",
      "Requirement already satisfied: wrapt>=1.11.0 in c:\\users\\admin\\anaconda3\\lib\\site-packages (from tensorflow) (1.12.1)\n",
      "Requirement already satisfied: termcolor>=1.1.0 in c:\\users\\admin\\anaconda3\\lib\\site-packages (from tensorflow) (1.1.0)\n",
      "Requirement already satisfied: six>=1.12.0 in c:\\users\\admin\\anaconda3\\lib\\site-packages (from tensorflow) (1.16.0)\n",
      "Requirement already satisfied: typing-extensions>=3.6.6 in c:\\users\\admin\\anaconda3\\lib\\site-packages (from tensorflow) (3.10.0.2)\n",
      "Requirement already satisfied: google-pasta>=0.1.1 in c:\\users\\admin\\anaconda3\\lib\\site-packages (from tensorflow) (0.2.0)\n",
      "Requirement already satisfied: flatbuffers>=1.12 in c:\\users\\admin\\anaconda3\\lib\\site-packages (from tensorflow) (2.0)\n",
      "Requirement already satisfied: protobuf>=3.9.2 in c:\\users\\admin\\anaconda3\\lib\\site-packages (from tensorflow) (3.20.0)\n",
      "Requirement already satisfied: astunparse>=1.6.0 in c:\\users\\admin\\anaconda3\\lib\\site-packages (from tensorflow) (1.6.3)\n",
      "Requirement already satisfied: setuptools in c:\\users\\admin\\anaconda3\\lib\\site-packages (from tensorflow) (58.0.4)\n",
      "Requirement already satisfied: opt-einsum>=2.3.2 in c:\\users\\admin\\anaconda3\\lib\\site-packages (from tensorflow) (3.3.0)\n",
      "Requirement already satisfied: grpcio<2.0,>=1.24.3 in c:\\users\\admin\\anaconda3\\lib\\site-packages (from tensorflow) (1.44.0)\n",
      "Requirement already satisfied: keras<2.9,>=2.8.0rc0 in c:\\users\\admin\\anaconda3\\lib\\site-packages (from tensorflow) (2.8.0)\n",
      "Requirement already satisfied: tensorflow-io-gcs-filesystem>=0.23.1 in c:\\users\\admin\\anaconda3\\lib\\site-packages (from tensorflow) (0.24.0)\n",
      "Requirement already satisfied: keras-preprocessing>=1.1.1 in c:\\users\\admin\\anaconda3\\lib\\site-packages (from tensorflow) (1.1.2)\n",
      "Requirement already satisfied: numpy>=1.20 in c:\\users\\admin\\anaconda3\\lib\\site-packages (from tensorflow) (1.20.3)\n",
      "Requirement already satisfied: libclang>=9.0.1 in c:\\users\\admin\\anaconda3\\lib\\site-packages (from tensorflow) (13.0.0)\n",
      "Requirement already satisfied: absl-py>=0.4.0 in c:\\users\\admin\\anaconda3\\lib\\site-packages (from tensorflow) (1.0.0)\n",
      "Requirement already satisfied: tensorboard<2.9,>=2.8 in c:\\users\\admin\\anaconda3\\lib\\site-packages (from tensorflow) (2.8.0)\n",
      "Requirement already satisfied: tf-estimator-nightly==2.8.0.dev2021122109 in c:\\users\\admin\\anaconda3\\lib\\site-packages (from tensorflow) (2.8.0.dev2021122109)\n",
      "Requirement already satisfied: h5py>=2.9.0 in c:\\users\\admin\\anaconda3\\lib\\site-packages (from tensorflow) (3.2.1)\n",
      "Requirement already satisfied: wheel<1.0,>=0.23.0 in c:\\users\\admin\\anaconda3\\lib\\site-packages (from astunparse>=1.6.0->tensorflow) (0.37.0)\n",
      "Requirement already satisfied: tensorboard-plugin-wit>=1.6.0 in c:\\users\\admin\\anaconda3\\lib\\site-packages (from tensorboard<2.9,>=2.8->tensorflow) (1.8.1)\n",
      "Requirement already satisfied: werkzeug>=0.11.15 in c:\\users\\admin\\anaconda3\\lib\\site-packages (from tensorboard<2.9,>=2.8->tensorflow) (2.0.2)\n",
      "Requirement already satisfied: google-auth<3,>=1.6.3 in c:\\users\\admin\\anaconda3\\lib\\site-packages (from tensorboard<2.9,>=2.8->tensorflow) (2.6.4)\n",
      "Requirement already satisfied: tensorboard-data-server<0.7.0,>=0.6.0 in c:\\users\\admin\\anaconda3\\lib\\site-packages (from tensorboard<2.9,>=2.8->tensorflow) (0.6.1)\n",
      "Requirement already satisfied: google-auth-oauthlib<0.5,>=0.4.1 in c:\\users\\admin\\anaconda3\\lib\\site-packages (from tensorboard<2.9,>=2.8->tensorflow) (0.4.6)\n",
      "Requirement already satisfied: markdown>=2.6.8 in c:\\users\\admin\\anaconda3\\lib\\site-packages (from tensorboard<2.9,>=2.8->tensorflow) (3.3.6)\n",
      "Requirement already satisfied: requests<3,>=2.21.0 in c:\\users\\admin\\anaconda3\\lib\\site-packages (from tensorboard<2.9,>=2.8->tensorflow) (2.26.0)\n",
      "Requirement already satisfied: cachetools<6.0,>=2.0.0 in c:\\users\\admin\\anaconda3\\lib\\site-packages (from google-auth<3,>=1.6.3->tensorboard<2.9,>=2.8->tensorflow) (5.0.0)\n",
      "Requirement already satisfied: rsa<5,>=3.1.4 in c:\\users\\admin\\anaconda3\\lib\\site-packages (from google-auth<3,>=1.6.3->tensorboard<2.9,>=2.8->tensorflow) (4.8)\n",
      "Requirement already satisfied: pyasn1-modules>=0.2.1 in c:\\users\\admin\\anaconda3\\lib\\site-packages (from google-auth<3,>=1.6.3->tensorboard<2.9,>=2.8->tensorflow) (0.2.8)\n",
      "Requirement already satisfied: requests-oauthlib>=0.7.0 in c:\\users\\admin\\anaconda3\\lib\\site-packages (from google-auth-oauthlib<0.5,>=0.4.1->tensorboard<2.9,>=2.8->tensorflow) (1.3.1)\n",
      "Requirement already satisfied: importlib-metadata>=4.4 in c:\\users\\admin\\anaconda3\\lib\\site-packages (from markdown>=2.6.8->tensorboard<2.9,>=2.8->tensorflow) (4.8.1)\n",
      "Requirement already satisfied: zipp>=0.5 in c:\\users\\admin\\anaconda3\\lib\\site-packages (from importlib-metadata>=4.4->markdown>=2.6.8->tensorboard<2.9,>=2.8->tensorflow) (3.6.0)\n",
      "Requirement already satisfied: pyasn1<0.5.0,>=0.4.6 in c:\\users\\admin\\anaconda3\\lib\\site-packages (from pyasn1-modules>=0.2.1->google-auth<3,>=1.6.3->tensorboard<2.9,>=2.8->tensorflow) (0.4.8)\n",
      "Requirement already satisfied: urllib3<1.27,>=1.21.1 in c:\\users\\admin\\anaconda3\\lib\\site-packages (from requests<3,>=2.21.0->tensorboard<2.9,>=2.8->tensorflow) (1.26.7)\n",
      "Requirement already satisfied: idna<4,>=2.5 in c:\\users\\admin\\anaconda3\\lib\\site-packages (from requests<3,>=2.21.0->tensorboard<2.9,>=2.8->tensorflow) (3.2)\n",
      "Requirement already satisfied: certifi>=2017.4.17 in c:\\users\\admin\\anaconda3\\lib\\site-packages (from requests<3,>=2.21.0->tensorboard<2.9,>=2.8->tensorflow) (2021.10.8)\n",
      "Requirement already satisfied: charset-normalizer~=2.0.0 in c:\\users\\admin\\anaconda3\\lib\\site-packages (from requests<3,>=2.21.0->tensorboard<2.9,>=2.8->tensorflow) (2.0.4)\n",
      "Requirement already satisfied: oauthlib>=3.0.0 in c:\\users\\admin\\anaconda3\\lib\\site-packages (from requests-oauthlib>=0.7.0->google-auth-oauthlib<0.5,>=0.4.1->tensorboard<2.9,>=2.8->tensorflow) (3.2.0)\n"
     ]
    }
   ],
   "source": [
    "# AttributeError: module 'keras.optimizers' has no attribute 'RMSprop'\n",
    "!pip install tensorflow"
   ]
  },
  {
   "cell_type": "code",
   "execution_count": 2,
   "id": "878be3b0",
   "metadata": {},
   "outputs": [
    {
     "name": "stdout",
     "output_type": "stream",
     "text": [
      "2.7.0\n"
     ]
    }
   ],
   "source": [
    "import tensorflow as tf\n",
    "\n",
    "print(tf.__version__)"
   ]
  },
  {
   "cell_type": "code",
   "execution_count": 77,
   "id": "67eb7333",
   "metadata": {},
   "outputs": [
    {
     "name": "stdout",
     "output_type": "stream",
     "text": [
      "Collecting tensorflow==2.7.0\n",
      "  Downloading tensorflow-2.7.0-cp39-cp39-win_amd64.whl (430.8 MB)\n",
      "Requirement already satisfied: opt-einsum>=2.3.2 in c:\\users\\admin\\anaconda3\\lib\\site-packages (from tensorflow==2.7.0) (3.3.0)\n",
      "Requirement already satisfied: tensorflow-io-gcs-filesystem>=0.21.0 in c:\\users\\admin\\anaconda3\\lib\\site-packages (from tensorflow==2.7.0) (0.24.0)\n",
      "Requirement already satisfied: six>=1.12.0 in c:\\users\\admin\\anaconda3\\lib\\site-packages (from tensorflow==2.7.0) (1.16.0)\n",
      "Requirement already satisfied: wheel<1.0,>=0.32.0 in c:\\users\\admin\\anaconda3\\lib\\site-packages (from tensorflow==2.7.0) (0.37.0)\n",
      "Requirement already satisfied: h5py>=2.9.0 in c:\\users\\admin\\anaconda3\\lib\\site-packages (from tensorflow==2.7.0) (3.2.1)\n",
      "Requirement already satisfied: protobuf>=3.9.2 in c:\\users\\admin\\anaconda3\\lib\\site-packages (from tensorflow==2.7.0) (3.20.0)\n",
      "Requirement already satisfied: flatbuffers<3.0,>=1.12 in c:\\users\\admin\\anaconda3\\lib\\site-packages (from tensorflow==2.7.0) (2.0)\n",
      "Requirement already satisfied: grpcio<2.0,>=1.24.3 in c:\\users\\admin\\anaconda3\\lib\\site-packages (from tensorflow==2.7.0) (1.44.0)\n",
      "Requirement already satisfied: numpy>=1.14.5 in c:\\users\\admin\\anaconda3\\lib\\site-packages (from tensorflow==2.7.0) (1.20.3)\n",
      "Collecting keras<2.8,>=2.7.0rc0\n",
      "  Downloading keras-2.7.0-py2.py3-none-any.whl (1.3 MB)\n",
      "Requirement already satisfied: keras-preprocessing>=1.1.1 in c:\\users\\admin\\anaconda3\\lib\\site-packages (from tensorflow==2.7.0) (1.1.2)\n",
      "Collecting gast<0.5.0,>=0.2.1\n",
      "  Downloading gast-0.4.0-py3-none-any.whl (9.8 kB)\n",
      "Collecting tensorflow-estimator<2.8,~=2.7.0rc0\n",
      "  Downloading tensorflow_estimator-2.7.0-py2.py3-none-any.whl (463 kB)\n",
      "Requirement already satisfied: google-pasta>=0.1.1 in c:\\users\\admin\\anaconda3\\lib\\site-packages (from tensorflow==2.7.0) (0.2.0)\n",
      "Requirement already satisfied: typing-extensions>=3.6.6 in c:\\users\\admin\\anaconda3\\lib\\site-packages (from tensorflow==2.7.0) (3.10.0.2)\n",
      "Requirement already satisfied: libclang>=9.0.1 in c:\\users\\admin\\anaconda3\\lib\\site-packages (from tensorflow==2.7.0) (13.0.0)\n",
      "Requirement already satisfied: astunparse>=1.6.0 in c:\\users\\admin\\anaconda3\\lib\\site-packages (from tensorflow==2.7.0) (1.6.3)\n",
      "Requirement already satisfied: termcolor>=1.1.0 in c:\\users\\admin\\anaconda3\\lib\\site-packages (from tensorflow==2.7.0) (1.1.0)\n",
      "Requirement already satisfied: absl-py>=0.4.0 in c:\\users\\admin\\anaconda3\\lib\\site-packages (from tensorflow==2.7.0) (1.0.0)\n",
      "Requirement already satisfied: tensorboard~=2.6 in c:\\users\\admin\\anaconda3\\lib\\site-packages (from tensorflow==2.7.0) (2.8.0)\n",
      "Requirement already satisfied: wrapt>=1.11.0 in c:\\users\\admin\\anaconda3\\lib\\site-packages (from tensorflow==2.7.0) (1.12.1)\n",
      "Requirement already satisfied: tensorboard-plugin-wit>=1.6.0 in c:\\users\\admin\\anaconda3\\lib\\site-packages (from tensorboard~=2.6->tensorflow==2.7.0) (1.8.1)\n",
      "Requirement already satisfied: setuptools>=41.0.0 in c:\\users\\admin\\anaconda3\\lib\\site-packages (from tensorboard~=2.6->tensorflow==2.7.0) (58.0.4)\n",
      "Requirement already satisfied: google-auth<3,>=1.6.3 in c:\\users\\admin\\anaconda3\\lib\\site-packages (from tensorboard~=2.6->tensorflow==2.7.0) (2.6.4)\n",
      "Requirement already satisfied: requests<3,>=2.21.0 in c:\\users\\admin\\anaconda3\\lib\\site-packages (from tensorboard~=2.6->tensorflow==2.7.0) (2.26.0)\n",
      "Requirement already satisfied: werkzeug>=0.11.15 in c:\\users\\admin\\anaconda3\\lib\\site-packages (from tensorboard~=2.6->tensorflow==2.7.0) (2.0.2)\n",
      "Requirement already satisfied: markdown>=2.6.8 in c:\\users\\admin\\anaconda3\\lib\\site-packages (from tensorboard~=2.6->tensorflow==2.7.0) (3.3.6)\n",
      "Requirement already satisfied: google-auth-oauthlib<0.5,>=0.4.1 in c:\\users\\admin\\anaconda3\\lib\\site-packages (from tensorboard~=2.6->tensorflow==2.7.0) (0.4.6)\n",
      "Requirement already satisfied: tensorboard-data-server<0.7.0,>=0.6.0 in c:\\users\\admin\\anaconda3\\lib\\site-packages (from tensorboard~=2.6->tensorflow==2.7.0) (0.6.1)\n",
      "Requirement already satisfied: cachetools<6.0,>=2.0.0 in c:\\users\\admin\\anaconda3\\lib\\site-packages (from google-auth<3,>=1.6.3->tensorboard~=2.6->tensorflow==2.7.0) (5.0.0)\n",
      "Requirement already satisfied: pyasn1-modules>=0.2.1 in c:\\users\\admin\\anaconda3\\lib\\site-packages (from google-auth<3,>=1.6.3->tensorboard~=2.6->tensorflow==2.7.0) (0.2.8)\n",
      "Requirement already satisfied: rsa<5,>=3.1.4 in c:\\users\\admin\\anaconda3\\lib\\site-packages (from google-auth<3,>=1.6.3->tensorboard~=2.6->tensorflow==2.7.0) (4.8)\n",
      "Requirement already satisfied: requests-oauthlib>=0.7.0 in c:\\users\\admin\\anaconda3\\lib\\site-packages (from google-auth-oauthlib<0.5,>=0.4.1->tensorboard~=2.6->tensorflow==2.7.0) (1.3.1)\n",
      "Requirement already satisfied: importlib-metadata>=4.4 in c:\\users\\admin\\anaconda3\\lib\\site-packages (from markdown>=2.6.8->tensorboard~=2.6->tensorflow==2.7.0) (4.8.1)\n",
      "Requirement already satisfied: zipp>=0.5 in c:\\users\\admin\\anaconda3\\lib\\site-packages (from importlib-metadata>=4.4->markdown>=2.6.8->tensorboard~=2.6->tensorflow==2.7.0) (3.6.0)\n",
      "Requirement already satisfied: pyasn1<0.5.0,>=0.4.6 in c:\\users\\admin\\anaconda3\\lib\\site-packages (from pyasn1-modules>=0.2.1->google-auth<3,>=1.6.3->tensorboard~=2.6->tensorflow==2.7.0) (0.4.8)\n",
      "Requirement already satisfied: charset-normalizer~=2.0.0 in c:\\users\\admin\\anaconda3\\lib\\site-packages (from requests<3,>=2.21.0->tensorboard~=2.6->tensorflow==2.7.0) (2.0.4)\n",
      "Requirement already satisfied: certifi>=2017.4.17 in c:\\users\\admin\\anaconda3\\lib\\site-packages (from requests<3,>=2.21.0->tensorboard~=2.6->tensorflow==2.7.0) (2021.10.8)\n",
      "Requirement already satisfied: urllib3<1.27,>=1.21.1 in c:\\users\\admin\\anaconda3\\lib\\site-packages (from requests<3,>=2.21.0->tensorboard~=2.6->tensorflow==2.7.0) (1.26.7)\n",
      "Requirement already satisfied: idna<4,>=2.5 in c:\\users\\admin\\anaconda3\\lib\\site-packages (from requests<3,>=2.21.0->tensorboard~=2.6->tensorflow==2.7.0) (3.2)\n",
      "Requirement already satisfied: oauthlib>=3.0.0 in c:\\users\\admin\\anaconda3\\lib\\site-packages (from requests-oauthlib>=0.7.0->google-auth-oauthlib<0.5,>=0.4.1->tensorboard~=2.6->tensorflow==2.7.0) (3.2.0)\n",
      "Installing collected packages: tensorflow-estimator, keras, gast, tensorflow\n",
      "  Attempting uninstall: keras\n",
      "    Found existing installation: keras 2.8.0\n",
      "    Uninstalling keras-2.8.0:\n",
      "      Successfully uninstalled keras-2.8.0\n",
      "  Attempting uninstall: gast\n",
      "    Found existing installation: gast 0.5.3\n",
      "    Uninstalling gast-0.5.3:\n",
      "      Successfully uninstalled gast-0.5.3\n",
      "  Attempting uninstall: tensorflow\n",
      "    Found existing installation: tensorflow 2.8.0\n",
      "    Uninstalling tensorflow-2.8.0:\n",
      "      Successfully uninstalled tensorflow-2.8.0\n"
     ]
    },
    {
     "name": "stderr",
     "output_type": "stream",
     "text": [
      "ERROR: Could not install packages due to an OSError: [WinError 5] 액세스가 거부되었습니다: 'C:\\\\Users\\\\admin\\\\anaconda3\\\\Lib\\\\site-packages\\\\~ensorflow\\\\lite\\\\experimental\\\\microfrontend\\\\python\\\\ops\\\\_audio_microfrontend_op.so'\n",
      "Consider using the `--user` option or check the permissions.\n",
      "\n"
     ]
    }
   ],
   "source": [
    "!pip install --upgrade tensorflow==2.7.0"
   ]
  },
  {
   "cell_type": "code",
   "execution_count": null,
   "id": "dd36410c",
   "metadata": {},
   "outputs": [],
   "source": [
    "tensorflow.__version__"
   ]
  },
  {
   "cell_type": "code",
   "execution_count": 57,
   "id": "8328249c",
   "metadata": {},
   "outputs": [],
   "source": [
    "import keras"
   ]
  },
  {
   "cell_type": "code",
   "execution_count": 80,
   "id": "f536e55e",
   "metadata": {},
   "outputs": [
    {
     "name": "stdout",
     "output_type": "stream",
     "text": [
      "2.8.0\n"
     ]
    }
   ],
   "source": [
    "print(keras.__version__)"
   ]
  },
  {
   "cell_type": "code",
   "execution_count": 58,
   "id": "27e610bb",
   "metadata": {},
   "outputs": [],
   "source": [
    "# keras가 tensorflow 안에 있는 것 같다..?\n",
    "from tensorflow.keras import optimizers\n",
    "\n",
    "model.compile(optimizer=optimizers.RMSprop(lr=0.001),\n",
    "              loss='mse',\n",
    "              metrics=['accuracy'])"
   ]
  },
  {
   "cell_type": "code",
   "execution_count": 11,
   "id": "67688d96",
   "metadata": {},
   "outputs": [],
   "source": [
    "# 학습 과정\n",
    "# model.fit(input_tensor, target_tensor, batch_size=128, epochs=10)"
   ]
  },
  {
   "cell_type": "markdown",
   "id": "9da83db2",
   "metadata": {},
   "source": [
    "### 3.6.1 보스턴 주택 가격 데이터셋"
   ]
  },
  {
   "cell_type": "code",
   "execution_count": 3,
   "id": "8379f457",
   "metadata": {},
   "outputs": [],
   "source": [
    "from keras.datasets import boston_housing"
   ]
  },
  {
   "cell_type": "code",
   "execution_count": 4,
   "id": "3bd34175",
   "metadata": {},
   "outputs": [],
   "source": [
    "(train_data, train_targets), (test_data, test_targets) = boston_housing.load_data()"
   ]
  },
  {
   "cell_type": "code",
   "execution_count": 5,
   "id": "c1019c37",
   "metadata": {},
   "outputs": [
    {
     "data": {
      "text/plain": [
       "(404, 13)"
      ]
     },
     "execution_count": 5,
     "metadata": {},
     "output_type": "execute_result"
    }
   ],
   "source": [
    "train_data.shape"
   ]
  },
  {
   "cell_type": "code",
   "execution_count": 6,
   "id": "7599292f",
   "metadata": {},
   "outputs": [
    {
     "data": {
      "text/plain": [
       "(102, 13)"
      ]
     },
     "execution_count": 6,
     "metadata": {},
     "output_type": "execute_result"
    }
   ],
   "source": [
    "test_data.shape"
   ]
  },
  {
   "cell_type": "code",
   "execution_count": 7,
   "id": "637b0202",
   "metadata": {},
   "outputs": [
    {
     "data": {
      "text/plain": [
       "<module 'keras.datasets.boston_housing' from 'C:\\\\Users\\\\admin\\\\anaconda3\\\\lib\\\\site-packages\\\\keras\\\\datasets\\\\boston_housing.py'>"
      ]
     },
     "execution_count": 7,
     "metadata": {},
     "output_type": "execute_result"
    }
   ],
   "source": [
    "boston_housing"
   ]
  },
  {
   "cell_type": "code",
   "execution_count": 8,
   "id": "9b5e37cb",
   "metadata": {},
   "outputs": [
    {
     "data": {
      "text/plain": [
       "array([[1.23247e+00, 0.00000e+00, 8.14000e+00, ..., 2.10000e+01,\n",
       "        3.96900e+02, 1.87200e+01],\n",
       "       [2.17700e-02, 8.25000e+01, 2.03000e+00, ..., 1.47000e+01,\n",
       "        3.95380e+02, 3.11000e+00],\n",
       "       [4.89822e+00, 0.00000e+00, 1.81000e+01, ..., 2.02000e+01,\n",
       "        3.75520e+02, 3.26000e+00],\n",
       "       ...,\n",
       "       [3.46600e-02, 3.50000e+01, 6.06000e+00, ..., 1.69000e+01,\n",
       "        3.62250e+02, 7.83000e+00],\n",
       "       [2.14918e+00, 0.00000e+00, 1.95800e+01, ..., 1.47000e+01,\n",
       "        2.61950e+02, 1.57900e+01],\n",
       "       [1.43900e-02, 6.00000e+01, 2.93000e+00, ..., 1.56000e+01,\n",
       "        3.76700e+02, 4.38000e+00]])"
      ]
     },
     "execution_count": 8,
     "metadata": {},
     "output_type": "execute_result"
    }
   ],
   "source": [
    "train_data"
   ]
  },
  {
   "cell_type": "code",
   "execution_count": 9,
   "id": "7c8f015a",
   "metadata": {},
   "outputs": [
    {
     "data": {
      "text/plain": [
       "array([15.2, 42.3, 50. , 21.1, 17.7, 18.5, 11.3, 15.6, 15.6, 14.4, 12.1,\n",
       "       17.9, 23.1, 19.9, 15.7,  8.8, 50. , 22.5, 24.1, 27.5, 10.9, 30.8,\n",
       "       32.9, 24. , 18.5, 13.3, 22.9, 34.7, 16.6, 17.5, 22.3, 16.1, 14.9,\n",
       "       23.1, 34.9, 25. , 13.9, 13.1, 20.4, 20. , 15.2, 24.7, 22.2, 16.7,\n",
       "       12.7, 15.6, 18.4, 21. , 30.1, 15.1, 18.7,  9.6, 31.5, 24.8, 19.1,\n",
       "       22. , 14.5, 11. , 32. , 29.4, 20.3, 24.4, 14.6, 19.5, 14.1, 14.3,\n",
       "       15.6, 10.5,  6.3, 19.3, 19.3, 13.4, 36.4, 17.8, 13.5, 16.5,  8.3,\n",
       "       14.3, 16. , 13.4, 28.6, 43.5, 20.2, 22. , 23. , 20.7, 12.5, 48.5,\n",
       "       14.6, 13.4, 23.7, 50. , 21.7, 39.8, 38.7, 22.2, 34.9, 22.5, 31.1,\n",
       "       28.7, 46. , 41.7, 21. , 26.6, 15. , 24.4, 13.3, 21.2, 11.7, 21.7,\n",
       "       19.4, 50. , 22.8, 19.7, 24.7, 36.2, 14.2, 18.9, 18.3, 20.6, 24.6,\n",
       "       18.2,  8.7, 44. , 10.4, 13.2, 21.2, 37. , 30.7, 22.9, 20. , 19.3,\n",
       "       31.7, 32. , 23.1, 18.8, 10.9, 50. , 19.6,  5. , 14.4, 19.8, 13.8,\n",
       "       19.6, 23.9, 24.5, 25. , 19.9, 17.2, 24.6, 13.5, 26.6, 21.4, 11.9,\n",
       "       22.6, 19.6,  8.5, 23.7, 23.1, 22.4, 20.5, 23.6, 18.4, 35.2, 23.1,\n",
       "       27.9, 20.6, 23.7, 28. , 13.6, 27.1, 23.6, 20.6, 18.2, 21.7, 17.1,\n",
       "        8.4, 25.3, 13.8, 22.2, 18.4, 20.7, 31.6, 30.5, 20.3,  8.8, 19.2,\n",
       "       19.4, 23.1, 23. , 14.8, 48.8, 22.6, 33.4, 21.1, 13.6, 32.2, 13.1,\n",
       "       23.4, 18.9, 23.9, 11.8, 23.3, 22.8, 19.6, 16.7, 13.4, 22.2, 20.4,\n",
       "       21.8, 26.4, 14.9, 24.1, 23.8, 12.3, 29.1, 21. , 19.5, 23.3, 23.8,\n",
       "       17.8, 11.5, 21.7, 19.9, 25. , 33.4, 28.5, 21.4, 24.3, 27.5, 33.1,\n",
       "       16.2, 23.3, 48.3, 22.9, 22.8, 13.1, 12.7, 22.6, 15. , 15.3, 10.5,\n",
       "       24. , 18.5, 21.7, 19.5, 33.2, 23.2,  5. , 19.1, 12.7, 22.3, 10.2,\n",
       "       13.9, 16.3, 17. , 20.1, 29.9, 17.2, 37.3, 45.4, 17.8, 23.2, 29. ,\n",
       "       22. , 18. , 17.4, 34.6, 20.1, 25. , 15.6, 24.8, 28.2, 21.2, 21.4,\n",
       "       23.8, 31. , 26.2, 17.4, 37.9, 17.5, 20. ,  8.3, 23.9,  8.4, 13.8,\n",
       "        7.2, 11.7, 17.1, 21.6, 50. , 16.1, 20.4, 20.6, 21.4, 20.6, 36.5,\n",
       "        8.5, 24.8, 10.8, 21.9, 17.3, 18.9, 36.2, 14.9, 18.2, 33.3, 21.8,\n",
       "       19.7, 31.6, 24.8, 19.4, 22.8,  7.5, 44.8, 16.8, 18.7, 50. , 50. ,\n",
       "       19.5, 20.1, 50. , 17.2, 20.8, 19.3, 41.3, 20.4, 20.5, 13.8, 16.5,\n",
       "       23.9, 20.6, 31.5, 23.3, 16.8, 14. , 33.8, 36.1, 12.8, 18.3, 18.7,\n",
       "       19.1, 29. , 30.1, 50. , 50. , 22. , 11.9, 37.6, 50. , 22.7, 20.8,\n",
       "       23.5, 27.9, 50. , 19.3, 23.9, 22.6, 15.2, 21.7, 19.2, 43.8, 20.3,\n",
       "       33.2, 19.9, 22.5, 32.7, 22. , 17.1, 19. , 15. , 16.1, 25.1, 23.7,\n",
       "       28.7, 37.2, 22.6, 16.4, 25. , 29.8, 22.1, 17.4, 18.1, 30.3, 17.5,\n",
       "       24.7, 12.6, 26.5, 28.7, 13.3, 10.4, 24.4, 23. , 20. , 17.8,  7. ,\n",
       "       11.8, 24.4, 13.8, 19.4, 25.2, 19.4, 19.4, 29.1])"
      ]
     },
     "execution_count": 9,
     "metadata": {},
     "output_type": "execute_result"
    }
   ],
   "source": [
    "train_targets"
   ]
  },
  {
   "cell_type": "markdown",
   "id": "b390e1da",
   "metadata": {},
   "source": [
    "### 3.6.2 데이터 준비"
   ]
  },
  {
   "cell_type": "code",
   "execution_count": 10,
   "id": "fa43c123",
   "metadata": {},
   "outputs": [],
   "source": [
    "mean = train_data.mean(axis = 0)"
   ]
  },
  {
   "cell_type": "code",
   "execution_count": 11,
   "id": "fbb67932",
   "metadata": {},
   "outputs": [],
   "source": [
    "# -= : 왼쪽 변수에 오른쪽 값을 빼고 그 결과를 왼쪽 변수에 할당한다.\n",
    "# train_data = train_data - mean\n",
    "train_data -= mean"
   ]
  },
  {
   "cell_type": "code",
   "execution_count": 12,
   "id": "569bcf4e",
   "metadata": {},
   "outputs": [],
   "source": [
    "std = train_data.std(axis=0)"
   ]
  },
  {
   "cell_type": "code",
   "execution_count": 13,
   "id": "3deef085",
   "metadata": {},
   "outputs": [],
   "source": [
    "# /= : 왼쪽 변수에 오른쪽 값을 나누고 그 결과를 왼쪽 변수에 할당한다.\n",
    "# train_data = train_data / std\n",
    "train_data /= std"
   ]
  },
  {
   "cell_type": "markdown",
   "id": "121b9c59",
   "metadata": {},
   "source": [
    "### 3.6.3 모델 구성"
   ]
  },
  {
   "cell_type": "code",
   "execution_count": 14,
   "id": "898fc08e",
   "metadata": {},
   "outputs": [],
   "source": [
    "from keras import models\n",
    "from keras import layers"
   ]
  },
  {
   "cell_type": "code",
   "execution_count": 15,
   "id": "11cdaedf",
   "metadata": {},
   "outputs": [],
   "source": [
    "# 동일한 모델을 여러 번 생성할 것이므로 함수를 만들어 사용합니다.\n",
    "def build_model():\n",
    "    # Sequential : 모델로, 계층을 선형으로 쌓은 것\n",
    "    model = models.Sequential()\n",
    "    # 유닛의 개수 : 64개\n",
    "    # 64개의 유닛으로 된 밀집 층\n",
    "    # 활성함수 : relu\n",
    "    # 첫 번째 차원이 train_data.shape[1]인 2D 텐서만 입력으로 받는 층\n",
    "    # .add : 계층을 추가해주는 함수\n",
    "    # input_shape(784,) = input_dim=784\n",
    "    model.add(layers.Dense(64, activation='relu',\n",
    "                           input_shape=(train_data.shape[1],)))\n",
    "    \n",
    "    model.add(layers.Dense(64, activation='relu'))\n",
    "    \n",
    "    model.add(layers.Dense(1))\n",
    "    \n",
    "    # compile : 모델을 학습하기 전에 compile함수를 통해 학습 과정을 구성함\n",
    "    # optimizer : 최적화기 (rmsprop 또는 adagrad 등)\n",
    "    # loss : 손실함수. 모델이 최소화하려는 대상\n",
    "    # metrics : 분류(accuracy), 회귀(mae)\n",
    "    model.compile(optimizer='rmsprop', loss='mse', metrics=['mae'])\n",
    "    \n",
    "    return model"
   ]
  },
  {
   "cell_type": "code",
   "execution_count": 16,
   "id": "ff7be803",
   "metadata": {},
   "outputs": [
    {
     "data": {
      "text/plain": [
       "((404, 13), 404, 13)"
      ]
     },
     "execution_count": 16,
     "metadata": {},
     "output_type": "execute_result"
    }
   ],
   "source": [
    "train_data.shape, train_data.shape[0], train_data.shape[1]"
   ]
  },
  {
   "cell_type": "markdown",
   "id": "34fc8a0d",
   "metadata": {},
   "source": [
    "### 3.6.4 K-겹 검증을 사용한 훈련 검증"
   ]
  },
  {
   "cell_type": "code",
   "execution_count": 33,
   "id": "d8428370",
   "metadata": {},
   "outputs": [
    {
     "data": {
      "image/jpeg": "[encoded data removed]",
      "text/plain": [
       "<IPython.core.display.Image object>"
      ]
     },
     "execution_count": 33,
     "metadata": {},
     "output_type": "execute_result"
    }
   ],
   "source": [
    "from IPython.display import Image\n",
    "Image('./images/k.jpg')"
   ]
  },
  {
   "cell_type": "code",
   "execution_count": 17,
   "id": "22dd09f1",
   "metadata": {},
   "outputs": [
    {
     "name": "stdout",
     "output_type": "stream",
     "text": [
      "처리중인 폴드 # 0\n",
      "[9.08498477935791, 2.0663228034973145]\n",
      "처리중인 폴드 # 1\n",
      "[14.137523651123047, 2.663957118988037]\n",
      "처리중인 폴드 # 2\n",
      "[18.34499168395996, 2.9849941730499268]\n",
      "처리중인 폴드 # 3\n",
      "[13.091064453125, 2.5187888145446777]\n"
     ]
    }
   ],
   "source": [
    "import numpy as np\n",
    "\n",
    "k = 4 # 일반적으로 4 또는 5로 지정\n",
    "\n",
    "# // : 나누기 연산 후 소수점 이하의 수를 버리고, 정수 부분의 수만 구함\n",
    "# train_data의 개수를 k로 나눠 한 데이터당 개수를 지정\n",
    "num_val_samples = len(train_data) // k\n",
    "\n",
    "num_epochs = 100\n",
    "\n",
    "\n",
    "scores_accu = []\n",
    "scores_loss = []\n",
    "\n",
    "for i in range(k):\n",
    "    print('처리중인 폴드 #', i)\n",
    "    # 검증 데이터 준비: k번째 분할\n",
    "    val_data = train_data[i * num_val_samples: (i + 1) * num_val_samples]\n",
    "    val_targets = train_targets[i * num_val_samples: (i + 1) * num_val_samples]\n",
    "\n",
    "    # 훈련 데이터 준비: 다른 분할 전체\n",
    "    partial_train_data = np.concatenate(\n",
    "        [train_data[:i * num_val_samples],\n",
    "         train_data[(i + 1) * num_val_samples:]],\n",
    "        axis=0)\n",
    "    partial_train_targets = np.concatenate(\n",
    "        [train_targets[:i * num_val_samples],\n",
    "         train_targets[(i + 1) * num_val_samples:]],\n",
    "        axis=0)\n",
    "\n",
    "    # 케라스 모델 구성(컴파일 포함)\n",
    "    model = build_model()\n",
    "    # 모델 훈련(verbose=0 이므로 훈련 과정이 출력되지 않습니다)\n",
    "    # epochs : 한 번의 epoch는 인공 신경망에서 전체 데이터 셋에 대해 forward pass/backward pass 과정을 거친 것을 말함. 즉, 전체 데이터 셋에 대해 한 번 학습을 완료한 상태\n",
    "    # epochs = 40이라면 전체 데이터를 40번 사용해서 학습을 거치는 것입니다.\n",
    "    # 여기서는 epochs=num_epochs=100 이므로 전체 데이터를 100번 사용해 학습할 것이다.\n",
    "    # batch size : 한 번의 batch마다 주는 데이터 샘플의 size.\n",
    "    # verbose : 함수 수행시 발생하는 상세한 정보들을 표준 출력으로 자세히 내보낼 것인가를 나타냄\n",
    "    #           0은 출력하지 않음. 1은 자세히. 2는 함축적인 정보만 출력.\n",
    "    model.fit(partial_train_data, partial_train_targets,\n",
    "              epochs=num_epochs, batch_size=1, verbose=0)\n",
    "    \n",
    "    # 검증 세트로 모델 평가\n",
    "    score = model.evaluate(val_data, val_targets, verbose=0)\n",
    "    print(score)\n",
    "    scores_accu.append(score[1])\n",
    "    scores_loss.append(score[0])"
   ]
  },
  {
   "cell_type": "code",
   "execution_count": 18,
   "id": "19bcfc98",
   "metadata": {},
   "outputs": [
    {
     "data": {
      "text/plain": [
       "[13.091064453125, 2.5187888145446777]"
      ]
     },
     "execution_count": 18,
     "metadata": {},
     "output_type": "execute_result"
    }
   ],
   "source": [
    "score"
   ]
  },
  {
   "cell_type": "code",
   "execution_count": 19,
   "id": "824208d1",
   "metadata": {
    "scrolled": true
   },
   "outputs": [
    {
     "data": {
      "text/plain": [
       "[2.0663228034973145, 2.663957118988037, 2.9849941730499268, 2.5187888145446777]"
      ]
     },
     "execution_count": 19,
     "metadata": {},
     "output_type": "execute_result"
    }
   ],
   "source": [
    "scores_accu"
   ]
  },
  {
   "cell_type": "code",
   "execution_count": 20,
   "id": "2ce1c8a6",
   "metadata": {},
   "outputs": [
    {
     "data": {
      "text/plain": [
       "[9.08498477935791, 14.137523651123047, 18.34499168395996, 13.091064453125]"
      ]
     },
     "execution_count": 20,
     "metadata": {},
     "output_type": "execute_result"
    }
   ],
   "source": [
    "scores_loss"
   ]
  },
  {
   "cell_type": "code",
   "execution_count": 21,
   "id": "c8440ec5",
   "metadata": {},
   "outputs": [
    {
     "data": {
      "text/plain": [
       "2.558515727519989"
      ]
     },
     "execution_count": 21,
     "metadata": {},
     "output_type": "execute_result"
    }
   ],
   "source": [
    "np.mean(scores_accu)"
   ]
  },
  {
   "cell_type": "code",
   "execution_count": 22,
   "id": "71e2ecc3",
   "metadata": {},
   "outputs": [
    {
     "data": {
      "text/plain": [
       "13.66464114189148"
      ]
     },
     "execution_count": 22,
     "metadata": {},
     "output_type": "execute_result"
    }
   ],
   "source": [
    "np.mean(scores_loss)"
   ]
  },
  {
   "cell_type": "markdown",
   "id": "a9238866",
   "metadata": {},
   "source": [
    "- 답을 못 찾음.."
   ]
  },
  {
   "cell_type": "code",
   "execution_count": 31,
   "id": "c02494e7",
   "metadata": {},
   "outputs": [
    {
     "name": "stdout",
     "output_type": "stream",
     "text": [
      "처리중인 폴드 # 0\n",
      "처리중인 폴드 # 1\n",
      "처리중인 폴드 # 2\n",
      "처리중인 폴드 # 3\n"
     ]
    }
   ],
   "source": [
    "num_epochs = 100\n",
    "all_mae_histories = []\n",
    "for i in range(k):\n",
    "    print('처리중인 폴드 #', i)\n",
    "    val_data = train_data[i * num_val_samples: (i + 1) * num_val_samples]  #검증 데이터 준비: k번째 분할    val_targets = train_targets[i * num_val_samples: (i + 1) * num_val_samples]\n",
    "    partial_train_data = np.concatenate(  # 훈련 데이터 준비: 다른 분할 전체\n",
    "        [train_data[:i * num_val_samples],\n",
    "         train_data[(i + 1) * num_val_samples:]],\n",
    "        axis=0)\n",
    "    partial_train_targets = np.concatenate(\n",
    "        [train_targets[:i * num_val_samples],\n",
    "         train_targets[(i + 1) * num_val_samples:]],\n",
    "        axis=0)\n",
    "\n",
    "model = build_model()  # 케라스 모델 구성(컴파일 포함)\n",
    "history = model.fit(partial_train_data, partial_train_targets,  # 모델 훈련(verbose=0이므로 훈련 과정이 출력되지 않습니다.)\n",
    "                    validation_data=(val_data, val_targets),\n",
    "                    epochs=num_epochs, batch_size=1, verbose=0)\n",
    "mae_history = history.history.keys()\n",
    "all_mae_histories.append(mae_history)"
   ]
  },
  {
   "cell_type": "code",
   "execution_count": 25,
   "id": "c23e2947",
   "metadata": {},
   "outputs": [
    {
     "data": {
      "text/plain": [
       "[dict_keys(['loss', 'mae', 'val_loss', 'val_mae'])]"
      ]
     },
     "execution_count": 25,
     "metadata": {},
     "output_type": "execute_result"
    }
   ],
   "source": [
    "all_mae_histories"
   ]
  },
  {
   "cell_type": "code",
   "execution_count": 36,
   "id": "c7301d7b",
   "metadata": {},
   "outputs": [
    {
     "name": "stdout",
     "output_type": "stream",
     "text": [
      "처리중인 폴드 # 0\n",
      "처리중인 폴드 # 1\n",
      "처리중인 폴드 # 2\n",
      "처리중인 폴드 # 3\n"
     ]
    }
   ],
   "source": [
    "num_epochs = 500\n",
    "all_mae_histories = []\n",
    "for i in range(k):\n",
    "    print('처리중인 폴드 #', i)\n",
    "    val_data = train_data[i * num_val_samples: (i + 1) * num_val_samples]  #검증 데이터 준비: k번째 분할    val_targets = train_targets[i * num_val_samples: (i + 1) * num_val_samples]\n",
    "    partial_train_data = np.concatenate(  # 훈련 데이터 준비: 다른 분할 전체\n",
    "        [train_data[:i * num_val_samples],\n",
    "         train_data[(i + 1) * num_val_samples:]],\n",
    "        axis=0)\n",
    "    partial_train_targets = np.concatenate(\n",
    "        [train_targets[:i * num_val_samples],\n",
    "         train_targets[(i + 1) * num_val_samples:]],\n",
    "        axis=0)\n",
    "\n",
    "model = build_model()  # 케라스 모델 구성(컴파일 포함)\n",
    "history = model.fit(partial_train_data, partial_train_targets,  # 모델 훈련(verbose=0이므로 훈련 과정이 출력되지 않습니다.)\n",
    "                    validation_data=(val_data, val_targets),\n",
    "                    epochs=num_epochs, batch_size=1, verbose=0)\n",
    "mae_history = history.history['val_mae']\n",
    "all_mae_histories.append(mae_history)"
   ]
  },
  {
   "cell_type": "code",
   "execution_count": 37,
   "id": "63b545f4",
   "metadata": {},
   "outputs": [],
   "source": [
    "average_mae_history = [\n",
    "    np.mean([x[i] for x in all_mae_histories]) for i in range(num_epochs)]"
   ]
  },
  {
   "cell_type": "code",
   "execution_count": 44,
   "id": "3b228494",
   "metadata": {},
   "outputs": [
    {
     "data": {
      "text/plain": [
       "[5.2284650802612305,\n",
       " 4.0133442878723145,\n",
       " 3.3710944652557373,\n",
       " 3.302966833114624,\n",
       " 3.114053249359131,\n",
       " 3.0473861694335938,\n",
       " 2.895348072052002,\n",
       " 2.8249881267547607,\n",
       " 2.775425910949707,\n",
       " 2.5842175483703613,\n",
       " 2.8968124389648438,\n",
       " 2.7342708110809326,\n",
       " 2.760517120361328,\n",
       " 2.578953742980957,\n",
       " 2.8250417709350586,\n",
       " 2.658811330795288,\n",
       " 2.6336467266082764,\n",
       " 2.5054030418395996,\n",
       " 2.7108020782470703,\n",
       " 2.458388566970825,\n",
       " 2.46479868888855,\n",
       " 2.642777919769287,\n",
       " 2.5647144317626953,\n",
       " 2.5213160514831543,\n",
       " 2.4125075340270996,\n",
       " 2.4101645946502686,\n",
       " 2.479844093322754,\n",
       " 2.7451367378234863,\n",
       " 2.59031081199646,\n",
       " 2.6210289001464844,\n",
       " 2.4244935512542725,\n",
       " 2.4844589233398438,\n",
       " 2.622129440307617,\n",
       " 2.5370380878448486,\n",
       " 2.435556650161743,\n",
       " 2.5542914867401123,\n",
       " 2.3509011268615723,\n",
       " 2.553715467453003,\n",
       " 2.530198335647583,\n",
       " 2.5601468086242676,\n",
       " 2.4998838901519775,\n",
       " 2.4847357273101807,\n",
       " 2.4419310092926025,\n",
       " 2.3696513175964355,\n",
       " 2.340545177459717,\n",
       " 2.5837390422821045,\n",
       " 2.6113646030426025,\n",
       " 2.3501737117767334,\n",
       " 2.4543850421905518,\n",
       " 2.387284278869629,\n",
       " 2.6000514030456543,\n",
       " 2.3070497512817383,\n",
       " 2.538977861404419,\n",
       " 2.447627067565918,\n",
       " 2.3925204277038574,\n",
       " 2.3234498500823975,\n",
       " 2.340557813644409,\n",
       " 2.534195899963379,\n",
       " 2.279526710510254,\n",
       " 2.3043010234832764,\n",
       " 2.306972026824951,\n",
       " 2.6154286861419678,\n",
       " 2.3849472999572754,\n",
       " 2.6057095527648926,\n",
       " 2.3680617809295654,\n",
       " 2.4474031925201416,\n",
       " 2.4748640060424805,\n",
       " 2.2321507930755615,\n",
       " 2.3330233097076416,\n",
       " 2.3759701251983643,\n",
       " 2.601168394088745,\n",
       " 2.3980183601379395,\n",
       " 2.3864805698394775,\n",
       " 2.3926942348480225,\n",
       " 2.4585483074188232,\n",
       " 2.5885024070739746,\n",
       " 2.366734266281128,\n",
       " 2.456106424331665,\n",
       " 2.295650005340576,\n",
       " 2.5174012184143066,\n",
       " 2.4288156032562256,\n",
       " 2.425689697265625,\n",
       " 2.4904465675354004,\n",
       " 2.4101555347442627,\n",
       " 2.548363208770752,\n",
       " 2.3277056217193604,\n",
       " 2.3212521076202393,\n",
       " 2.657975673675537,\n",
       " 2.28015398979187,\n",
       " 2.627267360687256,\n",
       " 2.4266273975372314,\n",
       " 2.360811233520508,\n",
       " 2.2478408813476562,\n",
       " 2.380045175552368,\n",
       " 2.3281240463256836,\n",
       " 2.3193881511688232,\n",
       " 2.505225658416748,\n",
       " 2.496915102005005,\n",
       " 2.4822163581848145,\n",
       " 2.4105019569396973,\n",
       " 2.3157706260681152,\n",
       " 2.269728660583496,\n",
       " 2.2530574798583984,\n",
       " 2.523374319076538,\n",
       " 2.4447712898254395,\n",
       " 2.164543867111206,\n",
       " 2.5671017169952393,\n",
       " 2.329557418823242,\n",
       " 2.417299270629883,\n",
       " 2.398129940032959,\n",
       " 2.42002272605896,\n",
       " 2.393735647201538,\n",
       " 2.2262754440307617,\n",
       " 2.394812822341919,\n",
       " 2.3044979572296143,\n",
       " 2.3728508949279785,\n",
       " 2.4227490425109863,\n",
       " 2.5137035846710205,\n",
       " 2.4448370933532715,\n",
       " 2.298207998275757,\n",
       " 2.3251428604125977,\n",
       " 2.498089551925659,\n",
       " 2.317805767059326,\n",
       " 2.7364351749420166,\n",
       " 2.4469473361968994,\n",
       " 2.37458872795105,\n",
       " 2.218235731124878,\n",
       " 2.3386707305908203,\n",
       " 2.222494602203369,\n",
       " 2.419466257095337,\n",
       " 2.2496957778930664,\n",
       " 2.2698748111724854,\n",
       " 2.301971673965454,\n",
       " 2.3982326984405518,\n",
       " 2.2483420372009277,\n",
       " 2.4259703159332275,\n",
       " 2.4056646823883057,\n",
       " 2.497344732284546,\n",
       " 2.5037877559661865,\n",
       " 2.305933952331543,\n",
       " 2.27778697013855,\n",
       " 2.358834743499756,\n",
       " 2.4098057746887207,\n",
       " 2.5135791301727295,\n",
       " 2.4992787837982178,\n",
       " 2.9393670558929443,\n",
       " 2.299542188644409,\n",
       " 2.3712432384490967,\n",
       " 2.343986749649048,\n",
       " 2.4820809364318848,\n",
       " 2.4008007049560547,\n",
       " 2.3794925212860107,\n",
       " 2.6286044120788574,\n",
       " 2.4982481002807617,\n",
       " 2.2671594619750977,\n",
       " 2.496398687362671,\n",
       " 2.469480514526367,\n",
       " 2.395442008972168,\n",
       " 2.6275875568389893,\n",
       " 2.958505153656006,\n",
       " 3.0486927032470703,\n",
       " 2.654553174972534,\n",
       " 2.498823404312134,\n",
       " 2.4014499187469482,\n",
       " 2.333914041519165,\n",
       " 2.37215518951416,\n",
       " 2.645026206970215,\n",
       " 2.6464672088623047,\n",
       " 2.2827107906341553,\n",
       " 2.3678858280181885,\n",
       " 2.417792320251465,\n",
       " 2.3810341358184814,\n",
       " 2.5365288257598877,\n",
       " 2.5232772827148438,\n",
       " 3.030437469482422,\n",
       " 2.4652857780456543,\n",
       " 2.48618221282959,\n",
       " 2.992802619934082,\n",
       " 2.383606433868408,\n",
       " 2.368053913116455,\n",
       " 2.4895718097686768,\n",
       " 2.579509735107422,\n",
       " 2.609781503677368,\n",
       " 2.5686421394348145,\n",
       " 2.306154251098633,\n",
       " 2.606370687484741,\n",
       " 2.675896644592285,\n",
       " 2.2861721515655518,\n",
       " 2.3881237506866455,\n",
       " 2.272944927215576,\n",
       " 2.3122432231903076,\n",
       " 2.341313123703003,\n",
       " 2.268134593963623,\n",
       " 2.739422082901001,\n",
       " 2.6372687816619873,\n",
       " 2.4343972206115723,\n",
       " 2.3180489540100098,\n",
       " 2.5399837493896484,\n",
       " 2.484623908996582,\n",
       " 2.4310061931610107,\n",
       " 2.6509413719177246,\n",
       " 2.6990108489990234,\n",
       " 2.484314203262329,\n",
       " 2.353975772857666,\n",
       " 2.565220355987549,\n",
       " 2.3992860317230225,\n",
       " 2.366042375564575,\n",
       " 2.350417375564575,\n",
       " 2.456968307495117,\n",
       " 2.4299771785736084,\n",
       " 2.391777753829956,\n",
       " 2.4302022457122803,\n",
       " 2.5044686794281006,\n",
       " 2.505589008331299,\n",
       " 2.3333990573883057,\n",
       " 2.546363115310669,\n",
       " 2.4534661769866943,\n",
       " 2.5817008018493652,\n",
       " 2.440166711807251,\n",
       " 2.4179346561431885,\n",
       " 2.4683587551116943,\n",
       " 2.4941208362579346,\n",
       " 2.3275036811828613,\n",
       " 2.417680501937866,\n",
       " 2.461765766143799,\n",
       " 2.5749082565307617,\n",
       " 2.5538079738616943,\n",
       " 2.5367820262908936,\n",
       " 2.4863808155059814,\n",
       " 2.491877794265747,\n",
       " 2.6091151237487793,\n",
       " 2.331381320953369,\n",
       " 2.420585870742798,\n",
       " 2.5889439582824707,\n",
       " 2.6433513164520264,\n",
       " 2.5565218925476074,\n",
       " 2.4987244606018066,\n",
       " 2.497159004211426,\n",
       " 2.4953413009643555,\n",
       " 2.4891293048858643,\n",
       " 2.5419037342071533,\n",
       " 2.4416990280151367,\n",
       " 2.4182229042053223,\n",
       " 2.567425012588501,\n",
       " 2.464348316192627,\n",
       " 2.4291372299194336,\n",
       " 2.4647016525268555,\n",
       " 2.4546830654144287,\n",
       " 2.6389331817626953,\n",
       " 2.5315024852752686,\n",
       " 2.416553258895874,\n",
       " 2.709487199783325,\n",
       " 2.6379401683807373,\n",
       " 2.4810492992401123,\n",
       " 2.552231788635254,\n",
       " 2.6320884227752686,\n",
       " 2.546494960784912,\n",
       " 2.5518293380737305,\n",
       " 2.407857656478882,\n",
       " 2.459688186645508,\n",
       " 2.3975441455841064,\n",
       " 2.939074754714966,\n",
       " 2.5619819164276123,\n",
       " 2.3832762241363525,\n",
       " 2.7346346378326416,\n",
       " 2.816384792327881,\n",
       " 2.439023494720459,\n",
       " 2.527033805847168,\n",
       " 2.473997116088867,\n",
       " 2.2862050533294678,\n",
       " 2.4285526275634766,\n",
       " 2.421740770339966,\n",
       " 2.4093427658081055,\n",
       " 2.407723903656006,\n",
       " 2.3821096420288086,\n",
       " 2.438913345336914,\n",
       " 2.5148215293884277,\n",
       " 2.671337842941284,\n",
       " 2.431464910507202,\n",
       " 2.4263434410095215,\n",
       " 2.4659128189086914,\n",
       " 2.573087453842163,\n",
       " 2.684061288833618,\n",
       " 2.497211456298828,\n",
       " 2.5357978343963623,\n",
       " 2.3909270763397217,\n",
       " 2.521951913833618,\n",
       " 2.5385053157806396,\n",
       " 2.4791953563690186,\n",
       " 2.413175582885742,\n",
       " 2.545131206512451,\n",
       " 2.3665783405303955,\n",
       " 2.4027352333068848,\n",
       " 2.4001376628875732,\n",
       " 2.614168167114258,\n",
       " 2.561626672744751,\n",
       " 2.477482557296753,\n",
       " 2.663978099822998,\n",
       " 3.2815611362457275,\n",
       " 2.6162898540496826,\n",
       " 2.4940345287323,\n",
       " 2.5124101638793945,\n",
       " 2.6093482971191406,\n",
       " 2.4250876903533936,\n",
       " 2.6264843940734863,\n",
       " 2.4864273071289062,\n",
       " 2.7395389080047607,\n",
       " 2.57733416557312,\n",
       " 2.473952293395996,\n",
       " 2.4548110961914062,\n",
       " 2.520822048187256,\n",
       " 2.2807765007019043,\n",
       " 2.5965895652770996,\n",
       " 2.4620168209075928,\n",
       " 2.65124773979187,\n",
       " 2.5250678062438965,\n",
       " 2.6217710971832275,\n",
       " 2.5999951362609863,\n",
       " 2.5094072818756104,\n",
       " 2.4732227325439453,\n",
       " 2.470879554748535,\n",
       " 2.6595606803894043,\n",
       " 2.6239092350006104,\n",
       " 2.503998041152954,\n",
       " 2.526409864425659,\n",
       " 2.547961950302124,\n",
       " 2.679121255874634,\n",
       " 2.632430076599121,\n",
       " 2.550001382827759,\n",
       " 2.510772943496704,\n",
       " 2.560703992843628,\n",
       " 2.764796495437622,\n",
       " 2.5266425609588623,\n",
       " 2.5865061283111572,\n",
       " 2.5716235637664795,\n",
       " 2.551313638687134,\n",
       " 2.609384775161743,\n",
       " 2.6288840770721436,\n",
       " 2.5625765323638916,\n",
       " 2.6601462364196777,\n",
       " 2.6011364459991455,\n",
       " 2.6342861652374268,\n",
       " 2.5646872520446777,\n",
       " 2.7754018306732178,\n",
       " 2.728360891342163,\n",
       " 2.653318405151367,\n",
       " 2.5975582599639893,\n",
       " 2.6401333808898926,\n",
       " 2.662818431854248,\n",
       " 2.611790657043457,\n",
       " 2.77551531791687,\n",
       " 2.6472384929656982,\n",
       " 2.54438853263855,\n",
       " 2.880357265472412,\n",
       " 2.5723936557769775,\n",
       " 2.745833396911621,\n",
       " 2.7151591777801514,\n",
       " 2.7887425422668457,\n",
       " 2.589458703994751,\n",
       " 2.551690101623535,\n",
       " 2.6604392528533936,\n",
       " 3.2269625663757324,\n",
       " 2.735555410385132,\n",
       " 2.5777745246887207,\n",
       " 2.5815341472625732,\n",
       " 2.5810298919677734,\n",
       " 2.630760669708252,\n",
       " 2.6196842193603516,\n",
       " 2.6087942123413086,\n",
       " 2.5275332927703857,\n",
       " 2.580031394958496,\n",
       " 2.675051212310791,\n",
       " 2.7298150062561035,\n",
       " 2.6294615268707275,\n",
       " 2.6316006183624268,\n",
       " 2.7214252948760986,\n",
       " 2.727769613265991,\n",
       " 2.5490150451660156,\n",
       " 2.6990456581115723,\n",
       " 2.6493780612945557,\n",
       " 2.5876564979553223,\n",
       " 2.7592175006866455,\n",
       " 2.7223057746887207,\n",
       " 2.649740695953369,\n",
       " 2.8489186763763428,\n",
       " 2.8757357597351074,\n",
       " 3.144479990005493,\n",
       " 2.5491092205047607,\n",
       " 2.91260027885437,\n",
       " 2.761136770248413,\n",
       " 2.6648662090301514,\n",
       " 2.676541805267334,\n",
       " 2.7245535850524902,\n",
       " 2.7000348567962646,\n",
       " 2.6746554374694824,\n",
       " 2.6497251987457275,\n",
       " 2.8211803436279297,\n",
       " 2.633255958557129,\n",
       " 2.580432891845703,\n",
       " 2.621352434158325,\n",
       " 2.7592766284942627,\n",
       " 2.8800406455993652,\n",
       " 2.7052769660949707,\n",
       " 2.771930456161499,\n",
       " 2.8255679607391357,\n",
       " 2.6273791790008545,\n",
       " 2.657771110534668,\n",
       " 2.7643306255340576,\n",
       " 2.7574024200439453,\n",
       " 3.0441150665283203,\n",
       " 3.1651196479797363,\n",
       " 2.784102439880371,\n",
       " 2.789530038833618,\n",
       " 2.602609395980835,\n",
       " 2.709186315536499,\n",
       " 2.6677441596984863,\n",
       " 2.5422375202178955,\n",
       " 2.7546162605285645,\n",
       " 2.727809190750122,\n",
       " 2.6776723861694336,\n",
       " 2.7309136390686035,\n",
       " 2.7003390789031982,\n",
       " 2.5850777626037598,\n",
       " 2.7053167819976807,\n",
       " 2.6691806316375732,\n",
       " 2.694657802581787,\n",
       " 2.655148983001709,\n",
       " 2.7665042877197266,\n",
       " 2.5965569019317627,\n",
       " 2.6531476974487305,\n",
       " 2.6966402530670166,\n",
       " 2.712029457092285,\n",
       " 2.5582921504974365,\n",
       " 2.6690356731414795,\n",
       " 2.5992379188537598,\n",
       " 2.6416308879852295,\n",
       " 2.729813575744629,\n",
       " 2.8844704627990723,\n",
       " 2.6805601119995117,\n",
       " 2.7869536876678467,\n",
       " 2.7912373542785645,\n",
       " 2.833303689956665,\n",
       " 2.9637043476104736,\n",
       " 2.660496711730957,\n",
       " 2.7146029472351074,\n",
       " 2.852081298828125,\n",
       " 2.6835267543792725,\n",
       " 2.8379039764404297,\n",
       " 2.858975887298584,\n",
       " 2.6865220069885254,\n",
       " 2.7238082885742188,\n",
       " 2.775289297103882,\n",
       " 2.7923879623413086,\n",
       " 2.819600820541382,\n",
       " 2.9386627674102783,\n",
       " 2.9610729217529297,\n",
       " 2.725414991378784,\n",
       " 2.8896849155426025,\n",
       " 2.84903621673584,\n",
       " 2.800156593322754,\n",
       " 2.7382149696350098,\n",
       " 2.766862392425537,\n",
       " 2.8481264114379883,\n",
       " 2.8252220153808594,\n",
       " 2.6866390705108643,\n",
       " 3.0402417182922363,\n",
       " 2.7872514724731445,\n",
       " 2.69539475440979,\n",
       " 2.727874994277954,\n",
       " 2.8722307682037354,\n",
       " 2.735198974609375,\n",
       " 2.758406639099121,\n",
       " 2.674267530441284,\n",
       " 2.762249231338501,\n",
       " 2.7888877391815186,\n",
       " 2.7910006046295166,\n",
       " 2.9959895610809326,\n",
       " 2.7931034564971924,\n",
       " 2.7507007122039795,\n",
       " 2.7097177505493164,\n",
       " 2.7594707012176514,\n",
       " 2.674760341644287,\n",
       " 2.771012306213379,\n",
       " 2.6816725730895996,\n",
       " 2.7932121753692627,\n",
       " 2.977418899536133,\n",
       " 2.804884910583496,\n",
       " 2.6206459999084473,\n",
       " 2.7539546489715576,\n",
       " 2.701425075531006,\n",
       " 2.9392800331115723,\n",
       " 2.7684435844421387,\n",
       " 2.7597146034240723,\n",
       " 2.835888147354126,\n",
       " 2.9175119400024414,\n",
       " 2.841350793838501,\n",
       " 2.9228436946868896,\n",
       " 2.7920963764190674,\n",
       " 2.718998670578003,\n",
       " 2.7386314868927]"
      ]
     },
     "execution_count": 44,
     "metadata": {},
     "output_type": "execute_result"
    }
   ],
   "source": [
    "average_mae_history"
   ]
  },
  {
   "cell_type": "markdown",
   "id": "e6123cf4",
   "metadata": {},
   "source": [
    "### 그래프 시각화"
   ]
  },
  {
   "cell_type": "code",
   "execution_count": 34,
   "id": "7366d826",
   "metadata": {},
   "outputs": [
    {
     "data": {
      "image/png": "[encoded data removed]",
      "text/plain": [
       "<Figure size 576x720 with 1 Axes>"
      ]
     },
     "metadata": {
      "needs_background": "light"
     },
     "output_type": "display_data"
    }
   ],
   "source": [
    "# 학습 곡선\n",
    "import pandas as pd\n",
    "import matplotlib.pyplot as plt\n",
    "\n",
    "pd.DataFrame(history.history).plot(figsize=(8,10))\n",
    "plt.grid(True)\n",
    "plt.gca().set_ylim(0,1)\n",
    "plt.show()"
   ]
  },
  {
   "cell_type": "code",
   "execution_count": 45,
   "id": "3541d957",
   "metadata": {},
   "outputs": [
    {
     "data": {
      "image/png": "[encoded data removed]",
      "text/plain": [
       "<Figure size 432x288 with 1 Axes>"
      ]
     },
     "metadata": {
      "needs_background": "light"
     },
     "output_type": "display_data"
    }
   ],
   "source": [
    "import matplotlib.pyplot as plt\n",
    "\n",
    "plt.plot(range(1, len(average_mae_history) + 1), average_mae_history)\n",
    "plt.xlabel('Epochs')\n",
    "plt.ylabel('Validation MAE')\n",
    "plt.show()"
   ]
  },
  {
   "cell_type": "code",
   "execution_count": 39,
   "id": "ba6edb70",
   "metadata": {},
   "outputs": [
    {
     "data": {
      "image/png": "[encoded data removed]",
      "text/plain": [
       "<Figure size 432x288 with 1 Axes>"
      ]
     },
     "metadata": {
      "needs_background": "light"
     },
     "output_type": "display_data"
    }
   ],
   "source": [
    "def smooth_curve(points, factor=0.9):\n",
    "    smoothed_points = []\n",
    "    for point in points:\n",
    "        if smoothed_points:\n",
    "            previous = smoothed_points[-1]\n",
    "            smoothed_points.append(previous * factor + point * (1 - factor))\n",
    "        else:\n",
    "            smoothed_points.append(point)\n",
    "    return smoothed_points\n",
    "\n",
    "smooth_mae_history = smooth_curve(average_mae_history[10:])\n",
    "\n",
    "plt.plot(range(1, len(smooth_mae_history) + 1), smooth_mae_history)\n",
    "plt.xlabel('Epochs')\n",
    "plt.ylabel('Validation MAE')\n",
    "plt.show()"
   ]
  },
  {
   "cell_type": "code",
   "execution_count": 46,
   "id": "6ad67d40",
   "metadata": {},
   "outputs": [
    {
     "name": "stdout",
     "output_type": "stream",
     "text": [
      "4/4 [==============================] - 0s 1ms/step - loss: 687711.0000 - mae: 683.5814\n"
     ]
    }
   ],
   "source": [
    "# 새롭게 컴파인된 모델을 얻습니다\n",
    "model = build_model()\n",
    "# 전체 데이터로 훈련시킵니다\n",
    "model.fit(train_data, train_targets,\n",
    "          epochs=120, batch_size=1, verbose=0)\n",
    "test_mse_score, test_mae_score = model.evaluate(test_data, test_targets)"
   ]
  },
  {
   "cell_type": "code",
   "execution_count": 47,
   "id": "48c48b57",
   "metadata": {},
   "outputs": [
    {
     "data": {
      "text/plain": [
       "683.5814208984375"
      ]
     },
     "execution_count": 47,
     "metadata": {},
     "output_type": "execute_result"
    }
   ],
   "source": [
    "test_mae_score"
   ]
  }
 ],
 "metadata": {
  "kernelspec": {
   "display_name": "Python 3 (ipykernel)",
   "language": "python",
   "name": "python3"
  },
  "language_info": {
   "codemirror_mode": {
    "name": "ipython",
    "version": 3
   },
   "file_extension": ".py",
   "mimetype": "text/x-python",
   "name": "python",
   "nbconvert_exporter": "python",
   "pygments_lexer": "ipython3",
   "version": "3.9.7"
  }
 },
 "nbformat": 4,
 "nbformat_minor": 5
}
