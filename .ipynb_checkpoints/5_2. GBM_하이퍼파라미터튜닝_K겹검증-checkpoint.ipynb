{
 "cells": [
  {
   "cell_type": "code",
   "execution_count": 1,
   "id": "d086556b",
   "metadata": {},
   "outputs": [],
   "source": [
    "b"
   ]
  },
  {
   "cell_type": "code",
   "execution_count": 2,
   "id": "e4114d7a",
   "metadata": {},
   "outputs": [],
   "source": [
    "car1 = pd.read_csv('./car_year2.csv')"
   ]
  },
  {
   "cell_type": "code",
   "execution_count": 3,
   "id": "7558b978",
   "metadata": {},
   "outputs": [
    {
     "data": {
      "text/html": [
       "<div>\n",
       "<style scoped>\n",
       "    .dataframe tbody tr th:only-of-type {\n",
       "        vertical-align: middle;\n",
       "    }\n",
       "\n",
       "    .dataframe tbody tr th {\n",
       "        vertical-align: top;\n",
       "    }\n",
       "\n",
       "    .dataframe thead th {\n",
       "        text-align: right;\n",
       "    }\n",
       "</style>\n",
       "<table border=\"1\" class=\"dataframe\">\n",
       "  <thead>\n",
       "    <tr style=\"text-align: right;\">\n",
       "      <th></th>\n",
       "      <th>mileage</th>\n",
       "      <th>mpg</th>\n",
       "      <th>engineSize</th>\n",
       "      <th>price</th>\n",
       "      <th>brand_bmw</th>\n",
       "      <th>brand_cclass</th>\n",
       "      <th>brand_focus</th>\n",
       "      <th>brand_ford</th>\n",
       "      <th>brand_hyundi</th>\n",
       "      <th>brand_merc</th>\n",
       "      <th>...</th>\n",
       "      <th>year_2017</th>\n",
       "      <th>year_2018</th>\n",
       "      <th>year_2019</th>\n",
       "      <th>year_2020</th>\n",
       "      <th>transmission_Manual</th>\n",
       "      <th>transmission_Other</th>\n",
       "      <th>transmission_Semi-Auto</th>\n",
       "      <th>fuelType_Hybrid</th>\n",
       "      <th>fuelType_Other</th>\n",
       "      <th>fuelType_Petrol</th>\n",
       "    </tr>\n",
       "  </thead>\n",
       "  <tbody>\n",
       "    <tr>\n",
       "      <th>0</th>\n",
       "      <td>15735</td>\n",
       "      <td>55.4</td>\n",
       "      <td>1.4</td>\n",
       "      <td>12500</td>\n",
       "      <td>0</td>\n",
       "      <td>0</td>\n",
       "      <td>0</td>\n",
       "      <td>0</td>\n",
       "      <td>0</td>\n",
       "      <td>0</td>\n",
       "      <td>...</td>\n",
       "      <td>1</td>\n",
       "      <td>0</td>\n",
       "      <td>0</td>\n",
       "      <td>0</td>\n",
       "      <td>1</td>\n",
       "      <td>0</td>\n",
       "      <td>0</td>\n",
       "      <td>0</td>\n",
       "      <td>0</td>\n",
       "      <td>1</td>\n",
       "    </tr>\n",
       "    <tr>\n",
       "      <th>1</th>\n",
       "      <td>29946</td>\n",
       "      <td>55.4</td>\n",
       "      <td>1.4</td>\n",
       "      <td>11000</td>\n",
       "      <td>0</td>\n",
       "      <td>0</td>\n",
       "      <td>0</td>\n",
       "      <td>0</td>\n",
       "      <td>0</td>\n",
       "      <td>0</td>\n",
       "      <td>...</td>\n",
       "      <td>0</td>\n",
       "      <td>0</td>\n",
       "      <td>0</td>\n",
       "      <td>0</td>\n",
       "      <td>1</td>\n",
       "      <td>0</td>\n",
       "      <td>0</td>\n",
       "      <td>0</td>\n",
       "      <td>0</td>\n",
       "      <td>1</td>\n",
       "    </tr>\n",
       "    <tr>\n",
       "      <th>2</th>\n",
       "      <td>1998</td>\n",
       "      <td>49.6</td>\n",
       "      <td>1.0</td>\n",
       "      <td>17300</td>\n",
       "      <td>0</td>\n",
       "      <td>0</td>\n",
       "      <td>0</td>\n",
       "      <td>0</td>\n",
       "      <td>0</td>\n",
       "      <td>0</td>\n",
       "      <td>...</td>\n",
       "      <td>0</td>\n",
       "      <td>0</td>\n",
       "      <td>1</td>\n",
       "      <td>0</td>\n",
       "      <td>1</td>\n",
       "      <td>0</td>\n",
       "      <td>0</td>\n",
       "      <td>0</td>\n",
       "      <td>0</td>\n",
       "      <td>1</td>\n",
       "    </tr>\n",
       "    <tr>\n",
       "      <th>3</th>\n",
       "      <td>32260</td>\n",
       "      <td>58.9</td>\n",
       "      <td>1.4</td>\n",
       "      <td>13900</td>\n",
       "      <td>0</td>\n",
       "      <td>0</td>\n",
       "      <td>0</td>\n",
       "      <td>0</td>\n",
       "      <td>0</td>\n",
       "      <td>0</td>\n",
       "      <td>...</td>\n",
       "      <td>0</td>\n",
       "      <td>0</td>\n",
       "      <td>0</td>\n",
       "      <td>0</td>\n",
       "      <td>0</td>\n",
       "      <td>0</td>\n",
       "      <td>0</td>\n",
       "      <td>0</td>\n",
       "      <td>0</td>\n",
       "      <td>1</td>\n",
       "    </tr>\n",
       "    <tr>\n",
       "      <th>4</th>\n",
       "      <td>76788</td>\n",
       "      <td>61.4</td>\n",
       "      <td>2.0</td>\n",
       "      <td>13250</td>\n",
       "      <td>0</td>\n",
       "      <td>0</td>\n",
       "      <td>0</td>\n",
       "      <td>0</td>\n",
       "      <td>0</td>\n",
       "      <td>0</td>\n",
       "      <td>...</td>\n",
       "      <td>0</td>\n",
       "      <td>0</td>\n",
       "      <td>0</td>\n",
       "      <td>0</td>\n",
       "      <td>0</td>\n",
       "      <td>0</td>\n",
       "      <td>0</td>\n",
       "      <td>0</td>\n",
       "      <td>0</td>\n",
       "      <td>0</td>\n",
       "    </tr>\n",
       "    <tr>\n",
       "      <th>...</th>\n",
       "      <td>...</td>\n",
       "      <td>...</td>\n",
       "      <td>...</td>\n",
       "      <td>...</td>\n",
       "      <td>...</td>\n",
       "      <td>...</td>\n",
       "      <td>...</td>\n",
       "      <td>...</td>\n",
       "      <td>...</td>\n",
       "      <td>...</td>\n",
       "      <td>...</td>\n",
       "      <td>...</td>\n",
       "      <td>...</td>\n",
       "      <td>...</td>\n",
       "      <td>...</td>\n",
       "      <td>...</td>\n",
       "      <td>...</td>\n",
       "      <td>...</td>\n",
       "      <td>...</td>\n",
       "      <td>...</td>\n",
       "      <td>...</td>\n",
       "    </tr>\n",
       "    <tr>\n",
       "      <th>57502</th>\n",
       "      <td>65000</td>\n",
       "      <td>48.0</td>\n",
       "      <td>2.0</td>\n",
       "      <td>4995</td>\n",
       "      <td>0</td>\n",
       "      <td>0</td>\n",
       "      <td>0</td>\n",
       "      <td>0</td>\n",
       "      <td>0</td>\n",
       "      <td>0</td>\n",
       "      <td>...</td>\n",
       "      <td>0</td>\n",
       "      <td>0</td>\n",
       "      <td>0</td>\n",
       "      <td>0</td>\n",
       "      <td>1</td>\n",
       "      <td>0</td>\n",
       "      <td>0</td>\n",
       "      <td>0</td>\n",
       "      <td>0</td>\n",
       "      <td>0</td>\n",
       "    </tr>\n",
       "    <tr>\n",
       "      <th>57503</th>\n",
       "      <td>41850</td>\n",
       "      <td>58.9</td>\n",
       "      <td>2.0</td>\n",
       "      <td>12495</td>\n",
       "      <td>0</td>\n",
       "      <td>0</td>\n",
       "      <td>0</td>\n",
       "      <td>0</td>\n",
       "      <td>0</td>\n",
       "      <td>0</td>\n",
       "      <td>...</td>\n",
       "      <td>0</td>\n",
       "      <td>0</td>\n",
       "      <td>0</td>\n",
       "      <td>0</td>\n",
       "      <td>1</td>\n",
       "      <td>0</td>\n",
       "      <td>0</td>\n",
       "      <td>0</td>\n",
       "      <td>0</td>\n",
       "      <td>0</td>\n",
       "    </tr>\n",
       "    <tr>\n",
       "      <th>57504</th>\n",
       "      <td>58000</td>\n",
       "      <td>58.9</td>\n",
       "      <td>2.0</td>\n",
       "      <td>8950</td>\n",
       "      <td>0</td>\n",
       "      <td>0</td>\n",
       "      <td>0</td>\n",
       "      <td>0</td>\n",
       "      <td>0</td>\n",
       "      <td>0</td>\n",
       "      <td>...</td>\n",
       "      <td>0</td>\n",
       "      <td>0</td>\n",
       "      <td>0</td>\n",
       "      <td>0</td>\n",
       "      <td>1</td>\n",
       "      <td>0</td>\n",
       "      <td>0</td>\n",
       "      <td>0</td>\n",
       "      <td>0</td>\n",
       "      <td>0</td>\n",
       "    </tr>\n",
       "    <tr>\n",
       "      <th>57505</th>\n",
       "      <td>92640</td>\n",
       "      <td>48.0</td>\n",
       "      <td>2.0</td>\n",
       "      <td>2995</td>\n",
       "      <td>0</td>\n",
       "      <td>0</td>\n",
       "      <td>0</td>\n",
       "      <td>0</td>\n",
       "      <td>0</td>\n",
       "      <td>0</td>\n",
       "      <td>...</td>\n",
       "      <td>0</td>\n",
       "      <td>0</td>\n",
       "      <td>0</td>\n",
       "      <td>0</td>\n",
       "      <td>1</td>\n",
       "      <td>0</td>\n",
       "      <td>0</td>\n",
       "      <td>0</td>\n",
       "      <td>0</td>\n",
       "      <td>0</td>\n",
       "    </tr>\n",
       "    <tr>\n",
       "      <th>57506</th>\n",
       "      <td>74000</td>\n",
       "      <td>58.9</td>\n",
       "      <td>2.0</td>\n",
       "      <td>5990</td>\n",
       "      <td>0</td>\n",
       "      <td>0</td>\n",
       "      <td>0</td>\n",
       "      <td>0</td>\n",
       "      <td>0</td>\n",
       "      <td>0</td>\n",
       "      <td>...</td>\n",
       "      <td>0</td>\n",
       "      <td>0</td>\n",
       "      <td>0</td>\n",
       "      <td>0</td>\n",
       "      <td>1</td>\n",
       "      <td>0</td>\n",
       "      <td>0</td>\n",
       "      <td>0</td>\n",
       "      <td>0</td>\n",
       "      <td>0</td>\n",
       "    </tr>\n",
       "  </tbody>\n",
       "</table>\n",
       "<p>57507 rows × 42 columns</p>\n",
       "</div>"
      ],
      "text/plain": [
       "       mileage   mpg  engineSize  price  brand_bmw  brand_cclass  brand_focus  \\\n",
       "0        15735  55.4         1.4  12500          0             0            0   \n",
       "1        29946  55.4         1.4  11000          0             0            0   \n",
       "2         1998  49.6         1.0  17300          0             0            0   \n",
       "3        32260  58.9         1.4  13900          0             0            0   \n",
       "4        76788  61.4         2.0  13250          0             0            0   \n",
       "...        ...   ...         ...    ...        ...           ...          ...   \n",
       "57502    65000  48.0         2.0   4995          0             0            0   \n",
       "57503    41850  58.9         2.0  12495          0             0            0   \n",
       "57504    58000  58.9         2.0   8950          0             0            0   \n",
       "57505    92640  48.0         2.0   2995          0             0            0   \n",
       "57506    74000  58.9         2.0   5990          0             0            0   \n",
       "\n",
       "       brand_ford  brand_hyundi  brand_merc  ...  year_2017  year_2018  \\\n",
       "0               0             0           0  ...          1          0   \n",
       "1               0             0           0  ...          0          0   \n",
       "2               0             0           0  ...          0          0   \n",
       "3               0             0           0  ...          0          0   \n",
       "4               0             0           0  ...          0          0   \n",
       "...           ...           ...         ...  ...        ...        ...   \n",
       "57502           0             0           0  ...          0          0   \n",
       "57503           0             0           0  ...          0          0   \n",
       "57504           0             0           0  ...          0          0   \n",
       "57505           0             0           0  ...          0          0   \n",
       "57506           0             0           0  ...          0          0   \n",
       "\n",
       "       year_2019  year_2020  transmission_Manual  transmission_Other  \\\n",
       "0              0          0                    1                   0   \n",
       "1              0          0                    1                   0   \n",
       "2              1          0                    1                   0   \n",
       "3              0          0                    0                   0   \n",
       "4              0          0                    0                   0   \n",
       "...          ...        ...                  ...                 ...   \n",
       "57502          0          0                    1                   0   \n",
       "57503          0          0                    1                   0   \n",
       "57504          0          0                    1                   0   \n",
       "57505          0          0                    1                   0   \n",
       "57506          0          0                    1                   0   \n",
       "\n",
       "       transmission_Semi-Auto  fuelType_Hybrid  fuelType_Other  \\\n",
       "0                           0                0               0   \n",
       "1                           0                0               0   \n",
       "2                           0                0               0   \n",
       "3                           0                0               0   \n",
       "4                           0                0               0   \n",
       "...                       ...              ...             ...   \n",
       "57502                       0                0               0   \n",
       "57503                       0                0               0   \n",
       "57504                       0                0               0   \n",
       "57505                       0                0               0   \n",
       "57506                       0                0               0   \n",
       "\n",
       "       fuelType_Petrol  \n",
       "0                    1  \n",
       "1                    1  \n",
       "2                    1  \n",
       "3                    1  \n",
       "4                    0  \n",
       "...                ...  \n",
       "57502                0  \n",
       "57503                0  \n",
       "57504                0  \n",
       "57505                0  \n",
       "57506                0  \n",
       "\n",
       "[57507 rows x 42 columns]"
      ]
     },
     "execution_count": 3,
     "metadata": {},
     "output_type": "execute_result"
    }
   ],
   "source": [
    "car1"
   ]
  },
  {
   "cell_type": "markdown",
   "id": "c06b26eb",
   "metadata": {},
   "source": [
    "### 변수\n",
    "- brand\t\n",
    "- model\t\n",
    "- year\t\n",
    "- price\t\n",
    "- transmission\t\n",
    "- mileage\t\n",
    "- fuelType\t\n",
    "- mpg\t\n",
    "- engineSize"
   ]
  },
  {
   "cell_type": "code",
   "execution_count": 4,
   "id": "b8c61e6e",
   "metadata": {},
   "outputs": [
    {
     "name": "stdout",
     "output_type": "stream",
     "text": [
      "<class 'pandas.core.frame.DataFrame'>\n",
      "RangeIndex: 57507 entries, 0 to 57506\n",
      "Data columns (total 42 columns):\n",
      " #   Column                  Non-Null Count  Dtype  \n",
      "---  ------                  --------------  -----  \n",
      " 0   mileage                 57507 non-null  int64  \n",
      " 1   mpg                     57507 non-null  float64\n",
      " 2   engineSize              57507 non-null  float64\n",
      " 3   price                   57507 non-null  int64  \n",
      " 4   brand_bmw               57507 non-null  int64  \n",
      " 5   brand_cclass            57507 non-null  int64  \n",
      " 6   brand_focus             57507 non-null  int64  \n",
      " 7   brand_ford              57507 non-null  int64  \n",
      " 8   brand_hyundi            57507 non-null  int64  \n",
      " 9   brand_merc              57507 non-null  int64  \n",
      " 10  brand_skoda             57507 non-null  int64  \n",
      " 11  brand_toyota            57507 non-null  int64  \n",
      " 12  brand_vauxhall          57507 non-null  int64  \n",
      " 13  brand_vw                57507 non-null  int64  \n",
      " 14  year_1995               57507 non-null  int64  \n",
      " 15  year_1998               57507 non-null  int64  \n",
      " 16  year_2001               57507 non-null  int64  \n",
      " 17  year_2002               57507 non-null  int64  \n",
      " 18  year_2003               57507 non-null  int64  \n",
      " 19  year_2004               57507 non-null  int64  \n",
      " 20  year_2005               57507 non-null  int64  \n",
      " 21  year_2006               57507 non-null  int64  \n",
      " 22  year_2007               57507 non-null  int64  \n",
      " 23  year_2008               57507 non-null  int64  \n",
      " 24  year_2009               57507 non-null  int64  \n",
      " 25  year_2010               57507 non-null  int64  \n",
      " 26  year_2011               57507 non-null  int64  \n",
      " 27  year_2012               57507 non-null  int64  \n",
      " 28  year_2013               57507 non-null  int64  \n",
      " 29  year_2014               57507 non-null  int64  \n",
      " 30  year_2015               57507 non-null  int64  \n",
      " 31  year_2016               57507 non-null  int64  \n",
      " 32  year_2017               57507 non-null  int64  \n",
      " 33  year_2018               57507 non-null  int64  \n",
      " 34  year_2019               57507 non-null  int64  \n",
      " 35  year_2020               57507 non-null  int64  \n",
      " 36  transmission_Manual     57507 non-null  int64  \n",
      " 37  transmission_Other      57507 non-null  int64  \n",
      " 38  transmission_Semi-Auto  57507 non-null  int64  \n",
      " 39  fuelType_Hybrid         57507 non-null  int64  \n",
      " 40  fuelType_Other          57507 non-null  int64  \n",
      " 41  fuelType_Petrol         57507 non-null  int64  \n",
      "dtypes: float64(2), int64(40)\n",
      "memory usage: 18.4 MB\n"
     ]
    }
   ],
   "source": [
    "car1.info()"
   ]
  },
  {
   "cell_type": "code",
   "execution_count": 5,
   "id": "b2db6316",
   "metadata": {},
   "outputs": [
    {
     "data": {
      "text/html": [
       "<div>\n",
       "<style scoped>\n",
       "    .dataframe tbody tr th:only-of-type {\n",
       "        vertical-align: middle;\n",
       "    }\n",
       "\n",
       "    .dataframe tbody tr th {\n",
       "        vertical-align: top;\n",
       "    }\n",
       "\n",
       "    .dataframe thead th {\n",
       "        text-align: right;\n",
       "    }\n",
       "</style>\n",
       "<table border=\"1\" class=\"dataframe\">\n",
       "  <thead>\n",
       "    <tr style=\"text-align: right;\">\n",
       "      <th></th>\n",
       "      <th>mileage</th>\n",
       "      <th>mpg</th>\n",
       "      <th>engineSize</th>\n",
       "      <th>price</th>\n",
       "      <th>brand_bmw</th>\n",
       "      <th>brand_cclass</th>\n",
       "      <th>brand_focus</th>\n",
       "      <th>brand_ford</th>\n",
       "      <th>brand_hyundi</th>\n",
       "      <th>brand_merc</th>\n",
       "      <th>...</th>\n",
       "      <th>year_2017</th>\n",
       "      <th>year_2018</th>\n",
       "      <th>year_2019</th>\n",
       "      <th>year_2020</th>\n",
       "      <th>transmission_Manual</th>\n",
       "      <th>transmission_Other</th>\n",
       "      <th>transmission_Semi-Auto</th>\n",
       "      <th>fuelType_Hybrid</th>\n",
       "      <th>fuelType_Other</th>\n",
       "      <th>fuelType_Petrol</th>\n",
       "    </tr>\n",
       "  </thead>\n",
       "  <tbody>\n",
       "    <tr>\n",
       "      <th>0</th>\n",
       "      <td>15735</td>\n",
       "      <td>55.4</td>\n",
       "      <td>1.4</td>\n",
       "      <td>12500</td>\n",
       "      <td>0</td>\n",
       "      <td>0</td>\n",
       "      <td>0</td>\n",
       "      <td>0</td>\n",
       "      <td>0</td>\n",
       "      <td>0</td>\n",
       "      <td>...</td>\n",
       "      <td>1</td>\n",
       "      <td>0</td>\n",
       "      <td>0</td>\n",
       "      <td>0</td>\n",
       "      <td>1</td>\n",
       "      <td>0</td>\n",
       "      <td>0</td>\n",
       "      <td>0</td>\n",
       "      <td>0</td>\n",
       "      <td>1</td>\n",
       "    </tr>\n",
       "    <tr>\n",
       "      <th>1</th>\n",
       "      <td>29946</td>\n",
       "      <td>55.4</td>\n",
       "      <td>1.4</td>\n",
       "      <td>11000</td>\n",
       "      <td>0</td>\n",
       "      <td>0</td>\n",
       "      <td>0</td>\n",
       "      <td>0</td>\n",
       "      <td>0</td>\n",
       "      <td>0</td>\n",
       "      <td>...</td>\n",
       "      <td>0</td>\n",
       "      <td>0</td>\n",
       "      <td>0</td>\n",
       "      <td>0</td>\n",
       "      <td>1</td>\n",
       "      <td>0</td>\n",
       "      <td>0</td>\n",
       "      <td>0</td>\n",
       "      <td>0</td>\n",
       "      <td>1</td>\n",
       "    </tr>\n",
       "    <tr>\n",
       "      <th>2</th>\n",
       "      <td>1998</td>\n",
       "      <td>49.6</td>\n",
       "      <td>1.0</td>\n",
       "      <td>17300</td>\n",
       "      <td>0</td>\n",
       "      <td>0</td>\n",
       "      <td>0</td>\n",
       "      <td>0</td>\n",
       "      <td>0</td>\n",
       "      <td>0</td>\n",
       "      <td>...</td>\n",
       "      <td>0</td>\n",
       "      <td>0</td>\n",
       "      <td>1</td>\n",
       "      <td>0</td>\n",
       "      <td>1</td>\n",
       "      <td>0</td>\n",
       "      <td>0</td>\n",
       "      <td>0</td>\n",
       "      <td>0</td>\n",
       "      <td>1</td>\n",
       "    </tr>\n",
       "    <tr>\n",
       "      <th>3</th>\n",
       "      <td>32260</td>\n",
       "      <td>58.9</td>\n",
       "      <td>1.4</td>\n",
       "      <td>13900</td>\n",
       "      <td>0</td>\n",
       "      <td>0</td>\n",
       "      <td>0</td>\n",
       "      <td>0</td>\n",
       "      <td>0</td>\n",
       "      <td>0</td>\n",
       "      <td>...</td>\n",
       "      <td>0</td>\n",
       "      <td>0</td>\n",
       "      <td>0</td>\n",
       "      <td>0</td>\n",
       "      <td>0</td>\n",
       "      <td>0</td>\n",
       "      <td>0</td>\n",
       "      <td>0</td>\n",
       "      <td>0</td>\n",
       "      <td>1</td>\n",
       "    </tr>\n",
       "    <tr>\n",
       "      <th>4</th>\n",
       "      <td>76788</td>\n",
       "      <td>61.4</td>\n",
       "      <td>2.0</td>\n",
       "      <td>13250</td>\n",
       "      <td>0</td>\n",
       "      <td>0</td>\n",
       "      <td>0</td>\n",
       "      <td>0</td>\n",
       "      <td>0</td>\n",
       "      <td>0</td>\n",
       "      <td>...</td>\n",
       "      <td>0</td>\n",
       "      <td>0</td>\n",
       "      <td>0</td>\n",
       "      <td>0</td>\n",
       "      <td>0</td>\n",
       "      <td>0</td>\n",
       "      <td>0</td>\n",
       "      <td>0</td>\n",
       "      <td>0</td>\n",
       "      <td>0</td>\n",
       "    </tr>\n",
       "    <tr>\n",
       "      <th>...</th>\n",
       "      <td>...</td>\n",
       "      <td>...</td>\n",
       "      <td>...</td>\n",
       "      <td>...</td>\n",
       "      <td>...</td>\n",
       "      <td>...</td>\n",
       "      <td>...</td>\n",
       "      <td>...</td>\n",
       "      <td>...</td>\n",
       "      <td>...</td>\n",
       "      <td>...</td>\n",
       "      <td>...</td>\n",
       "      <td>...</td>\n",
       "      <td>...</td>\n",
       "      <td>...</td>\n",
       "      <td>...</td>\n",
       "      <td>...</td>\n",
       "      <td>...</td>\n",
       "      <td>...</td>\n",
       "      <td>...</td>\n",
       "      <td>...</td>\n",
       "    </tr>\n",
       "    <tr>\n",
       "      <th>57502</th>\n",
       "      <td>65000</td>\n",
       "      <td>48.0</td>\n",
       "      <td>2.0</td>\n",
       "      <td>4995</td>\n",
       "      <td>0</td>\n",
       "      <td>0</td>\n",
       "      <td>0</td>\n",
       "      <td>0</td>\n",
       "      <td>0</td>\n",
       "      <td>0</td>\n",
       "      <td>...</td>\n",
       "      <td>0</td>\n",
       "      <td>0</td>\n",
       "      <td>0</td>\n",
       "      <td>0</td>\n",
       "      <td>1</td>\n",
       "      <td>0</td>\n",
       "      <td>0</td>\n",
       "      <td>0</td>\n",
       "      <td>0</td>\n",
       "      <td>0</td>\n",
       "    </tr>\n",
       "    <tr>\n",
       "      <th>57503</th>\n",
       "      <td>41850</td>\n",
       "      <td>58.9</td>\n",
       "      <td>2.0</td>\n",
       "      <td>12495</td>\n",
       "      <td>0</td>\n",
       "      <td>0</td>\n",
       "      <td>0</td>\n",
       "      <td>0</td>\n",
       "      <td>0</td>\n",
       "      <td>0</td>\n",
       "      <td>...</td>\n",
       "      <td>0</td>\n",
       "      <td>0</td>\n",
       "      <td>0</td>\n",
       "      <td>0</td>\n",
       "      <td>1</td>\n",
       "      <td>0</td>\n",
       "      <td>0</td>\n",
       "      <td>0</td>\n",
       "      <td>0</td>\n",
       "      <td>0</td>\n",
       "    </tr>\n",
       "    <tr>\n",
       "      <th>57504</th>\n",
       "      <td>58000</td>\n",
       "      <td>58.9</td>\n",
       "      <td>2.0</td>\n",
       "      <td>8950</td>\n",
       "      <td>0</td>\n",
       "      <td>0</td>\n",
       "      <td>0</td>\n",
       "      <td>0</td>\n",
       "      <td>0</td>\n",
       "      <td>0</td>\n",
       "      <td>...</td>\n",
       "      <td>0</td>\n",
       "      <td>0</td>\n",
       "      <td>0</td>\n",
       "      <td>0</td>\n",
       "      <td>1</td>\n",
       "      <td>0</td>\n",
       "      <td>0</td>\n",
       "      <td>0</td>\n",
       "      <td>0</td>\n",
       "      <td>0</td>\n",
       "    </tr>\n",
       "    <tr>\n",
       "      <th>57505</th>\n",
       "      <td>92640</td>\n",
       "      <td>48.0</td>\n",
       "      <td>2.0</td>\n",
       "      <td>2995</td>\n",
       "      <td>0</td>\n",
       "      <td>0</td>\n",
       "      <td>0</td>\n",
       "      <td>0</td>\n",
       "      <td>0</td>\n",
       "      <td>0</td>\n",
       "      <td>...</td>\n",
       "      <td>0</td>\n",
       "      <td>0</td>\n",
       "      <td>0</td>\n",
       "      <td>0</td>\n",
       "      <td>1</td>\n",
       "      <td>0</td>\n",
       "      <td>0</td>\n",
       "      <td>0</td>\n",
       "      <td>0</td>\n",
       "      <td>0</td>\n",
       "    </tr>\n",
       "    <tr>\n",
       "      <th>57506</th>\n",
       "      <td>74000</td>\n",
       "      <td>58.9</td>\n",
       "      <td>2.0</td>\n",
       "      <td>5990</td>\n",
       "      <td>0</td>\n",
       "      <td>0</td>\n",
       "      <td>0</td>\n",
       "      <td>0</td>\n",
       "      <td>0</td>\n",
       "      <td>0</td>\n",
       "      <td>...</td>\n",
       "      <td>0</td>\n",
       "      <td>0</td>\n",
       "      <td>0</td>\n",
       "      <td>0</td>\n",
       "      <td>1</td>\n",
       "      <td>0</td>\n",
       "      <td>0</td>\n",
       "      <td>0</td>\n",
       "      <td>0</td>\n",
       "      <td>0</td>\n",
       "    </tr>\n",
       "  </tbody>\n",
       "</table>\n",
       "<p>57507 rows × 42 columns</p>\n",
       "</div>"
      ],
      "text/plain": [
       "       mileage   mpg  engineSize  price  brand_bmw  brand_cclass  brand_focus  \\\n",
       "0        15735  55.4         1.4  12500          0             0            0   \n",
       "1        29946  55.4         1.4  11000          0             0            0   \n",
       "2         1998  49.6         1.0  17300          0             0            0   \n",
       "3        32260  58.9         1.4  13900          0             0            0   \n",
       "4        76788  61.4         2.0  13250          0             0            0   \n",
       "...        ...   ...         ...    ...        ...           ...          ...   \n",
       "57502    65000  48.0         2.0   4995          0             0            0   \n",
       "57503    41850  58.9         2.0  12495          0             0            0   \n",
       "57504    58000  58.9         2.0   8950          0             0            0   \n",
       "57505    92640  48.0         2.0   2995          0             0            0   \n",
       "57506    74000  58.9         2.0   5990          0             0            0   \n",
       "\n",
       "       brand_ford  brand_hyundi  brand_merc  ...  year_2017  year_2018  \\\n",
       "0               0             0           0  ...          1          0   \n",
       "1               0             0           0  ...          0          0   \n",
       "2               0             0           0  ...          0          0   \n",
       "3               0             0           0  ...          0          0   \n",
       "4               0             0           0  ...          0          0   \n",
       "...           ...           ...         ...  ...        ...        ...   \n",
       "57502           0             0           0  ...          0          0   \n",
       "57503           0             0           0  ...          0          0   \n",
       "57504           0             0           0  ...          0          0   \n",
       "57505           0             0           0  ...          0          0   \n",
       "57506           0             0           0  ...          0          0   \n",
       "\n",
       "       year_2019  year_2020  transmission_Manual  transmission_Other  \\\n",
       "0              0          0                    1                   0   \n",
       "1              0          0                    1                   0   \n",
       "2              1          0                    1                   0   \n",
       "3              0          0                    0                   0   \n",
       "4              0          0                    0                   0   \n",
       "...          ...        ...                  ...                 ...   \n",
       "57502          0          0                    1                   0   \n",
       "57503          0          0                    1                   0   \n",
       "57504          0          0                    1                   0   \n",
       "57505          0          0                    1                   0   \n",
       "57506          0          0                    1                   0   \n",
       "\n",
       "       transmission_Semi-Auto  fuelType_Hybrid  fuelType_Other  \\\n",
       "0                           0                0               0   \n",
       "1                           0                0               0   \n",
       "2                           0                0               0   \n",
       "3                           0                0               0   \n",
       "4                           0                0               0   \n",
       "...                       ...              ...             ...   \n",
       "57502                       0                0               0   \n",
       "57503                       0                0               0   \n",
       "57504                       0                0               0   \n",
       "57505                       0                0               0   \n",
       "57506                       0                0               0   \n",
       "\n",
       "       fuelType_Petrol  \n",
       "0                    1  \n",
       "1                    1  \n",
       "2                    1  \n",
       "3                    1  \n",
       "4                    0  \n",
       "...                ...  \n",
       "57502                0  \n",
       "57503                0  \n",
       "57504                0  \n",
       "57505                0  \n",
       "57506                0  \n",
       "\n",
       "[57507 rows x 42 columns]"
      ]
     },
     "execution_count": 5,
     "metadata": {},
     "output_type": "execute_result"
    }
   ],
   "source": [
    "car1"
   ]
  },
  {
   "cell_type": "markdown",
   "id": "9d6414c0",
   "metadata": {},
   "source": [
    "### train/test 셋 분리"
   ]
  },
  {
   "cell_type": "code",
   "execution_count": 6,
   "id": "142216c3",
   "metadata": {},
   "outputs": [],
   "source": [
    "x = car1.drop(\"price\", axis = 1)\n",
    "y = car1[\"price\"]"
   ]
  },
  {
   "cell_type": "code",
   "execution_count": 7,
   "id": "9c784ce7",
   "metadata": {},
   "outputs": [],
   "source": [
    "# 기본값은 75 : 25 비율\n",
    "x_train, x_test, y_train, y_test = train_test_split(x, y, train_size = 0.70, random_state=1)"
   ]
  },
  {
   "cell_type": "code",
   "execution_count": 8,
   "id": "6f22e29d",
   "metadata": {},
   "outputs": [
    {
     "data": {
      "text/plain": [
       "((40254, 41), (40254,))"
      ]
     },
     "execution_count": 8,
     "metadata": {},
     "output_type": "execute_result"
    }
   ],
   "source": [
    "x_train.shape, y_train.shape"
   ]
  },
  {
   "cell_type": "code",
   "execution_count": 9,
   "id": "0e1560b6",
   "metadata": {},
   "outputs": [
    {
     "data": {
      "text/plain": [
       "((17253, 41), (17253,))"
      ]
     },
     "execution_count": 9,
     "metadata": {},
     "output_type": "execute_result"
    }
   ],
   "source": [
    "x_test.shape, y_test.shape"
   ]
  },
  {
   "cell_type": "markdown",
   "id": "d4fff33d",
   "metadata": {},
   "source": [
    "### 경사부스팅"
   ]
  },
  {
   "cell_type": "code",
   "execution_count": 10,
   "id": "8d49b028",
   "metadata": {},
   "outputs": [
    {
     "data": {
      "text/plain": [
       "15355    10498\n",
       "19950    12998\n",
       "26420    16995\n",
       "49040    20995\n",
       "8301     27995\n",
       "         ...  \n",
       "50057     9992\n",
       "32511    20999\n",
       "5192     19998\n",
       "12172    24299\n",
       "33003    29755\n",
       "Name: price, Length: 40254, dtype: int64"
      ]
     },
     "execution_count": 10,
     "metadata": {},
     "output_type": "execute_result"
    }
   ],
   "source": [
    "y_prime = y_train\n",
    "\n",
    "y_prime"
   ]
  },
  {
   "cell_type": "code",
   "execution_count": 11,
   "id": "2680683d",
   "metadata": {},
   "outputs": [
    {
     "data": {
      "text/plain": [
       "52139    20689\n",
       "31457    21967\n",
       "13534    16600\n",
       "852      17990\n",
       "19423    11798\n",
       "         ...  \n",
       "5886     26480\n",
       "13662     3690\n",
       "27278    10800\n",
       "36375     6934\n",
       "9232     15795\n",
       "Name: price, Length: 17253, dtype: int64"
      ]
     },
     "execution_count": 11,
     "metadata": {},
     "output_type": "execute_result"
    }
   ],
   "source": [
    "y_test_prime = y_test\n",
    "\n",
    "y_test_prime"
   ]
  },
  {
   "cell_type": "code",
   "execution_count": 12,
   "id": "3c5e3148",
   "metadata": {},
   "outputs": [],
   "source": [
    "param_grid ={  } "
   ]
  },
  {
   "cell_type": "code",
   "execution_count": 13,
   "id": "6928cb7a",
   "metadata": {},
   "outputs": [
    {
     "data": {
      "text/plain": [
       "{}"
      ]
     },
     "execution_count": 13,
     "metadata": {},
     "output_type": "execute_result"
    }
   ],
   "source": [
    "param_grid"
   ]
  },
  {
   "cell_type": "code",
   "execution_count": 14,
   "id": "c3d23d14",
   "metadata": {},
   "outputs": [],
   "source": [
    "grid_search = GridSearchCV(GradientBoostingRegressor(loss= 'huber'),\n",
    "                           param_grid, cv=3, return_train_score=True) "
   ]
  },
  {
   "cell_type": "code",
   "execution_count": 15,
   "id": "1db7226c",
   "metadata": {},
   "outputs": [
    {
     "data": {
      "text/plain": [
       "GridSearchCV(cv=3, estimator=GradientBoostingRegressor(loss='huber'),\n",
       "             param_grid={}, return_train_score=True)"
      ]
     },
     "execution_count": 15,
     "metadata": {},
     "output_type": "execute_result"
    }
   ],
   "source": [
    "grid_search.fit(x_train, y_prime)"
   ]
  },
  {
   "cell_type": "code",
   "execution_count": 16,
   "id": "a0ab8b86",
   "metadata": {},
   "outputs": [
    {
     "data": {
      "text/plain": [
       "array([19915.88924217, 17478.47365837, 20011.45367402, ...,\n",
       "       12520.92678305,  8295.3528005 , 18888.59408693])"
      ]
     },
     "execution_count": 16,
     "metadata": {},
     "output_type": "execute_result"
    }
   ],
   "source": [
    "y_pred = grid_search.predict(x_test) #예축값 \n",
    "y_pred"
   ]
  },
  {
   "cell_type": "code",
   "execution_count": 17,
   "id": "5ae0cf23",
   "metadata": {},
   "outputs": [
    {
     "name": "stdout",
     "output_type": "stream",
     "text": [
      "훈련 세트의 정확도 : 0.8593 \n",
      "테스트 세트의 정확도 : 0.8560 \n"
     ]
    }
   ],
   "source": [
    "print('훈련 세트의 정확도 : {:.4f} '. format(grid_search.score(x_train, y_prime)))\n",
    "print('테스트 세트의 정확도 : {:.4f} '. format(grid_search.score(x_test, y_test_prime)))  "
   ]
  },
  {
   "cell_type": "code",
   "execution_count": 18,
   "id": "349ca26f",
   "metadata": {},
   "outputs": [
    {
     "name": "stdout",
     "output_type": "stream",
     "text": [
      "경사부스팅의 오차: 1977.9316\n"
     ]
    }
   ],
   "source": [
    "mae_pred =  mean_absolute_error(y_test_prime, grid_search.predict(x_test))\n",
    "\n",
    "print('경사부스팅의 오차: {:.4f}'.format(mae_pred))"
   ]
  },
  {
   "cell_type": "code",
   "execution_count": 19,
   "id": "f48de846",
   "metadata": {},
   "outputs": [],
   "source": [
    "# -------------------------------------"
   ]
  },
  {
   "cell_type": "markdown",
   "id": "16036643",
   "metadata": {},
   "source": [
    "## 하이퍼 파라미터 튜닝"
   ]
  },
  {
   "cell_type": "markdown",
   "id": "da39bb05",
   "metadata": {},
   "source": [
    "### n_estimators 조절"
   ]
  },
  {
   "cell_type": "code",
   "execution_count": 20,
   "id": "4f113ee1",
   "metadata": {},
   "outputs": [],
   "source": [
    "n_estimators = [100, 500, 1000] # weak learner의 개수. 개수가 많을수록 일정 수준까지는 좋아지지만 수행 시간이 오래 걸림\n",
    "#learning_rate = [0.1, 0.5, 1] # (0.1)GBM이 학습을 진행할 때마다 적용하는 학습률. 0~1. \n",
    "#max_depth = [1, 2, 3, 4] # (3)트리의 최대 깊이. 깊이가 깊어지면 과적합이 될 수 있으므로 적절히 제어 필요.\n",
    "#min_samples_leaf = [5, 10, 15] # (1)리프노드가 되기 위한 최소한의 샘플 데이터 수. 불균형 데이터의 경우 특정 클래스 데이터가 극도로 덕을 수 있으므로 작은 값으로 설정이 필요\n",
    "#min_samples_split = [2, 5, 10] # (2)노드를 분할하기 위한 최소한의 샘플 데이터 수.\n",
    "\n",
    "# max_features\n",
    "# max_leaf_nodes\n",
    "# loss\n",
    "# subsample\n",
    "\n",
    "# https://sevillabk.github.io/Boosting/ \n",
    "\n",
    "param_grid = {'n_estimators' : n_estimators}\n",
    "              #'learning_rate' : learning_rate,\n",
    "              #'max_depth' : max_depth,\n",
    "              #'min_samples_leaf' : min_samples_leaf,\n",
    "              #'min_samples_split' : min_samples_split}"
   ]
  },
  {
   "cell_type": "code",
   "execution_count": 21,
   "id": "b503d442",
   "metadata": {},
   "outputs": [],
   "source": [
    "gb = GridSearchCV(GradientBoostingRegressor(loss= 'huber'), #gridSearchcv 최적의 파라미터를 찾는 함수 \n",
    "                  param_grid, cv=3, return_train_score=True)"
   ]
  },
  {
   "cell_type": "code",
   "execution_count": 22,
   "id": "99813bce",
   "metadata": {},
   "outputs": [
    {
     "data": {
      "text/plain": [
       "{'n_estimators': [100, 500, 1000]}"
      ]
     },
     "execution_count": 22,
     "metadata": {},
     "output_type": "execute_result"
    }
   ],
   "source": [
    "param_grid"
   ]
  },
  {
   "cell_type": "code",
   "execution_count": 23,
   "id": "9af77a04",
   "metadata": {},
   "outputs": [
    {
     "data": {
      "text/plain": [
       "GridSearchCV(cv=3, estimator=GradientBoostingRegressor(loss='huber'),\n",
       "             param_grid={'n_estimators': [100, 500, 1000]},\n",
       "             return_train_score=True)"
      ]
     },
     "execution_count": 23,
     "metadata": {},
     "output_type": "execute_result"
    }
   ],
   "source": [
    "gb.fit(x_train, y_prime)"
   ]
  },
  {
   "cell_type": "code",
   "execution_count": 24,
   "id": "a1f63f5f",
   "metadata": {},
   "outputs": [
    {
     "name": "stdout",
     "output_type": "stream",
     "text": [
      "최적 하이퍼 파라미터:  {'n_estimators': 1000}\n"
     ]
    }
   ],
   "source": [
    "print('최적 하이퍼 파라미터: ', gb.best_params_)"
   ]
  },
  {
   "cell_type": "code",
   "execution_count": 25,
   "id": "51f4dcfe",
   "metadata": {},
   "outputs": [
    {
     "name": "stdout",
     "output_type": "stream",
     "text": [
      "훈련 세트의 정확도 : 0.9173 \n",
      "테스트 세트의 정확도 : 0.9137 \n"
     ]
    }
   ],
   "source": [
    "print('훈련 세트의 정확도 : {:.4f} '. format(gb.score(x_train, y_prime)))\n",
    "print('테스트 세트의 정확도 : {:.4f} '.format(gb.score(x_test, y_test_prime))) "
   ]
  },
  {
   "cell_type": "code",
   "execution_count": 26,
   "id": "1a11e1ed",
   "metadata": {},
   "outputs": [
    {
     "name": "stdout",
     "output_type": "stream",
     "text": [
      "경사부스팅의 오차: 1450.1396\n"
     ]
    }
   ],
   "source": [
    "# MAE : 평균오차절대값\n",
    "mae_pred =  mean_absolute_error(y_test_prime, gb.predict(x_test))\n",
    "print('경사부스팅의 오차: {:.4f}'.format(mae_pred))"
   ]
  },
  {
   "cell_type": "markdown",
   "id": "bcd5615f",
   "metadata": {},
   "source": [
    "### learning_rate 조절"
   ]
  },
  {
   "cell_type": "code",
   "execution_count": 27,
   "id": "0a956138",
   "metadata": {},
   "outputs": [],
   "source": [
    "n_estimators = [1000] # weak learner의 개수. 개수가 많을수록 일정 수준까지는 좋아지지만 수행 시간이 오래 걸림\n",
    "learning_rate = [0.1, 0.5, 1] # (0.1)GBM이 학습을 진행할 때마다 적용하는 학습률. 0~1. \n",
    "#max_depth = [1, 2, 3, 4] # (3)트리의 최대 깊이. 깊이가 깊어지면 과적합이 될 수 있으므로 적절히 제어 필요.\n",
    "#min_samples_leaf = [5, 10, 15] # (1)리프노드가 되기 위한 최소한의 샘플 데이터 수. 불균형 데이터의 경우 특정 클래스 데이터가 극도로 덕을 수 있으므로 작은 값으로 설정이 필요\n",
    "#min_samples_split = [2, 5, 10] # (2)노드를 분할하기 위한 최소한의 샘플 데이터 수.\n",
    "\n",
    "# max_features\n",
    "# max_leaf_nodes\n",
    "# loss\n",
    "# subsample\n",
    "\n",
    "# https://sevillabk.github.io/Boosting/ \n",
    "\n",
    "param_grid = {'n_estimators' : n_estimators,\n",
    "              'learning_rate' : learning_rate}\n",
    "              #'max_depth' : max_depth,\n",
    "              #'min_samples_leaf' : min_samples_leaf,\n",
    "              #'min_samples_split' : min_samples_split}"
   ]
  },
  {
   "cell_type": "code",
   "execution_count": 28,
   "id": "0a7e7ac5",
   "metadata": {},
   "outputs": [
    {
     "data": {
      "text/plain": [
       "{'n_estimators': [1000], 'learning_rate': [0.1, 0.5, 1]}"
      ]
     },
     "execution_count": 28,
     "metadata": {},
     "output_type": "execute_result"
    }
   ],
   "source": [
    "param_grid"
   ]
  },
  {
   "cell_type": "code",
   "execution_count": 29,
   "id": "1991261d",
   "metadata": {},
   "outputs": [],
   "source": [
    "gb_2 = GridSearchCV(GradientBoostingRegressor(loss= 'huber'),\n",
    "                  param_grid, cv=3, return_train_score=True)"
   ]
  },
  {
   "cell_type": "code",
   "execution_count": 30,
   "id": "b7007f6f",
   "metadata": {},
   "outputs": [
    {
     "data": {
      "text/plain": [
       "GridSearchCV(cv=3, estimator=GradientBoostingRegressor(loss='huber'),\n",
       "             param_grid={'learning_rate': [0.1, 0.5, 1],\n",
       "                         'n_estimators': [1000]},\n",
       "             return_train_score=True)"
      ]
     },
     "execution_count": 30,
     "metadata": {},
     "output_type": "execute_result"
    }
   ],
   "source": [
    "gb_2.fit(x_train, y_prime)"
   ]
  },
  {
   "cell_type": "code",
   "execution_count": 31,
   "id": "1d620185",
   "metadata": {},
   "outputs": [
    {
     "name": "stdout",
     "output_type": "stream",
     "text": [
      "최적 하이퍼 파라미터:  {'learning_rate': 0.5, 'n_estimators': 1000}\n"
     ]
    }
   ],
   "source": [
    "print('최적 하이퍼 파라미터: ', gb_2.best_params_)"
   ]
  },
  {
   "cell_type": "code",
   "execution_count": 65,
   "id": "2270c0b1",
   "metadata": {},
   "outputs": [
    {
     "name": "stdout",
     "output_type": "stream",
     "text": [
      "훈련 세트의 정확도 : 0.9440 \n",
      "테스트 세트의 정확도 : 0.9253 \n"
     ]
    }
   ],
   "source": [
    "print('훈련 세트의 정확도 : {:.4f} '. format(gb_2.score(x_train, y_prime)))\n",
    "print('테스트 세트의 정확도 : {:.4f} '.  format(gb_2.score(x_test, y_test_prime))) "
   ]
  },
  {
   "cell_type": "code",
   "execution_count": 66,
   "id": "2277a575",
   "metadata": {},
   "outputs": [
    {
     "name": "stdout",
     "output_type": "stream",
     "text": [
      "경사부스팅의 오차: 1357.5513\n"
     ]
    }
   ],
   "source": [
    "# MAE : 평균오차절대값\n",
    "\n",
    "mae_pred =  mean_absolute_error(y_test_prime, gb_2.predict(x_test))\n",
    "print('경사부스팅의 오차: {:.4f}'.format(mae_pred))"
   ]
  },
  {
   "cell_type": "markdown",
   "id": "258a0075",
   "metadata": {},
   "source": [
    "### max_depth 조절"
   ]
  },
  {
   "cell_type": "code",
   "execution_count": 35,
   "id": "77da2a55",
   "metadata": {},
   "outputs": [],
   "source": [
    "n_estimators = [1000] # weak learner의 개수. 개수가 많을수록 일정 수준까지는 좋아지지만 수행 시간이 오래 걸림\n",
    "learning_rate = [0.5] # (0.1)GBM이 학습을 진행할 때마다 적용하는 학습률. 0~1. \n",
    "max_depth = [1, 2, 3, 4] # (3)트리의 최대 깊이. 깊이가 깊어지면 과적합이 될 수 있으므로 적절히 제어 필요.\n",
    "#min_samples_leaf = [5, 10, 15] # (1)리프노드가 되기 위한 최소한의 샘플 데이터 수. 불균형 데이터의 경우 특정 클래스 데이터가 극도로 덕을 수 있으므로 작은 값으로 설정이 필요\n",
    "#min_samples_split = [2, 5, 10] # (2)노드를 분할하기 위한 최소한의 샘플 데이터 수.\n",
    "\n",
    "# max_features\n",
    "# max_leaf_nodes\n",
    "# loss\n",
    "# subsample\n",
    "\n",
    "# https://sevillabk.github.io/Boosting/ \n",
    "\n",
    "param_grid = {'n_estimators' : n_estimators,\n",
    "              'learning_rate' : learning_rate,\n",
    "              'max_depth' : max_depth}\n",
    "              #'min_samples_leaf' : min_samples_leaf,\n",
    "              #'min_samples_split' : min_samples_split}"
   ]
  },
  {
   "cell_type": "code",
   "execution_count": 36,
   "id": "ea20bc95",
   "metadata": {},
   "outputs": [
    {
     "data": {
      "text/plain": [
       "{'n_estimators': [1000], 'learning_rate': [0.5], 'max_depth': [1, 2, 3, 4]}"
      ]
     },
     "execution_count": 36,
     "metadata": {},
     "output_type": "execute_result"
    }
   ],
   "source": [
    "param_grid"
   ]
  },
  {
   "cell_type": "code",
   "execution_count": 37,
   "id": "43d32f3b",
   "metadata": {},
   "outputs": [],
   "source": [
    "gb_3 = GridSearchCV(GradientBoostingRegressor(loss= 'huber'),\n",
    "                  param_grid, cv=3, return_train_score=True)"
   ]
  },
  {
   "cell_type": "code",
   "execution_count": 38,
   "id": "8e6a7741",
   "metadata": {},
   "outputs": [
    {
     "data": {
      "text/plain": [
       "GridSearchCV(cv=3, estimator=GradientBoostingRegressor(loss='huber'),\n",
       "             param_grid={'learning_rate': [0.5], 'max_depth': [1, 2, 3, 4],\n",
       "                         'n_estimators': [1000]},\n",
       "             return_train_score=True)"
      ]
     },
     "execution_count": 38,
     "metadata": {},
     "output_type": "execute_result"
    }
   ],
   "source": [
    "gb_3.fit(x_train, y_prime)"
   ]
  },
  {
   "cell_type": "code",
   "execution_count": 39,
   "id": "fe612023",
   "metadata": {},
   "outputs": [
    {
     "name": "stdout",
     "output_type": "stream",
     "text": [
      "최적 하이퍼 파라미터:  {'learning_rate': 0.5, 'max_depth': 4, 'n_estimators': 1000}\n"
     ]
    }
   ],
   "source": [
    "print('최적 하이퍼 파라미터: ', gb_3.best_params_)"
   ]
  },
  {
   "cell_type": "code",
   "execution_count": 40,
   "id": "c7a324f1",
   "metadata": {},
   "outputs": [
    {
     "name": "stdout",
     "output_type": "stream",
     "text": [
      "훈련 세트의 정확도 : 0.9603 \n",
      "테스트 세트의 정확도 : 0.9253 \n"
     ]
    }
   ],
   "source": [
    "print('훈련 세트의 정확도 : {:.4f} '. format(gb_3.score(x_train, y_prime)))\n",
    "print('테스트 세트의 정확도 : {:.4f} '.  format(gb_3.score(x_test, y_test_prime))) "
   ]
  },
  {
   "cell_type": "code",
   "execution_count": 41,
   "id": "333c0964",
   "metadata": {},
   "outputs": [
    {
     "name": "stdout",
     "output_type": "stream",
     "text": [
      "경사부스팅의 오차: 1340.4182\n"
     ]
    }
   ],
   "source": [
    "# MAE : 평균오차절대값\n",
    "mae_pred =  mean_absolute_error(y_test_prime, gb_3.predict(x_test))\n",
    "print('경사부스팅의 오차: {:.4f}'.format(mae_pred))"
   ]
  },
  {
   "cell_type": "markdown",
   "id": "207977d4",
   "metadata": {},
   "source": [
    "### min_samples_leaf 조절"
   ]
  },
  {
   "cell_type": "code",
   "execution_count": 67,
   "id": "2ae4e82c",
   "metadata": {},
   "outputs": [],
   "source": [
    "n_estimators = [1000] # weak learner의 개수. 개수가 많을수록 일정 수준까지는 좋아지지만 수행 시간이 오래 걸림\n",
    "learning_rate = [0.5] # (0.1)GBM이 학습을 진행할 때마다 적용하는 학습률. 0~1. \n",
    "max_depth = [4] # (3)트리의 최대 깊이. 깊이가 깊어지면 과적합이 될 수 있으므로 적절히 제어 필요.\n",
    "min_samples_leaf = [5, 10, 15] # (1)리프노드가 되기 위한 최소한의 샘플 데이터 수. 불균형 데이터의 경우 특정 클래스 데이터가 극도로 덕을 수 있으므로 작은 값으로 설정이 필요\n",
    "#min_samples_split = [2, 5, 10] # (2)노드를 분할하기 위한 최소한의 샘플 데이터 수.\n",
    "\n",
    "# max_features\n",
    "# max_leaf_nodes\n",
    "# loss\n",
    "# subsample\n",
    "\n",
    "# https://sevillabk.github.io/Boosting/ \n",
    "\n",
    "param_grid = {'n_estimators' : n_estimators,\n",
    "              'learning_rate' : learning_rate,\n",
    "              'max_depth' : max_depth,\n",
    "              'min_samples_leaf' : min_samples_leaf}\n",
    "              #'min_samples_split' : min_samples_split}"
   ]
  },
  {
   "cell_type": "code",
   "execution_count": 69,
   "id": "a87d5102",
   "metadata": {},
   "outputs": [
    {
     "data": {
      "text/plain": [
       "{'n_estimators': [1000],\n",
       " 'learning_rate': [0.5],\n",
       " 'max_depth': [4],\n",
       " 'min_samples_leaf': [5, 10, 15]}"
      ]
     },
     "execution_count": 69,
     "metadata": {},
     "output_type": "execute_result"
    }
   ],
   "source": [
    "param_grid"
   ]
  },
  {
   "cell_type": "code",
   "execution_count": 70,
   "id": "0d991298",
   "metadata": {},
   "outputs": [],
   "source": [
    "gb_4 = GridSearchCV(GradientBoostingRegressor(loss= 'huber'),\n",
    "                  param_grid, cv=3, return_train_score=True)"
   ]
  },
  {
   "cell_type": "code",
   "execution_count": 71,
   "id": "49232710",
   "metadata": {},
   "outputs": [
    {
     "data": {
      "text/plain": [
       "GridSearchCV(cv=3, estimator=GradientBoostingRegressor(loss='huber'),\n",
       "             param_grid={'learning_rate': [0.5], 'max_depth': [4],\n",
       "                         'min_samples_leaf': [5, 10, 15],\n",
       "                         'n_estimators': [1000]},\n",
       "             return_train_score=True)"
      ]
     },
     "execution_count": 71,
     "metadata": {},
     "output_type": "execute_result"
    }
   ],
   "source": [
    "gb_4.fit(x_train, y_prime)"
   ]
  },
  {
   "cell_type": "code",
   "execution_count": 72,
   "id": "d7f8566e",
   "metadata": {},
   "outputs": [
    {
     "name": "stdout",
     "output_type": "stream",
     "text": [
      "최적 하이퍼 파라미터:  {'learning_rate': 0.5, 'max_depth': 4, 'min_samples_leaf': 15, 'n_estimators': 1000}\n"
     ]
    }
   ],
   "source": [
    "print('최적 하이퍼 파라미터: ', gb_4.best_params_)"
   ]
  },
  {
   "cell_type": "code",
   "execution_count": 73,
   "id": "63b90261",
   "metadata": {},
   "outputs": [
    {
     "name": "stdout",
     "output_type": "stream",
     "text": [
      "훈련 세트의 정확도 : 0.9501 \n",
      "테스트 세트의 정확도 : 0.9294 \n"
     ]
    }
   ],
   "source": [
    "print('훈련 세트의 정확도 : {:.4f} '. format(gb_4.score(x_train, y_prime)))\n",
    "print('테스트 세트의 정확도 : {:.4f} '. format(gb_4.score(x_test, y_test_prime))) "
   ]
  },
  {
   "cell_type": "code",
   "execution_count": 74,
   "id": "5418f518",
   "metadata": {},
   "outputs": [
    {
     "name": "stdout",
     "output_type": "stream",
     "text": [
      "경사부스팅의 오차: 1307.5158\n"
     ]
    }
   ],
   "source": [
    "# MAE : 평균오차절대값\n",
    "\n",
    "mae_pred =  mean_absolute_error(y_test_prime, gb_4.predict(x_test))\n",
    "print('경사부스팅의 오차: {:.4f}'.format(mae_pred))"
   ]
  },
  {
   "cell_type": "markdown",
   "id": "448f1161",
   "metadata": {},
   "source": [
    "### min_samples_split 조절"
   ]
  },
  {
   "cell_type": "code",
   "execution_count": 75,
   "id": "e0910bfe",
   "metadata": {},
   "outputs": [],
   "source": [
    "n_estimators = [1000] # weak learner의 개수. 개수가 많을수록 일정 수준까지는 좋아지지만 수행 시간이 오래 걸림\n",
    "learning_rate = [0.5] # (0.1)GBM이 학습을 진행할 때마다 적용하는 학습률. 0~1. \n",
    "max_depth = [4] # (3)트리의 최대 깊이. 깊이가 깊어지면 과적합이 될 수 있으므로 적절히 제어 필요.\n",
    "min_samples_leaf = [5] # (1)리프노드가 되기 위한 최소한의 샘플 데이터 수. 불균형 데이터의 경우 특정 클래스 데이터가 극도로 덕을 수 있으므로 작은 값으로 설정이 필요\n",
    "min_samples_split = [2, 5, 10] # (2)노드를 분할하기 위한 최소한의 샘플 데이터 수.\n",
    "\n",
    "# max_features\n",
    "# max_leaf_nodes\n",
    "# loss\n",
    "# subsample\n",
    "\n",
    "# https://sevillabk.github.io/Boosting/ \n",
    "\n",
    "param_grid = {'n_estimators' : n_estimators,\n",
    "              'learning_rate' : learning_rate,\n",
    "              'max_depth' : max_depth,\n",
    "              'min_samples_leaf' : min_samples_leaf,\n",
    "              'min_samples_split' : min_samples_split}"
   ]
  },
  {
   "cell_type": "code",
   "execution_count": 76,
   "id": "c7a3e6b9",
   "metadata": {},
   "outputs": [
    {
     "data": {
      "text/plain": [
       "{'n_estimators': [1000],\n",
       " 'learning_rate': [0.5],\n",
       " 'max_depth': [4],\n",
       " 'min_samples_leaf': [5],\n",
       " 'min_samples_split': [2, 5, 10]}"
      ]
     },
     "execution_count": 76,
     "metadata": {},
     "output_type": "execute_result"
    }
   ],
   "source": [
    "param_grid"
   ]
  },
  {
   "cell_type": "code",
   "execution_count": 77,
   "id": "55fb8c9d",
   "metadata": {},
   "outputs": [],
   "source": [
    "gb_5 = GridSearchCV(GradientBoostingRegressor(loss= 'huber'),\n",
    "                  param_grid, cv=3, return_train_score=True)"
   ]
  },
  {
   "cell_type": "code",
   "execution_count": 78,
   "id": "bc71fabb",
   "metadata": {},
   "outputs": [
    {
     "data": {
      "text/plain": [
       "GridSearchCV(cv=3, estimator=GradientBoostingRegressor(loss='huber'),\n",
       "             param_grid={'learning_rate': [0.5], 'max_depth': [4],\n",
       "                         'min_samples_leaf': [5],\n",
       "                         'min_samples_split': [2, 5, 10],\n",
       "                         'n_estimators': [1000]},\n",
       "             return_train_score=True)"
      ]
     },
     "execution_count": 78,
     "metadata": {},
     "output_type": "execute_result"
    }
   ],
   "source": [
    "gb_5.fit(x_train, y_prime)"
   ]
  },
  {
   "cell_type": "code",
   "execution_count": 79,
   "id": "587a9a85",
   "metadata": {
    "scrolled": true
   },
   "outputs": [
    {
     "name": "stdout",
     "output_type": "stream",
     "text": [
      "최적 하이퍼 파라미터:  {'learning_rate': 0.5, 'max_depth': 4, 'min_samples_leaf': 5, 'min_samples_split': 5, 'n_estimators': 1000}\n"
     ]
    }
   ],
   "source": [
    "print('최적 하이퍼 파라미터: ', gb_5.best_params_)"
   ]
  },
  {
   "cell_type": "code",
   "execution_count": 80,
   "id": "10fd5283",
   "metadata": {},
   "outputs": [
    {
     "name": "stdout",
     "output_type": "stream",
     "text": [
      "훈련 세트의 정확도 : 0.9545 \n",
      "테스트 세트의 정확도 : 0.9281 \n"
     ]
    }
   ],
   "source": [
    "print('훈련 세트의 정확도 : {:.4f} '. format(gb_5.score(x_train, y_prime)))\n",
    "print('테스트 세트의 정확도 : {:.4f} '. format(gb_5.score(x_test, y_test_prime))) "
   ]
  },
  {
   "cell_type": "code",
   "execution_count": 81,
   "id": "166a8868",
   "metadata": {},
   "outputs": [
    {
     "name": "stdout",
     "output_type": "stream",
     "text": [
      "경사부스팅의 오차: 1326.1928\n"
     ]
    }
   ],
   "source": [
    "# MAE : 평균오차절대값\n",
    "mae_pred =  mean_absolute_error(y_test_prime, gb_5.predict(x_test))\n",
    "print('경사부스팅의 오차: {:.4f}'.format(mae_pred))\n"
   ]
  },
  {
   "cell_type": "markdown",
   "id": "69500664",
   "metadata": {},
   "source": [
    "### 최종 파라미터"
   ]
  },
  {
   "cell_type": "code",
   "execution_count": 14,
   "id": "75e41b16",
   "metadata": {},
   "outputs": [],
   "source": [
    "n_estimators = [1000] # weak learner의 개수. 개수가 많을수록 일정 수준까지는 좋아지지만 수행 시간이 오래 걸림\n",
    "learning_rate = [0.5] # (0.1)GBM이 학습을 진행할 때마다 적용하는 학습률. 0~1. \n",
    "max_depth = [4] # (3)트리의 최대 깊이. 깊이가 깊어지면 과적합이 될 수 있으므로 적절히 제어 필요.\n",
    "min_samples_leaf = [5] # (1)리프노드가 되기 위한 최소한의 샘플 데이터 수. 불균형 데이터의 경우 특정 클래스 데이터가 극도로 덕을 수 있으므로 작은 값으로 설정이 필요\n",
    "min_samples_split = [10] # (2)노드를 분할하기 위한 최소한의 샘플 데이터 수.\n",
    "\n",
    "# max_features\n",
    "# max_leaf_nodes\n",
    "# loss\n",
    "# subsample\n",
    "\n",
    "# https://sevillabk.github.io/Boosting/ \n",
    "\n",
    "param_grid = {'n_estimators' : n_estimators,\n",
    "              'learning_rate' : learning_rate,\n",
    "              'max_depth' : max_depth,\n",
    "              'min_samples_leaf' : min_samples_leaf,\n",
    "              'min_samples_split' : min_samples_split}"
   ]
  },
  {
   "cell_type": "code",
   "execution_count": 15,
   "id": "299c69cd",
   "metadata": {},
   "outputs": [
    {
     "data": {
      "text/plain": [
       "{'n_estimators': [1000],\n",
       " 'learning_rate': [0.5],\n",
       " 'max_depth': [4],\n",
       " 'min_samples_leaf': [5],\n",
       " 'min_samples_split': [10]}"
      ]
     },
     "execution_count": 15,
     "metadata": {},
     "output_type": "execute_result"
    }
   ],
   "source": [
    "param_grid"
   ]
  },
  {
   "cell_type": "code",
   "execution_count": 16,
   "id": "bca2dd13",
   "metadata": {},
   "outputs": [],
   "source": [
    "gb_6 = GridSearchCV(GradientBoostingRegressor(loss= 'huber'),\n",
    "                  param_grid, cv=3, return_train_score=True)"
   ]
  },
  {
   "cell_type": "code",
   "execution_count": 17,
   "id": "b137221d",
   "metadata": {},
   "outputs": [
    {
     "ename": "KeyboardInterrupt",
     "evalue": "",
     "output_type": "error",
     "traceback": [
      "\u001b[1;31m---------------------------------------------------------------------------\u001b[0m",
      "\u001b[1;31mKeyboardInterrupt\u001b[0m                         Traceback (most recent call last)",
      "\u001b[1;32m~\\AppData\\Local\\Temp/ipykernel_4052/1372402691.py\u001b[0m in \u001b[0;36m<module>\u001b[1;34m\u001b[0m\n\u001b[1;32m----> 1\u001b[1;33m \u001b[0mgb_6\u001b[0m\u001b[1;33m.\u001b[0m\u001b[0mfit\u001b[0m\u001b[1;33m(\u001b[0m\u001b[0mx_train\u001b[0m\u001b[1;33m,\u001b[0m \u001b[0my_prime\u001b[0m\u001b[1;33m)\u001b[0m\u001b[1;33m\u001b[0m\u001b[1;33m\u001b[0m\u001b[0m\n\u001b[0m",
      "\u001b[1;32m~\\anaconda3\\lib\\site-packages\\sklearn\\utils\\validation.py\u001b[0m in \u001b[0;36minner_f\u001b[1;34m(*args, **kwargs)\u001b[0m\n\u001b[0;32m     61\u001b[0m             \u001b[0mextra_args\u001b[0m \u001b[1;33m=\u001b[0m \u001b[0mlen\u001b[0m\u001b[1;33m(\u001b[0m\u001b[0margs\u001b[0m\u001b[1;33m)\u001b[0m \u001b[1;33m-\u001b[0m \u001b[0mlen\u001b[0m\u001b[1;33m(\u001b[0m\u001b[0mall_args\u001b[0m\u001b[1;33m)\u001b[0m\u001b[1;33m\u001b[0m\u001b[1;33m\u001b[0m\u001b[0m\n\u001b[0;32m     62\u001b[0m             \u001b[1;32mif\u001b[0m \u001b[0mextra_args\u001b[0m \u001b[1;33m<=\u001b[0m \u001b[1;36m0\u001b[0m\u001b[1;33m:\u001b[0m\u001b[1;33m\u001b[0m\u001b[1;33m\u001b[0m\u001b[0m\n\u001b[1;32m---> 63\u001b[1;33m                 \u001b[1;32mreturn\u001b[0m \u001b[0mf\u001b[0m\u001b[1;33m(\u001b[0m\u001b[1;33m*\u001b[0m\u001b[0margs\u001b[0m\u001b[1;33m,\u001b[0m \u001b[1;33m**\u001b[0m\u001b[0mkwargs\u001b[0m\u001b[1;33m)\u001b[0m\u001b[1;33m\u001b[0m\u001b[1;33m\u001b[0m\u001b[0m\n\u001b[0m\u001b[0;32m     64\u001b[0m \u001b[1;33m\u001b[0m\u001b[0m\n\u001b[0;32m     65\u001b[0m             \u001b[1;31m# extra_args > 0\u001b[0m\u001b[1;33m\u001b[0m\u001b[1;33m\u001b[0m\u001b[0m\n",
      "\u001b[1;32m~\\anaconda3\\lib\\site-packages\\sklearn\\model_selection\\_search.py\u001b[0m in \u001b[0;36mfit\u001b[1;34m(self, X, y, groups, **fit_params)\u001b[0m\n\u001b[0;32m    839\u001b[0m                 \u001b[1;32mreturn\u001b[0m \u001b[0mresults\u001b[0m\u001b[1;33m\u001b[0m\u001b[1;33m\u001b[0m\u001b[0m\n\u001b[0;32m    840\u001b[0m \u001b[1;33m\u001b[0m\u001b[0m\n\u001b[1;32m--> 841\u001b[1;33m             \u001b[0mself\u001b[0m\u001b[1;33m.\u001b[0m\u001b[0m_run_search\u001b[0m\u001b[1;33m(\u001b[0m\u001b[0mevaluate_candidates\u001b[0m\u001b[1;33m)\u001b[0m\u001b[1;33m\u001b[0m\u001b[1;33m\u001b[0m\u001b[0m\n\u001b[0m\u001b[0;32m    842\u001b[0m \u001b[1;33m\u001b[0m\u001b[0m\n\u001b[0;32m    843\u001b[0m             \u001b[1;31m# multimetric is determined here because in the case of a callable\u001b[0m\u001b[1;33m\u001b[0m\u001b[1;33m\u001b[0m\u001b[0m\n",
      "\u001b[1;32m~\\anaconda3\\lib\\site-packages\\sklearn\\model_selection\\_search.py\u001b[0m in \u001b[0;36m_run_search\u001b[1;34m(self, evaluate_candidates)\u001b[0m\n\u001b[0;32m   1294\u001b[0m     \u001b[1;32mdef\u001b[0m \u001b[0m_run_search\u001b[0m\u001b[1;33m(\u001b[0m\u001b[0mself\u001b[0m\u001b[1;33m,\u001b[0m \u001b[0mevaluate_candidates\u001b[0m\u001b[1;33m)\u001b[0m\u001b[1;33m:\u001b[0m\u001b[1;33m\u001b[0m\u001b[1;33m\u001b[0m\u001b[0m\n\u001b[0;32m   1295\u001b[0m         \u001b[1;34m\"\"\"Search all candidates in param_grid\"\"\"\u001b[0m\u001b[1;33m\u001b[0m\u001b[1;33m\u001b[0m\u001b[0m\n\u001b[1;32m-> 1296\u001b[1;33m         \u001b[0mevaluate_candidates\u001b[0m\u001b[1;33m(\u001b[0m\u001b[0mParameterGrid\u001b[0m\u001b[1;33m(\u001b[0m\u001b[0mself\u001b[0m\u001b[1;33m.\u001b[0m\u001b[0mparam_grid\u001b[0m\u001b[1;33m)\u001b[0m\u001b[1;33m)\u001b[0m\u001b[1;33m\u001b[0m\u001b[1;33m\u001b[0m\u001b[0m\n\u001b[0m\u001b[0;32m   1297\u001b[0m \u001b[1;33m\u001b[0m\u001b[0m\n\u001b[0;32m   1298\u001b[0m \u001b[1;33m\u001b[0m\u001b[0m\n",
      "\u001b[1;32m~\\anaconda3\\lib\\site-packages\\sklearn\\model_selection\\_search.py\u001b[0m in \u001b[0;36mevaluate_candidates\u001b[1;34m(candidate_params, cv, more_results)\u001b[0m\n\u001b[0;32m    793\u001b[0m                               n_splits, n_candidates, n_candidates * n_splits))\n\u001b[0;32m    794\u001b[0m \u001b[1;33m\u001b[0m\u001b[0m\n\u001b[1;32m--> 795\u001b[1;33m                 out = parallel(delayed(_fit_and_score)(clone(base_estimator),\n\u001b[0m\u001b[0;32m    796\u001b[0m                                                        \u001b[0mX\u001b[0m\u001b[1;33m,\u001b[0m \u001b[0my\u001b[0m\u001b[1;33m,\u001b[0m\u001b[1;33m\u001b[0m\u001b[1;33m\u001b[0m\u001b[0m\n\u001b[0;32m    797\u001b[0m                                                        \u001b[0mtrain\u001b[0m\u001b[1;33m=\u001b[0m\u001b[0mtrain\u001b[0m\u001b[1;33m,\u001b[0m \u001b[0mtest\u001b[0m\u001b[1;33m=\u001b[0m\u001b[0mtest\u001b[0m\u001b[1;33m,\u001b[0m\u001b[1;33m\u001b[0m\u001b[1;33m\u001b[0m\u001b[0m\n",
      "\u001b[1;32m~\\anaconda3\\lib\\site-packages\\joblib\\parallel.py\u001b[0m in \u001b[0;36m__call__\u001b[1;34m(self, iterable)\u001b[0m\n\u001b[0;32m   1041\u001b[0m             \u001b[1;31m# remaining jobs.\u001b[0m\u001b[1;33m\u001b[0m\u001b[1;33m\u001b[0m\u001b[0m\n\u001b[0;32m   1042\u001b[0m             \u001b[0mself\u001b[0m\u001b[1;33m.\u001b[0m\u001b[0m_iterating\u001b[0m \u001b[1;33m=\u001b[0m \u001b[1;32mFalse\u001b[0m\u001b[1;33m\u001b[0m\u001b[1;33m\u001b[0m\u001b[0m\n\u001b[1;32m-> 1043\u001b[1;33m             \u001b[1;32mif\u001b[0m \u001b[0mself\u001b[0m\u001b[1;33m.\u001b[0m\u001b[0mdispatch_one_batch\u001b[0m\u001b[1;33m(\u001b[0m\u001b[0miterator\u001b[0m\u001b[1;33m)\u001b[0m\u001b[1;33m:\u001b[0m\u001b[1;33m\u001b[0m\u001b[1;33m\u001b[0m\u001b[0m\n\u001b[0m\u001b[0;32m   1044\u001b[0m                 \u001b[0mself\u001b[0m\u001b[1;33m.\u001b[0m\u001b[0m_iterating\u001b[0m \u001b[1;33m=\u001b[0m \u001b[0mself\u001b[0m\u001b[1;33m.\u001b[0m\u001b[0m_original_iterator\u001b[0m \u001b[1;32mis\u001b[0m \u001b[1;32mnot\u001b[0m \u001b[1;32mNone\u001b[0m\u001b[1;33m\u001b[0m\u001b[1;33m\u001b[0m\u001b[0m\n\u001b[0;32m   1045\u001b[0m \u001b[1;33m\u001b[0m\u001b[0m\n",
      "\u001b[1;32m~\\anaconda3\\lib\\site-packages\\joblib\\parallel.py\u001b[0m in \u001b[0;36mdispatch_one_batch\u001b[1;34m(self, iterator)\u001b[0m\n\u001b[0;32m    859\u001b[0m                 \u001b[1;32mreturn\u001b[0m \u001b[1;32mFalse\u001b[0m\u001b[1;33m\u001b[0m\u001b[1;33m\u001b[0m\u001b[0m\n\u001b[0;32m    860\u001b[0m             \u001b[1;32melse\u001b[0m\u001b[1;33m:\u001b[0m\u001b[1;33m\u001b[0m\u001b[1;33m\u001b[0m\u001b[0m\n\u001b[1;32m--> 861\u001b[1;33m                 \u001b[0mself\u001b[0m\u001b[1;33m.\u001b[0m\u001b[0m_dispatch\u001b[0m\u001b[1;33m(\u001b[0m\u001b[0mtasks\u001b[0m\u001b[1;33m)\u001b[0m\u001b[1;33m\u001b[0m\u001b[1;33m\u001b[0m\u001b[0m\n\u001b[0m\u001b[0;32m    862\u001b[0m                 \u001b[1;32mreturn\u001b[0m \u001b[1;32mTrue\u001b[0m\u001b[1;33m\u001b[0m\u001b[1;33m\u001b[0m\u001b[0m\n\u001b[0;32m    863\u001b[0m \u001b[1;33m\u001b[0m\u001b[0m\n",
      "\u001b[1;32m~\\anaconda3\\lib\\site-packages\\joblib\\parallel.py\u001b[0m in \u001b[0;36m_dispatch\u001b[1;34m(self, batch)\u001b[0m\n\u001b[0;32m    777\u001b[0m         \u001b[1;32mwith\u001b[0m \u001b[0mself\u001b[0m\u001b[1;33m.\u001b[0m\u001b[0m_lock\u001b[0m\u001b[1;33m:\u001b[0m\u001b[1;33m\u001b[0m\u001b[1;33m\u001b[0m\u001b[0m\n\u001b[0;32m    778\u001b[0m             \u001b[0mjob_idx\u001b[0m \u001b[1;33m=\u001b[0m \u001b[0mlen\u001b[0m\u001b[1;33m(\u001b[0m\u001b[0mself\u001b[0m\u001b[1;33m.\u001b[0m\u001b[0m_jobs\u001b[0m\u001b[1;33m)\u001b[0m\u001b[1;33m\u001b[0m\u001b[1;33m\u001b[0m\u001b[0m\n\u001b[1;32m--> 779\u001b[1;33m             \u001b[0mjob\u001b[0m \u001b[1;33m=\u001b[0m \u001b[0mself\u001b[0m\u001b[1;33m.\u001b[0m\u001b[0m_backend\u001b[0m\u001b[1;33m.\u001b[0m\u001b[0mapply_async\u001b[0m\u001b[1;33m(\u001b[0m\u001b[0mbatch\u001b[0m\u001b[1;33m,\u001b[0m \u001b[0mcallback\u001b[0m\u001b[1;33m=\u001b[0m\u001b[0mcb\u001b[0m\u001b[1;33m)\u001b[0m\u001b[1;33m\u001b[0m\u001b[1;33m\u001b[0m\u001b[0m\n\u001b[0m\u001b[0;32m    780\u001b[0m             \u001b[1;31m# A job can complete so quickly than its callback is\u001b[0m\u001b[1;33m\u001b[0m\u001b[1;33m\u001b[0m\u001b[0m\n\u001b[0;32m    781\u001b[0m             \u001b[1;31m# called before we get here, causing self._jobs to\u001b[0m\u001b[1;33m\u001b[0m\u001b[1;33m\u001b[0m\u001b[0m\n",
      "\u001b[1;32m~\\anaconda3\\lib\\site-packages\\joblib\\_parallel_backends.py\u001b[0m in \u001b[0;36mapply_async\u001b[1;34m(self, func, callback)\u001b[0m\n\u001b[0;32m    206\u001b[0m     \u001b[1;32mdef\u001b[0m \u001b[0mapply_async\u001b[0m\u001b[1;33m(\u001b[0m\u001b[0mself\u001b[0m\u001b[1;33m,\u001b[0m \u001b[0mfunc\u001b[0m\u001b[1;33m,\u001b[0m \u001b[0mcallback\u001b[0m\u001b[1;33m=\u001b[0m\u001b[1;32mNone\u001b[0m\u001b[1;33m)\u001b[0m\u001b[1;33m:\u001b[0m\u001b[1;33m\u001b[0m\u001b[1;33m\u001b[0m\u001b[0m\n\u001b[0;32m    207\u001b[0m         \u001b[1;34m\"\"\"Schedule a func to be run\"\"\"\u001b[0m\u001b[1;33m\u001b[0m\u001b[1;33m\u001b[0m\u001b[0m\n\u001b[1;32m--> 208\u001b[1;33m         \u001b[0mresult\u001b[0m \u001b[1;33m=\u001b[0m \u001b[0mImmediateResult\u001b[0m\u001b[1;33m(\u001b[0m\u001b[0mfunc\u001b[0m\u001b[1;33m)\u001b[0m\u001b[1;33m\u001b[0m\u001b[1;33m\u001b[0m\u001b[0m\n\u001b[0m\u001b[0;32m    209\u001b[0m         \u001b[1;32mif\u001b[0m \u001b[0mcallback\u001b[0m\u001b[1;33m:\u001b[0m\u001b[1;33m\u001b[0m\u001b[1;33m\u001b[0m\u001b[0m\n\u001b[0;32m    210\u001b[0m             \u001b[0mcallback\u001b[0m\u001b[1;33m(\u001b[0m\u001b[0mresult\u001b[0m\u001b[1;33m)\u001b[0m\u001b[1;33m\u001b[0m\u001b[1;33m\u001b[0m\u001b[0m\n",
      "\u001b[1;32m~\\anaconda3\\lib\\site-packages\\joblib\\_parallel_backends.py\u001b[0m in \u001b[0;36m__init__\u001b[1;34m(self, batch)\u001b[0m\n\u001b[0;32m    570\u001b[0m         \u001b[1;31m# Don't delay the application, to avoid keeping the input\u001b[0m\u001b[1;33m\u001b[0m\u001b[1;33m\u001b[0m\u001b[0m\n\u001b[0;32m    571\u001b[0m         \u001b[1;31m# arguments in memory\u001b[0m\u001b[1;33m\u001b[0m\u001b[1;33m\u001b[0m\u001b[0m\n\u001b[1;32m--> 572\u001b[1;33m         \u001b[0mself\u001b[0m\u001b[1;33m.\u001b[0m\u001b[0mresults\u001b[0m \u001b[1;33m=\u001b[0m \u001b[0mbatch\u001b[0m\u001b[1;33m(\u001b[0m\u001b[1;33m)\u001b[0m\u001b[1;33m\u001b[0m\u001b[1;33m\u001b[0m\u001b[0m\n\u001b[0m\u001b[0;32m    573\u001b[0m \u001b[1;33m\u001b[0m\u001b[0m\n\u001b[0;32m    574\u001b[0m     \u001b[1;32mdef\u001b[0m \u001b[0mget\u001b[0m\u001b[1;33m(\u001b[0m\u001b[0mself\u001b[0m\u001b[1;33m)\u001b[0m\u001b[1;33m:\u001b[0m\u001b[1;33m\u001b[0m\u001b[1;33m\u001b[0m\u001b[0m\n",
      "\u001b[1;32m~\\anaconda3\\lib\\site-packages\\joblib\\parallel.py\u001b[0m in \u001b[0;36m__call__\u001b[1;34m(self)\u001b[0m\n\u001b[0;32m    260\u001b[0m         \u001b[1;31m# change the default number of processes to -1\u001b[0m\u001b[1;33m\u001b[0m\u001b[1;33m\u001b[0m\u001b[0m\n\u001b[0;32m    261\u001b[0m         \u001b[1;32mwith\u001b[0m \u001b[0mparallel_backend\u001b[0m\u001b[1;33m(\u001b[0m\u001b[0mself\u001b[0m\u001b[1;33m.\u001b[0m\u001b[0m_backend\u001b[0m\u001b[1;33m,\u001b[0m \u001b[0mn_jobs\u001b[0m\u001b[1;33m=\u001b[0m\u001b[0mself\u001b[0m\u001b[1;33m.\u001b[0m\u001b[0m_n_jobs\u001b[0m\u001b[1;33m)\u001b[0m\u001b[1;33m:\u001b[0m\u001b[1;33m\u001b[0m\u001b[1;33m\u001b[0m\u001b[0m\n\u001b[1;32m--> 262\u001b[1;33m             return [func(*args, **kwargs)\n\u001b[0m\u001b[0;32m    263\u001b[0m                     for func, args, kwargs in self.items]\n\u001b[0;32m    264\u001b[0m \u001b[1;33m\u001b[0m\u001b[0m\n",
      "\u001b[1;32m~\\anaconda3\\lib\\site-packages\\joblib\\parallel.py\u001b[0m in \u001b[0;36m<listcomp>\u001b[1;34m(.0)\u001b[0m\n\u001b[0;32m    260\u001b[0m         \u001b[1;31m# change the default number of processes to -1\u001b[0m\u001b[1;33m\u001b[0m\u001b[1;33m\u001b[0m\u001b[0m\n\u001b[0;32m    261\u001b[0m         \u001b[1;32mwith\u001b[0m \u001b[0mparallel_backend\u001b[0m\u001b[1;33m(\u001b[0m\u001b[0mself\u001b[0m\u001b[1;33m.\u001b[0m\u001b[0m_backend\u001b[0m\u001b[1;33m,\u001b[0m \u001b[0mn_jobs\u001b[0m\u001b[1;33m=\u001b[0m\u001b[0mself\u001b[0m\u001b[1;33m.\u001b[0m\u001b[0m_n_jobs\u001b[0m\u001b[1;33m)\u001b[0m\u001b[1;33m:\u001b[0m\u001b[1;33m\u001b[0m\u001b[1;33m\u001b[0m\u001b[0m\n\u001b[1;32m--> 262\u001b[1;33m             return [func(*args, **kwargs)\n\u001b[0m\u001b[0;32m    263\u001b[0m                     for func, args, kwargs in self.items]\n\u001b[0;32m    264\u001b[0m \u001b[1;33m\u001b[0m\u001b[0m\n",
      "\u001b[1;32m~\\anaconda3\\lib\\site-packages\\sklearn\\utils\\fixes.py\u001b[0m in \u001b[0;36m__call__\u001b[1;34m(self, *args, **kwargs)\u001b[0m\n\u001b[0;32m    220\u001b[0m     \u001b[1;32mdef\u001b[0m \u001b[0m__call__\u001b[0m\u001b[1;33m(\u001b[0m\u001b[0mself\u001b[0m\u001b[1;33m,\u001b[0m \u001b[1;33m*\u001b[0m\u001b[0margs\u001b[0m\u001b[1;33m,\u001b[0m \u001b[1;33m**\u001b[0m\u001b[0mkwargs\u001b[0m\u001b[1;33m)\u001b[0m\u001b[1;33m:\u001b[0m\u001b[1;33m\u001b[0m\u001b[1;33m\u001b[0m\u001b[0m\n\u001b[0;32m    221\u001b[0m         \u001b[1;32mwith\u001b[0m \u001b[0mconfig_context\u001b[0m\u001b[1;33m(\u001b[0m\u001b[1;33m**\u001b[0m\u001b[0mself\u001b[0m\u001b[1;33m.\u001b[0m\u001b[0mconfig\u001b[0m\u001b[1;33m)\u001b[0m\u001b[1;33m:\u001b[0m\u001b[1;33m\u001b[0m\u001b[1;33m\u001b[0m\u001b[0m\n\u001b[1;32m--> 222\u001b[1;33m             \u001b[1;32mreturn\u001b[0m \u001b[0mself\u001b[0m\u001b[1;33m.\u001b[0m\u001b[0mfunction\u001b[0m\u001b[1;33m(\u001b[0m\u001b[1;33m*\u001b[0m\u001b[0margs\u001b[0m\u001b[1;33m,\u001b[0m \u001b[1;33m**\u001b[0m\u001b[0mkwargs\u001b[0m\u001b[1;33m)\u001b[0m\u001b[1;33m\u001b[0m\u001b[1;33m\u001b[0m\u001b[0m\n\u001b[0m",
      "\u001b[1;32m~\\anaconda3\\lib\\site-packages\\sklearn\\model_selection\\_validation.py\u001b[0m in \u001b[0;36m_fit_and_score\u001b[1;34m(estimator, X, y, scorer, train, test, verbose, parameters, fit_params, return_train_score, return_parameters, return_n_test_samples, return_times, return_estimator, split_progress, candidate_progress, error_score)\u001b[0m\n\u001b[0;32m    596\u001b[0m             \u001b[0mestimator\u001b[0m\u001b[1;33m.\u001b[0m\u001b[0mfit\u001b[0m\u001b[1;33m(\u001b[0m\u001b[0mX_train\u001b[0m\u001b[1;33m,\u001b[0m \u001b[1;33m**\u001b[0m\u001b[0mfit_params\u001b[0m\u001b[1;33m)\u001b[0m\u001b[1;33m\u001b[0m\u001b[1;33m\u001b[0m\u001b[0m\n\u001b[0;32m    597\u001b[0m         \u001b[1;32melse\u001b[0m\u001b[1;33m:\u001b[0m\u001b[1;33m\u001b[0m\u001b[1;33m\u001b[0m\u001b[0m\n\u001b[1;32m--> 598\u001b[1;33m             \u001b[0mestimator\u001b[0m\u001b[1;33m.\u001b[0m\u001b[0mfit\u001b[0m\u001b[1;33m(\u001b[0m\u001b[0mX_train\u001b[0m\u001b[1;33m,\u001b[0m \u001b[0my_train\u001b[0m\u001b[1;33m,\u001b[0m \u001b[1;33m**\u001b[0m\u001b[0mfit_params\u001b[0m\u001b[1;33m)\u001b[0m\u001b[1;33m\u001b[0m\u001b[1;33m\u001b[0m\u001b[0m\n\u001b[0m\u001b[0;32m    599\u001b[0m \u001b[1;33m\u001b[0m\u001b[0m\n\u001b[0;32m    600\u001b[0m     \u001b[1;32mexcept\u001b[0m \u001b[0mException\u001b[0m \u001b[1;32mas\u001b[0m \u001b[0me\u001b[0m\u001b[1;33m:\u001b[0m\u001b[1;33m\u001b[0m\u001b[1;33m\u001b[0m\u001b[0m\n",
      "\u001b[1;32m~\\anaconda3\\lib\\site-packages\\sklearn\\ensemble\\_gb.py\u001b[0m in \u001b[0;36mfit\u001b[1;34m(self, X, y, sample_weight, monitor)\u001b[0m\n\u001b[0;32m    502\u001b[0m \u001b[1;33m\u001b[0m\u001b[0m\n\u001b[0;32m    503\u001b[0m         \u001b[1;31m# fit the boosting stages\u001b[0m\u001b[1;33m\u001b[0m\u001b[1;33m\u001b[0m\u001b[0m\n\u001b[1;32m--> 504\u001b[1;33m         n_stages = self._fit_stages(\n\u001b[0m\u001b[0;32m    505\u001b[0m             \u001b[0mX\u001b[0m\u001b[1;33m,\u001b[0m \u001b[0my\u001b[0m\u001b[1;33m,\u001b[0m \u001b[0mraw_predictions\u001b[0m\u001b[1;33m,\u001b[0m \u001b[0msample_weight\u001b[0m\u001b[1;33m,\u001b[0m \u001b[0mself\u001b[0m\u001b[1;33m.\u001b[0m\u001b[0m_rng\u001b[0m\u001b[1;33m,\u001b[0m \u001b[0mX_val\u001b[0m\u001b[1;33m,\u001b[0m \u001b[0my_val\u001b[0m\u001b[1;33m,\u001b[0m\u001b[1;33m\u001b[0m\u001b[1;33m\u001b[0m\u001b[0m\n\u001b[0;32m    506\u001b[0m             sample_weight_val, begin_at_stage, monitor)\n",
      "\u001b[1;32m~\\anaconda3\\lib\\site-packages\\sklearn\\ensemble\\_gb.py\u001b[0m in \u001b[0;36m_fit_stages\u001b[1;34m(self, X, y, raw_predictions, sample_weight, random_state, X_val, y_val, sample_weight_val, begin_at_stage, monitor)\u001b[0m\n\u001b[0;32m    559\u001b[0m \u001b[1;33m\u001b[0m\u001b[0m\n\u001b[0;32m    560\u001b[0m             \u001b[1;31m# fit next stage of trees\u001b[0m\u001b[1;33m\u001b[0m\u001b[1;33m\u001b[0m\u001b[0m\n\u001b[1;32m--> 561\u001b[1;33m             raw_predictions = self._fit_stage(\n\u001b[0m\u001b[0;32m    562\u001b[0m                 \u001b[0mi\u001b[0m\u001b[1;33m,\u001b[0m \u001b[0mX\u001b[0m\u001b[1;33m,\u001b[0m \u001b[0my\u001b[0m\u001b[1;33m,\u001b[0m \u001b[0mraw_predictions\u001b[0m\u001b[1;33m,\u001b[0m \u001b[0msample_weight\u001b[0m\u001b[1;33m,\u001b[0m \u001b[0msample_mask\u001b[0m\u001b[1;33m,\u001b[0m\u001b[1;33m\u001b[0m\u001b[1;33m\u001b[0m\u001b[0m\n\u001b[0;32m    563\u001b[0m                 random_state, X_csc, X_csr)\n",
      "\u001b[1;32m~\\anaconda3\\lib\\site-packages\\sklearn\\ensemble\\_gb.py\u001b[0m in \u001b[0;36m_fit_stage\u001b[1;34m(self, i, X, y, raw_predictions, sample_weight, sample_mask, random_state, X_csc, X_csr)\u001b[0m\n\u001b[0;32m    212\u001b[0m \u001b[1;33m\u001b[0m\u001b[0m\n\u001b[0;32m    213\u001b[0m             \u001b[0mX\u001b[0m \u001b[1;33m=\u001b[0m \u001b[0mX_csr\u001b[0m \u001b[1;32mif\u001b[0m \u001b[0mX_csr\u001b[0m \u001b[1;32mis\u001b[0m \u001b[1;32mnot\u001b[0m \u001b[1;32mNone\u001b[0m \u001b[1;32melse\u001b[0m \u001b[0mX\u001b[0m\u001b[1;33m\u001b[0m\u001b[1;33m\u001b[0m\u001b[0m\n\u001b[1;32m--> 214\u001b[1;33m             tree.fit(X, residual, sample_weight=sample_weight,\n\u001b[0m\u001b[0;32m    215\u001b[0m                      check_input=False)\n\u001b[0;32m    216\u001b[0m \u001b[1;33m\u001b[0m\u001b[0m\n",
      "\u001b[1;32m~\\anaconda3\\lib\\site-packages\\sklearn\\tree\\_classes.py\u001b[0m in \u001b[0;36mfit\u001b[1;34m(self, X, y, sample_weight, check_input, X_idx_sorted)\u001b[0m\n\u001b[0;32m   1250\u001b[0m         \"\"\"\n\u001b[0;32m   1251\u001b[0m \u001b[1;33m\u001b[0m\u001b[0m\n\u001b[1;32m-> 1252\u001b[1;33m         super().fit(\n\u001b[0m\u001b[0;32m   1253\u001b[0m             \u001b[0mX\u001b[0m\u001b[1;33m,\u001b[0m \u001b[0my\u001b[0m\u001b[1;33m,\u001b[0m\u001b[1;33m\u001b[0m\u001b[1;33m\u001b[0m\u001b[0m\n\u001b[0;32m   1254\u001b[0m             \u001b[0msample_weight\u001b[0m\u001b[1;33m=\u001b[0m\u001b[0msample_weight\u001b[0m\u001b[1;33m,\u001b[0m\u001b[1;33m\u001b[0m\u001b[1;33m\u001b[0m\u001b[0m\n",
      "\u001b[1;32m~\\anaconda3\\lib\\site-packages\\sklearn\\tree\\_classes.py\u001b[0m in \u001b[0;36mfit\u001b[1;34m(self, X, y, sample_weight, check_input, X_idx_sorted)\u001b[0m\n\u001b[0;32m    392\u001b[0m                                            min_impurity_split)\n\u001b[0;32m    393\u001b[0m \u001b[1;33m\u001b[0m\u001b[0m\n\u001b[1;32m--> 394\u001b[1;33m         \u001b[0mbuilder\u001b[0m\u001b[1;33m.\u001b[0m\u001b[0mbuild\u001b[0m\u001b[1;33m(\u001b[0m\u001b[0mself\u001b[0m\u001b[1;33m.\u001b[0m\u001b[0mtree_\u001b[0m\u001b[1;33m,\u001b[0m \u001b[0mX\u001b[0m\u001b[1;33m,\u001b[0m \u001b[0my\u001b[0m\u001b[1;33m,\u001b[0m \u001b[0msample_weight\u001b[0m\u001b[1;33m)\u001b[0m\u001b[1;33m\u001b[0m\u001b[1;33m\u001b[0m\u001b[0m\n\u001b[0m\u001b[0;32m    395\u001b[0m \u001b[1;33m\u001b[0m\u001b[0m\n\u001b[0;32m    396\u001b[0m         \u001b[1;32mif\u001b[0m \u001b[0mself\u001b[0m\u001b[1;33m.\u001b[0m\u001b[0mn_outputs_\u001b[0m \u001b[1;33m==\u001b[0m \u001b[1;36m1\u001b[0m \u001b[1;32mand\u001b[0m \u001b[0mis_classifier\u001b[0m\u001b[1;33m(\u001b[0m\u001b[0mself\u001b[0m\u001b[1;33m)\u001b[0m\u001b[1;33m:\u001b[0m\u001b[1;33m\u001b[0m\u001b[1;33m\u001b[0m\u001b[0m\n",
      "\u001b[1;31mKeyboardInterrupt\u001b[0m: "
     ]
    }
   ],
   "source": [
    "gb_6.fit(x_train, y_prime)"
   ]
  },
  {
   "cell_type": "code",
   "execution_count": 15,
   "id": "08d680f7",
   "metadata": {},
   "outputs": [
    {
     "name": "stdout",
     "output_type": "stream",
     "text": [
      "최적 하이퍼 파라미터:  {'learning_rate': 0.5, 'max_depth': 4, 'min_samples_leaf': 5, 'min_samples_split': 10, 'n_estimators': 1000}\n"
     ]
    }
   ],
   "source": [
    "print('최적 하이퍼 파라미터: ', gb_6.best_params_)"
   ]
  },
  {
   "cell_type": "code",
   "execution_count": 16,
   "id": "023017f3",
   "metadata": {},
   "outputs": [
    {
     "name": "stdout",
     "output_type": "stream",
     "text": [
      "훈련 세트의 정확도 : 0.9545 \n",
      "테스트 세트의 정확도 : 0.9280 \n"
     ]
    }
   ],
   "source": [
    "print('훈련 세트의 정확도 : {:.4f} '. format(gb_6.score(x_train, y_prime)))\n",
    "print('테스트 세트의 정확도 : {:.4f} '. format(gb_6.score(x_test, y_test_prime))) \n"
   ]
  },
  {
   "cell_type": "code",
   "execution_count": 17,
   "id": "390c73b1",
   "metadata": {},
   "outputs": [
    {
     "name": "stdout",
     "output_type": "stream",
     "text": [
      "경사부스팅의 오차: 1326.4768\n"
     ]
    }
   ],
   "source": [
    "# MAE : 평균오차절대값\n",
    "mae_pred =  mean_absolute_error(y_test_prime, gb_6.predict(x_test))\n",
    "print('경사부스팅의 오차: {:.4f}'.format(mae_pred))"
   ]
  },
  {
   "cell_type": "markdown",
   "id": "59b29bf1",
   "metadata": {},
   "source": [
    "# 저장"
   ]
  },
  {
   "cell_type": "code",
   "execution_count": 18,
   "id": "30160658",
   "metadata": {},
   "outputs": [
    {
     "data": {
      "text/plain": [
       "'1.1.0'"
      ]
     },
     "execution_count": 18,
     "metadata": {},
     "output_type": "execute_result"
    }
   ],
   "source": [
    "import joblib\n",
    "\n",
    "joblib.__version__"
   ]
  },
  {
   "cell_type": "code",
   "execution_count": 20,
   "id": "386c2c90",
   "metadata": {},
   "outputs": [
    {
     "data": {
      "text/plain": [
       "['gb_6.model']"
      ]
     },
     "execution_count": 20,
     "metadata": {},
     "output_type": "execute_result"
    }
   ],
   "source": [
    "joblib.dump( gb_6, 'gb_6.model' )"
   ]
  },
  {
   "cell_type": "markdown",
   "id": "869d15cd",
   "metadata": {},
   "source": [
    "# pickle"
   ]
  },
  {
   "cell_type": "code",
   "execution_count": 20,
   "id": "ac05cbef",
   "metadata": {},
   "outputs": [],
   "source": [
    "import pickle "
   ]
  },
  {
   "cell_type": "code",
   "execution_count": 22,
   "id": "b72e02bb",
   "metadata": {},
   "outputs": [],
   "source": [
    "with open('gb_6.pickle','wb') as f:\n",
    "    pickle.dump(gb_6, f)"
   ]
  },
  {
   "cell_type": "code",
   "execution_count": 21,
   "id": "3bbd2486",
   "metadata": {},
   "outputs": [],
   "source": [
    "with open('gb_6.pickle', 'rb') as f: \n",
    "    model = pickle.load(f)"
   ]
  },
  {
   "cell_type": "code",
   "execution_count": 22,
   "id": "56832028",
   "metadata": {},
   "outputs": [
    {
     "data": {
      "text/plain": [
       "GridSearchCV(cv=3, estimator=GradientBoostingRegressor(loss='huber'),\n",
       "             param_grid={'learning_rate': [0.5], 'max_depth': [4],\n",
       "                         'min_samples_leaf': [5], 'min_samples_split': [10],\n",
       "                         'n_estimators': [1000]},\n",
       "             return_train_score=True)"
      ]
     },
     "execution_count": 22,
     "metadata": {},
     "output_type": "execute_result"
    }
   ],
   "source": [
    "model"
   ]
  },
  {
   "cell_type": "markdown",
   "id": "9c8bb8bc",
   "metadata": {},
   "source": [
    "현대, 2017년, 휘발유 \n",
    "아우디, 2014년, 휘발유\n",
    "이거 두 개로 예측한 가격 좀 뽑아 줄 수 잇어?"
   ]
  },
  {
   "cell_type": "code",
   "execution_count": 24,
   "id": "8da064a3",
   "metadata": {},
   "outputs": [
    {
     "name": "stdout",
     "output_type": "stream",
     "text": [
      "<class 'pandas.core.frame.DataFrame'>\n",
      "RangeIndex: 57507 entries, 0 to 57506\n",
      "Data columns (total 42 columns):\n",
      " #   Column                  Non-Null Count  Dtype  \n",
      "---  ------                  --------------  -----  \n",
      " 0   mileage                 57507 non-null  int64  \n",
      " 1   mpg                     57507 non-null  float64\n",
      " 2   engineSize              57507 non-null  float64\n",
      " 3   price                   57507 non-null  int64  \n",
      " 4   brand_bmw               57507 non-null  int64  \n",
      " 5   brand_cclass            57507 non-null  int64  \n",
      " 6   brand_focus             57507 non-null  int64  \n",
      " 7   brand_ford              57507 non-null  int64  \n",
      " 8   brand_hyundi            57507 non-null  int64  \n",
      " 9   brand_merc              57507 non-null  int64  \n",
      " 10  brand_skoda             57507 non-null  int64  \n",
      " 11  brand_toyota            57507 non-null  int64  \n",
      " 12  brand_vauxhall          57507 non-null  int64  \n",
      " 13  brand_vw                57507 non-null  int64  \n",
      " 14  year_1995               57507 non-null  int64  \n",
      " 15  year_1998               57507 non-null  int64  \n",
      " 16  year_2001               57507 non-null  int64  \n",
      " 17  year_2002               57507 non-null  int64  \n",
      " 18  year_2003               57507 non-null  int64  \n",
      " 19  year_2004               57507 non-null  int64  \n",
      " 20  year_2005               57507 non-null  int64  \n",
      " 21  year_2006               57507 non-null  int64  \n",
      " 22  year_2007               57507 non-null  int64  \n",
      " 23  year_2008               57507 non-null  int64  \n",
      " 24  year_2009               57507 non-null  int64  \n",
      " 25  year_2010               57507 non-null  int64  \n",
      " 26  year_2011               57507 non-null  int64  \n",
      " 27  year_2012               57507 non-null  int64  \n",
      " 28  year_2013               57507 non-null  int64  \n",
      " 29  year_2014               57507 non-null  int64  \n",
      " 30  year_2015               57507 non-null  int64  \n",
      " 31  year_2016               57507 non-null  int64  \n",
      " 32  year_2017               57507 non-null  int64  \n",
      " 33  year_2018               57507 non-null  int64  \n",
      " 34  year_2019               57507 non-null  int64  \n",
      " 35  year_2020               57507 non-null  int64  \n",
      " 36  transmission_Manual     57507 non-null  int64  \n",
      " 37  transmission_Other      57507 non-null  int64  \n",
      " 38  transmission_Semi-Auto  57507 non-null  int64  \n",
      " 39  fuelType_Hybrid         57507 non-null  int64  \n",
      " 40  fuelType_Other          57507 non-null  int64  \n",
      " 41  fuelType_Petrol         57507 non-null  int64  \n",
      "dtypes: float64(2), int64(40)\n",
      "memory usage: 18.4 MB\n"
     ]
    }
   ],
   "source": [
    "car1.info()"
   ]
  },
  {
   "cell_type": "code",
   "execution_count": 51,
   "id": "b6657fd1",
   "metadata": {},
   "outputs": [
    {
     "data": {
      "text/html": [
       "<div>\n",
       "<style scoped>\n",
       "    .dataframe tbody tr th:only-of-type {\n",
       "        vertical-align: middle;\n",
       "    }\n",
       "\n",
       "    .dataframe tbody tr th {\n",
       "        vertical-align: top;\n",
       "    }\n",
       "\n",
       "    .dataframe thead th {\n",
       "        text-align: right;\n",
       "    }\n",
       "</style>\n",
       "<table border=\"1\" class=\"dataframe\">\n",
       "  <thead>\n",
       "    <tr style=\"text-align: right;\">\n",
       "      <th></th>\n",
       "      <th>mileage</th>\n",
       "      <th>mpg</th>\n",
       "      <th>engineSize</th>\n",
       "      <th>price</th>\n",
       "      <th>brand_bmw</th>\n",
       "      <th>brand_cclass</th>\n",
       "      <th>brand_focus</th>\n",
       "      <th>brand_ford</th>\n",
       "      <th>brand_hyundi</th>\n",
       "      <th>brand_merc</th>\n",
       "      <th>...</th>\n",
       "      <th>year_2017</th>\n",
       "      <th>year_2018</th>\n",
       "      <th>year_2019</th>\n",
       "      <th>year_2020</th>\n",
       "      <th>transmission_Manual</th>\n",
       "      <th>transmission_Other</th>\n",
       "      <th>transmission_Semi-Auto</th>\n",
       "      <th>fuelType_Hybrid</th>\n",
       "      <th>fuelType_Other</th>\n",
       "      <th>fuelType_Petrol</th>\n",
       "    </tr>\n",
       "  </thead>\n",
       "  <tbody>\n",
       "    <tr>\n",
       "      <th>28777</th>\n",
       "      <td>17307</td>\n",
       "      <td>58.9</td>\n",
       "      <td>1.2</td>\n",
       "      <td>7999</td>\n",
       "      <td>0</td>\n",
       "      <td>0</td>\n",
       "      <td>0</td>\n",
       "      <td>0</td>\n",
       "      <td>1</td>\n",
       "      <td>0</td>\n",
       "      <td>...</td>\n",
       "      <td>1</td>\n",
       "      <td>0</td>\n",
       "      <td>0</td>\n",
       "      <td>0</td>\n",
       "      <td>1</td>\n",
       "      <td>0</td>\n",
       "      <td>0</td>\n",
       "      <td>0</td>\n",
       "      <td>0</td>\n",
       "      <td>1</td>\n",
       "    </tr>\n",
       "    <tr>\n",
       "      <th>28778</th>\n",
       "      <td>23789</td>\n",
       "      <td>60.1</td>\n",
       "      <td>1.0</td>\n",
       "      <td>6499</td>\n",
       "      <td>0</td>\n",
       "      <td>0</td>\n",
       "      <td>0</td>\n",
       "      <td>0</td>\n",
       "      <td>1</td>\n",
       "      <td>0</td>\n",
       "      <td>...</td>\n",
       "      <td>0</td>\n",
       "      <td>0</td>\n",
       "      <td>0</td>\n",
       "      <td>0</td>\n",
       "      <td>1</td>\n",
       "      <td>0</td>\n",
       "      <td>0</td>\n",
       "      <td>0</td>\n",
       "      <td>0</td>\n",
       "      <td>1</td>\n",
       "    </tr>\n",
       "    <tr>\n",
       "      <th>28779</th>\n",
       "      <td>33177</td>\n",
       "      <td>51.4</td>\n",
       "      <td>2.0</td>\n",
       "      <td>10199</td>\n",
       "      <td>0</td>\n",
       "      <td>0</td>\n",
       "      <td>0</td>\n",
       "      <td>0</td>\n",
       "      <td>1</td>\n",
       "      <td>0</td>\n",
       "      <td>...</td>\n",
       "      <td>0</td>\n",
       "      <td>0</td>\n",
       "      <td>0</td>\n",
       "      <td>0</td>\n",
       "      <td>1</td>\n",
       "      <td>0</td>\n",
       "      <td>0</td>\n",
       "      <td>0</td>\n",
       "      <td>0</td>\n",
       "      <td>0</td>\n",
       "    </tr>\n",
       "    <tr>\n",
       "      <th>28780</th>\n",
       "      <td>41650</td>\n",
       "      <td>60.1</td>\n",
       "      <td>1.0</td>\n",
       "      <td>6149</td>\n",
       "      <td>0</td>\n",
       "      <td>0</td>\n",
       "      <td>0</td>\n",
       "      <td>0</td>\n",
       "      <td>1</td>\n",
       "      <td>0</td>\n",
       "      <td>...</td>\n",
       "      <td>0</td>\n",
       "      <td>0</td>\n",
       "      <td>0</td>\n",
       "      <td>0</td>\n",
       "      <td>1</td>\n",
       "      <td>0</td>\n",
       "      <td>0</td>\n",
       "      <td>0</td>\n",
       "      <td>0</td>\n",
       "      <td>1</td>\n",
       "    </tr>\n",
       "    <tr>\n",
       "      <th>28781</th>\n",
       "      <td>39547</td>\n",
       "      <td>55.4</td>\n",
       "      <td>1.2</td>\n",
       "      <td>6799</td>\n",
       "      <td>0</td>\n",
       "      <td>0</td>\n",
       "      <td>0</td>\n",
       "      <td>0</td>\n",
       "      <td>1</td>\n",
       "      <td>0</td>\n",
       "      <td>...</td>\n",
       "      <td>0</td>\n",
       "      <td>0</td>\n",
       "      <td>0</td>\n",
       "      <td>0</td>\n",
       "      <td>1</td>\n",
       "      <td>0</td>\n",
       "      <td>0</td>\n",
       "      <td>0</td>\n",
       "      <td>0</td>\n",
       "      <td>1</td>\n",
       "    </tr>\n",
       "    <tr>\n",
       "      <th>...</th>\n",
       "      <td>...</td>\n",
       "      <td>...</td>\n",
       "      <td>...</td>\n",
       "      <td>...</td>\n",
       "      <td>...</td>\n",
       "      <td>...</td>\n",
       "      <td>...</td>\n",
       "      <td>...</td>\n",
       "      <td>...</td>\n",
       "      <td>...</td>\n",
       "      <td>...</td>\n",
       "      <td>...</td>\n",
       "      <td>...</td>\n",
       "      <td>...</td>\n",
       "      <td>...</td>\n",
       "      <td>...</td>\n",
       "      <td>...</td>\n",
       "      <td>...</td>\n",
       "      <td>...</td>\n",
       "      <td>...</td>\n",
       "      <td>...</td>\n",
       "    </tr>\n",
       "    <tr>\n",
       "      <th>31133</th>\n",
       "      <td>17879</td>\n",
       "      <td>60.1</td>\n",
       "      <td>1.0</td>\n",
       "      <td>7200</td>\n",
       "      <td>0</td>\n",
       "      <td>0</td>\n",
       "      <td>0</td>\n",
       "      <td>0</td>\n",
       "      <td>1</td>\n",
       "      <td>0</td>\n",
       "      <td>...</td>\n",
       "      <td>0</td>\n",
       "      <td>1</td>\n",
       "      <td>0</td>\n",
       "      <td>0</td>\n",
       "      <td>1</td>\n",
       "      <td>0</td>\n",
       "      <td>0</td>\n",
       "      <td>0</td>\n",
       "      <td>0</td>\n",
       "      <td>1</td>\n",
       "    </tr>\n",
       "    <tr>\n",
       "      <th>31134</th>\n",
       "      <td>8851</td>\n",
       "      <td>60.1</td>\n",
       "      <td>1.0</td>\n",
       "      <td>7995</td>\n",
       "      <td>0</td>\n",
       "      <td>0</td>\n",
       "      <td>0</td>\n",
       "      <td>0</td>\n",
       "      <td>1</td>\n",
       "      <td>0</td>\n",
       "      <td>...</td>\n",
       "      <td>0</td>\n",
       "      <td>1</td>\n",
       "      <td>0</td>\n",
       "      <td>0</td>\n",
       "      <td>1</td>\n",
       "      <td>0</td>\n",
       "      <td>0</td>\n",
       "      <td>0</td>\n",
       "      <td>0</td>\n",
       "      <td>1</td>\n",
       "    </tr>\n",
       "    <tr>\n",
       "      <th>31135</th>\n",
       "      <td>14788</td>\n",
       "      <td>60.1</td>\n",
       "      <td>1.0</td>\n",
       "      <td>7200</td>\n",
       "      <td>0</td>\n",
       "      <td>0</td>\n",
       "      <td>0</td>\n",
       "      <td>0</td>\n",
       "      <td>1</td>\n",
       "      <td>0</td>\n",
       "      <td>...</td>\n",
       "      <td>0</td>\n",
       "      <td>1</td>\n",
       "      <td>0</td>\n",
       "      <td>0</td>\n",
       "      <td>1</td>\n",
       "      <td>0</td>\n",
       "      <td>0</td>\n",
       "      <td>0</td>\n",
       "      <td>0</td>\n",
       "      <td>1</td>\n",
       "    </tr>\n",
       "    <tr>\n",
       "      <th>31136</th>\n",
       "      <td>13810</td>\n",
       "      <td>60.1</td>\n",
       "      <td>1.0</td>\n",
       "      <td>6830</td>\n",
       "      <td>0</td>\n",
       "      <td>0</td>\n",
       "      <td>0</td>\n",
       "      <td>0</td>\n",
       "      <td>1</td>\n",
       "      <td>0</td>\n",
       "      <td>...</td>\n",
       "      <td>1</td>\n",
       "      <td>0</td>\n",
       "      <td>0</td>\n",
       "      <td>0</td>\n",
       "      <td>1</td>\n",
       "      <td>0</td>\n",
       "      <td>0</td>\n",
       "      <td>0</td>\n",
       "      <td>0</td>\n",
       "      <td>1</td>\n",
       "    </tr>\n",
       "    <tr>\n",
       "      <th>31137</th>\n",
       "      <td>11472</td>\n",
       "      <td>57.6</td>\n",
       "      <td>1.7</td>\n",
       "      <td>15999</td>\n",
       "      <td>0</td>\n",
       "      <td>0</td>\n",
       "      <td>0</td>\n",
       "      <td>0</td>\n",
       "      <td>1</td>\n",
       "      <td>0</td>\n",
       "      <td>...</td>\n",
       "      <td>0</td>\n",
       "      <td>0</td>\n",
       "      <td>0</td>\n",
       "      <td>0</td>\n",
       "      <td>0</td>\n",
       "      <td>0</td>\n",
       "      <td>0</td>\n",
       "      <td>0</td>\n",
       "      <td>0</td>\n",
       "      <td>0</td>\n",
       "    </tr>\n",
       "  </tbody>\n",
       "</table>\n",
       "<p>2361 rows × 42 columns</p>\n",
       "</div>"
      ],
      "text/plain": [
       "       mileage   mpg  engineSize  price  brand_bmw  brand_cclass  brand_focus  \\\n",
       "28777    17307  58.9         1.2   7999          0             0            0   \n",
       "28778    23789  60.1         1.0   6499          0             0            0   \n",
       "28779    33177  51.4         2.0  10199          0             0            0   \n",
       "28780    41650  60.1         1.0   6149          0             0            0   \n",
       "28781    39547  55.4         1.2   6799          0             0            0   \n",
       "...        ...   ...         ...    ...        ...           ...          ...   \n",
       "31133    17879  60.1         1.0   7200          0             0            0   \n",
       "31134     8851  60.1         1.0   7995          0             0            0   \n",
       "31135    14788  60.1         1.0   7200          0             0            0   \n",
       "31136    13810  60.1         1.0   6830          0             0            0   \n",
       "31137    11472  57.6         1.7  15999          0             0            0   \n",
       "\n",
       "       brand_ford  brand_hyundi  brand_merc  ...  year_2017  year_2018  \\\n",
       "28777           0             1           0  ...          1          0   \n",
       "28778           0             1           0  ...          0          0   \n",
       "28779           0             1           0  ...          0          0   \n",
       "28780           0             1           0  ...          0          0   \n",
       "28781           0             1           0  ...          0          0   \n",
       "...           ...           ...         ...  ...        ...        ...   \n",
       "31133           0             1           0  ...          0          1   \n",
       "31134           0             1           0  ...          0          1   \n",
       "31135           0             1           0  ...          0          1   \n",
       "31136           0             1           0  ...          1          0   \n",
       "31137           0             1           0  ...          0          0   \n",
       "\n",
       "       year_2019  year_2020  transmission_Manual  transmission_Other  \\\n",
       "28777          0          0                    1                   0   \n",
       "28778          0          0                    1                   0   \n",
       "28779          0          0                    1                   0   \n",
       "28780          0          0                    1                   0   \n",
       "28781          0          0                    1                   0   \n",
       "...          ...        ...                  ...                 ...   \n",
       "31133          0          0                    1                   0   \n",
       "31134          0          0                    1                   0   \n",
       "31135          0          0                    1                   0   \n",
       "31136          0          0                    1                   0   \n",
       "31137          0          0                    0                   0   \n",
       "\n",
       "       transmission_Semi-Auto  fuelType_Hybrid  fuelType_Other  \\\n",
       "28777                       0                0               0   \n",
       "28778                       0                0               0   \n",
       "28779                       0                0               0   \n",
       "28780                       0                0               0   \n",
       "28781                       0                0               0   \n",
       "...                       ...              ...             ...   \n",
       "31133                       0                0               0   \n",
       "31134                       0                0               0   \n",
       "31135                       0                0               0   \n",
       "31136                       0                0               0   \n",
       "31137                       0                0               0   \n",
       "\n",
       "       fuelType_Petrol  \n",
       "28777                1  \n",
       "28778                1  \n",
       "28779                0  \n",
       "28780                1  \n",
       "28781                1  \n",
       "...                ...  \n",
       "31133                1  \n",
       "31134                1  \n",
       "31135                1  \n",
       "31136                1  \n",
       "31137                0  \n",
       "\n",
       "[2361 rows x 42 columns]"
      ]
     },
     "execution_count": 51,
     "metadata": {},
     "output_type": "execute_result"
    }
   ],
   "source": [
    "car2 = car1.loc[car1['brand_hyundi'] == 1]\n",
    "car2"
   ]
  },
  {
   "cell_type": "code",
   "execution_count": 52,
   "id": "b79744d4",
   "metadata": {},
   "outputs": [
    {
     "data": {
      "text/html": [
       "<div>\n",
       "<style scoped>\n",
       "    .dataframe tbody tr th:only-of-type {\n",
       "        vertical-align: middle;\n",
       "    }\n",
       "\n",
       "    .dataframe tbody tr th {\n",
       "        vertical-align: top;\n",
       "    }\n",
       "\n",
       "    .dataframe thead th {\n",
       "        text-align: right;\n",
       "    }\n",
       "</style>\n",
       "<table border=\"1\" class=\"dataframe\">\n",
       "  <thead>\n",
       "    <tr style=\"text-align: right;\">\n",
       "      <th></th>\n",
       "      <th>mileage</th>\n",
       "      <th>mpg</th>\n",
       "      <th>engineSize</th>\n",
       "      <th>price</th>\n",
       "      <th>brand_bmw</th>\n",
       "      <th>brand_cclass</th>\n",
       "      <th>brand_focus</th>\n",
       "      <th>brand_ford</th>\n",
       "      <th>brand_hyundi</th>\n",
       "      <th>brand_merc</th>\n",
       "      <th>...</th>\n",
       "      <th>year_2017</th>\n",
       "      <th>year_2018</th>\n",
       "      <th>year_2019</th>\n",
       "      <th>year_2020</th>\n",
       "      <th>transmission_Manual</th>\n",
       "      <th>transmission_Other</th>\n",
       "      <th>transmission_Semi-Auto</th>\n",
       "      <th>fuelType_Hybrid</th>\n",
       "      <th>fuelType_Other</th>\n",
       "      <th>fuelType_Petrol</th>\n",
       "    </tr>\n",
       "  </thead>\n",
       "  <tbody>\n",
       "    <tr>\n",
       "      <th>28777</th>\n",
       "      <td>17307</td>\n",
       "      <td>58.9</td>\n",
       "      <td>1.2</td>\n",
       "      <td>7999</td>\n",
       "      <td>0</td>\n",
       "      <td>0</td>\n",
       "      <td>0</td>\n",
       "      <td>0</td>\n",
       "      <td>1</td>\n",
       "      <td>0</td>\n",
       "      <td>...</td>\n",
       "      <td>1</td>\n",
       "      <td>0</td>\n",
       "      <td>0</td>\n",
       "      <td>0</td>\n",
       "      <td>1</td>\n",
       "      <td>0</td>\n",
       "      <td>0</td>\n",
       "      <td>0</td>\n",
       "      <td>0</td>\n",
       "      <td>1</td>\n",
       "    </tr>\n",
       "    <tr>\n",
       "      <th>28784</th>\n",
       "      <td>20000</td>\n",
       "      <td>56.5</td>\n",
       "      <td>1.0</td>\n",
       "      <td>10000</td>\n",
       "      <td>0</td>\n",
       "      <td>0</td>\n",
       "      <td>0</td>\n",
       "      <td>0</td>\n",
       "      <td>1</td>\n",
       "      <td>0</td>\n",
       "      <td>...</td>\n",
       "      <td>1</td>\n",
       "      <td>0</td>\n",
       "      <td>0</td>\n",
       "      <td>0</td>\n",
       "      <td>1</td>\n",
       "      <td>0</td>\n",
       "      <td>0</td>\n",
       "      <td>0</td>\n",
       "      <td>0</td>\n",
       "      <td>1</td>\n",
       "    </tr>\n",
       "    <tr>\n",
       "      <th>28786</th>\n",
       "      <td>18626</td>\n",
       "      <td>57.6</td>\n",
       "      <td>1.7</td>\n",
       "      <td>14600</td>\n",
       "      <td>0</td>\n",
       "      <td>0</td>\n",
       "      <td>0</td>\n",
       "      <td>0</td>\n",
       "      <td>1</td>\n",
       "      <td>0</td>\n",
       "      <td>...</td>\n",
       "      <td>1</td>\n",
       "      <td>0</td>\n",
       "      <td>0</td>\n",
       "      <td>0</td>\n",
       "      <td>0</td>\n",
       "      <td>0</td>\n",
       "      <td>1</td>\n",
       "      <td>0</td>\n",
       "      <td>0</td>\n",
       "      <td>0</td>\n",
       "    </tr>\n",
       "    <tr>\n",
       "      <th>28800</th>\n",
       "      <td>21821</td>\n",
       "      <td>61.4</td>\n",
       "      <td>0.0</td>\n",
       "      <td>10000</td>\n",
       "      <td>0</td>\n",
       "      <td>0</td>\n",
       "      <td>0</td>\n",
       "      <td>0</td>\n",
       "      <td>1</td>\n",
       "      <td>0</td>\n",
       "      <td>...</td>\n",
       "      <td>1</td>\n",
       "      <td>0</td>\n",
       "      <td>0</td>\n",
       "      <td>0</td>\n",
       "      <td>1</td>\n",
       "      <td>0</td>\n",
       "      <td>0</td>\n",
       "      <td>0</td>\n",
       "      <td>0</td>\n",
       "      <td>1</td>\n",
       "    </tr>\n",
       "    <tr>\n",
       "      <th>28809</th>\n",
       "      <td>15618</td>\n",
       "      <td>60.1</td>\n",
       "      <td>1.0</td>\n",
       "      <td>7600</td>\n",
       "      <td>0</td>\n",
       "      <td>0</td>\n",
       "      <td>0</td>\n",
       "      <td>0</td>\n",
       "      <td>1</td>\n",
       "      <td>0</td>\n",
       "      <td>...</td>\n",
       "      <td>1</td>\n",
       "      <td>0</td>\n",
       "      <td>0</td>\n",
       "      <td>0</td>\n",
       "      <td>1</td>\n",
       "      <td>0</td>\n",
       "      <td>0</td>\n",
       "      <td>0</td>\n",
       "      <td>0</td>\n",
       "      <td>1</td>\n",
       "    </tr>\n",
       "    <tr>\n",
       "      <th>...</th>\n",
       "      <td>...</td>\n",
       "      <td>...</td>\n",
       "      <td>...</td>\n",
       "      <td>...</td>\n",
       "      <td>...</td>\n",
       "      <td>...</td>\n",
       "      <td>...</td>\n",
       "      <td>...</td>\n",
       "      <td>...</td>\n",
       "      <td>...</td>\n",
       "      <td>...</td>\n",
       "      <td>...</td>\n",
       "      <td>...</td>\n",
       "      <td>...</td>\n",
       "      <td>...</td>\n",
       "      <td>...</td>\n",
       "      <td>...</td>\n",
       "      <td>...</td>\n",
       "      <td>...</td>\n",
       "      <td>...</td>\n",
       "      <td>...</td>\n",
       "    </tr>\n",
       "    <tr>\n",
       "      <th>31115</th>\n",
       "      <td>12607</td>\n",
       "      <td>60.1</td>\n",
       "      <td>1.0</td>\n",
       "      <td>6500</td>\n",
       "      <td>0</td>\n",
       "      <td>0</td>\n",
       "      <td>0</td>\n",
       "      <td>0</td>\n",
       "      <td>1</td>\n",
       "      <td>0</td>\n",
       "      <td>...</td>\n",
       "      <td>1</td>\n",
       "      <td>0</td>\n",
       "      <td>0</td>\n",
       "      <td>0</td>\n",
       "      <td>1</td>\n",
       "      <td>0</td>\n",
       "      <td>0</td>\n",
       "      <td>0</td>\n",
       "      <td>0</td>\n",
       "      <td>1</td>\n",
       "    </tr>\n",
       "    <tr>\n",
       "      <th>31118</th>\n",
       "      <td>5480</td>\n",
       "      <td>60.1</td>\n",
       "      <td>1.0</td>\n",
       "      <td>7698</td>\n",
       "      <td>0</td>\n",
       "      <td>0</td>\n",
       "      <td>0</td>\n",
       "      <td>0</td>\n",
       "      <td>1</td>\n",
       "      <td>0</td>\n",
       "      <td>...</td>\n",
       "      <td>1</td>\n",
       "      <td>0</td>\n",
       "      <td>0</td>\n",
       "      <td>0</td>\n",
       "      <td>1</td>\n",
       "      <td>0</td>\n",
       "      <td>0</td>\n",
       "      <td>0</td>\n",
       "      <td>0</td>\n",
       "      <td>1</td>\n",
       "    </tr>\n",
       "    <tr>\n",
       "      <th>31127</th>\n",
       "      <td>42858</td>\n",
       "      <td>47.9</td>\n",
       "      <td>2.0</td>\n",
       "      <td>14985</td>\n",
       "      <td>0</td>\n",
       "      <td>0</td>\n",
       "      <td>0</td>\n",
       "      <td>0</td>\n",
       "      <td>1</td>\n",
       "      <td>0</td>\n",
       "      <td>...</td>\n",
       "      <td>1</td>\n",
       "      <td>0</td>\n",
       "      <td>0</td>\n",
       "      <td>0</td>\n",
       "      <td>1</td>\n",
       "      <td>0</td>\n",
       "      <td>0</td>\n",
       "      <td>0</td>\n",
       "      <td>0</td>\n",
       "      <td>0</td>\n",
       "    </tr>\n",
       "    <tr>\n",
       "      <th>31128</th>\n",
       "      <td>38192</td>\n",
       "      <td>54.3</td>\n",
       "      <td>2.0</td>\n",
       "      <td>14985</td>\n",
       "      <td>0</td>\n",
       "      <td>0</td>\n",
       "      <td>0</td>\n",
       "      <td>0</td>\n",
       "      <td>1</td>\n",
       "      <td>0</td>\n",
       "      <td>...</td>\n",
       "      <td>1</td>\n",
       "      <td>0</td>\n",
       "      <td>0</td>\n",
       "      <td>0</td>\n",
       "      <td>1</td>\n",
       "      <td>0</td>\n",
       "      <td>0</td>\n",
       "      <td>0</td>\n",
       "      <td>0</td>\n",
       "      <td>0</td>\n",
       "    </tr>\n",
       "    <tr>\n",
       "      <th>31136</th>\n",
       "      <td>13810</td>\n",
       "      <td>60.1</td>\n",
       "      <td>1.0</td>\n",
       "      <td>6830</td>\n",
       "      <td>0</td>\n",
       "      <td>0</td>\n",
       "      <td>0</td>\n",
       "      <td>0</td>\n",
       "      <td>1</td>\n",
       "      <td>0</td>\n",
       "      <td>...</td>\n",
       "      <td>1</td>\n",
       "      <td>0</td>\n",
       "      <td>0</td>\n",
       "      <td>0</td>\n",
       "      <td>1</td>\n",
       "      <td>0</td>\n",
       "      <td>0</td>\n",
       "      <td>0</td>\n",
       "      <td>0</td>\n",
       "      <td>1</td>\n",
       "    </tr>\n",
       "  </tbody>\n",
       "</table>\n",
       "<p>689 rows × 42 columns</p>\n",
       "</div>"
      ],
      "text/plain": [
       "       mileage   mpg  engineSize  price  brand_bmw  brand_cclass  brand_focus  \\\n",
       "28777    17307  58.9         1.2   7999          0             0            0   \n",
       "28784    20000  56.5         1.0  10000          0             0            0   \n",
       "28786    18626  57.6         1.7  14600          0             0            0   \n",
       "28800    21821  61.4         0.0  10000          0             0            0   \n",
       "28809    15618  60.1         1.0   7600          0             0            0   \n",
       "...        ...   ...         ...    ...        ...           ...          ...   \n",
       "31115    12607  60.1         1.0   6500          0             0            0   \n",
       "31118     5480  60.1         1.0   7698          0             0            0   \n",
       "31127    42858  47.9         2.0  14985          0             0            0   \n",
       "31128    38192  54.3         2.0  14985          0             0            0   \n",
       "31136    13810  60.1         1.0   6830          0             0            0   \n",
       "\n",
       "       brand_ford  brand_hyundi  brand_merc  ...  year_2017  year_2018  \\\n",
       "28777           0             1           0  ...          1          0   \n",
       "28784           0             1           0  ...          1          0   \n",
       "28786           0             1           0  ...          1          0   \n",
       "28800           0             1           0  ...          1          0   \n",
       "28809           0             1           0  ...          1          0   \n",
       "...           ...           ...         ...  ...        ...        ...   \n",
       "31115           0             1           0  ...          1          0   \n",
       "31118           0             1           0  ...          1          0   \n",
       "31127           0             1           0  ...          1          0   \n",
       "31128           0             1           0  ...          1          0   \n",
       "31136           0             1           0  ...          1          0   \n",
       "\n",
       "       year_2019  year_2020  transmission_Manual  transmission_Other  \\\n",
       "28777          0          0                    1                   0   \n",
       "28784          0          0                    1                   0   \n",
       "28786          0          0                    0                   0   \n",
       "28800          0          0                    1                   0   \n",
       "28809          0          0                    1                   0   \n",
       "...          ...        ...                  ...                 ...   \n",
       "31115          0          0                    1                   0   \n",
       "31118          0          0                    1                   0   \n",
       "31127          0          0                    1                   0   \n",
       "31128          0          0                    1                   0   \n",
       "31136          0          0                    1                   0   \n",
       "\n",
       "       transmission_Semi-Auto  fuelType_Hybrid  fuelType_Other  \\\n",
       "28777                       0                0               0   \n",
       "28784                       0                0               0   \n",
       "28786                       1                0               0   \n",
       "28800                       0                0               0   \n",
       "28809                       0                0               0   \n",
       "...                       ...              ...             ...   \n",
       "31115                       0                0               0   \n",
       "31118                       0                0               0   \n",
       "31127                       0                0               0   \n",
       "31128                       0                0               0   \n",
       "31136                       0                0               0   \n",
       "\n",
       "       fuelType_Petrol  \n",
       "28777                1  \n",
       "28784                1  \n",
       "28786                0  \n",
       "28800                1  \n",
       "28809                1  \n",
       "...                ...  \n",
       "31115                1  \n",
       "31118                1  \n",
       "31127                0  \n",
       "31128                0  \n",
       "31136                1  \n",
       "\n",
       "[689 rows x 42 columns]"
      ]
     },
     "execution_count": 52,
     "metadata": {},
     "output_type": "execute_result"
    }
   ],
   "source": [
    "car3 = car2.loc[car2['year_2017'] == 1]\n",
    "car3"
   ]
  },
  {
   "cell_type": "code",
   "execution_count": 53,
   "id": "9e08bc73",
   "metadata": {},
   "outputs": [
    {
     "data": {
      "text/html": [
       "<div>\n",
       "<style scoped>\n",
       "    .dataframe tbody tr th:only-of-type {\n",
       "        vertical-align: middle;\n",
       "    }\n",
       "\n",
       "    .dataframe tbody tr th {\n",
       "        vertical-align: top;\n",
       "    }\n",
       "\n",
       "    .dataframe thead th {\n",
       "        text-align: right;\n",
       "    }\n",
       "</style>\n",
       "<table border=\"1\" class=\"dataframe\">\n",
       "  <thead>\n",
       "    <tr style=\"text-align: right;\">\n",
       "      <th></th>\n",
       "      <th>mileage</th>\n",
       "      <th>mpg</th>\n",
       "      <th>engineSize</th>\n",
       "      <th>price</th>\n",
       "      <th>brand_bmw</th>\n",
       "      <th>brand_cclass</th>\n",
       "      <th>brand_focus</th>\n",
       "      <th>brand_ford</th>\n",
       "      <th>brand_hyundi</th>\n",
       "      <th>brand_merc</th>\n",
       "      <th>...</th>\n",
       "      <th>year_2017</th>\n",
       "      <th>year_2018</th>\n",
       "      <th>year_2019</th>\n",
       "      <th>year_2020</th>\n",
       "      <th>transmission_Manual</th>\n",
       "      <th>transmission_Other</th>\n",
       "      <th>transmission_Semi-Auto</th>\n",
       "      <th>fuelType_Hybrid</th>\n",
       "      <th>fuelType_Other</th>\n",
       "      <th>fuelType_Petrol</th>\n",
       "    </tr>\n",
       "  </thead>\n",
       "  <tbody>\n",
       "    <tr>\n",
       "      <th>28777</th>\n",
       "      <td>17307</td>\n",
       "      <td>58.9</td>\n",
       "      <td>1.2</td>\n",
       "      <td>7999</td>\n",
       "      <td>0</td>\n",
       "      <td>0</td>\n",
       "      <td>0</td>\n",
       "      <td>0</td>\n",
       "      <td>1</td>\n",
       "      <td>0</td>\n",
       "      <td>...</td>\n",
       "      <td>1</td>\n",
       "      <td>0</td>\n",
       "      <td>0</td>\n",
       "      <td>0</td>\n",
       "      <td>1</td>\n",
       "      <td>0</td>\n",
       "      <td>0</td>\n",
       "      <td>0</td>\n",
       "      <td>0</td>\n",
       "      <td>1</td>\n",
       "    </tr>\n",
       "    <tr>\n",
       "      <th>28784</th>\n",
       "      <td>20000</td>\n",
       "      <td>56.5</td>\n",
       "      <td>1.0</td>\n",
       "      <td>10000</td>\n",
       "      <td>0</td>\n",
       "      <td>0</td>\n",
       "      <td>0</td>\n",
       "      <td>0</td>\n",
       "      <td>1</td>\n",
       "      <td>0</td>\n",
       "      <td>...</td>\n",
       "      <td>1</td>\n",
       "      <td>0</td>\n",
       "      <td>0</td>\n",
       "      <td>0</td>\n",
       "      <td>1</td>\n",
       "      <td>0</td>\n",
       "      <td>0</td>\n",
       "      <td>0</td>\n",
       "      <td>0</td>\n",
       "      <td>1</td>\n",
       "    </tr>\n",
       "    <tr>\n",
       "      <th>28800</th>\n",
       "      <td>21821</td>\n",
       "      <td>61.4</td>\n",
       "      <td>0.0</td>\n",
       "      <td>10000</td>\n",
       "      <td>0</td>\n",
       "      <td>0</td>\n",
       "      <td>0</td>\n",
       "      <td>0</td>\n",
       "      <td>1</td>\n",
       "      <td>0</td>\n",
       "      <td>...</td>\n",
       "      <td>1</td>\n",
       "      <td>0</td>\n",
       "      <td>0</td>\n",
       "      <td>0</td>\n",
       "      <td>1</td>\n",
       "      <td>0</td>\n",
       "      <td>0</td>\n",
       "      <td>0</td>\n",
       "      <td>0</td>\n",
       "      <td>1</td>\n",
       "    </tr>\n",
       "    <tr>\n",
       "      <th>28809</th>\n",
       "      <td>15618</td>\n",
       "      <td>60.1</td>\n",
       "      <td>1.0</td>\n",
       "      <td>7600</td>\n",
       "      <td>0</td>\n",
       "      <td>0</td>\n",
       "      <td>0</td>\n",
       "      <td>0</td>\n",
       "      <td>1</td>\n",
       "      <td>0</td>\n",
       "      <td>...</td>\n",
       "      <td>1</td>\n",
       "      <td>0</td>\n",
       "      <td>0</td>\n",
       "      <td>0</td>\n",
       "      <td>1</td>\n",
       "      <td>0</td>\n",
       "      <td>0</td>\n",
       "      <td>0</td>\n",
       "      <td>0</td>\n",
       "      <td>1</td>\n",
       "    </tr>\n",
       "    <tr>\n",
       "      <th>28810</th>\n",
       "      <td>15594</td>\n",
       "      <td>60.1</td>\n",
       "      <td>0.0</td>\n",
       "      <td>7300</td>\n",
       "      <td>0</td>\n",
       "      <td>0</td>\n",
       "      <td>0</td>\n",
       "      <td>0</td>\n",
       "      <td>1</td>\n",
       "      <td>0</td>\n",
       "      <td>...</td>\n",
       "      <td>1</td>\n",
       "      <td>0</td>\n",
       "      <td>0</td>\n",
       "      <td>0</td>\n",
       "      <td>1</td>\n",
       "      <td>0</td>\n",
       "      <td>0</td>\n",
       "      <td>0</td>\n",
       "      <td>0</td>\n",
       "      <td>1</td>\n",
       "    </tr>\n",
       "    <tr>\n",
       "      <th>...</th>\n",
       "      <td>...</td>\n",
       "      <td>...</td>\n",
       "      <td>...</td>\n",
       "      <td>...</td>\n",
       "      <td>...</td>\n",
       "      <td>...</td>\n",
       "      <td>...</td>\n",
       "      <td>...</td>\n",
       "      <td>...</td>\n",
       "      <td>...</td>\n",
       "      <td>...</td>\n",
       "      <td>...</td>\n",
       "      <td>...</td>\n",
       "      <td>...</td>\n",
       "      <td>...</td>\n",
       "      <td>...</td>\n",
       "      <td>...</td>\n",
       "      <td>...</td>\n",
       "      <td>...</td>\n",
       "      <td>...</td>\n",
       "      <td>...</td>\n",
       "    </tr>\n",
       "    <tr>\n",
       "      <th>31113</th>\n",
       "      <td>17095</td>\n",
       "      <td>60.1</td>\n",
       "      <td>1.0</td>\n",
       "      <td>6795</td>\n",
       "      <td>0</td>\n",
       "      <td>0</td>\n",
       "      <td>0</td>\n",
       "      <td>0</td>\n",
       "      <td>1</td>\n",
       "      <td>0</td>\n",
       "      <td>...</td>\n",
       "      <td>1</td>\n",
       "      <td>0</td>\n",
       "      <td>0</td>\n",
       "      <td>0</td>\n",
       "      <td>1</td>\n",
       "      <td>0</td>\n",
       "      <td>0</td>\n",
       "      <td>0</td>\n",
       "      <td>0</td>\n",
       "      <td>1</td>\n",
       "    </tr>\n",
       "    <tr>\n",
       "      <th>31114</th>\n",
       "      <td>19375</td>\n",
       "      <td>60.1</td>\n",
       "      <td>1.0</td>\n",
       "      <td>6200</td>\n",
       "      <td>0</td>\n",
       "      <td>0</td>\n",
       "      <td>0</td>\n",
       "      <td>0</td>\n",
       "      <td>1</td>\n",
       "      <td>0</td>\n",
       "      <td>...</td>\n",
       "      <td>1</td>\n",
       "      <td>0</td>\n",
       "      <td>0</td>\n",
       "      <td>0</td>\n",
       "      <td>1</td>\n",
       "      <td>0</td>\n",
       "      <td>0</td>\n",
       "      <td>0</td>\n",
       "      <td>0</td>\n",
       "      <td>1</td>\n",
       "    </tr>\n",
       "    <tr>\n",
       "      <th>31115</th>\n",
       "      <td>12607</td>\n",
       "      <td>60.1</td>\n",
       "      <td>1.0</td>\n",
       "      <td>6500</td>\n",
       "      <td>0</td>\n",
       "      <td>0</td>\n",
       "      <td>0</td>\n",
       "      <td>0</td>\n",
       "      <td>1</td>\n",
       "      <td>0</td>\n",
       "      <td>...</td>\n",
       "      <td>1</td>\n",
       "      <td>0</td>\n",
       "      <td>0</td>\n",
       "      <td>0</td>\n",
       "      <td>1</td>\n",
       "      <td>0</td>\n",
       "      <td>0</td>\n",
       "      <td>0</td>\n",
       "      <td>0</td>\n",
       "      <td>1</td>\n",
       "    </tr>\n",
       "    <tr>\n",
       "      <th>31118</th>\n",
       "      <td>5480</td>\n",
       "      <td>60.1</td>\n",
       "      <td>1.0</td>\n",
       "      <td>7698</td>\n",
       "      <td>0</td>\n",
       "      <td>0</td>\n",
       "      <td>0</td>\n",
       "      <td>0</td>\n",
       "      <td>1</td>\n",
       "      <td>0</td>\n",
       "      <td>...</td>\n",
       "      <td>1</td>\n",
       "      <td>0</td>\n",
       "      <td>0</td>\n",
       "      <td>0</td>\n",
       "      <td>1</td>\n",
       "      <td>0</td>\n",
       "      <td>0</td>\n",
       "      <td>0</td>\n",
       "      <td>0</td>\n",
       "      <td>1</td>\n",
       "    </tr>\n",
       "    <tr>\n",
       "      <th>31136</th>\n",
       "      <td>13810</td>\n",
       "      <td>60.1</td>\n",
       "      <td>1.0</td>\n",
       "      <td>6830</td>\n",
       "      <td>0</td>\n",
       "      <td>0</td>\n",
       "      <td>0</td>\n",
       "      <td>0</td>\n",
       "      <td>1</td>\n",
       "      <td>0</td>\n",
       "      <td>...</td>\n",
       "      <td>1</td>\n",
       "      <td>0</td>\n",
       "      <td>0</td>\n",
       "      <td>0</td>\n",
       "      <td>1</td>\n",
       "      <td>0</td>\n",
       "      <td>0</td>\n",
       "      <td>0</td>\n",
       "      <td>0</td>\n",
       "      <td>1</td>\n",
       "    </tr>\n",
       "  </tbody>\n",
       "</table>\n",
       "<p>501 rows × 42 columns</p>\n",
       "</div>"
      ],
      "text/plain": [
       "       mileage   mpg  engineSize  price  brand_bmw  brand_cclass  brand_focus  \\\n",
       "28777    17307  58.9         1.2   7999          0             0            0   \n",
       "28784    20000  56.5         1.0  10000          0             0            0   \n",
       "28800    21821  61.4         0.0  10000          0             0            0   \n",
       "28809    15618  60.1         1.0   7600          0             0            0   \n",
       "28810    15594  60.1         0.0   7300          0             0            0   \n",
       "...        ...   ...         ...    ...        ...           ...          ...   \n",
       "31113    17095  60.1         1.0   6795          0             0            0   \n",
       "31114    19375  60.1         1.0   6200          0             0            0   \n",
       "31115    12607  60.1         1.0   6500          0             0            0   \n",
       "31118     5480  60.1         1.0   7698          0             0            0   \n",
       "31136    13810  60.1         1.0   6830          0             0            0   \n",
       "\n",
       "       brand_ford  brand_hyundi  brand_merc  ...  year_2017  year_2018  \\\n",
       "28777           0             1           0  ...          1          0   \n",
       "28784           0             1           0  ...          1          0   \n",
       "28800           0             1           0  ...          1          0   \n",
       "28809           0             1           0  ...          1          0   \n",
       "28810           0             1           0  ...          1          0   \n",
       "...           ...           ...         ...  ...        ...        ...   \n",
       "31113           0             1           0  ...          1          0   \n",
       "31114           0             1           0  ...          1          0   \n",
       "31115           0             1           0  ...          1          0   \n",
       "31118           0             1           0  ...          1          0   \n",
       "31136           0             1           0  ...          1          0   \n",
       "\n",
       "       year_2019  year_2020  transmission_Manual  transmission_Other  \\\n",
       "28777          0          0                    1                   0   \n",
       "28784          0          0                    1                   0   \n",
       "28800          0          0                    1                   0   \n",
       "28809          0          0                    1                   0   \n",
       "28810          0          0                    1                   0   \n",
       "...          ...        ...                  ...                 ...   \n",
       "31113          0          0                    1                   0   \n",
       "31114          0          0                    1                   0   \n",
       "31115          0          0                    1                   0   \n",
       "31118          0          0                    1                   0   \n",
       "31136          0          0                    1                   0   \n",
       "\n",
       "       transmission_Semi-Auto  fuelType_Hybrid  fuelType_Other  \\\n",
       "28777                       0                0               0   \n",
       "28784                       0                0               0   \n",
       "28800                       0                0               0   \n",
       "28809                       0                0               0   \n",
       "28810                       0                0               0   \n",
       "...                       ...              ...             ...   \n",
       "31113                       0                0               0   \n",
       "31114                       0                0               0   \n",
       "31115                       0                0               0   \n",
       "31118                       0                0               0   \n",
       "31136                       0                0               0   \n",
       "\n",
       "       fuelType_Petrol  \n",
       "28777                1  \n",
       "28784                1  \n",
       "28800                1  \n",
       "28809                1  \n",
       "28810                1  \n",
       "...                ...  \n",
       "31113                1  \n",
       "31114                1  \n",
       "31115                1  \n",
       "31118                1  \n",
       "31136                1  \n",
       "\n",
       "[501 rows x 42 columns]"
      ]
     },
     "execution_count": 53,
     "metadata": {},
     "output_type": "execute_result"
    }
   ],
   "source": [
    "car4 = car3.loc[car3['fuelType_Petrol'] == 1]\n",
    "car4"
   ]
  },
  {
   "cell_type": "code",
   "execution_count": 104,
   "id": "2c0e469d",
   "metadata": {},
   "outputs": [],
   "source": [
    "#print(df.loc[0])\n",
    "car5 = car4.loc[[31136, 31118]]"
   ]
  },
  {
   "cell_type": "code",
   "execution_count": 105,
   "id": "f95b4b79",
   "metadata": {},
   "outputs": [
    {
     "data": {
      "text/html": [
       "<div>\n",
       "<style scoped>\n",
       "    .dataframe tbody tr th:only-of-type {\n",
       "        vertical-align: middle;\n",
       "    }\n",
       "\n",
       "    .dataframe tbody tr th {\n",
       "        vertical-align: top;\n",
       "    }\n",
       "\n",
       "    .dataframe thead th {\n",
       "        text-align: right;\n",
       "    }\n",
       "</style>\n",
       "<table border=\"1\" class=\"dataframe\">\n",
       "  <thead>\n",
       "    <tr style=\"text-align: right;\">\n",
       "      <th></th>\n",
       "      <th>mileage</th>\n",
       "      <th>mpg</th>\n",
       "      <th>engineSize</th>\n",
       "      <th>price</th>\n",
       "      <th>brand_bmw</th>\n",
       "      <th>brand_cclass</th>\n",
       "      <th>brand_focus</th>\n",
       "      <th>brand_ford</th>\n",
       "      <th>brand_hyundi</th>\n",
       "      <th>brand_merc</th>\n",
       "      <th>...</th>\n",
       "      <th>year_2017</th>\n",
       "      <th>year_2018</th>\n",
       "      <th>year_2019</th>\n",
       "      <th>year_2020</th>\n",
       "      <th>transmission_Manual</th>\n",
       "      <th>transmission_Other</th>\n",
       "      <th>transmission_Semi-Auto</th>\n",
       "      <th>fuelType_Hybrid</th>\n",
       "      <th>fuelType_Other</th>\n",
       "      <th>fuelType_Petrol</th>\n",
       "    </tr>\n",
       "  </thead>\n",
       "  <tbody>\n",
       "    <tr>\n",
       "      <th>31136</th>\n",
       "      <td>13810</td>\n",
       "      <td>60.1</td>\n",
       "      <td>1.0</td>\n",
       "      <td>6830</td>\n",
       "      <td>0</td>\n",
       "      <td>0</td>\n",
       "      <td>0</td>\n",
       "      <td>0</td>\n",
       "      <td>1</td>\n",
       "      <td>0</td>\n",
       "      <td>...</td>\n",
       "      <td>1</td>\n",
       "      <td>0</td>\n",
       "      <td>0</td>\n",
       "      <td>0</td>\n",
       "      <td>1</td>\n",
       "      <td>0</td>\n",
       "      <td>0</td>\n",
       "      <td>0</td>\n",
       "      <td>0</td>\n",
       "      <td>1</td>\n",
       "    </tr>\n",
       "    <tr>\n",
       "      <th>31118</th>\n",
       "      <td>5480</td>\n",
       "      <td>60.1</td>\n",
       "      <td>1.0</td>\n",
       "      <td>7698</td>\n",
       "      <td>0</td>\n",
       "      <td>0</td>\n",
       "      <td>0</td>\n",
       "      <td>0</td>\n",
       "      <td>1</td>\n",
       "      <td>0</td>\n",
       "      <td>...</td>\n",
       "      <td>1</td>\n",
       "      <td>0</td>\n",
       "      <td>0</td>\n",
       "      <td>0</td>\n",
       "      <td>1</td>\n",
       "      <td>0</td>\n",
       "      <td>0</td>\n",
       "      <td>0</td>\n",
       "      <td>0</td>\n",
       "      <td>1</td>\n",
       "    </tr>\n",
       "  </tbody>\n",
       "</table>\n",
       "<p>2 rows × 42 columns</p>\n",
       "</div>"
      ],
      "text/plain": [
       "       mileage   mpg  engineSize  price  brand_bmw  brand_cclass  brand_focus  \\\n",
       "31136    13810  60.1         1.0   6830          0             0            0   \n",
       "31118     5480  60.1         1.0   7698          0             0            0   \n",
       "\n",
       "       brand_ford  brand_hyundi  brand_merc  ...  year_2017  year_2018  \\\n",
       "31136           0             1           0  ...          1          0   \n",
       "31118           0             1           0  ...          1          0   \n",
       "\n",
       "       year_2019  year_2020  transmission_Manual  transmission_Other  \\\n",
       "31136          0          0                    1                   0   \n",
       "31118          0          0                    1                   0   \n",
       "\n",
       "       transmission_Semi-Auto  fuelType_Hybrid  fuelType_Other  \\\n",
       "31136                       0                0               0   \n",
       "31118                       0                0               0   \n",
       "\n",
       "       fuelType_Petrol  \n",
       "31136                1  \n",
       "31118                1  \n",
       "\n",
       "[2 rows x 42 columns]"
      ]
     },
     "execution_count": 105,
     "metadata": {},
     "output_type": "execute_result"
    }
   ],
   "source": [
    "car5"
   ]
  },
  {
   "cell_type": "code",
   "execution_count": 106,
   "id": "5d3fbe92",
   "metadata": {},
   "outputs": [],
   "source": [
    "x = car5.drop(\"price\", axis =1)\n",
    "y = car5[\"price\"]"
   ]
  },
  {
   "cell_type": "code",
   "execution_count": 107,
   "id": "4a8cdfe7",
   "metadata": {},
   "outputs": [
    {
     "data": {
      "text/html": [
       "<div>\n",
       "<style scoped>\n",
       "    .dataframe tbody tr th:only-of-type {\n",
       "        vertical-align: middle;\n",
       "    }\n",
       "\n",
       "    .dataframe tbody tr th {\n",
       "        vertical-align: top;\n",
       "    }\n",
       "\n",
       "    .dataframe thead th {\n",
       "        text-align: right;\n",
       "    }\n",
       "</style>\n",
       "<table border=\"1\" class=\"dataframe\">\n",
       "  <thead>\n",
       "    <tr style=\"text-align: right;\">\n",
       "      <th></th>\n",
       "      <th>mileage</th>\n",
       "      <th>mpg</th>\n",
       "      <th>engineSize</th>\n",
       "      <th>brand_bmw</th>\n",
       "      <th>brand_cclass</th>\n",
       "      <th>brand_focus</th>\n",
       "      <th>brand_ford</th>\n",
       "      <th>brand_hyundi</th>\n",
       "      <th>brand_merc</th>\n",
       "      <th>brand_skoda</th>\n",
       "      <th>...</th>\n",
       "      <th>year_2017</th>\n",
       "      <th>year_2018</th>\n",
       "      <th>year_2019</th>\n",
       "      <th>year_2020</th>\n",
       "      <th>transmission_Manual</th>\n",
       "      <th>transmission_Other</th>\n",
       "      <th>transmission_Semi-Auto</th>\n",
       "      <th>fuelType_Hybrid</th>\n",
       "      <th>fuelType_Other</th>\n",
       "      <th>fuelType_Petrol</th>\n",
       "    </tr>\n",
       "  </thead>\n",
       "  <tbody>\n",
       "    <tr>\n",
       "      <th>31136</th>\n",
       "      <td>13810</td>\n",
       "      <td>60.1</td>\n",
       "      <td>1.0</td>\n",
       "      <td>0</td>\n",
       "      <td>0</td>\n",
       "      <td>0</td>\n",
       "      <td>0</td>\n",
       "      <td>1</td>\n",
       "      <td>0</td>\n",
       "      <td>0</td>\n",
       "      <td>...</td>\n",
       "      <td>1</td>\n",
       "      <td>0</td>\n",
       "      <td>0</td>\n",
       "      <td>0</td>\n",
       "      <td>1</td>\n",
       "      <td>0</td>\n",
       "      <td>0</td>\n",
       "      <td>0</td>\n",
       "      <td>0</td>\n",
       "      <td>1</td>\n",
       "    </tr>\n",
       "    <tr>\n",
       "      <th>31118</th>\n",
       "      <td>5480</td>\n",
       "      <td>60.1</td>\n",
       "      <td>1.0</td>\n",
       "      <td>0</td>\n",
       "      <td>0</td>\n",
       "      <td>0</td>\n",
       "      <td>0</td>\n",
       "      <td>1</td>\n",
       "      <td>0</td>\n",
       "      <td>0</td>\n",
       "      <td>...</td>\n",
       "      <td>1</td>\n",
       "      <td>0</td>\n",
       "      <td>0</td>\n",
       "      <td>0</td>\n",
       "      <td>1</td>\n",
       "      <td>0</td>\n",
       "      <td>0</td>\n",
       "      <td>0</td>\n",
       "      <td>0</td>\n",
       "      <td>1</td>\n",
       "    </tr>\n",
       "  </tbody>\n",
       "</table>\n",
       "<p>2 rows × 41 columns</p>\n",
       "</div>"
      ],
      "text/plain": [
       "       mileage   mpg  engineSize  brand_bmw  brand_cclass  brand_focus  \\\n",
       "31136    13810  60.1         1.0          0             0            0   \n",
       "31118     5480  60.1         1.0          0             0            0   \n",
       "\n",
       "       brand_ford  brand_hyundi  brand_merc  brand_skoda  ...  year_2017  \\\n",
       "31136           0             1           0            0  ...          1   \n",
       "31118           0             1           0            0  ...          1   \n",
       "\n",
       "       year_2018  year_2019  year_2020  transmission_Manual  \\\n",
       "31136          0          0          0                    1   \n",
       "31118          0          0          0                    1   \n",
       "\n",
       "       transmission_Other  transmission_Semi-Auto  fuelType_Hybrid  \\\n",
       "31136                   0                       0                0   \n",
       "31118                   0                       0                0   \n",
       "\n",
       "       fuelType_Other  fuelType_Petrol  \n",
       "31136               0                1  \n",
       "31118               0                1  \n",
       "\n",
       "[2 rows x 41 columns]"
      ]
     },
     "execution_count": 107,
     "metadata": {},
     "output_type": "execute_result"
    }
   ],
   "source": [
    "x"
   ]
  },
  {
   "cell_type": "code",
   "execution_count": 108,
   "id": "729b0968",
   "metadata": {},
   "outputs": [
    {
     "data": {
      "text/plain": [
       "31136    6830\n",
       "31118    7698\n",
       "Name: price, dtype: int64"
      ]
     },
     "execution_count": 108,
     "metadata": {},
     "output_type": "execute_result"
    }
   ],
   "source": [
    "y"
   ]
  },
  {
   "cell_type": "code",
   "execution_count": 109,
   "id": "900e16c7",
   "metadata": {
    "scrolled": true
   },
   "outputs": [
    {
     "data": {
      "text/plain": [
       "array([7141.19928176, 6497.5612902 ])"
      ]
     },
     "execution_count": 109,
     "metadata": {},
     "output_type": "execute_result"
    }
   ],
   "source": [
    "y_pred = model.predict(x) #예축값 \n",
    "y_pred"
   ]
  },
  {
   "cell_type": "code",
   "execution_count": 110,
   "id": "ac3b4cb2",
   "metadata": {},
   "outputs": [
    {
     "name": "stdout",
     "output_type": "stream",
     "text": [
      "테스트 세트의 정확도 : -3.0824 \n"
     ]
    }
   ],
   "source": [
    "print('테스트 세트의 정확도 : {:.4f} '. format(model.score(x, y))) "
   ]
  },
  {
   "cell_type": "code",
   "execution_count": 111,
   "id": "655558e6",
   "metadata": {},
   "outputs": [
    {
     "name": "stdout",
     "output_type": "stream",
     "text": [
      "경사부스팅의 오차: 755.8190\n"
     ]
    }
   ],
   "source": [
    "# MAE : 평균오차절대값\n",
    "mae_pred =  mean_absolute_error(y, y_pred)\n",
    "print('경사부스팅의 오차: {:.4f}'.format(mae_pred))"
   ]
  },
  {
   "cell_type": "markdown",
   "id": "ed365afb",
   "metadata": {},
   "source": [
    "# k-겹"
   ]
  },
  {
   "cell_type": "code",
   "execution_count": 9,
   "id": "a130a1df",
   "metadata": {},
   "outputs": [
    {
     "name": "stdout",
     "output_type": "stream",
     "text": [
      "5-겹 교차 검증 평균 점수 : 0.78 \n"
     ]
    }
   ],
   "source": [
    "from sklearn.model_selection import cross_val_score\n",
    "from sklearn.ensemble import GradientBoostingRegressor\n",
    "\n",
    "x = car1.drop(\"price\", axis = 1)\n",
    "y = car1['price']\n",
    "\n",
    "gb_6 = GradientBoostingRegressor( learning_rate = 0.5, max_depth= 4, min_samples_leaf= 5, min_samples_split = 10, n_estimators = 1000)\n",
    "\n",
    "cv10_scores = cross_val_score(gb_6, x, y, cv = 15)\n",
    "\n",
    "print('5-겹 교차 검증 평균 점수 : {:.2f} '.format(cv10_scores.mean()))"
   ]
  },
  {
   "cell_type": "markdown",
   "id": "36641eef",
   "metadata": {},
   "source": [
    "### LGBM"
   ]
  },
  {
   "cell_type": "code",
   "execution_count": 64,
   "id": "c63212f7",
   "metadata": {},
   "outputs": [
    {
     "ename": "ModuleNotFoundError",
     "evalue": "No module named 'lightgbm'",
     "output_type": "error",
     "traceback": [
      "\u001b[1;31m---------------------------------------------------------------------------\u001b[0m",
      "\u001b[1;31mModuleNotFoundError\u001b[0m                       Traceback (most recent call last)",
      "\u001b[1;32m~\\AppData\\Local\\Temp/ipykernel_11976/2914547133.py\u001b[0m in \u001b[0;36m<module>\u001b[1;34m\u001b[0m\n\u001b[1;32m----> 1\u001b[1;33m \u001b[1;32mimport\u001b[0m \u001b[0mlightgbm\u001b[0m \u001b[1;32mas\u001b[0m \u001b[0mlgb\u001b[0m\u001b[1;33m\u001b[0m\u001b[1;33m\u001b[0m\u001b[0m\n\u001b[0m\u001b[0;32m      2\u001b[0m \u001b[1;32mfrom\u001b[0m \u001b[0mlightgbm\u001b[0m \u001b[1;32mimport\u001b[0m \u001b[0mLGBMRegressor\u001b[0m\u001b[1;33m\u001b[0m\u001b[1;33m\u001b[0m\u001b[0m\n",
      "\u001b[1;31mModuleNotFoundError\u001b[0m: No module named 'lightgbm'"
     ]
    }
   ],
   "source": [
    "import lightgbm as lgb\n",
    "from lightgbm import LGBMRegressor"
   ]
  },
  {
   "cell_type": "code",
   "execution_count": null,
   "id": "4ca6b751",
   "metadata": {},
   "outputs": [],
   "source": [
    "clf = lgb.LGBMRegressor(num_leaves=31,\n",
    "                        learning_rate=0.05,\n",
    "                        n_estimators=20)\n",
    "clf"
   ]
  },
  {
   "cell_type": "code",
   "execution_count": null,
   "id": "f26417a2",
   "metadata": {},
   "outputs": [],
   "source": [
    "#clf.fit(X_train, y_train, early_stopping_rounds = 1000)\n",
    "clf.fit(x_train, y_train,\n",
    "        eval_set=[(x_test, y_test)],\n",
    "        eval_metric='l2',\n",
    "        early_stopping_rounds = 100)"
   ]
  },
  {
   "cell_type": "code",
   "execution_count": null,
   "id": "a80c5fa8",
   "metadata": {},
   "outputs": [],
   "source": [
    "y_pred = clf.predict(x_test, num_iteration=clf.best_iteration_)"
   ]
  },
  {
   "cell_type": "code",
   "execution_count": null,
   "id": "6ba7b554",
   "metadata": {},
   "outputs": [],
   "source": [
    "y_pred"
   ]
  },
  {
   "cell_type": "code",
   "execution_count": null,
   "id": "695e4650",
   "metadata": {},
   "outputs": [],
   "source": [
    "print('훈련 세트의 정확도 : {:.4f} '. format(clf.score(x_test, y_test)))\n",
    "print('테스트 세트의 정확도 : {:.4f} '. format(r2_score(y_test, clf.predict(x_test)))) "
   ]
  },
  {
   "cell_type": "code",
   "execution_count": null,
   "id": "549d9294",
   "metadata": {},
   "outputs": [],
   "source": [
    "print('The rmse of prediction is:', mean_absolute_error(y_test, y_pred))"
   ]
  },
  {
   "cell_type": "code",
   "execution_count": null,
   "id": "5e2aedc5",
   "metadata": {},
   "outputs": [],
   "source": []
  },
  {
   "cell_type": "code",
   "execution_count": null,
   "id": "10c9581c",
   "metadata": {},
   "outputs": [],
   "source": []
  },
  {
   "cell_type": "code",
   "execution_count": null,
   "id": "ed1de92f",
   "metadata": {},
   "outputs": [],
   "source": []
  },
  {
   "cell_type": "code",
   "execution_count": null,
   "id": "d6141639",
   "metadata": {},
   "outputs": [],
   "source": []
  },
  {
   "cell_type": "code",
   "execution_count": null,
   "id": "0b326122",
   "metadata": {},
   "outputs": [],
   "source": []
  },
  {
   "cell_type": "code",
   "execution_count": null,
   "id": "45d4162c",
   "metadata": {},
   "outputs": [],
   "source": []
  },
  {
   "cell_type": "code",
   "execution_count": null,
   "id": "b0bc7ac2",
   "metadata": {},
   "outputs": [],
   "source": []
  },
  {
   "cell_type": "code",
   "execution_count": null,
   "id": "77659091",
   "metadata": {},
   "outputs": [],
   "source": []
  },
  {
   "cell_type": "code",
   "execution_count": null,
   "id": "5eb6c35b",
   "metadata": {},
   "outputs": [],
   "source": []
  },
  {
   "cell_type": "code",
   "execution_count": null,
   "id": "92f4cc8f",
   "metadata": {},
   "outputs": [],
   "source": []
  },
  {
   "cell_type": "code",
   "execution_count": null,
   "id": "9ac2587d",
   "metadata": {},
   "outputs": [],
   "source": []
  }
 ],
 "metadata": {
  "kernelspec": {
   "display_name": "Python 3 (ipykernel)",
   "language": "python",
   "name": "python3"
  },
  "language_info": {
   "codemirror_mode": {
    "name": "ipython",
    "version": 3
   },
   "file_extension": ".py",
   "mimetype": "text/x-python",
   "name": "python",
   "nbconvert_exporter": "python",
   "pygments_lexer": "ipython3",
   "version": "3.9.7"
  }
 },
 "nbformat": 4,
 "nbformat_minor": 5
}
