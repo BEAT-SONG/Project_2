{
 "cells": [
  {
   "cell_type": "code",
   "execution_count": 2,
   "id": "d086556b",
   "metadata": {},
   "outputs": [],
   "source": [
    "import pandas as pd\n",
    "import numpy as np\n",
    "import matplotlib.pyplot as plt\n",
    "import seaborn as sns\n",
    "from sklearn.preprocessing import LabelEncoder\n",
    "from sklearn.model_selection import train_test_split\n",
    "from sklearn.linear_model import LinearRegression\n",
    "from sklearn.metrics import accuracy_score, confusion_matrix, r2_score\n",
    "from sklearn.metrics import mean_absolute_error\n",
    "from sklearn import preprocessing\n",
    "from sklearn.model_selection import GridSearchCV\n",
    "from sklearn.ensemble import GradientBoostingRegressor\n",
    "from sklearn.ensemble import RandomForestRegressor\n",
    "from IPython.display import Image"
   ]
  },
  {
   "cell_type": "code",
   "execution_count": 123,
   "id": "90ca4447",
   "metadata": {},
   "outputs": [],
   "source": [
    "car = pd.read_csv('./car/car.csv')"
   ]
  },
  {
   "cell_type": "code",
   "execution_count": 132,
   "id": "523f976e",
   "metadata": {
    "scrolled": true
   },
   "outputs": [
    {
     "data": {
      "text/html": [
       "<div>\n",
       "<style scoped>\n",
       "    .dataframe tbody tr th:only-of-type {\n",
       "        vertical-align: middle;\n",
       "    }\n",
       "\n",
       "    .dataframe tbody tr th {\n",
       "        vertical-align: top;\n",
       "    }\n",
       "\n",
       "    .dataframe thead th {\n",
       "        text-align: right;\n",
       "    }\n",
       "</style>\n",
       "<table border=\"1\" class=\"dataframe\">\n",
       "  <thead>\n",
       "    <tr style=\"text-align: right;\">\n",
       "      <th></th>\n",
       "      <th>brand</th>\n",
       "      <th>model</th>\n",
       "      <th>year</th>\n",
       "      <th>price</th>\n",
       "      <th>transmission</th>\n",
       "      <th>mileage</th>\n",
       "      <th>fuelType</th>\n",
       "      <th>mpg</th>\n",
       "      <th>engineSize</th>\n",
       "    </tr>\n",
       "  </thead>\n",
       "  <tbody>\n",
       "    <tr>\n",
       "      <th>0</th>\n",
       "      <td>audi</td>\n",
       "      <td>A1</td>\n",
       "      <td>2017</td>\n",
       "      <td>12500</td>\n",
       "      <td>Manual</td>\n",
       "      <td>15735</td>\n",
       "      <td>Petrol</td>\n",
       "      <td>55.4</td>\n",
       "      <td>1.4</td>\n",
       "    </tr>\n",
       "    <tr>\n",
       "      <th>1</th>\n",
       "      <td>audi</td>\n",
       "      <td>A1</td>\n",
       "      <td>2016</td>\n",
       "      <td>11000</td>\n",
       "      <td>Manual</td>\n",
       "      <td>29946</td>\n",
       "      <td>Petrol</td>\n",
       "      <td>55.4</td>\n",
       "      <td>1.4</td>\n",
       "    </tr>\n",
       "    <tr>\n",
       "      <th>2</th>\n",
       "      <td>audi</td>\n",
       "      <td>A3</td>\n",
       "      <td>2019</td>\n",
       "      <td>17300</td>\n",
       "      <td>Manual</td>\n",
       "      <td>1998</td>\n",
       "      <td>Petrol</td>\n",
       "      <td>49.6</td>\n",
       "      <td>1.0</td>\n",
       "    </tr>\n",
       "    <tr>\n",
       "      <th>3</th>\n",
       "      <td>audi</td>\n",
       "      <td>A1</td>\n",
       "      <td>2016</td>\n",
       "      <td>13900</td>\n",
       "      <td>Automatic</td>\n",
       "      <td>32260</td>\n",
       "      <td>Petrol</td>\n",
       "      <td>58.9</td>\n",
       "      <td>1.4</td>\n",
       "    </tr>\n",
       "    <tr>\n",
       "      <th>4</th>\n",
       "      <td>audi</td>\n",
       "      <td>A6</td>\n",
       "      <td>2016</td>\n",
       "      <td>13250</td>\n",
       "      <td>Automatic</td>\n",
       "      <td>76788</td>\n",
       "      <td>Diesel</td>\n",
       "      <td>61.4</td>\n",
       "      <td>2.0</td>\n",
       "    </tr>\n",
       "    <tr>\n",
       "      <th>...</th>\n",
       "      <td>...</td>\n",
       "      <td>...</td>\n",
       "      <td>...</td>\n",
       "      <td>...</td>\n",
       "      <td>...</td>\n",
       "      <td>...</td>\n",
       "      <td>...</td>\n",
       "      <td>...</td>\n",
       "      <td>...</td>\n",
       "    </tr>\n",
       "    <tr>\n",
       "      <th>57502</th>\n",
       "      <td>vw</td>\n",
       "      <td>Eos</td>\n",
       "      <td>2008</td>\n",
       "      <td>4995</td>\n",
       "      <td>Manual</td>\n",
       "      <td>65000</td>\n",
       "      <td>Diesel</td>\n",
       "      <td>48.0</td>\n",
       "      <td>2.0</td>\n",
       "    </tr>\n",
       "    <tr>\n",
       "      <th>57503</th>\n",
       "      <td>vw</td>\n",
       "      <td>Eos</td>\n",
       "      <td>2015</td>\n",
       "      <td>12495</td>\n",
       "      <td>Manual</td>\n",
       "      <td>41850</td>\n",
       "      <td>Diesel</td>\n",
       "      <td>58.9</td>\n",
       "      <td>2.0</td>\n",
       "    </tr>\n",
       "    <tr>\n",
       "      <th>57504</th>\n",
       "      <td>vw</td>\n",
       "      <td>Eos</td>\n",
       "      <td>2014</td>\n",
       "      <td>8950</td>\n",
       "      <td>Manual</td>\n",
       "      <td>58000</td>\n",
       "      <td>Diesel</td>\n",
       "      <td>58.9</td>\n",
       "      <td>2.0</td>\n",
       "    </tr>\n",
       "    <tr>\n",
       "      <th>57505</th>\n",
       "      <td>vw</td>\n",
       "      <td>Eos</td>\n",
       "      <td>2006</td>\n",
       "      <td>2995</td>\n",
       "      <td>Manual</td>\n",
       "      <td>92640</td>\n",
       "      <td>Diesel</td>\n",
       "      <td>48.0</td>\n",
       "      <td>2.0</td>\n",
       "    </tr>\n",
       "    <tr>\n",
       "      <th>57506</th>\n",
       "      <td>vw</td>\n",
       "      <td>Eos</td>\n",
       "      <td>2012</td>\n",
       "      <td>5990</td>\n",
       "      <td>Manual</td>\n",
       "      <td>74000</td>\n",
       "      <td>Diesel</td>\n",
       "      <td>58.9</td>\n",
       "      <td>2.0</td>\n",
       "    </tr>\n",
       "  </tbody>\n",
       "</table>\n",
       "<p>57507 rows × 9 columns</p>\n",
       "</div>"
      ],
      "text/plain": [
       "      brand model  year  price transmission  mileage fuelType   mpg  \\\n",
       "0      audi    A1  2017  12500       Manual    15735   Petrol  55.4   \n",
       "1      audi    A1  2016  11000       Manual    29946   Petrol  55.4   \n",
       "2      audi    A3  2019  17300       Manual     1998   Petrol  49.6   \n",
       "3      audi    A1  2016  13900    Automatic    32260   Petrol  58.9   \n",
       "4      audi    A6  2016  13250    Automatic    76788   Diesel  61.4   \n",
       "...     ...   ...   ...    ...          ...      ...      ...   ...   \n",
       "57502    vw   Eos  2008   4995       Manual    65000   Diesel  48.0   \n",
       "57503    vw   Eos  2015  12495       Manual    41850   Diesel  58.9   \n",
       "57504    vw   Eos  2014   8950       Manual    58000   Diesel  58.9   \n",
       "57505    vw   Eos  2006   2995       Manual    92640   Diesel  48.0   \n",
       "57506    vw   Eos  2012   5990       Manual    74000   Diesel  58.9   \n",
       "\n",
       "       engineSize  \n",
       "0             1.4  \n",
       "1             1.4  \n",
       "2             1.0  \n",
       "3             1.4  \n",
       "4             2.0  \n",
       "...           ...  \n",
       "57502         2.0  \n",
       "57503         2.0  \n",
       "57504         2.0  \n",
       "57505         2.0  \n",
       "57506         2.0  \n",
       "\n",
       "[57507 rows x 9 columns]"
      ]
     },
     "execution_count": 132,
     "metadata": {},
     "output_type": "execute_result"
    }
   ],
   "source": [
    "car['']"
   ]
  },
  {
   "cell_type": "code",
   "execution_count": 128,
   "id": "87e62fe6",
   "metadata": {},
   "outputs": [],
   "source": [
    "car_end = pd.read_csv('./car_end_2.csv')"
   ]
  },
  {
   "cell_type": "code",
   "execution_count": 129,
   "id": "6795b35e",
   "metadata": {},
   "outputs": [
    {
     "data": {
      "text/html": [
       "<div>\n",
       "<style scoped>\n",
       "    .dataframe tbody tr th:only-of-type {\n",
       "        vertical-align: middle;\n",
       "    }\n",
       "\n",
       "    .dataframe tbody tr th {\n",
       "        vertical-align: top;\n",
       "    }\n",
       "\n",
       "    .dataframe thead th {\n",
       "        text-align: right;\n",
       "    }\n",
       "</style>\n",
       "<table border=\"1\" class=\"dataframe\">\n",
       "  <thead>\n",
       "    <tr style=\"text-align: right;\">\n",
       "      <th></th>\n",
       "      <th>id</th>\n",
       "      <th>brand</th>\n",
       "      <th>model</th>\n",
       "      <th>year</th>\n",
       "      <th>price</th>\n",
       "      <th>transmission</th>\n",
       "      <th>mileage</th>\n",
       "      <th>fuelType</th>\n",
       "      <th>mpg</th>\n",
       "      <th>engineSize</th>\n",
       "    </tr>\n",
       "  </thead>\n",
       "  <tbody>\n",
       "    <tr>\n",
       "      <th>0</th>\n",
       "      <td>1</td>\n",
       "      <td>audi</td>\n",
       "      <td>A1</td>\n",
       "      <td>2017</td>\n",
       "      <td>12500</td>\n",
       "      <td>Manual</td>\n",
       "      <td>15735</td>\n",
       "      <td>Petrol</td>\n",
       "      <td>55.4</td>\n",
       "      <td>1.4</td>\n",
       "    </tr>\n",
       "    <tr>\n",
       "      <th>1</th>\n",
       "      <td>2</td>\n",
       "      <td>audi</td>\n",
       "      <td>A1</td>\n",
       "      <td>2016</td>\n",
       "      <td>11000</td>\n",
       "      <td>Manual</td>\n",
       "      <td>29946</td>\n",
       "      <td>Petrol</td>\n",
       "      <td>55.4</td>\n",
       "      <td>1.4</td>\n",
       "    </tr>\n",
       "    <tr>\n",
       "      <th>2</th>\n",
       "      <td>3</td>\n",
       "      <td>audi</td>\n",
       "      <td>A3</td>\n",
       "      <td>2019</td>\n",
       "      <td>17300</td>\n",
       "      <td>Manual</td>\n",
       "      <td>1998</td>\n",
       "      <td>Petrol</td>\n",
       "      <td>49.6</td>\n",
       "      <td>1.0</td>\n",
       "    </tr>\n",
       "    <tr>\n",
       "      <th>3</th>\n",
       "      <td>4</td>\n",
       "      <td>audi</td>\n",
       "      <td>A1</td>\n",
       "      <td>2016</td>\n",
       "      <td>13900</td>\n",
       "      <td>Automatic</td>\n",
       "      <td>32260</td>\n",
       "      <td>Petrol</td>\n",
       "      <td>58.9</td>\n",
       "      <td>1.4</td>\n",
       "    </tr>\n",
       "    <tr>\n",
       "      <th>4</th>\n",
       "      <td>5</td>\n",
       "      <td>audi</td>\n",
       "      <td>A6</td>\n",
       "      <td>2016</td>\n",
       "      <td>13250</td>\n",
       "      <td>Automatic</td>\n",
       "      <td>76788</td>\n",
       "      <td>Diesel</td>\n",
       "      <td>61.4</td>\n",
       "      <td>2.0</td>\n",
       "    </tr>\n",
       "    <tr>\n",
       "      <th>...</th>\n",
       "      <td>...</td>\n",
       "      <td>...</td>\n",
       "      <td>...</td>\n",
       "      <td>...</td>\n",
       "      <td>...</td>\n",
       "      <td>...</td>\n",
       "      <td>...</td>\n",
       "      <td>...</td>\n",
       "      <td>...</td>\n",
       "      <td>...</td>\n",
       "    </tr>\n",
       "    <tr>\n",
       "      <th>57502</th>\n",
       "      <td>57503</td>\n",
       "      <td>vw</td>\n",
       "      <td>Eos</td>\n",
       "      <td>2008</td>\n",
       "      <td>4995</td>\n",
       "      <td>Manual</td>\n",
       "      <td>65000</td>\n",
       "      <td>Diesel</td>\n",
       "      <td>48.0</td>\n",
       "      <td>2.0</td>\n",
       "    </tr>\n",
       "    <tr>\n",
       "      <th>57503</th>\n",
       "      <td>57504</td>\n",
       "      <td>vw</td>\n",
       "      <td>Eos</td>\n",
       "      <td>2015</td>\n",
       "      <td>12495</td>\n",
       "      <td>Manual</td>\n",
       "      <td>41850</td>\n",
       "      <td>Diesel</td>\n",
       "      <td>58.9</td>\n",
       "      <td>2.0</td>\n",
       "    </tr>\n",
       "    <tr>\n",
       "      <th>57504</th>\n",
       "      <td>57505</td>\n",
       "      <td>vw</td>\n",
       "      <td>Eos</td>\n",
       "      <td>2014</td>\n",
       "      <td>8950</td>\n",
       "      <td>Manual</td>\n",
       "      <td>58000</td>\n",
       "      <td>Diesel</td>\n",
       "      <td>58.9</td>\n",
       "      <td>2.0</td>\n",
       "    </tr>\n",
       "    <tr>\n",
       "      <th>57505</th>\n",
       "      <td>57506</td>\n",
       "      <td>vw</td>\n",
       "      <td>Eos</td>\n",
       "      <td>2006</td>\n",
       "      <td>2995</td>\n",
       "      <td>Manual</td>\n",
       "      <td>92640</td>\n",
       "      <td>Diesel</td>\n",
       "      <td>48.0</td>\n",
       "      <td>2.0</td>\n",
       "    </tr>\n",
       "    <tr>\n",
       "      <th>57506</th>\n",
       "      <td>57507</td>\n",
       "      <td>vw</td>\n",
       "      <td>Eos</td>\n",
       "      <td>2012</td>\n",
       "      <td>5990</td>\n",
       "      <td>Manual</td>\n",
       "      <td>74000</td>\n",
       "      <td>Diesel</td>\n",
       "      <td>58.9</td>\n",
       "      <td>2.0</td>\n",
       "    </tr>\n",
       "  </tbody>\n",
       "</table>\n",
       "<p>57507 rows × 10 columns</p>\n",
       "</div>"
      ],
      "text/plain": [
       "          id brand model  year  price transmission  mileage fuelType   mpg  \\\n",
       "0          1  audi    A1  2017  12500       Manual    15735   Petrol  55.4   \n",
       "1          2  audi    A1  2016  11000       Manual    29946   Petrol  55.4   \n",
       "2          3  audi    A3  2019  17300       Manual     1998   Petrol  49.6   \n",
       "3          4  audi    A1  2016  13900    Automatic    32260   Petrol  58.9   \n",
       "4          5  audi    A6  2016  13250    Automatic    76788   Diesel  61.4   \n",
       "...      ...   ...   ...   ...    ...          ...      ...      ...   ...   \n",
       "57502  57503    vw   Eos  2008   4995       Manual    65000   Diesel  48.0   \n",
       "57503  57504    vw   Eos  2015  12495       Manual    41850   Diesel  58.9   \n",
       "57504  57505    vw   Eos  2014   8950       Manual    58000   Diesel  58.9   \n",
       "57505  57506    vw   Eos  2006   2995       Manual    92640   Diesel  48.0   \n",
       "57506  57507    vw   Eos  2012   5990       Manual    74000   Diesel  58.9   \n",
       "\n",
       "       engineSize  \n",
       "0             1.4  \n",
       "1             1.4  \n",
       "2             1.0  \n",
       "3             1.4  \n",
       "4             2.0  \n",
       "...           ...  \n",
       "57502         2.0  \n",
       "57503         2.0  \n",
       "57504         2.0  \n",
       "57505         2.0  \n",
       "57506         2.0  \n",
       "\n",
       "[57507 rows x 10 columns]"
      ]
     },
     "execution_count": 129,
     "metadata": {},
     "output_type": "execute_result"
    }
   ],
   "source": [
    "car_end"
   ]
  },
  {
   "cell_type": "code",
   "execution_count": 90,
   "id": "e4114d7a",
   "metadata": {},
   "outputs": [],
   "source": [
    "car1 = pd.read_csv('./car_year.csv')"
   ]
  },
  {
   "cell_type": "code",
   "execution_count": 91,
   "id": "7558b978",
   "metadata": {},
   "outputs": [
    {
     "data": {
      "text/html": [
       "<div>\n",
       "<style scoped>\n",
       "    .dataframe tbody tr th:only-of-type {\n",
       "        vertical-align: middle;\n",
       "    }\n",
       "\n",
       "    .dataframe tbody tr th {\n",
       "        vertical-align: top;\n",
       "    }\n",
       "\n",
       "    .dataframe thead th {\n",
       "        text-align: right;\n",
       "    }\n",
       "</style>\n",
       "<table border=\"1\" class=\"dataframe\">\n",
       "  <thead>\n",
       "    <tr style=\"text-align: right;\">\n",
       "      <th></th>\n",
       "      <th>price</th>\n",
       "      <th>mileage</th>\n",
       "      <th>mpg</th>\n",
       "      <th>engineSize</th>\n",
       "      <th>brand_bmw</th>\n",
       "      <th>brand_cclass</th>\n",
       "      <th>brand_focus</th>\n",
       "      <th>brand_ford</th>\n",
       "      <th>brand_hyundi</th>\n",
       "      <th>brand_merc</th>\n",
       "      <th>...</th>\n",
       "      <th>year_2017</th>\n",
       "      <th>year_2018</th>\n",
       "      <th>year_2019</th>\n",
       "      <th>year_2020</th>\n",
       "      <th>transmission_Manual</th>\n",
       "      <th>transmission_Other</th>\n",
       "      <th>transmission_Semi-Auto</th>\n",
       "      <th>fuelType_Hybrid</th>\n",
       "      <th>fuelType_Other</th>\n",
       "      <th>fuelType_Petrol</th>\n",
       "    </tr>\n",
       "  </thead>\n",
       "  <tbody>\n",
       "    <tr>\n",
       "      <th>0</th>\n",
       "      <td>12500</td>\n",
       "      <td>15735</td>\n",
       "      <td>55.4</td>\n",
       "      <td>1.4</td>\n",
       "      <td>0</td>\n",
       "      <td>0</td>\n",
       "      <td>0</td>\n",
       "      <td>0</td>\n",
       "      <td>0</td>\n",
       "      <td>0</td>\n",
       "      <td>...</td>\n",
       "      <td>1</td>\n",
       "      <td>0</td>\n",
       "      <td>0</td>\n",
       "      <td>0</td>\n",
       "      <td>1</td>\n",
       "      <td>0</td>\n",
       "      <td>0</td>\n",
       "      <td>0</td>\n",
       "      <td>0</td>\n",
       "      <td>1</td>\n",
       "    </tr>\n",
       "    <tr>\n",
       "      <th>1</th>\n",
       "      <td>11000</td>\n",
       "      <td>29946</td>\n",
       "      <td>55.4</td>\n",
       "      <td>1.4</td>\n",
       "      <td>0</td>\n",
       "      <td>0</td>\n",
       "      <td>0</td>\n",
       "      <td>0</td>\n",
       "      <td>0</td>\n",
       "      <td>0</td>\n",
       "      <td>...</td>\n",
       "      <td>0</td>\n",
       "      <td>0</td>\n",
       "      <td>0</td>\n",
       "      <td>0</td>\n",
       "      <td>1</td>\n",
       "      <td>0</td>\n",
       "      <td>0</td>\n",
       "      <td>0</td>\n",
       "      <td>0</td>\n",
       "      <td>1</td>\n",
       "    </tr>\n",
       "    <tr>\n",
       "      <th>2</th>\n",
       "      <td>17300</td>\n",
       "      <td>1998</td>\n",
       "      <td>49.6</td>\n",
       "      <td>1.0</td>\n",
       "      <td>0</td>\n",
       "      <td>0</td>\n",
       "      <td>0</td>\n",
       "      <td>0</td>\n",
       "      <td>0</td>\n",
       "      <td>0</td>\n",
       "      <td>...</td>\n",
       "      <td>0</td>\n",
       "      <td>0</td>\n",
       "      <td>1</td>\n",
       "      <td>0</td>\n",
       "      <td>1</td>\n",
       "      <td>0</td>\n",
       "      <td>0</td>\n",
       "      <td>0</td>\n",
       "      <td>0</td>\n",
       "      <td>1</td>\n",
       "    </tr>\n",
       "    <tr>\n",
       "      <th>3</th>\n",
       "      <td>13900</td>\n",
       "      <td>32260</td>\n",
       "      <td>58.9</td>\n",
       "      <td>1.4</td>\n",
       "      <td>0</td>\n",
       "      <td>0</td>\n",
       "      <td>0</td>\n",
       "      <td>0</td>\n",
       "      <td>0</td>\n",
       "      <td>0</td>\n",
       "      <td>...</td>\n",
       "      <td>0</td>\n",
       "      <td>0</td>\n",
       "      <td>0</td>\n",
       "      <td>0</td>\n",
       "      <td>0</td>\n",
       "      <td>0</td>\n",
       "      <td>0</td>\n",
       "      <td>0</td>\n",
       "      <td>0</td>\n",
       "      <td>1</td>\n",
       "    </tr>\n",
       "    <tr>\n",
       "      <th>4</th>\n",
       "      <td>13250</td>\n",
       "      <td>76788</td>\n",
       "      <td>61.4</td>\n",
       "      <td>2.0</td>\n",
       "      <td>0</td>\n",
       "      <td>0</td>\n",
       "      <td>0</td>\n",
       "      <td>0</td>\n",
       "      <td>0</td>\n",
       "      <td>0</td>\n",
       "      <td>...</td>\n",
       "      <td>0</td>\n",
       "      <td>0</td>\n",
       "      <td>0</td>\n",
       "      <td>0</td>\n",
       "      <td>0</td>\n",
       "      <td>0</td>\n",
       "      <td>0</td>\n",
       "      <td>0</td>\n",
       "      <td>0</td>\n",
       "      <td>0</td>\n",
       "    </tr>\n",
       "    <tr>\n",
       "      <th>...</th>\n",
       "      <td>...</td>\n",
       "      <td>...</td>\n",
       "      <td>...</td>\n",
       "      <td>...</td>\n",
       "      <td>...</td>\n",
       "      <td>...</td>\n",
       "      <td>...</td>\n",
       "      <td>...</td>\n",
       "      <td>...</td>\n",
       "      <td>...</td>\n",
       "      <td>...</td>\n",
       "      <td>...</td>\n",
       "      <td>...</td>\n",
       "      <td>...</td>\n",
       "      <td>...</td>\n",
       "      <td>...</td>\n",
       "      <td>...</td>\n",
       "      <td>...</td>\n",
       "      <td>...</td>\n",
       "      <td>...</td>\n",
       "      <td>...</td>\n",
       "    </tr>\n",
       "    <tr>\n",
       "      <th>57502</th>\n",
       "      <td>4995</td>\n",
       "      <td>65000</td>\n",
       "      <td>48.0</td>\n",
       "      <td>2.0</td>\n",
       "      <td>0</td>\n",
       "      <td>0</td>\n",
       "      <td>0</td>\n",
       "      <td>0</td>\n",
       "      <td>0</td>\n",
       "      <td>0</td>\n",
       "      <td>...</td>\n",
       "      <td>0</td>\n",
       "      <td>0</td>\n",
       "      <td>0</td>\n",
       "      <td>0</td>\n",
       "      <td>1</td>\n",
       "      <td>0</td>\n",
       "      <td>0</td>\n",
       "      <td>0</td>\n",
       "      <td>0</td>\n",
       "      <td>0</td>\n",
       "    </tr>\n",
       "    <tr>\n",
       "      <th>57503</th>\n",
       "      <td>12495</td>\n",
       "      <td>41850</td>\n",
       "      <td>58.9</td>\n",
       "      <td>2.0</td>\n",
       "      <td>0</td>\n",
       "      <td>0</td>\n",
       "      <td>0</td>\n",
       "      <td>0</td>\n",
       "      <td>0</td>\n",
       "      <td>0</td>\n",
       "      <td>...</td>\n",
       "      <td>0</td>\n",
       "      <td>0</td>\n",
       "      <td>0</td>\n",
       "      <td>0</td>\n",
       "      <td>1</td>\n",
       "      <td>0</td>\n",
       "      <td>0</td>\n",
       "      <td>0</td>\n",
       "      <td>0</td>\n",
       "      <td>0</td>\n",
       "    </tr>\n",
       "    <tr>\n",
       "      <th>57504</th>\n",
       "      <td>8950</td>\n",
       "      <td>58000</td>\n",
       "      <td>58.9</td>\n",
       "      <td>2.0</td>\n",
       "      <td>0</td>\n",
       "      <td>0</td>\n",
       "      <td>0</td>\n",
       "      <td>0</td>\n",
       "      <td>0</td>\n",
       "      <td>0</td>\n",
       "      <td>...</td>\n",
       "      <td>0</td>\n",
       "      <td>0</td>\n",
       "      <td>0</td>\n",
       "      <td>0</td>\n",
       "      <td>1</td>\n",
       "      <td>0</td>\n",
       "      <td>0</td>\n",
       "      <td>0</td>\n",
       "      <td>0</td>\n",
       "      <td>0</td>\n",
       "    </tr>\n",
       "    <tr>\n",
       "      <th>57505</th>\n",
       "      <td>2995</td>\n",
       "      <td>92640</td>\n",
       "      <td>48.0</td>\n",
       "      <td>2.0</td>\n",
       "      <td>0</td>\n",
       "      <td>0</td>\n",
       "      <td>0</td>\n",
       "      <td>0</td>\n",
       "      <td>0</td>\n",
       "      <td>0</td>\n",
       "      <td>...</td>\n",
       "      <td>0</td>\n",
       "      <td>0</td>\n",
       "      <td>0</td>\n",
       "      <td>0</td>\n",
       "      <td>1</td>\n",
       "      <td>0</td>\n",
       "      <td>0</td>\n",
       "      <td>0</td>\n",
       "      <td>0</td>\n",
       "      <td>0</td>\n",
       "    </tr>\n",
       "    <tr>\n",
       "      <th>57506</th>\n",
       "      <td>5990</td>\n",
       "      <td>74000</td>\n",
       "      <td>58.9</td>\n",
       "      <td>2.0</td>\n",
       "      <td>0</td>\n",
       "      <td>0</td>\n",
       "      <td>0</td>\n",
       "      <td>0</td>\n",
       "      <td>0</td>\n",
       "      <td>0</td>\n",
       "      <td>...</td>\n",
       "      <td>0</td>\n",
       "      <td>0</td>\n",
       "      <td>0</td>\n",
       "      <td>0</td>\n",
       "      <td>1</td>\n",
       "      <td>0</td>\n",
       "      <td>0</td>\n",
       "      <td>0</td>\n",
       "      <td>0</td>\n",
       "      <td>0</td>\n",
       "    </tr>\n",
       "  </tbody>\n",
       "</table>\n",
       "<p>57507 rows × 173 columns</p>\n",
       "</div>"
      ],
      "text/plain": [
       "       price  mileage   mpg  engineSize  brand_bmw  brand_cclass  brand_focus  \\\n",
       "0      12500    15735  55.4         1.4          0             0            0   \n",
       "1      11000    29946  55.4         1.4          0             0            0   \n",
       "2      17300     1998  49.6         1.0          0             0            0   \n",
       "3      13900    32260  58.9         1.4          0             0            0   \n",
       "4      13250    76788  61.4         2.0          0             0            0   \n",
       "...      ...      ...   ...         ...        ...           ...          ...   \n",
       "57502   4995    65000  48.0         2.0          0             0            0   \n",
       "57503  12495    41850  58.9         2.0          0             0            0   \n",
       "57504   8950    58000  58.9         2.0          0             0            0   \n",
       "57505   2995    92640  48.0         2.0          0             0            0   \n",
       "57506   5990    74000  58.9         2.0          0             0            0   \n",
       "\n",
       "       brand_ford  brand_hyundi  brand_merc  ...  year_2017  year_2018  \\\n",
       "0               0             0           0  ...          1          0   \n",
       "1               0             0           0  ...          0          0   \n",
       "2               0             0           0  ...          0          0   \n",
       "3               0             0           0  ...          0          0   \n",
       "4               0             0           0  ...          0          0   \n",
       "...           ...           ...         ...  ...        ...        ...   \n",
       "57502           0             0           0  ...          0          0   \n",
       "57503           0             0           0  ...          0          0   \n",
       "57504           0             0           0  ...          0          0   \n",
       "57505           0             0           0  ...          0          0   \n",
       "57506           0             0           0  ...          0          0   \n",
       "\n",
       "       year_2019  year_2020  transmission_Manual  transmission_Other  \\\n",
       "0              0          0                    1                   0   \n",
       "1              0          0                    1                   0   \n",
       "2              1          0                    1                   0   \n",
       "3              0          0                    0                   0   \n",
       "4              0          0                    0                   0   \n",
       "...          ...        ...                  ...                 ...   \n",
       "57502          0          0                    1                   0   \n",
       "57503          0          0                    1                   0   \n",
       "57504          0          0                    1                   0   \n",
       "57505          0          0                    1                   0   \n",
       "57506          0          0                    1                   0   \n",
       "\n",
       "       transmission_Semi-Auto  fuelType_Hybrid  fuelType_Other  \\\n",
       "0                           0                0               0   \n",
       "1                           0                0               0   \n",
       "2                           0                0               0   \n",
       "3                           0                0               0   \n",
       "4                           0                0               0   \n",
       "...                       ...              ...             ...   \n",
       "57502                       0                0               0   \n",
       "57503                       0                0               0   \n",
       "57504                       0                0               0   \n",
       "57505                       0                0               0   \n",
       "57506                       0                0               0   \n",
       "\n",
       "       fuelType_Petrol  \n",
       "0                    1  \n",
       "1                    1  \n",
       "2                    1  \n",
       "3                    1  \n",
       "4                    0  \n",
       "...                ...  \n",
       "57502                0  \n",
       "57503                0  \n",
       "57504                0  \n",
       "57505                0  \n",
       "57506                0  \n",
       "\n",
       "[57507 rows x 173 columns]"
      ]
     },
     "execution_count": 91,
     "metadata": {},
     "output_type": "execute_result"
    }
   ],
   "source": [
    "car1"
   ]
  },
  {
   "cell_type": "markdown",
   "id": "c06b26eb",
   "metadata": {},
   "source": [
    "### 변수\n",
    "- brand\t\n",
    "- model\t\n",
    "- year\t\n",
    "- price\t\n",
    "- transmission\t\n",
    "- mileage\t\n",
    "- fuelType\t\n",
    "- mpg\t\n",
    "- engineSize"
   ]
  },
  {
   "cell_type": "code",
   "execution_count": 5,
   "id": "b8c61e6e",
   "metadata": {},
   "outputs": [
    {
     "name": "stdout",
     "output_type": "stream",
     "text": [
      "<class 'pandas.core.frame.DataFrame'>\n",
      "RangeIndex: 57507 entries, 0 to 57506\n",
      "Columns: 173 entries, price to fuelType_Petrol\n",
      "dtypes: float64(2), int64(171)\n",
      "memory usage: 75.9 MB\n"
     ]
    }
   ],
   "source": [
    "car1.info()"
   ]
  },
  {
   "cell_type": "code",
   "execution_count": 6,
   "id": "b2db6316",
   "metadata": {},
   "outputs": [
    {
     "data": {
      "text/html": [
       "<div>\n",
       "<style scoped>\n",
       "    .dataframe tbody tr th:only-of-type {\n",
       "        vertical-align: middle;\n",
       "    }\n",
       "\n",
       "    .dataframe tbody tr th {\n",
       "        vertical-align: top;\n",
       "    }\n",
       "\n",
       "    .dataframe thead th {\n",
       "        text-align: right;\n",
       "    }\n",
       "</style>\n",
       "<table border=\"1\" class=\"dataframe\">\n",
       "  <thead>\n",
       "    <tr style=\"text-align: right;\">\n",
       "      <th></th>\n",
       "      <th>price</th>\n",
       "      <th>mileage</th>\n",
       "      <th>mpg</th>\n",
       "      <th>engineSize</th>\n",
       "      <th>brand_bmw</th>\n",
       "      <th>brand_cclass</th>\n",
       "      <th>brand_focus</th>\n",
       "      <th>brand_ford</th>\n",
       "      <th>brand_hyundi</th>\n",
       "      <th>brand_merc</th>\n",
       "      <th>...</th>\n",
       "      <th>year_2017</th>\n",
       "      <th>year_2018</th>\n",
       "      <th>year_2019</th>\n",
       "      <th>year_2020</th>\n",
       "      <th>transmission_Manual</th>\n",
       "      <th>transmission_Other</th>\n",
       "      <th>transmission_Semi-Auto</th>\n",
       "      <th>fuelType_Hybrid</th>\n",
       "      <th>fuelType_Other</th>\n",
       "      <th>fuelType_Petrol</th>\n",
       "    </tr>\n",
       "  </thead>\n",
       "  <tbody>\n",
       "    <tr>\n",
       "      <th>0</th>\n",
       "      <td>12500</td>\n",
       "      <td>15735</td>\n",
       "      <td>55.4</td>\n",
       "      <td>1.4</td>\n",
       "      <td>0</td>\n",
       "      <td>0</td>\n",
       "      <td>0</td>\n",
       "      <td>0</td>\n",
       "      <td>0</td>\n",
       "      <td>0</td>\n",
       "      <td>...</td>\n",
       "      <td>1</td>\n",
       "      <td>0</td>\n",
       "      <td>0</td>\n",
       "      <td>0</td>\n",
       "      <td>1</td>\n",
       "      <td>0</td>\n",
       "      <td>0</td>\n",
       "      <td>0</td>\n",
       "      <td>0</td>\n",
       "      <td>1</td>\n",
       "    </tr>\n",
       "    <tr>\n",
       "      <th>1</th>\n",
       "      <td>11000</td>\n",
       "      <td>29946</td>\n",
       "      <td>55.4</td>\n",
       "      <td>1.4</td>\n",
       "      <td>0</td>\n",
       "      <td>0</td>\n",
       "      <td>0</td>\n",
       "      <td>0</td>\n",
       "      <td>0</td>\n",
       "      <td>0</td>\n",
       "      <td>...</td>\n",
       "      <td>0</td>\n",
       "      <td>0</td>\n",
       "      <td>0</td>\n",
       "      <td>0</td>\n",
       "      <td>1</td>\n",
       "      <td>0</td>\n",
       "      <td>0</td>\n",
       "      <td>0</td>\n",
       "      <td>0</td>\n",
       "      <td>1</td>\n",
       "    </tr>\n",
       "    <tr>\n",
       "      <th>2</th>\n",
       "      <td>17300</td>\n",
       "      <td>1998</td>\n",
       "      <td>49.6</td>\n",
       "      <td>1.0</td>\n",
       "      <td>0</td>\n",
       "      <td>0</td>\n",
       "      <td>0</td>\n",
       "      <td>0</td>\n",
       "      <td>0</td>\n",
       "      <td>0</td>\n",
       "      <td>...</td>\n",
       "      <td>0</td>\n",
       "      <td>0</td>\n",
       "      <td>1</td>\n",
       "      <td>0</td>\n",
       "      <td>1</td>\n",
       "      <td>0</td>\n",
       "      <td>0</td>\n",
       "      <td>0</td>\n",
       "      <td>0</td>\n",
       "      <td>1</td>\n",
       "    </tr>\n",
       "    <tr>\n",
       "      <th>3</th>\n",
       "      <td>13900</td>\n",
       "      <td>32260</td>\n",
       "      <td>58.9</td>\n",
       "      <td>1.4</td>\n",
       "      <td>0</td>\n",
       "      <td>0</td>\n",
       "      <td>0</td>\n",
       "      <td>0</td>\n",
       "      <td>0</td>\n",
       "      <td>0</td>\n",
       "      <td>...</td>\n",
       "      <td>0</td>\n",
       "      <td>0</td>\n",
       "      <td>0</td>\n",
       "      <td>0</td>\n",
       "      <td>0</td>\n",
       "      <td>0</td>\n",
       "      <td>0</td>\n",
       "      <td>0</td>\n",
       "      <td>0</td>\n",
       "      <td>1</td>\n",
       "    </tr>\n",
       "    <tr>\n",
       "      <th>4</th>\n",
       "      <td>13250</td>\n",
       "      <td>76788</td>\n",
       "      <td>61.4</td>\n",
       "      <td>2.0</td>\n",
       "      <td>0</td>\n",
       "      <td>0</td>\n",
       "      <td>0</td>\n",
       "      <td>0</td>\n",
       "      <td>0</td>\n",
       "      <td>0</td>\n",
       "      <td>...</td>\n",
       "      <td>0</td>\n",
       "      <td>0</td>\n",
       "      <td>0</td>\n",
       "      <td>0</td>\n",
       "      <td>0</td>\n",
       "      <td>0</td>\n",
       "      <td>0</td>\n",
       "      <td>0</td>\n",
       "      <td>0</td>\n",
       "      <td>0</td>\n",
       "    </tr>\n",
       "    <tr>\n",
       "      <th>...</th>\n",
       "      <td>...</td>\n",
       "      <td>...</td>\n",
       "      <td>...</td>\n",
       "      <td>...</td>\n",
       "      <td>...</td>\n",
       "      <td>...</td>\n",
       "      <td>...</td>\n",
       "      <td>...</td>\n",
       "      <td>...</td>\n",
       "      <td>...</td>\n",
       "      <td>...</td>\n",
       "      <td>...</td>\n",
       "      <td>...</td>\n",
       "      <td>...</td>\n",
       "      <td>...</td>\n",
       "      <td>...</td>\n",
       "      <td>...</td>\n",
       "      <td>...</td>\n",
       "      <td>...</td>\n",
       "      <td>...</td>\n",
       "      <td>...</td>\n",
       "    </tr>\n",
       "    <tr>\n",
       "      <th>57502</th>\n",
       "      <td>4995</td>\n",
       "      <td>65000</td>\n",
       "      <td>48.0</td>\n",
       "      <td>2.0</td>\n",
       "      <td>0</td>\n",
       "      <td>0</td>\n",
       "      <td>0</td>\n",
       "      <td>0</td>\n",
       "      <td>0</td>\n",
       "      <td>0</td>\n",
       "      <td>...</td>\n",
       "      <td>0</td>\n",
       "      <td>0</td>\n",
       "      <td>0</td>\n",
       "      <td>0</td>\n",
       "      <td>1</td>\n",
       "      <td>0</td>\n",
       "      <td>0</td>\n",
       "      <td>0</td>\n",
       "      <td>0</td>\n",
       "      <td>0</td>\n",
       "    </tr>\n",
       "    <tr>\n",
       "      <th>57503</th>\n",
       "      <td>12495</td>\n",
       "      <td>41850</td>\n",
       "      <td>58.9</td>\n",
       "      <td>2.0</td>\n",
       "      <td>0</td>\n",
       "      <td>0</td>\n",
       "      <td>0</td>\n",
       "      <td>0</td>\n",
       "      <td>0</td>\n",
       "      <td>0</td>\n",
       "      <td>...</td>\n",
       "      <td>0</td>\n",
       "      <td>0</td>\n",
       "      <td>0</td>\n",
       "      <td>0</td>\n",
       "      <td>1</td>\n",
       "      <td>0</td>\n",
       "      <td>0</td>\n",
       "      <td>0</td>\n",
       "      <td>0</td>\n",
       "      <td>0</td>\n",
       "    </tr>\n",
       "    <tr>\n",
       "      <th>57504</th>\n",
       "      <td>8950</td>\n",
       "      <td>58000</td>\n",
       "      <td>58.9</td>\n",
       "      <td>2.0</td>\n",
       "      <td>0</td>\n",
       "      <td>0</td>\n",
       "      <td>0</td>\n",
       "      <td>0</td>\n",
       "      <td>0</td>\n",
       "      <td>0</td>\n",
       "      <td>...</td>\n",
       "      <td>0</td>\n",
       "      <td>0</td>\n",
       "      <td>0</td>\n",
       "      <td>0</td>\n",
       "      <td>1</td>\n",
       "      <td>0</td>\n",
       "      <td>0</td>\n",
       "      <td>0</td>\n",
       "      <td>0</td>\n",
       "      <td>0</td>\n",
       "    </tr>\n",
       "    <tr>\n",
       "      <th>57505</th>\n",
       "      <td>2995</td>\n",
       "      <td>92640</td>\n",
       "      <td>48.0</td>\n",
       "      <td>2.0</td>\n",
       "      <td>0</td>\n",
       "      <td>0</td>\n",
       "      <td>0</td>\n",
       "      <td>0</td>\n",
       "      <td>0</td>\n",
       "      <td>0</td>\n",
       "      <td>...</td>\n",
       "      <td>0</td>\n",
       "      <td>0</td>\n",
       "      <td>0</td>\n",
       "      <td>0</td>\n",
       "      <td>1</td>\n",
       "      <td>0</td>\n",
       "      <td>0</td>\n",
       "      <td>0</td>\n",
       "      <td>0</td>\n",
       "      <td>0</td>\n",
       "    </tr>\n",
       "    <tr>\n",
       "      <th>57506</th>\n",
       "      <td>5990</td>\n",
       "      <td>74000</td>\n",
       "      <td>58.9</td>\n",
       "      <td>2.0</td>\n",
       "      <td>0</td>\n",
       "      <td>0</td>\n",
       "      <td>0</td>\n",
       "      <td>0</td>\n",
       "      <td>0</td>\n",
       "      <td>0</td>\n",
       "      <td>...</td>\n",
       "      <td>0</td>\n",
       "      <td>0</td>\n",
       "      <td>0</td>\n",
       "      <td>0</td>\n",
       "      <td>1</td>\n",
       "      <td>0</td>\n",
       "      <td>0</td>\n",
       "      <td>0</td>\n",
       "      <td>0</td>\n",
       "      <td>0</td>\n",
       "    </tr>\n",
       "  </tbody>\n",
       "</table>\n",
       "<p>57507 rows × 173 columns</p>\n",
       "</div>"
      ],
      "text/plain": [
       "       price  mileage   mpg  engineSize  brand_bmw  brand_cclass  brand_focus  \\\n",
       "0      12500    15735  55.4         1.4          0             0            0   \n",
       "1      11000    29946  55.4         1.4          0             0            0   \n",
       "2      17300     1998  49.6         1.0          0             0            0   \n",
       "3      13900    32260  58.9         1.4          0             0            0   \n",
       "4      13250    76788  61.4         2.0          0             0            0   \n",
       "...      ...      ...   ...         ...        ...           ...          ...   \n",
       "57502   4995    65000  48.0         2.0          0             0            0   \n",
       "57503  12495    41850  58.9         2.0          0             0            0   \n",
       "57504   8950    58000  58.9         2.0          0             0            0   \n",
       "57505   2995    92640  48.0         2.0          0             0            0   \n",
       "57506   5990    74000  58.9         2.0          0             0            0   \n",
       "\n",
       "       brand_ford  brand_hyundi  brand_merc  ...  year_2017  year_2018  \\\n",
       "0               0             0           0  ...          1          0   \n",
       "1               0             0           0  ...          0          0   \n",
       "2               0             0           0  ...          0          0   \n",
       "3               0             0           0  ...          0          0   \n",
       "4               0             0           0  ...          0          0   \n",
       "...           ...           ...         ...  ...        ...        ...   \n",
       "57502           0             0           0  ...          0          0   \n",
       "57503           0             0           0  ...          0          0   \n",
       "57504           0             0           0  ...          0          0   \n",
       "57505           0             0           0  ...          0          0   \n",
       "57506           0             0           0  ...          0          0   \n",
       "\n",
       "       year_2019  year_2020  transmission_Manual  transmission_Other  \\\n",
       "0              0          0                    1                   0   \n",
       "1              0          0                    1                   0   \n",
       "2              1          0                    1                   0   \n",
       "3              0          0                    0                   0   \n",
       "4              0          0                    0                   0   \n",
       "...          ...        ...                  ...                 ...   \n",
       "57502          0          0                    1                   0   \n",
       "57503          0          0                    1                   0   \n",
       "57504          0          0                    1                   0   \n",
       "57505          0          0                    1                   0   \n",
       "57506          0          0                    1                   0   \n",
       "\n",
       "       transmission_Semi-Auto  fuelType_Hybrid  fuelType_Other  \\\n",
       "0                           0                0               0   \n",
       "1                           0                0               0   \n",
       "2                           0                0               0   \n",
       "3                           0                0               0   \n",
       "4                           0                0               0   \n",
       "...                       ...              ...             ...   \n",
       "57502                       0                0               0   \n",
       "57503                       0                0               0   \n",
       "57504                       0                0               0   \n",
       "57505                       0                0               0   \n",
       "57506                       0                0               0   \n",
       "\n",
       "       fuelType_Petrol  \n",
       "0                    1  \n",
       "1                    1  \n",
       "2                    1  \n",
       "3                    1  \n",
       "4                    0  \n",
       "...                ...  \n",
       "57502                0  \n",
       "57503                0  \n",
       "57504                0  \n",
       "57505                0  \n",
       "57506                0  \n",
       "\n",
       "[57507 rows x 173 columns]"
      ]
     },
     "execution_count": 6,
     "metadata": {},
     "output_type": "execute_result"
    }
   ],
   "source": [
    "car1"
   ]
  },
  {
   "cell_type": "markdown",
   "id": "9d6414c0",
   "metadata": {},
   "source": [
    "### train/test 셋 분리"
   ]
  },
  {
   "cell_type": "code",
   "execution_count": 62,
   "id": "23de883a",
   "metadata": {},
   "outputs": [
    {
     "data": {
      "text/plain": [
       "array([[12500],\n",
       "       [11000],\n",
       "       [17300],\n",
       "       ...,\n",
       "       [ 8950],\n",
       "       [ 2995],\n",
       "       [ 5990]], dtype=int64)"
      ]
     },
     "execution_count": 62,
     "metadata": {},
     "output_type": "execute_result"
    }
   ],
   "source": [
    "y = car1[['price']].to_numpy()\n",
    "y"
   ]
  },
  {
   "cell_type": "code",
   "execution_count": 63,
   "id": "2798d308",
   "metadata": {},
   "outputs": [
    {
     "data": {
      "text/plain": [
       "array([[12500],\n",
       "       [11000],\n",
       "       [17300],\n",
       "       ...,\n",
       "       [ 8950],\n",
       "       [ 2995],\n",
       "       [ 5990]], dtype=int64)"
      ]
     },
     "execution_count": 63,
     "metadata": {},
     "output_type": "execute_result"
    }
   ],
   "source": [
    "y"
   ]
  },
  {
   "cell_type": "code",
   "execution_count": 8,
   "id": "6203b7f1",
   "metadata": {},
   "outputs": [],
   "source": [
    "car1 = car1.drop(columns=['price'])"
   ]
  },
  {
   "cell_type": "code",
   "execution_count": 9,
   "id": "e971f5bf",
   "metadata": {},
   "outputs": [
    {
     "data": {
      "text/plain": [
       "array([[1.5735e+04, 5.5400e+01, 1.4000e+00, ..., 0.0000e+00, 0.0000e+00,\n",
       "        1.0000e+00],\n",
       "       [2.9946e+04, 5.5400e+01, 1.4000e+00, ..., 0.0000e+00, 0.0000e+00,\n",
       "        1.0000e+00],\n",
       "       [1.9980e+03, 4.9600e+01, 1.0000e+00, ..., 0.0000e+00, 0.0000e+00,\n",
       "        1.0000e+00],\n",
       "       ...,\n",
       "       [5.8000e+04, 5.8900e+01, 2.0000e+00, ..., 0.0000e+00, 0.0000e+00,\n",
       "        0.0000e+00],\n",
       "       [9.2640e+04, 4.8000e+01, 2.0000e+00, ..., 0.0000e+00, 0.0000e+00,\n",
       "        0.0000e+00],\n",
       "       [7.4000e+04, 5.8900e+01, 2.0000e+00, ..., 0.0000e+00, 0.0000e+00,\n",
       "        0.0000e+00]])"
      ]
     },
     "execution_count": 9,
     "metadata": {},
     "output_type": "execute_result"
    }
   ],
   "source": [
    "x = car1.values\n",
    "x"
   ]
  },
  {
   "cell_type": "code",
   "execution_count": 10,
   "id": "ff24bc09",
   "metadata": {},
   "outputs": [],
   "source": [
    "columns = car1.columns"
   ]
  },
  {
   "cell_type": "code",
   "execution_count": 11,
   "id": "3672a5ed",
   "metadata": {},
   "outputs": [],
   "source": [
    "scaler = preprocessing.MinMaxScaler()\n",
    "tmp = scaler.fit_transform(x)\n",
    "car = pd.DataFrame(tmp)\n",
    "car1.columns = columns\n",
    "\n",
    "x = car1.to_numpy()"
   ]
  },
  {
   "cell_type": "code",
   "execution_count": 12,
   "id": "9c784ce7",
   "metadata": {},
   "outputs": [],
   "source": [
    "# 기본값은 75 : 25 비율\n",
    "x_train, x_test, y_train, y_test = train_test_split(x, y, train_size = 0.75, random_state=1)"
   ]
  },
  {
   "cell_type": "code",
   "execution_count": 13,
   "id": "6f22e29d",
   "metadata": {},
   "outputs": [
    {
     "data": {
      "text/plain": [
       "((43130, 172), (43130, 1))"
      ]
     },
     "execution_count": 13,
     "metadata": {},
     "output_type": "execute_result"
    }
   ],
   "source": [
    "x_train.shape, y_train.shape"
   ]
  },
  {
   "cell_type": "code",
   "execution_count": 14,
   "id": "0e1560b6",
   "metadata": {},
   "outputs": [
    {
     "data": {
      "text/plain": [
       "((14377, 172), (14377, 1))"
      ]
     },
     "execution_count": 14,
     "metadata": {},
     "output_type": "execute_result"
    }
   ],
   "source": [
    "x_test.shape, y_test.shape"
   ]
  },
  {
   "cell_type": "markdown",
   "id": "d4fff33d",
   "metadata": {},
   "source": [
    "# 경사부스팅(GBM)"
   ]
  },
  {
   "cell_type": "code",
   "execution_count": 15,
   "id": "38806f72",
   "metadata": {},
   "outputs": [
    {
     "data": {
      "image/png": "[encoded data removed]",
      "text/plain": [
       "<IPython.core.display.Image object>"
      ]
     },
     "execution_count": 15,
     "metadata": {},
     "output_type": "execute_result"
    }
   ],
   "source": [
    "Image('./images/경사.png')"
   ]
  },
  {
   "cell_type": "code",
   "execution_count": 16,
   "id": "8d49b028",
   "metadata": {},
   "outputs": [
    {
     "data": {
      "text/plain": [
       "array([ 8549,  9000, 15989, ..., 19998, 24299, 29755], dtype=int64)"
      ]
     },
     "execution_count": 16,
     "metadata": {},
     "output_type": "execute_result"
    }
   ],
   "source": [
    "y_prime = y_train.reshape(y_train.shape[0])\n",
    "\n",
    "y_prime"
   ]
  },
  {
   "cell_type": "code",
   "execution_count": 66,
   "id": "b78a6c90",
   "metadata": {},
   "outputs": [
    {
     "data": {
      "text/plain": [
       "(14377, 1)"
      ]
     },
     "execution_count": 66,
     "metadata": {},
     "output_type": "execute_result"
    }
   ],
   "source": [
    "y_test.shape"
   ]
  },
  {
   "cell_type": "code",
   "execution_count": 17,
   "id": "2680683d",
   "metadata": {},
   "outputs": [
    {
     "data": {
      "text/plain": [
       "array([20689, 21967, 16600, ...,  6230, 12500, 24950], dtype=int64)"
      ]
     },
     "execution_count": 17,
     "metadata": {},
     "output_type": "execute_result"
    }
   ],
   "source": [
    "y_test_prime = y_test.reshape(y_test.shape[0])\n",
    "\n",
    "y_test_prime"
   ]
  },
  {
   "cell_type": "code",
   "execution_count": 19,
   "id": "3c5e3148",
   "metadata": {},
   "outputs": [],
   "source": [
    "param_grid ={  }"
   ]
  },
  {
   "cell_type": "code",
   "execution_count": 20,
   "id": "6928cb7a",
   "metadata": {},
   "outputs": [
    {
     "data": {
      "text/plain": [
       "{}"
      ]
     },
     "execution_count": 20,
     "metadata": {},
     "output_type": "execute_result"
    }
   ],
   "source": [
    "param_grid"
   ]
  },
  {
   "cell_type": "code",
   "execution_count": 127,
   "id": "c3d23d14",
   "metadata": {},
   "outputs": [],
   "source": [
    "grid_search = GridSearchCV(GradientBoostingRegressor(loss= 'huber'),\n",
    "                           param_grid, cv=3, return_train_score=True)"
   ]
  },
  {
   "cell_type": "code",
   "execution_count": 128,
   "id": "1db7226c",
   "metadata": {},
   "outputs": [
    {
     "data": {
      "text/plain": [
       "GridSearchCV(cv=3, estimator=GradientBoostingRegressor(loss='huber'),\n",
       "             param_grid={}, return_train_score=True)"
      ]
     },
     "execution_count": 128,
     "metadata": {},
     "output_type": "execute_result"
    }
   ],
   "source": [
    "grid_search.fit(x_train, y_prime)"
   ]
  },
  {
   "cell_type": "code",
   "execution_count": 129,
   "id": "a0ab8b86",
   "metadata": {},
   "outputs": [
    {
     "data": {
      "text/plain": [
       "array([19889.74378257, 19886.01365944, 19842.82091449, ...,\n",
       "        7007.01868842, 13248.43052586, 23879.60420906])"
      ]
     },
     "execution_count": 129,
     "metadata": {},
     "output_type": "execute_result"
    }
   ],
   "source": [
    "y_pred = grid_search.predict(x_test)\n",
    "y_pred"
   ]
  },
  {
   "cell_type": "code",
   "execution_count": 130,
   "id": "5ae0cf23",
   "metadata": {},
   "outputs": [
    {
     "name": "stdout",
     "output_type": "stream",
     "text": [
      "train accuracy :  0.8705734561930611\n"
     ]
    }
   ],
   "source": [
    "print('train accuracy : ', format(grid_search.score(x_train, y_prime)))"
   ]
  },
  {
   "cell_type": "code",
   "execution_count": 131,
   "id": "f155f814",
   "metadata": {},
   "outputs": [
    {
     "name": "stdout",
     "output_type": "stream",
     "text": [
      "test accuracy :  0.8736131525481685\n",
      "test accuracy :  0.8736131525481685\n"
     ]
    }
   ],
   "source": [
    "print('test accuracy : ', format(grid_search.score(x_test, y_test_prime))) \n",
    "print('test accuracy : ', format(r2_score(y_test_prime, grid_search.predict(x_test)))) "
   ]
  },
  {
   "cell_type": "code",
   "execution_count": 132,
   "id": "349ca26f",
   "metadata": {},
   "outputs": [
    {
     "data": {
      "text/plain": [
       "1877.5938021014888"
      ]
     },
     "execution_count": 132,
     "metadata": {},
     "output_type": "execute_result"
    }
   ],
   "source": [
    "# MAE : 평균오차절대값\n",
    "mean_absolute_error(y_test_prime, grid_search.predict(x_test))"
   ]
  },
  {
   "cell_type": "code",
   "execution_count": 72,
   "id": "f48de846",
   "metadata": {},
   "outputs": [],
   "source": [
    "# -------------------------------------"
   ]
  },
  {
   "cell_type": "markdown",
   "id": "16036643",
   "metadata": {},
   "source": [
    "## 하이퍼 파라미터 튜닝"
   ]
  },
  {
   "cell_type": "markdown",
   "id": "da39bb05",
   "metadata": {},
   "source": [
    "### n_estimators 조절"
   ]
  },
  {
   "cell_type": "code",
   "execution_count": 23,
   "id": "4f113ee1",
   "metadata": {},
   "outputs": [],
   "source": [
    "n_estimators = [100, 500, 1000] # weak learner의 개수. 개수가 많을수록 일정 수준까지는 좋아지지만 수행 시간이 오래 걸림\n",
    "#learning_rate = [0.1, 0.5, 1] # (0.1)GBM이 학습을 진행할 때마다 적용하는 학습률. 0~1. \n",
    "#max_depth = [1, 2, 3, 4] # (3)트리의 최대 깊이. 깊이가 깊어지면 과적합이 될 수 있으므로 적절히 제어 필요.\n",
    "#min_samples_leaf = [5, 10, 15] # (1)리프노드가 되기 위한 최소한의 샘플 데이터 수. 불균형 데이터의 경우 특정 클래스 데이터가 극도로 덕을 수 있으므로 작은 값으로 설정이 필요\n",
    "#min_samples_split = [2, 5, 10] # (2)노드를 분할하기 위한 최소한의 샘플 데이터 수.\n",
    "\n",
    "# max_features\n",
    "# max_leaf_nodes\n",
    "# loss\n",
    "# subsample\n",
    "\n",
    "# https://sevillabk.github.io/Boosting/ \n",
    "\n",
    "param_grid = {'n_estimators' : n_estimators}\n",
    "              #'learning_rate' : learning_rate,\n",
    "              #'max_depth' : max_depth,\n",
    "              #'min_samples_leaf' : min_samples_leaf,\n",
    "              #'min_samples_split' : min_samples_split}"
   ]
  },
  {
   "cell_type": "code",
   "execution_count": 24,
   "id": "c84acd39",
   "metadata": {},
   "outputs": [
    {
     "data": {
      "text/plain": [
       "dict_keys(['cv', 'error_score', 'estimator__alpha', 'estimator__ccp_alpha', 'estimator__criterion', 'estimator__init', 'estimator__learning_rate', 'estimator__loss', 'estimator__max_depth', 'estimator__max_features', 'estimator__max_leaf_nodes', 'estimator__min_impurity_decrease', 'estimator__min_impurity_split', 'estimator__min_samples_leaf', 'estimator__min_samples_split', 'estimator__min_weight_fraction_leaf', 'estimator__n_estimators', 'estimator__n_iter_no_change', 'estimator__random_state', 'estimator__subsample', 'estimator__tol', 'estimator__validation_fraction', 'estimator__verbose', 'estimator__warm_start', 'estimator', 'n_jobs', 'param_grid', 'pre_dispatch', 'refit', 'return_train_score', 'scoring', 'verbose'])"
      ]
     },
     "execution_count": 24,
     "metadata": {},
     "output_type": "execute_result"
    }
   ],
   "source": [
    "gb.get_params().keys()"
   ]
  },
  {
   "cell_type": "code",
   "execution_count": 25,
   "id": "99813bce",
   "metadata": {},
   "outputs": [
    {
     "data": {
      "text/plain": [
       "{'n_estimators': [100, 500, 1000]}"
      ]
     },
     "execution_count": 25,
     "metadata": {},
     "output_type": "execute_result"
    }
   ],
   "source": [
    "param_grid"
   ]
  },
  {
   "cell_type": "code",
   "execution_count": 26,
   "id": "b503d442",
   "metadata": {},
   "outputs": [],
   "source": [
    "gb = GridSearchCV(GradientBoostingRegressor(loss= 'huber'),\n",
    "                  param_grid, cv=3, return_train_score=True)"
   ]
  },
  {
   "cell_type": "code",
   "execution_count": 27,
   "id": "9af77a04",
   "metadata": {},
   "outputs": [
    {
     "data": {
      "text/plain": [
       "GridSearchCV(cv=3, estimator=GradientBoostingRegressor(loss='huber'),\n",
       "             param_grid={'n_estimators': [100, 500, 1000]},\n",
       "             return_train_score=True)"
      ]
     },
     "execution_count": 27,
     "metadata": {},
     "output_type": "execute_result"
    }
   ],
   "source": [
    "gb.fit(x_train, y_prime)"
   ]
  },
  {
   "cell_type": "code",
   "execution_count": 29,
   "id": "a1f63f5f",
   "metadata": {},
   "outputs": [
    {
     "name": "stdout",
     "output_type": "stream",
     "text": [
      "최적 하이퍼 파라미터:  {'n_estimators': 1000}\n"
     ]
    }
   ],
   "source": [
    "print('최적 하이퍼 파라미터: ', gb.best_params_)"
   ]
  },
  {
   "cell_type": "code",
   "execution_count": 30,
   "id": "51f4dcfe",
   "metadata": {},
   "outputs": [
    {
     "name": "stdout",
     "output_type": "stream",
     "text": [
      "train accuracy :  0.9419736943933976\n"
     ]
    }
   ],
   "source": [
    "print('train accuracy : ', format(gb.score(x_train, y_prime)))"
   ]
  },
  {
   "cell_type": "code",
   "execution_count": 31,
   "id": "d6242a9d",
   "metadata": {},
   "outputs": [
    {
     "name": "stdout",
     "output_type": "stream",
     "text": [
      "test accuracy :  0.9418257097544085\n"
     ]
    }
   ],
   "source": [
    "print('test accuracy : ', format(gb.score(x_test, y_test_prime))) "
   ]
  },
  {
   "cell_type": "code",
   "execution_count": 33,
   "id": "1a11e1ed",
   "metadata": {},
   "outputs": [
    {
     "data": {
      "text/plain": [
       "1225.3975001671756"
      ]
     },
     "execution_count": 33,
     "metadata": {},
     "output_type": "execute_result"
    }
   ],
   "source": [
    "# MAE : 평균오차절대값\n",
    "mean_absolute_error(y_test_prime, gb.predict(x_test))"
   ]
  },
  {
   "cell_type": "markdown",
   "id": "bcd5615f",
   "metadata": {},
   "source": [
    "### learning_rate 조절"
   ]
  },
  {
   "cell_type": "code",
   "execution_count": 37,
   "id": "0a956138",
   "metadata": {},
   "outputs": [],
   "source": [
    "n_estimators = [1000] # weak learner의 개수. 개수가 많을수록 일정 수준까지는 좋아지지만 수행 시간이 오래 걸림\n",
    "learning_rate = [0.1, 0.5, 1] # (0.1)GBM이 학습을 진행할 때마다 적용하는 학습률. 0~1. \n",
    "#max_depth = [1, 2, 3, 4] # (3)트리의 최대 깊이. 깊이가 깊어지면 과적합이 될 수 있으므로 적절히 제어 필요.\n",
    "#min_samples_leaf = [5, 10, 15] # (1)리프노드가 되기 위한 최소한의 샘플 데이터 수. 불균형 데이터의 경우 특정 클래스 데이터가 극도로 덕을 수 있으므로 작은 값으로 설정이 필요\n",
    "#min_samples_split = [2, 5, 10] # (2)노드를 분할하기 위한 최소한의 샘플 데이터 수.\n",
    "\n",
    "# max_features\n",
    "# max_leaf_nodes\n",
    "# loss\n",
    "# subsample\n",
    "\n",
    "# https://sevillabk.github.io/Boosting/ \n",
    "\n",
    "param_grid = {'n_estimators' : n_estimators,\n",
    "              'learning_rate' : learning_rate}\n",
    "              #'max_depth' : max_depth,\n",
    "              #'min_samples_leaf' : min_samples_leaf,\n",
    "              #'min_samples_split' : min_samples_split}"
   ]
  },
  {
   "cell_type": "code",
   "execution_count": 38,
   "id": "0a7e7ac5",
   "metadata": {},
   "outputs": [
    {
     "data": {
      "text/plain": [
       "{'n_estimators': [1000], 'learning_rate': [0.1, 0.5, 1]}"
      ]
     },
     "execution_count": 38,
     "metadata": {},
     "output_type": "execute_result"
    }
   ],
   "source": [
    "param_grid"
   ]
  },
  {
   "cell_type": "code",
   "execution_count": 39,
   "id": "1991261d",
   "metadata": {},
   "outputs": [],
   "source": [
    "gb_2 = GridSearchCV(GradientBoostingRegressor(loss= 'huber'),\n",
    "                  param_grid, cv=3, return_train_score=True)"
   ]
  },
  {
   "cell_type": "code",
   "execution_count": 40,
   "id": "b7007f6f",
   "metadata": {},
   "outputs": [
    {
     "data": {
      "text/plain": [
       "GridSearchCV(cv=3, estimator=GradientBoostingRegressor(loss='huber'),\n",
       "             param_grid={'learning_rate': [0.1, 0.5, 1],\n",
       "                         'n_estimators': [1000]},\n",
       "             return_train_score=True)"
      ]
     },
     "execution_count": 40,
     "metadata": {},
     "output_type": "execute_result"
    }
   ],
   "source": [
    "gb_2.fit(x_train, y_prime)"
   ]
  },
  {
   "cell_type": "code",
   "execution_count": 41,
   "id": "1d620185",
   "metadata": {},
   "outputs": [
    {
     "name": "stdout",
     "output_type": "stream",
     "text": [
      "최적 하이퍼 파라미터:  {'learning_rate': 0.5, 'n_estimators': 1000}\n"
     ]
    }
   ],
   "source": [
    "print('최적 하이퍼 파라미터: ', gb_2.best_params_)"
   ]
  },
  {
   "cell_type": "code",
   "execution_count": 42,
   "id": "2270c0b1",
   "metadata": {},
   "outputs": [
    {
     "name": "stdout",
     "output_type": "stream",
     "text": [
      "train accuracy :  0.9654015328520067\n"
     ]
    }
   ],
   "source": [
    "print('train accuracy : ', format(gb_2.score(x_train, y_prime)))"
   ]
  },
  {
   "cell_type": "code",
   "execution_count": 43,
   "id": "34ce75a1",
   "metadata": {},
   "outputs": [
    {
     "name": "stdout",
     "output_type": "stream",
     "text": [
      "test accuracy :  0.9537919040973473\n"
     ]
    }
   ],
   "source": [
    "print('test accuracy : ', format(gb_2.score(x_test, y_test_prime))) "
   ]
  },
  {
   "cell_type": "code",
   "execution_count": 44,
   "id": "2277a575",
   "metadata": {},
   "outputs": [
    {
     "data": {
      "text/plain": [
       "1078.7342351996779"
      ]
     },
     "execution_count": 44,
     "metadata": {},
     "output_type": "execute_result"
    }
   ],
   "source": [
    "# MAE : 평균오차절대값\n",
    "mean_absolute_error(y_test_prime, gb_2.predict(x_test))"
   ]
  },
  {
   "cell_type": "markdown",
   "id": "258a0075",
   "metadata": {},
   "source": [
    "### max_depth 조절"
   ]
  },
  {
   "cell_type": "code",
   "execution_count": 45,
   "id": "77da2a55",
   "metadata": {},
   "outputs": [],
   "source": [
    "n_estimators = [1000] # weak learner의 개수. 개수가 많을수록 일정 수준까지는 좋아지지만 수행 시간이 오래 걸림\n",
    "learning_rate = [0.5] # (0.1)GBM이 학습을 진행할 때마다 적용하는 학습률. 0~1. \n",
    "max_depth = [1, 2, 3, 4] # (3)트리의 최대 깊이. 깊이가 깊어지면 과적합이 될 수 있으므로 적절히 제어 필요.\n",
    "#min_samples_leaf = [5, 10, 15] # (1)리프노드가 되기 위한 최소한의 샘플 데이터 수. 불균형 데이터의 경우 특정 클래스 데이터가 극도로 덕을 수 있으므로 작은 값으로 설정이 필요\n",
    "#min_samples_split = [2, 5, 10] # (2)노드를 분할하기 위한 최소한의 샘플 데이터 수.\n",
    "\n",
    "# max_features\n",
    "# max_leaf_nodes\n",
    "# loss\n",
    "# subsample\n",
    "\n",
    "# https://sevillabk.github.io/Boosting/ \n",
    "\n",
    "param_grid = {'n_estimators' : n_estimators,\n",
    "              'learning_rate' : learning_rate,\n",
    "              'max_depth' : max_depth}\n",
    "              #'min_samples_leaf' : min_samples_leaf,\n",
    "              #'min_samples_split' : min_samples_split}"
   ]
  },
  {
   "cell_type": "code",
   "execution_count": 46,
   "id": "ea20bc95",
   "metadata": {},
   "outputs": [
    {
     "data": {
      "text/plain": [
       "{'n_estimators': [1000], 'learning_rate': [0.5], 'max_depth': [1, 2, 3, 4]}"
      ]
     },
     "execution_count": 46,
     "metadata": {},
     "output_type": "execute_result"
    }
   ],
   "source": [
    "param_grid"
   ]
  },
  {
   "cell_type": "code",
   "execution_count": 47,
   "id": "43d32f3b",
   "metadata": {},
   "outputs": [],
   "source": [
    "gb_3 = GridSearchCV(GradientBoostingRegressor(loss= 'huber'),\n",
    "                  param_grid, cv=3, return_train_score=True)"
   ]
  },
  {
   "cell_type": "code",
   "execution_count": 49,
   "id": "8e6a7741",
   "metadata": {},
   "outputs": [
    {
     "data": {
      "text/plain": [
       "GridSearchCV(cv=3, estimator=GradientBoostingRegressor(loss='huber'),\n",
       "             param_grid={'learning_rate': [0.5], 'max_depth': [1, 2, 3, 4],\n",
       "                         'n_estimators': [1000]},\n",
       "             return_train_score=True)"
      ]
     },
     "execution_count": 49,
     "metadata": {},
     "output_type": "execute_result"
    }
   ],
   "source": [
    "gb_3.fit(x_train, y_prime)"
   ]
  },
  {
   "cell_type": "code",
   "execution_count": 51,
   "id": "fe612023",
   "metadata": {},
   "outputs": [
    {
     "name": "stdout",
     "output_type": "stream",
     "text": [
      "최적 하이퍼 파라미터:  {'learning_rate': 0.5, 'max_depth': 3, 'n_estimators': 1000}\n"
     ]
    }
   ],
   "source": [
    "print('최적 하이퍼 파라미터: ', gb_3.best_params_)"
   ]
  },
  {
   "cell_type": "code",
   "execution_count": 52,
   "id": "c7a324f1",
   "metadata": {},
   "outputs": [
    {
     "name": "stdout",
     "output_type": "stream",
     "text": [
      "train accuracy :  0.962281184432382\n"
     ]
    }
   ],
   "source": [
    "print('train accuracy : ', format(gb_3.score(x_train, y_prime)))"
   ]
  },
  {
   "cell_type": "code",
   "execution_count": 53,
   "id": "d7783c0d",
   "metadata": {},
   "outputs": [
    {
     "name": "stdout",
     "output_type": "stream",
     "text": [
      "test accuracy :  0.9543437476426281\n"
     ]
    }
   ],
   "source": [
    "print('test accuracy : ', format(gb_3.score(x_test, y_test_prime))) "
   ]
  },
  {
   "cell_type": "code",
   "execution_count": 54,
   "id": "333c0964",
   "metadata": {},
   "outputs": [
    {
     "data": {
      "text/plain": [
       "1076.3743887213186"
      ]
     },
     "execution_count": 54,
     "metadata": {},
     "output_type": "execute_result"
    }
   ],
   "source": [
    "# MAE : 평균오차절대값\n",
    "mean_absolute_error(y_test_prime, gb_3.predict(x_test))"
   ]
  },
  {
   "cell_type": "markdown",
   "id": "207977d4",
   "metadata": {},
   "source": [
    "### min_samples_leaf 조절"
   ]
  },
  {
   "cell_type": "code",
   "execution_count": 55,
   "id": "2ae4e82c",
   "metadata": {},
   "outputs": [],
   "source": [
    "n_estimators = [1000] # weak learner의 개수. 개수가 많을수록 일정 수준까지는 좋아지지만 수행 시간이 오래 걸림\n",
    "learning_rate = [0.5] # (0.1)GBM이 학습을 진행할 때마다 적용하는 학습률. 0~1. \n",
    "max_depth = [3] # (3)트리의 최대 깊이. 깊이가 깊어지면 과적합이 될 수 있으므로 적절히 제어 필요.\n",
    "min_samples_leaf = [5, 10, 15] # (1)리프노드가 되기 위한 최소한의 샘플 데이터 수. 불균형 데이터의 경우 특정 클래스 데이터가 극도로 덕을 수 있으므로 작은 값으로 설정이 필요\n",
    "#min_samples_split = [2, 5, 10] # (2)노드를 분할하기 위한 최소한의 샘플 데이터 수.\n",
    "\n",
    "# max_features\n",
    "# max_leaf_nodes\n",
    "# loss\n",
    "# subsample\n",
    "\n",
    "# https://sevillabk.github.io/Boosting/ \n",
    "\n",
    "param_grid = {'n_estimators' : n_estimators,\n",
    "              'learning_rate' : learning_rate,\n",
    "              'max_depth' : max_depth,\n",
    "              'min_samples_leaf' : min_samples_leaf}\n",
    "              #'min_samples_split' : min_samples_split}"
   ]
  },
  {
   "cell_type": "code",
   "execution_count": 56,
   "id": "a87d5102",
   "metadata": {},
   "outputs": [
    {
     "data": {
      "text/plain": [
       "{'n_estimators': [1000],\n",
       " 'learning_rate': [0.5],\n",
       " 'max_depth': [3],\n",
       " 'min_samples_leaf': [5, 10, 15]}"
      ]
     },
     "execution_count": 56,
     "metadata": {},
     "output_type": "execute_result"
    }
   ],
   "source": [
    "param_grid"
   ]
  },
  {
   "cell_type": "code",
   "execution_count": 57,
   "id": "0d991298",
   "metadata": {},
   "outputs": [],
   "source": [
    "gb_4 = GridSearchCV(GradientBoostingRegressor(loss= 'huber'),\n",
    "                  param_grid, cv=3, return_train_score=True)"
   ]
  },
  {
   "cell_type": "code",
   "execution_count": 58,
   "id": "49232710",
   "metadata": {},
   "outputs": [
    {
     "data": {
      "text/plain": [
       "GridSearchCV(cv=3, estimator=GradientBoostingRegressor(loss='huber'),\n",
       "             param_grid={'learning_rate': [0.5], 'max_depth': [3],\n",
       "                         'min_samples_leaf': [5, 10, 15],\n",
       "                         'n_estimators': [1000]},\n",
       "             return_train_score=True)"
      ]
     },
     "execution_count": 58,
     "metadata": {},
     "output_type": "execute_result"
    }
   ],
   "source": [
    "gb_4.fit(x_train, y_prime)"
   ]
  },
  {
   "cell_type": "code",
   "execution_count": 59,
   "id": "d7f8566e",
   "metadata": {},
   "outputs": [
    {
     "name": "stdout",
     "output_type": "stream",
     "text": [
      "최적 하이퍼 파라미터:  {'learning_rate': 0.5, 'max_depth': 3, 'min_samples_leaf': 5, 'n_estimators': 1000}\n"
     ]
    }
   ],
   "source": [
    "print('최적 하이퍼 파라미터: ', gb_4.best_params_)"
   ]
  },
  {
   "cell_type": "code",
   "execution_count": 60,
   "id": "63b90261",
   "metadata": {},
   "outputs": [
    {
     "name": "stdout",
     "output_type": "stream",
     "text": [
      "train accuracy :  0.9612536996474181\n"
     ]
    }
   ],
   "source": [
    "print('train accuracy : ', format(gb_4.score(x_train, y_prime)))"
   ]
  },
  {
   "cell_type": "code",
   "execution_count": 61,
   "id": "b7bbed33",
   "metadata": {},
   "outputs": [
    {
     "name": "stdout",
     "output_type": "stream",
     "text": [
      "test accuracy :  0.9544929221366831\n"
     ]
    }
   ],
   "source": [
    "print('test accuracy : ', format(gb_4.score(x_test, y_test_prime))) "
   ]
  },
  {
   "cell_type": "code",
   "execution_count": 62,
   "id": "5418f518",
   "metadata": {},
   "outputs": [
    {
     "data": {
      "text/plain": [
       "1077.5649370099766"
      ]
     },
     "execution_count": 62,
     "metadata": {},
     "output_type": "execute_result"
    }
   ],
   "source": [
    "# MAE : 평균오차절대값\n",
    "mean_absolute_error(y_test_prime, gb_4.predict(x_test))"
   ]
  },
  {
   "cell_type": "markdown",
   "id": "448f1161",
   "metadata": {},
   "source": [
    "### min_samples_split 조절"
   ]
  },
  {
   "cell_type": "code",
   "execution_count": 63,
   "id": "e0910bfe",
   "metadata": {},
   "outputs": [],
   "source": [
    "n_estimators = [1000] # weak learner의 개수. 개수가 많을수록 일정 수준까지는 좋아지지만 수행 시간이 오래 걸림\n",
    "learning_rate = [0.5] # (0.1)GBM이 학습을 진행할 때마다 적용하는 학습률. 0~1. \n",
    "max_depth = [3] # (3)트리의 최대 깊이. 깊이가 깊어지면 과적합이 될 수 있으므로 적절히 제어 필요.\n",
    "min_samples_leaf = [5] # (1)리프노드가 되기 위한 최소한의 샘플 데이터 수. 불균형 데이터의 경우 특정 클래스 데이터가 극도로 덕을 수 있으므로 작은 값으로 설정이 필요\n",
    "min_samples_split = [2, 5, 10] # (2)노드를 분할하기 위한 최소한의 샘플 데이터 수.\n",
    "\n",
    "# max_features\n",
    "# max_leaf_nodes\n",
    "# loss\n",
    "# subsample\n",
    "\n",
    "# https://sevillabk.github.io/Boosting/ \n",
    "\n",
    "param_grid = {'n_estimators' : n_estimators,\n",
    "              'learning_rate' : learning_rate,\n",
    "              'max_depth' : max_depth,\n",
    "              'min_samples_leaf' : min_samples_leaf,\n",
    "              'min_samples_split' : min_samples_split}"
   ]
  },
  {
   "cell_type": "code",
   "execution_count": 64,
   "id": "c7a3e6b9",
   "metadata": {},
   "outputs": [
    {
     "data": {
      "text/plain": [
       "{'n_estimators': [1000],\n",
       " 'learning_rate': [0.5],\n",
       " 'max_depth': [3],\n",
       " 'min_samples_leaf': [5],\n",
       " 'min_samples_split': [2, 5, 10]}"
      ]
     },
     "execution_count": 64,
     "metadata": {},
     "output_type": "execute_result"
    }
   ],
   "source": [
    "param_grid"
   ]
  },
  {
   "cell_type": "code",
   "execution_count": 65,
   "id": "55fb8c9d",
   "metadata": {},
   "outputs": [],
   "source": [
    "gb_5 = GridSearchCV(GradientBoostingRegressor(loss= 'huber'),\n",
    "                  param_grid, cv=3, return_train_score=True)"
   ]
  },
  {
   "cell_type": "code",
   "execution_count": 66,
   "id": "bc71fabb",
   "metadata": {},
   "outputs": [
    {
     "data": {
      "text/plain": [
       "GridSearchCV(cv=3, estimator=GradientBoostingRegressor(loss='huber'),\n",
       "             param_grid={'learning_rate': [0.5], 'max_depth': [3],\n",
       "                         'min_samples_leaf': [5],\n",
       "                         'min_samples_split': [2, 5, 10],\n",
       "                         'n_estimators': [1000]},\n",
       "             return_train_score=True)"
      ]
     },
     "execution_count": 66,
     "metadata": {},
     "output_type": "execute_result"
    }
   ],
   "source": [
    "gb_5.fit(x_train, y_prime)"
   ]
  },
  {
   "cell_type": "code",
   "execution_count": 67,
   "id": "587a9a85",
   "metadata": {},
   "outputs": [
    {
     "name": "stdout",
     "output_type": "stream",
     "text": [
      "최적 하이퍼 파라미터:  {'learning_rate': 0.5, 'max_depth': 3, 'min_samples_leaf': 5, 'min_samples_split': 10, 'n_estimators': 1000}\n"
     ]
    }
   ],
   "source": [
    "print('최적 하이퍼 파라미터: ', gb_5.best_params_)"
   ]
  },
  {
   "cell_type": "code",
   "execution_count": 68,
   "id": "10fd5283",
   "metadata": {},
   "outputs": [
    {
     "name": "stdout",
     "output_type": "stream",
     "text": [
      "train accuracy :  0.9612536996474181\n"
     ]
    }
   ],
   "source": [
    "print('train accuracy : ', format(gb_5.score(x_train, y_prime)))"
   ]
  },
  {
   "cell_type": "code",
   "execution_count": 69,
   "id": "a34f2fce",
   "metadata": {},
   "outputs": [
    {
     "name": "stdout",
     "output_type": "stream",
     "text": [
      "test accuracy :  0.9544665484406677\n"
     ]
    }
   ],
   "source": [
    "print('test accuracy : ', format(gb_5.score(x_test, y_test_prime))) "
   ]
  },
  {
   "cell_type": "code",
   "execution_count": 70,
   "id": "166a8868",
   "metadata": {},
   "outputs": [
    {
     "data": {
      "text/plain": [
       "1077.8214374230165"
      ]
     },
     "execution_count": 70,
     "metadata": {},
     "output_type": "execute_result"
    }
   ],
   "source": [
    "# MAE : 평균오차절대값\n",
    "mean_absolute_error(y_test_prime, gb_5.predict(x_test))"
   ]
  },
  {
   "cell_type": "markdown",
   "id": "34fe755d",
   "metadata": {},
   "source": [
    "## 최적의 파라미터\n",
    "- 최적 하이퍼 파라미터:  {'learning_rate': 0.5, 'max_depth': 3, 'min_samples_leaf': 5, 'min_samples_split': 10, 'n_estimators': 1000}"
   ]
  },
  {
   "cell_type": "code",
   "execution_count": 21,
   "id": "a3ba5ee2",
   "metadata": {},
   "outputs": [],
   "source": [
    "n_estimators = [1000] # weak learner의 개수. 개수가 많을수록 일정 수준까지는 좋아지지만 수행 시간이 오래 걸림\n",
    "learning_rate = [0.5] # (0.1)GBM이 학습을 진행할 때마다 적용하는 학습률. 0~1. \n",
    "max_depth = [3] # (3)트리의 최대 깊이. 깊이가 깊어지면 과적합이 될 수 있으므로 적절히 제어 필요.\n",
    "min_samples_leaf = [5] # (1)리프노드가 되기 위한 최소한의 샘플 데이터 수. 불균형 데이터의 경우 특정 클래스 데이터가 극도로 덕을 수 있으므로 작은 값으로 설정이 필요\n",
    "min_samples_split = [10] # (2)노드를 분할하기 위한 최소한의 샘플 데이터 수.\n",
    "\n",
    "# max_features\n",
    "# max_leaf_nodes\n",
    "# loss\n",
    "# subsample\n",
    "\n",
    "# https://sevillabk.github.io/Boosting/ \n",
    "\n",
    "param_grid = {'n_estimators' : n_estimators,\n",
    "              'learning_rate' : learning_rate,\n",
    "              'max_depth' : max_depth,\n",
    "              'min_samples_leaf' : min_samples_leaf,\n",
    "              'min_samples_split' : min_samples_split}"
   ]
  },
  {
   "cell_type": "code",
   "execution_count": 22,
   "id": "f3aec5d0",
   "metadata": {},
   "outputs": [
    {
     "data": {
      "text/plain": [
       "{'n_estimators': [1000],\n",
       " 'learning_rate': [0.5],\n",
       " 'max_depth': [3],\n",
       " 'min_samples_leaf': [5],\n",
       " 'min_samples_split': [10]}"
      ]
     },
     "execution_count": 22,
     "metadata": {},
     "output_type": "execute_result"
    }
   ],
   "source": [
    "param_grid"
   ]
  },
  {
   "cell_type": "code",
   "execution_count": 24,
   "id": "9bb2b84c",
   "metadata": {},
   "outputs": [],
   "source": [
    "gb_final= GridSearchCV(GradientBoostingRegressor(loss= 'huber'),\n",
    "                  param_grid, cv=3, return_train_score=True)"
   ]
  },
  {
   "cell_type": "code",
   "execution_count": 25,
   "id": "d27c4e88",
   "metadata": {},
   "outputs": [
    {
     "data": {
      "text/plain": [
       "GridSearchCV(cv=3, estimator=GradientBoostingRegressor(loss='huber'),\n",
       "             param_grid={'learning_rate': [0.5], 'max_depth': [3],\n",
       "                         'min_samples_leaf': [5], 'min_samples_split': [10],\n",
       "                         'n_estimators': [1000]},\n",
       "             return_train_score=True)"
      ]
     },
     "execution_count": 25,
     "metadata": {},
     "output_type": "execute_result"
    }
   ],
   "source": [
    "gb_final.fit(x_train, y_prime)"
   ]
  },
  {
   "cell_type": "code",
   "execution_count": 26,
   "id": "b42466b5",
   "metadata": {},
   "outputs": [
    {
     "name": "stdout",
     "output_type": "stream",
     "text": [
      "train accuracy :  0.9612536996474181\n"
     ]
    }
   ],
   "source": [
    "print('train accuracy : ', format(gb_final.score(x_train, y_prime)))"
   ]
  },
  {
   "cell_type": "code",
   "execution_count": 27,
   "id": "d0517029",
   "metadata": {},
   "outputs": [
    {
     "name": "stdout",
     "output_type": "stream",
     "text": [
      "test accuracy :  0.9544596009355267\n"
     ]
    }
   ],
   "source": [
    "print('test accuracy : ', format(gb_final.score(x_test, y_test_prime))) "
   ]
  },
  {
   "cell_type": "code",
   "execution_count": 28,
   "id": "e94f341c",
   "metadata": {},
   "outputs": [
    {
     "data": {
      "text/plain": [
       "1077.8117080347345"
      ]
     },
     "execution_count": 28,
     "metadata": {},
     "output_type": "execute_result"
    }
   ],
   "source": [
    "# MAE : 평균오차절대값\n",
    "mean_absolute_error(y_test_prime, gb_final.predict(x_test))"
   ]
  },
  {
   "cell_type": "markdown",
   "id": "642cfdc0",
   "metadata": {},
   "source": [
    "# gd_final 저장 (GBM 하이퍼파라미터 튜닝한 학습 모델)"
   ]
  },
  {
   "cell_type": "markdown",
   "id": "cfcedea0",
   "metadata": {},
   "source": [
    "## dump\n"
   ]
  },
  {
   "cell_type": "code",
   "execution_count": 29,
   "id": "c8bd0012",
   "metadata": {},
   "outputs": [
    {
     "data": {
      "text/plain": [
       "'1.1.0'"
      ]
     },
     "execution_count": 29,
     "metadata": {},
     "output_type": "execute_result"
    }
   ],
   "source": [
    "# 딥러닝 엔진에는 기능 내장되어 있다\n",
    "# 별도의 써드 파트 모듈을 사용하기도 한다\n",
    "import joblib\n",
    "\n",
    "joblib.__version__"
   ]
  },
  {
   "cell_type": "code",
   "execution_count": 30,
   "id": "5fb4f4d6",
   "metadata": {},
   "outputs": [
    {
     "data": {
      "text/plain": [
       "['gb_final.model']"
      ]
     },
     "execution_count": 30,
     "metadata": {},
     "output_type": "execute_result"
    }
   ],
   "source": [
    "# 확장자는 어떤것을 사용해도 상관없으나, \n",
    "# 특정 모듈을 사용하면 그 네이밍을 따라가거나, 자체 포멧 형태로 정의해도 된다\n",
    "joblib.dump( gb_final, 'gb_final.model' )"
   ]
  },
  {
   "cell_type": "markdown",
   "id": "eb0af162",
   "metadata": {},
   "source": [
    "## pickle\n"
   ]
  },
  {
   "cell_type": "code",
   "execution_count": 119,
   "id": "12b1e514",
   "metadata": {},
   "outputs": [],
   "source": [
    "import pickle "
   ]
  },
  {
   "cell_type": "code",
   "execution_count": 120,
   "id": "7a622a1d",
   "metadata": {},
   "outputs": [],
   "source": [
    "with open('gb_final.pickle','wb') as f:\n",
    "    pickle.dump(gb_final, f)"
   ]
  },
  {
   "cell_type": "code",
   "execution_count": 121,
   "id": "a187bf76",
   "metadata": {},
   "outputs": [],
   "source": [
    "with open('gb_final.pickle', 'rb') as f: \n",
    "    model = pickle.load(f)"
   ]
  },
  {
   "cell_type": "code",
   "execution_count": 122,
   "id": "f2f28100",
   "metadata": {},
   "outputs": [
    {
     "data": {
      "text/plain": [
       "GridSearchCV(cv=3, estimator=GradientBoostingRegressor(loss='huber'),\n",
       "             param_grid={'learning_rate': [0.5], 'max_depth': [3],\n",
       "                         'min_samples_leaf': [5], 'min_samples_split': [10],\n",
       "                         'n_estimators': [1000]},\n",
       "             return_train_score=True)"
      ]
     },
     "execution_count": 122,
     "metadata": {},
     "output_type": "execute_result"
    }
   ],
   "source": [
    "model"
   ]
  },
  {
   "cell_type": "markdown",
   "id": "36641eef",
   "metadata": {},
   "source": [
    "### LGBM"
   ]
  },
  {
   "cell_type": "code",
   "execution_count": 133,
   "id": "c63212f7",
   "metadata": {},
   "outputs": [],
   "source": [
    "import lightgbm as lgb\n",
    "from lightgbm import LGBMRegressor"
   ]
  },
  {
   "cell_type": "code",
   "execution_count": 134,
   "id": "4ca6b751",
   "metadata": {},
   "outputs": [
    {
     "data": {
      "text/plain": [
       "LGBMRegressor(learning_rate=0.05, n_estimators=20)"
      ]
     },
     "execution_count": 134,
     "metadata": {},
     "output_type": "execute_result"
    }
   ],
   "source": [
    "clf = lgb.LGBMRegressor(num_leaves=31,\n",
    "                        learning_rate=0.05,\n",
    "                        n_estimators=20)\n",
    "clf"
   ]
  },
  {
   "cell_type": "code",
   "execution_count": 137,
   "id": "f26417a2",
   "metadata": {},
   "outputs": [
    {
     "name": "stderr",
     "output_type": "stream",
     "text": [
      "C:\\Users\\admin\\anaconda3\\lib\\site-packages\\sklearn\\utils\\validation.py:63: DataConversionWarning: A column-vector y was passed when a 1d array was expected. Please change the shape of y to (n_samples, ), for example using ravel().\n",
      "  return f(*args, **kwargs)\n",
      "C:\\Users\\admin\\anaconda3\\lib\\site-packages\\lightgbm\\sklearn.py:726: UserWarning: 'early_stopping_rounds' argument is deprecated and will be removed in a future release of LightGBM. Pass 'early_stopping()' callback via 'callbacks' argument instead.\n",
      "  _log_warning(\"'early_stopping_rounds' argument is deprecated and will be removed in a future release of LightGBM. \"\n"
     ]
    },
    {
     "name": "stdout",
     "output_type": "stream",
     "text": [
      "[1]\tvalid_0's l2: 5.01343e+07\n",
      "[2]\tvalid_0's l2: 4.64171e+07\n",
      "[3]\tvalid_0's l2: 4.30779e+07\n",
      "[4]\tvalid_0's l2: 4.00674e+07\n",
      "[5]\tvalid_0's l2: 3.73338e+07\n",
      "[6]\tvalid_0's l2: 3.47897e+07\n",
      "[7]\tvalid_0's l2: 3.25064e+07\n",
      "[8]\tvalid_0's l2: 3.03759e+07\n",
      "[9]\tvalid_0's l2: 2.84647e+07\n",
      "[10]\tvalid_0's l2: 2.67139e+07\n",
      "[11]\tvalid_0's l2: 2.50804e+07\n",
      "[12]\tvalid_0's l2: 2.35881e+07\n",
      "[13]\tvalid_0's l2: 2.22484e+07\n",
      "[14]\tvalid_0's l2: 2.09567e+07\n",
      "[15]\tvalid_0's l2: 1.98391e+07\n",
      "[16]\tvalid_0's l2: 1.88111e+07\n",
      "[17]\tvalid_0's l2: 1.77979e+07\n",
      "[18]\tvalid_0's l2: 1.695e+07\n",
      "[19]\tvalid_0's l2: 1.61434e+07\n",
      "[20]\tvalid_0's l2: 1.53879e+07\n"
     ]
    },
    {
     "name": "stderr",
     "output_type": "stream",
     "text": [
      "C:\\Users\\admin\\anaconda3\\lib\\site-packages\\lightgbm\\basic.py:179: UserWarning: Converting column-vector to 1d array\n",
      "  _log_warning('Converting column-vector to 1d array')\n"
     ]
    },
    {
     "data": {
      "text/plain": [
       "LGBMRegressor(learning_rate=0.05, n_estimators=20)"
      ]
     },
     "execution_count": 137,
     "metadata": {},
     "output_type": "execute_result"
    }
   ],
   "source": [
    "#clf.fit(X_train, y_train, early_stopping_rounds = 1000)\n",
    "clf.fit(x_train, y_train,\n",
    "        eval_set=[(x_test, y_test)],\n",
    "        eval_metric='l2',\n",
    "        early_stopping_rounds = 100)"
   ]
  },
  {
   "cell_type": "code",
   "execution_count": 138,
   "id": "a80c5fa8",
   "metadata": {},
   "outputs": [],
   "source": [
    "y_pred = clf.predict(x_test, num_iteration=clf.best_iteration_)"
   ]
  },
  {
   "cell_type": "code",
   "execution_count": 139,
   "id": "6ba7b554",
   "metadata": {},
   "outputs": [
    {
     "data": {
      "text/plain": [
       "array([18247.95938442, 16933.49134795, 18381.76563622, ...,\n",
       "       11475.51277961, 14219.80503717, 19693.86585129])"
      ]
     },
     "execution_count": 139,
     "metadata": {},
     "output_type": "execute_result"
    }
   ],
   "source": [
    "y_pred"
   ]
  },
  {
   "cell_type": "code",
   "execution_count": 140,
   "id": "695e4650",
   "metadata": {},
   "outputs": [
    {
     "name": "stdout",
     "output_type": "stream",
     "text": [
      "test accuracy :  0.7163351840348315\n",
      "test accuracy :  0.7163351840348315\n"
     ]
    }
   ],
   "source": [
    "print('test accuracy : ', format(clf.score(x_test, y_test))) # 결정계수\n",
    "print('test accuracy : ', format(r2_score(y_test, clf.predict(x_test)))) # 결정계수"
   ]
  },
  {
   "cell_type": "code",
   "execution_count": 141,
   "id": "549d9294",
   "metadata": {},
   "outputs": [
    {
     "name": "stdout",
     "output_type": "stream",
     "text": [
      "The rmse of prediction is: 3043.405710021056\n"
     ]
    }
   ],
   "source": [
    "print('The rmse of prediction is:', mean_absolute_error(y_test, y_pred))"
   ]
  },
  {
   "cell_type": "markdown",
   "id": "084fa58c",
   "metadata": {},
   "source": [
    "### 결정트리"
   ]
  },
  {
   "cell_type": "code",
   "execution_count": 142,
   "id": "764e91d5",
   "metadata": {},
   "outputs": [],
   "source": [
    "# 1. 모듈 가져오기\n",
    "from sklearn.tree import DecisionTreeClassifier\n",
    "from sklearn.datasets import load_iris\n",
    "from sklearn.model_selection import train_test_split"
   ]
  },
  {
   "cell_type": "code",
   "execution_count": 148,
   "id": "9b91f287",
   "metadata": {},
   "outputs": [
    {
     "data": {
      "text/plain": [
       "DecisionTreeClassifier(random_state=0)"
      ]
     },
     "execution_count": 148,
     "metadata": {},
     "output_type": "execute_result"
    }
   ],
   "source": [
    "# 2. 알고리즘 생성\n",
    "'''\n",
    "criterion : 규칙 노드는 만드는 판단기준 엔트로피 혹은 지니계수 \n",
    "            사용하는 기준만 지정, 임계값 접근은 파라미터에서 \n",
    "            미지원 -> 튜닝 포인트는 엔트로피 혹은 지니 둘중 어느쪽에서 더 성능이 \n",
    "            나오는지 확인\n",
    "min_samples_split\n",
    "min_samples_leaf\n",
    "max_features\n",
    "max_depth\n",
    "max_leaf_nodes\n",
    "random_state : 알고리즘 생성시 사용하는, 내부에서 사용하는 모든 난수의 씨드 설정\n",
    "- 고정하면 언제다 동일한 성능을 내는 알고리즘 생성\n",
    "'''\n",
    "tree = DecisionTreeClassifier( random_state=0 )\n",
    "tree"
   ]
  },
  {
   "cell_type": "code",
   "execution_count": 149,
   "id": "7f298ca4",
   "metadata": {},
   "outputs": [
    {
     "data": {
      "text/plain": [
       "DecisionTreeClassifier(random_state=0)"
      ]
     },
     "execution_count": 149,
     "metadata": {},
     "output_type": "execute_result"
    }
   ],
   "source": [
    "# 4. 훈련\n",
    "tree.fit( x_train, y_train )"
   ]
  },
  {
   "cell_type": "code",
   "execution_count": 150,
   "id": "c119a7fb",
   "metadata": {},
   "outputs": [
    {
     "data": {
      "text/plain": [
       "0.10134242192390625"
      ]
     },
     "execution_count": 150,
     "metadata": {},
     "output_type": "execute_result"
    }
   ],
   "source": [
    "# 5. 예측 및 성능평가\n",
    "tree.score( x_test, y_test )"
   ]
  },
  {
   "cell_type": "code",
   "execution_count": 153,
   "id": "7c0fd76f",
   "metadata": {},
   "outputs": [
    {
     "name": "stdout",
     "output_type": "stream",
     "text": [
      "test accuracy :  0.10134242192390625\n"
     ]
    }
   ],
   "source": [
    "print('test accuracy : ', format(tree.score(x_test, y_test))) # 결정계수"
   ]
  }
 ],
 "metadata": {
  "kernelspec": {
   "display_name": "Python 3 (ipykernel)",
   "language": "python",
   "name": "python3"
  },
  "language_info": {
   "codemirror_mode": {
    "name": "ipython",
    "version": 3
   },
   "file_extension": ".py",
   "mimetype": "text/x-python",
   "name": "python",
   "nbconvert_exporter": "python",
   "pygments_lexer": "ipython3",
   "version": "3.9.7"
  }
 },
 "nbformat": 4,
 "nbformat_minor": 5
}
