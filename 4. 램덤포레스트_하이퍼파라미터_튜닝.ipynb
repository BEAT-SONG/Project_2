{
 "cells": [
  {
   "cell_type": "code",
   "execution_count": 1,
   "id": "fbf01808",
   "metadata": {},
   "outputs": [],
   "source": [
    "import pandas as pd\n",
    "import numpy as np\n",
    "import matplotlib.pyplot as plt\n",
    "import seaborn as sns\n",
    "from sklearn.preprocessing import LabelEncoder\n",
    "from sklearn.model_selection import train_test_split\n",
    "from sklearn.linear_model import LinearRegression\n",
    "from sklearn.metrics import accuracy_score, confusion_matrix, r2_score\n",
    "from sklearn.metrics import mean_absolute_error\n",
    "from sklearn import preprocessing\n",
    "from sklearn.model_selection import GridSearchCV\n",
    "from sklearn.ensemble import GradientBoostingRegressor\n",
    "from sklearn.ensemble import RandomForestRegressor\n",
    "from IPython.display import Image"
   ]
  },
  {
   "cell_type": "code",
   "execution_count": 6,
   "id": "e58f952b",
   "metadata": {},
   "outputs": [],
   "source": [
    "car1 = pd.read_csv('./car_year2.csv')"
   ]
  },
  {
   "cell_type": "code",
   "execution_count": 7,
   "id": "b27dd11d",
   "metadata": {},
   "outputs": [
    {
     "data": {
      "text/html": [
       "<div>\n",
       "<style scoped>\n",
       "    .dataframe tbody tr th:only-of-type {\n",
       "        vertical-align: middle;\n",
       "    }\n",
       "\n",
       "    .dataframe tbody tr th {\n",
       "        vertical-align: top;\n",
       "    }\n",
       "\n",
       "    .dataframe thead th {\n",
       "        text-align: right;\n",
       "    }\n",
       "</style>\n",
       "<table border=\"1\" class=\"dataframe\">\n",
       "  <thead>\n",
       "    <tr style=\"text-align: right;\">\n",
       "      <th></th>\n",
       "      <th>mileage</th>\n",
       "      <th>mpg</th>\n",
       "      <th>engineSize</th>\n",
       "      <th>price</th>\n",
       "      <th>brand_bmw</th>\n",
       "      <th>brand_cclass</th>\n",
       "      <th>brand_focus</th>\n",
       "      <th>brand_ford</th>\n",
       "      <th>brand_hyundi</th>\n",
       "      <th>brand_merc</th>\n",
       "      <th>...</th>\n",
       "      <th>year_2017</th>\n",
       "      <th>year_2018</th>\n",
       "      <th>year_2019</th>\n",
       "      <th>year_2020</th>\n",
       "      <th>transmission_Manual</th>\n",
       "      <th>transmission_Other</th>\n",
       "      <th>transmission_Semi-Auto</th>\n",
       "      <th>fuelType_Hybrid</th>\n",
       "      <th>fuelType_Other</th>\n",
       "      <th>fuelType_Petrol</th>\n",
       "    </tr>\n",
       "  </thead>\n",
       "  <tbody>\n",
       "    <tr>\n",
       "      <th>0</th>\n",
       "      <td>15735</td>\n",
       "      <td>55.4</td>\n",
       "      <td>1.4</td>\n",
       "      <td>12500</td>\n",
       "      <td>0</td>\n",
       "      <td>0</td>\n",
       "      <td>0</td>\n",
       "      <td>0</td>\n",
       "      <td>0</td>\n",
       "      <td>0</td>\n",
       "      <td>...</td>\n",
       "      <td>1</td>\n",
       "      <td>0</td>\n",
       "      <td>0</td>\n",
       "      <td>0</td>\n",
       "      <td>1</td>\n",
       "      <td>0</td>\n",
       "      <td>0</td>\n",
       "      <td>0</td>\n",
       "      <td>0</td>\n",
       "      <td>1</td>\n",
       "    </tr>\n",
       "    <tr>\n",
       "      <th>1</th>\n",
       "      <td>29946</td>\n",
       "      <td>55.4</td>\n",
       "      <td>1.4</td>\n",
       "      <td>11000</td>\n",
       "      <td>0</td>\n",
       "      <td>0</td>\n",
       "      <td>0</td>\n",
       "      <td>0</td>\n",
       "      <td>0</td>\n",
       "      <td>0</td>\n",
       "      <td>...</td>\n",
       "      <td>0</td>\n",
       "      <td>0</td>\n",
       "      <td>0</td>\n",
       "      <td>0</td>\n",
       "      <td>1</td>\n",
       "      <td>0</td>\n",
       "      <td>0</td>\n",
       "      <td>0</td>\n",
       "      <td>0</td>\n",
       "      <td>1</td>\n",
       "    </tr>\n",
       "    <tr>\n",
       "      <th>2</th>\n",
       "      <td>1998</td>\n",
       "      <td>49.6</td>\n",
       "      <td>1.0</td>\n",
       "      <td>17300</td>\n",
       "      <td>0</td>\n",
       "      <td>0</td>\n",
       "      <td>0</td>\n",
       "      <td>0</td>\n",
       "      <td>0</td>\n",
       "      <td>0</td>\n",
       "      <td>...</td>\n",
       "      <td>0</td>\n",
       "      <td>0</td>\n",
       "      <td>1</td>\n",
       "      <td>0</td>\n",
       "      <td>1</td>\n",
       "      <td>0</td>\n",
       "      <td>0</td>\n",
       "      <td>0</td>\n",
       "      <td>0</td>\n",
       "      <td>1</td>\n",
       "    </tr>\n",
       "    <tr>\n",
       "      <th>3</th>\n",
       "      <td>32260</td>\n",
       "      <td>58.9</td>\n",
       "      <td>1.4</td>\n",
       "      <td>13900</td>\n",
       "      <td>0</td>\n",
       "      <td>0</td>\n",
       "      <td>0</td>\n",
       "      <td>0</td>\n",
       "      <td>0</td>\n",
       "      <td>0</td>\n",
       "      <td>...</td>\n",
       "      <td>0</td>\n",
       "      <td>0</td>\n",
       "      <td>0</td>\n",
       "      <td>0</td>\n",
       "      <td>0</td>\n",
       "      <td>0</td>\n",
       "      <td>0</td>\n",
       "      <td>0</td>\n",
       "      <td>0</td>\n",
       "      <td>1</td>\n",
       "    </tr>\n",
       "    <tr>\n",
       "      <th>4</th>\n",
       "      <td>76788</td>\n",
       "      <td>61.4</td>\n",
       "      <td>2.0</td>\n",
       "      <td>13250</td>\n",
       "      <td>0</td>\n",
       "      <td>0</td>\n",
       "      <td>0</td>\n",
       "      <td>0</td>\n",
       "      <td>0</td>\n",
       "      <td>0</td>\n",
       "      <td>...</td>\n",
       "      <td>0</td>\n",
       "      <td>0</td>\n",
       "      <td>0</td>\n",
       "      <td>0</td>\n",
       "      <td>0</td>\n",
       "      <td>0</td>\n",
       "      <td>0</td>\n",
       "      <td>0</td>\n",
       "      <td>0</td>\n",
       "      <td>0</td>\n",
       "    </tr>\n",
       "    <tr>\n",
       "      <th>...</th>\n",
       "      <td>...</td>\n",
       "      <td>...</td>\n",
       "      <td>...</td>\n",
       "      <td>...</td>\n",
       "      <td>...</td>\n",
       "      <td>...</td>\n",
       "      <td>...</td>\n",
       "      <td>...</td>\n",
       "      <td>...</td>\n",
       "      <td>...</td>\n",
       "      <td>...</td>\n",
       "      <td>...</td>\n",
       "      <td>...</td>\n",
       "      <td>...</td>\n",
       "      <td>...</td>\n",
       "      <td>...</td>\n",
       "      <td>...</td>\n",
       "      <td>...</td>\n",
       "      <td>...</td>\n",
       "      <td>...</td>\n",
       "      <td>...</td>\n",
       "    </tr>\n",
       "    <tr>\n",
       "      <th>57502</th>\n",
       "      <td>65000</td>\n",
       "      <td>48.0</td>\n",
       "      <td>2.0</td>\n",
       "      <td>4995</td>\n",
       "      <td>0</td>\n",
       "      <td>0</td>\n",
       "      <td>0</td>\n",
       "      <td>0</td>\n",
       "      <td>0</td>\n",
       "      <td>0</td>\n",
       "      <td>...</td>\n",
       "      <td>0</td>\n",
       "      <td>0</td>\n",
       "      <td>0</td>\n",
       "      <td>0</td>\n",
       "      <td>1</td>\n",
       "      <td>0</td>\n",
       "      <td>0</td>\n",
       "      <td>0</td>\n",
       "      <td>0</td>\n",
       "      <td>0</td>\n",
       "    </tr>\n",
       "    <tr>\n",
       "      <th>57503</th>\n",
       "      <td>41850</td>\n",
       "      <td>58.9</td>\n",
       "      <td>2.0</td>\n",
       "      <td>12495</td>\n",
       "      <td>0</td>\n",
       "      <td>0</td>\n",
       "      <td>0</td>\n",
       "      <td>0</td>\n",
       "      <td>0</td>\n",
       "      <td>0</td>\n",
       "      <td>...</td>\n",
       "      <td>0</td>\n",
       "      <td>0</td>\n",
       "      <td>0</td>\n",
       "      <td>0</td>\n",
       "      <td>1</td>\n",
       "      <td>0</td>\n",
       "      <td>0</td>\n",
       "      <td>0</td>\n",
       "      <td>0</td>\n",
       "      <td>0</td>\n",
       "    </tr>\n",
       "    <tr>\n",
       "      <th>57504</th>\n",
       "      <td>58000</td>\n",
       "      <td>58.9</td>\n",
       "      <td>2.0</td>\n",
       "      <td>8950</td>\n",
       "      <td>0</td>\n",
       "      <td>0</td>\n",
       "      <td>0</td>\n",
       "      <td>0</td>\n",
       "      <td>0</td>\n",
       "      <td>0</td>\n",
       "      <td>...</td>\n",
       "      <td>0</td>\n",
       "      <td>0</td>\n",
       "      <td>0</td>\n",
       "      <td>0</td>\n",
       "      <td>1</td>\n",
       "      <td>0</td>\n",
       "      <td>0</td>\n",
       "      <td>0</td>\n",
       "      <td>0</td>\n",
       "      <td>0</td>\n",
       "    </tr>\n",
       "    <tr>\n",
       "      <th>57505</th>\n",
       "      <td>92640</td>\n",
       "      <td>48.0</td>\n",
       "      <td>2.0</td>\n",
       "      <td>2995</td>\n",
       "      <td>0</td>\n",
       "      <td>0</td>\n",
       "      <td>0</td>\n",
       "      <td>0</td>\n",
       "      <td>0</td>\n",
       "      <td>0</td>\n",
       "      <td>...</td>\n",
       "      <td>0</td>\n",
       "      <td>0</td>\n",
       "      <td>0</td>\n",
       "      <td>0</td>\n",
       "      <td>1</td>\n",
       "      <td>0</td>\n",
       "      <td>0</td>\n",
       "      <td>0</td>\n",
       "      <td>0</td>\n",
       "      <td>0</td>\n",
       "    </tr>\n",
       "    <tr>\n",
       "      <th>57506</th>\n",
       "      <td>74000</td>\n",
       "      <td>58.9</td>\n",
       "      <td>2.0</td>\n",
       "      <td>5990</td>\n",
       "      <td>0</td>\n",
       "      <td>0</td>\n",
       "      <td>0</td>\n",
       "      <td>0</td>\n",
       "      <td>0</td>\n",
       "      <td>0</td>\n",
       "      <td>...</td>\n",
       "      <td>0</td>\n",
       "      <td>0</td>\n",
       "      <td>0</td>\n",
       "      <td>0</td>\n",
       "      <td>1</td>\n",
       "      <td>0</td>\n",
       "      <td>0</td>\n",
       "      <td>0</td>\n",
       "      <td>0</td>\n",
       "      <td>0</td>\n",
       "    </tr>\n",
       "  </tbody>\n",
       "</table>\n",
       "<p>57507 rows × 42 columns</p>\n",
       "</div>"
      ],
      "text/plain": [
       "       mileage   mpg  engineSize  price  brand_bmw  brand_cclass  brand_focus  \\\n",
       "0        15735  55.4         1.4  12500          0             0            0   \n",
       "1        29946  55.4         1.4  11000          0             0            0   \n",
       "2         1998  49.6         1.0  17300          0             0            0   \n",
       "3        32260  58.9         1.4  13900          0             0            0   \n",
       "4        76788  61.4         2.0  13250          0             0            0   \n",
       "...        ...   ...         ...    ...        ...           ...          ...   \n",
       "57502    65000  48.0         2.0   4995          0             0            0   \n",
       "57503    41850  58.9         2.0  12495          0             0            0   \n",
       "57504    58000  58.9         2.0   8950          0             0            0   \n",
       "57505    92640  48.0         2.0   2995          0             0            0   \n",
       "57506    74000  58.9         2.0   5990          0             0            0   \n",
       "\n",
       "       brand_ford  brand_hyundi  brand_merc  ...  year_2017  year_2018  \\\n",
       "0               0             0           0  ...          1          0   \n",
       "1               0             0           0  ...          0          0   \n",
       "2               0             0           0  ...          0          0   \n",
       "3               0             0           0  ...          0          0   \n",
       "4               0             0           0  ...          0          0   \n",
       "...           ...           ...         ...  ...        ...        ...   \n",
       "57502           0             0           0  ...          0          0   \n",
       "57503           0             0           0  ...          0          0   \n",
       "57504           0             0           0  ...          0          0   \n",
       "57505           0             0           0  ...          0          0   \n",
       "57506           0             0           0  ...          0          0   \n",
       "\n",
       "       year_2019  year_2020  transmission_Manual  transmission_Other  \\\n",
       "0              0          0                    1                   0   \n",
       "1              0          0                    1                   0   \n",
       "2              1          0                    1                   0   \n",
       "3              0          0                    0                   0   \n",
       "4              0          0                    0                   0   \n",
       "...          ...        ...                  ...                 ...   \n",
       "57502          0          0                    1                   0   \n",
       "57503          0          0                    1                   0   \n",
       "57504          0          0                    1                   0   \n",
       "57505          0          0                    1                   0   \n",
       "57506          0          0                    1                   0   \n",
       "\n",
       "       transmission_Semi-Auto  fuelType_Hybrid  fuelType_Other  \\\n",
       "0                           0                0               0   \n",
       "1                           0                0               0   \n",
       "2                           0                0               0   \n",
       "3                           0                0               0   \n",
       "4                           0                0               0   \n",
       "...                       ...              ...             ...   \n",
       "57502                       0                0               0   \n",
       "57503                       0                0               0   \n",
       "57504                       0                0               0   \n",
       "57505                       0                0               0   \n",
       "57506                       0                0               0   \n",
       "\n",
       "       fuelType_Petrol  \n",
       "0                    1  \n",
       "1                    1  \n",
       "2                    1  \n",
       "3                    1  \n",
       "4                    0  \n",
       "...                ...  \n",
       "57502                0  \n",
       "57503                0  \n",
       "57504                0  \n",
       "57505                0  \n",
       "57506                0  \n",
       "\n",
       "[57507 rows x 42 columns]"
      ]
     },
     "execution_count": 7,
     "metadata": {},
     "output_type": "execute_result"
    }
   ],
   "source": [
    "car1"
   ]
  },
  {
   "cell_type": "markdown",
   "id": "be784c5a",
   "metadata": {},
   "source": [
    "# 데이터셋 분리"
   ]
  },
  {
   "cell_type": "code",
   "execution_count": 8,
   "id": "a69ba52a",
   "metadata": {},
   "outputs": [],
   "source": [
    "x = car1.drop(\"price\", axis = 1)\n",
    "y = car1[\"price\"]"
   ]
  },
  {
   "cell_type": "code",
   "execution_count": 9,
   "id": "180d1574",
   "metadata": {},
   "outputs": [],
   "source": [
    "# 기본값은 70 : 30 비율\n",
    "x_train, x_test, y_train, y_test = train_test_split(x, y, train_size = 0.70, random_state=1)"
   ]
  },
  {
   "cell_type": "code",
   "execution_count": 10,
   "id": "8f4d6bf8",
   "metadata": {},
   "outputs": [
    {
     "data": {
      "text/plain": [
       "((40254, 41), (40254,))"
      ]
     },
     "execution_count": 10,
     "metadata": {},
     "output_type": "execute_result"
    }
   ],
   "source": [
    "x_train.shape, y_train.shape"
   ]
  },
  {
   "cell_type": "code",
   "execution_count": 11,
   "id": "8432385e",
   "metadata": {},
   "outputs": [
    {
     "data": {
      "text/plain": [
       "((17253, 41), (17253,))"
      ]
     },
     "execution_count": 11,
     "metadata": {},
     "output_type": "execute_result"
    }
   ],
   "source": [
    "x_test.shape, y_test.shape"
   ]
  },
  {
   "cell_type": "markdown",
   "id": "0bc34921",
   "metadata": {},
   "source": [
    "# 변수"
   ]
  },
  {
   "cell_type": "markdown",
   "id": "24fba9b8",
   "metadata": {},
   "source": [
    "\n",
    "파라미터 명\t설명\n",
    "n_estimators\t- 결정트리의 갯수를 지정\n",
    "- Default = 10\n",
    "- 무작정 트리 갯수를 늘리면 성능 좋아지는 것 대비 시간이 걸릴 수 있음\n",
    "min_samples_split\t- 노드를 분할하기 위한 최소한의 샘플 데이터수\n",
    "→ 과적합을 제어하는데 사용\n",
    "- Default = 2 → 작게 설정할 수록 분할 노드가 많아져 과적합 가능성 증가\n",
    "min_samples_leaf\t- 리프노드가 되기 위해 필요한 최소한의 샘플 데이터수\n",
    "- min_samples_split과 함께 과적합 제어 용도\n",
    "- 불균형 데이터의 경우 특정 클래스의 데이터가 극도로 작을 수 있으므로 작게 설정 필요\n",
    "max_features\t- 최적의 분할을 위해 고려할 최대 feature 개수\n",
    "- Default = 'auto' (결정트리에서는 default가 none이었음)\n",
    "- int형으로 지정 →피처 갯수 / float형으로 지정 →비중\n",
    "- sqrt 또는 auto : 전체 피처 중 √(피처개수) 만큼 선정\n",
    "- log : 전체 피처 중 log2(전체 피처 개수) 만큼 선정\n",
    "max_depth\t- 트리의 최대 깊이\n",
    "- default = None\n",
    "→ 완벽하게 클래스 값이 결정될 때 까지 분할\n",
    "또는 데이터 개수가 min_samples_split보다 작아질 때까지 분할\n",
    "- 깊이가 깊어지면 과적합될 수 있으므로 적절히 제어 필요\n",
    "max_leaf_nodes\t리프노드의 최대 개수"
   ]
  },
  {
   "cell_type": "code",
   "execution_count": 67,
   "id": "5c4cf8a1",
   "metadata": {},
   "outputs": [],
   "source": [
    "rf = RandomForestRegressor(n_estimators = 50, random_state = 42)"
   ]
  },
  {
   "cell_type": "code",
   "execution_count": 68,
   "id": "555d78c6",
   "metadata": {},
   "outputs": [
    {
     "data": {
      "text/plain": [
       "RandomForestRegressor(n_estimators=50, random_state=42)"
      ]
     },
     "execution_count": 68,
     "metadata": {},
     "output_type": "execute_result"
    }
   ],
   "source": [
    "rf.fit(x_train, y_train)"
   ]
  },
  {
   "cell_type": "code",
   "execution_count": 69,
   "id": "bd019d00",
   "metadata": {},
   "outputs": [],
   "source": [
    "y_predict = rf.predict(x_test)"
   ]
  },
  {
   "cell_type": "code",
   "execution_count": 70,
   "id": "86c8c844",
   "metadata": {},
   "outputs": [
    {
     "name": "stdout",
     "output_type": "stream",
     "text": [
      "훈련 세트의 정확도 : 0.9872 \n",
      "테스트 세트의 정확도 : 0.9188 \n"
     ]
    }
   ],
   "source": [
    "print('훈련 세트의 정확도 : {:.4f} '. format(rf.score(x_train, y_train)))\n",
    "print('테스트 세트의 정확도 : {:.4f} '.format(rf.score(x_test, y_test))) "
   ]
  },
  {
   "cell_type": "code",
   "execution_count": 71,
   "id": "e7df7918",
   "metadata": {},
   "outputs": [
    {
     "name": "stdout",
     "output_type": "stream",
     "text": [
      "경사부스팅의 오차: 1343.2503\n"
     ]
    }
   ],
   "source": [
    "# MAE : 평균오차절대값\n",
    "mae_pred =  mean_absolute_error(y_test, rf.predict(x_test))\n",
    "print('경사부스팅의 오차: {:.4f}'.format(mae_pred))"
   ]
  },
  {
   "cell_type": "markdown",
   "id": "81e14feb",
   "metadata": {},
   "source": [
    "# n_estimators 조절"
   ]
  },
  {
   "cell_type": "code",
   "execution_count": 72,
   "id": "99d840ec",
   "metadata": {},
   "outputs": [],
   "source": [
    "param_grid ={  } "
   ]
  },
  {
   "cell_type": "code",
   "execution_count": 74,
   "id": "52323296",
   "metadata": {},
   "outputs": [],
   "source": [
    "params = { 'n_estimators' : [10, 50, 100]}\n",
    "\n",
    "#            'max_depth' : [6, 8, 10, 12],\n",
    "#            'min_samples_leaf' : [8, 12, 18],\n",
    "#            'min_samples_split' : [8, 16, 20]}"
   ]
  },
  {
   "cell_type": "code",
   "execution_count": 75,
   "id": "c7c351bf",
   "metadata": {},
   "outputs": [
    {
     "data": {
      "text/plain": [
       "{'n_estimators': [10, 50, 100]}"
      ]
     },
     "execution_count": 75,
     "metadata": {},
     "output_type": "execute_result"
    }
   ],
   "source": [
    "params"
   ]
  },
  {
   "cell_type": "code",
   "execution_count": 76,
   "id": "e5090fc7",
   "metadata": {},
   "outputs": [],
   "source": [
    "rf_1 = GridSearchCV(rf, param_grid = params, cv = 3, n_jobs = -1)"
   ]
  },
  {
   "cell_type": "code",
   "execution_count": 77,
   "id": "0bfd3e47",
   "metadata": {},
   "outputs": [
    {
     "data": {
      "text/plain": [
       "GridSearchCV(cv=3,\n",
       "             estimator=RandomForestRegressor(n_estimators=50, random_state=42),\n",
       "             n_jobs=-1, param_grid={'n_estimators': [10, 50, 100]})"
      ]
     },
     "execution_count": 77,
     "metadata": {},
     "output_type": "execute_result"
    }
   ],
   "source": [
    "rf_1.fit(x_train, y_train)"
   ]
  },
  {
   "cell_type": "code",
   "execution_count": 78,
   "id": "26005bd8",
   "metadata": {},
   "outputs": [
    {
     "data": {
      "text/plain": [
       "array([20634.16 , 15288.935, 19571.17 , ..., 11490.42 ,  8223.13 ,\n",
       "       20678.43 ])"
      ]
     },
     "execution_count": 78,
     "metadata": {},
     "output_type": "execute_result"
    }
   ],
   "source": [
    "y_predict = rf_1.predict(x_test)\n",
    "y_predict"
   ]
  },
  {
   "cell_type": "code",
   "execution_count": 79,
   "id": "4d3edf2c",
   "metadata": {},
   "outputs": [
    {
     "name": "stdout",
     "output_type": "stream",
     "text": [
      "최적 하이퍼 파라미터:  {'n_estimators': 100}\n"
     ]
    }
   ],
   "source": [
    "print('최적 하이퍼 파라미터: ', rf_1.best_params_)"
   ]
  },
  {
   "cell_type": "markdown",
   "id": "8d2eddee",
   "metadata": {},
   "source": []
  },
  {
   "cell_type": "code",
   "execution_count": 82,
   "id": "7c90e734",
   "metadata": {},
   "outputs": [
    {
     "data": {
      "text/plain": [
       "{'n_estimators': [100], 'max_depth': [6, 8, 10, 12]}"
      ]
     },
     "execution_count": 82,
     "metadata": {},
     "output_type": "execute_result"
    }
   ],
   "source": [
    "params = { 'n_estimators' : [100],\n",
    "           'max_depth' : [6, 8, 10, 12]}\n",
    "#            'min_samples_leaf' : [8, 12, 18],\n",
    "#            'min_samples_split' : [8, 16, 20]}\n",
    "\n",
    "params"
   ]
  },
  {
   "cell_type": "code",
   "execution_count": 83,
   "id": "6c68edfe",
   "metadata": {},
   "outputs": [],
   "source": [
    "rf_2 = GridSearchCV(rf, param_grid = params, cv = 3, n_jobs = -1)"
   ]
  },
  {
   "cell_type": "code",
   "execution_count": 84,
   "id": "f55d1a70",
   "metadata": {},
   "outputs": [
    {
     "data": {
      "text/plain": [
       "GridSearchCV(cv=3,\n",
       "             estimator=RandomForestRegressor(n_estimators=50, random_state=42),\n",
       "             n_jobs=-1,\n",
       "             param_grid={'max_depth': [6, 8, 10, 12], 'n_estimators': [100]})"
      ]
     },
     "execution_count": 84,
     "metadata": {},
     "output_type": "execute_result"
    }
   ],
   "source": [
    "rf_2.fit(x_train, y_train)"
   ]
  },
  {
   "cell_type": "code",
   "execution_count": 85,
   "id": "c90dc363",
   "metadata": {},
   "outputs": [
    {
     "data": {
      "text/plain": [
       "array([21005.32639549, 15235.52066979, 20198.73817458, ...,\n",
       "       11616.21307358,  9019.6817414 , 20999.51012673])"
      ]
     },
     "execution_count": 85,
     "metadata": {},
     "output_type": "execute_result"
    }
   ],
   "source": [
    "y_predict = rf_2.predict(x_test)\n",
    "y_predict"
   ]
  },
  {
   "cell_type": "code",
   "execution_count": 86,
   "id": "28813e4d",
   "metadata": {},
   "outputs": [
    {
     "name": "stdout",
     "output_type": "stream",
     "text": [
      "최적 하이퍼 파라미터:  {'max_depth': 12, 'n_estimators': 100}\n"
     ]
    }
   ],
   "source": [
    "print('최적 하이퍼 파라미터: ', rf_2.best_params_)"
   ]
  },
  {
   "cell_type": "markdown",
   "id": "57b6ed80",
   "metadata": {},
   "source": []
  },
  {
   "cell_type": "code",
   "execution_count": 87,
   "id": "716326ae",
   "metadata": {},
   "outputs": [
    {
     "data": {
      "text/plain": [
       "{'n_estimators': [100], 'max_depth': [12], 'min_samples_leaf': [8, 12, 18]}"
      ]
     },
     "execution_count": 87,
     "metadata": {},
     "output_type": "execute_result"
    }
   ],
   "source": [
    "params = { 'n_estimators' : [100],\n",
    "           'max_depth' : [12],\n",
    "            'min_samples_leaf' : [8, 12, 18]}\n",
    "#            'min_samples_split' : [8, 16, 20]}\n",
    "\n",
    "params"
   ]
  },
  {
   "cell_type": "code",
   "execution_count": 88,
   "id": "94b6c5d2",
   "metadata": {},
   "outputs": [],
   "source": [
    "rf_3 = GridSearchCV(rf, param_grid = params, cv = 3, n_jobs = -1)"
   ]
  },
  {
   "cell_type": "code",
   "execution_count": 89,
   "id": "8f8b31a9",
   "metadata": {},
   "outputs": [
    {
     "data": {
      "text/plain": [
       "GridSearchCV(cv=3,\n",
       "             estimator=RandomForestRegressor(n_estimators=50, random_state=42),\n",
       "             n_jobs=-1,\n",
       "             param_grid={'max_depth': [12], 'min_samples_leaf': [8, 12, 18],\n",
       "                         'n_estimators': [100]})"
      ]
     },
     "execution_count": 89,
     "metadata": {},
     "output_type": "execute_result"
    }
   ],
   "source": [
    "rf_3.fit(x_train, y_train)"
   ]
  },
  {
   "cell_type": "code",
   "execution_count": 90,
   "id": "3d3e17de",
   "metadata": {},
   "outputs": [
    {
     "data": {
      "text/plain": [
       "array([20980.51310922, 15260.03541396, 20208.36668919, ...,\n",
       "       11628.01496727,  9012.00533293, 22048.41969517])"
      ]
     },
     "execution_count": 90,
     "metadata": {},
     "output_type": "execute_result"
    }
   ],
   "source": [
    "y_predict = rf_3.predict(x_test)\n",
    "y_predict"
   ]
  },
  {
   "cell_type": "code",
   "execution_count": 91,
   "id": "cb509d81",
   "metadata": {},
   "outputs": [
    {
     "name": "stdout",
     "output_type": "stream",
     "text": [
      "최적 하이퍼 파라미터:  {'max_depth': 12, 'min_samples_leaf': 8, 'n_estimators': 100}\n"
     ]
    }
   ],
   "source": [
    "print('최적 하이퍼 파라미터: ', rf_3.best_params_)"
   ]
  },
  {
   "cell_type": "markdown",
   "id": "40f67261",
   "metadata": {},
   "source": []
  },
  {
   "cell_type": "code",
   "execution_count": 98,
   "id": "dc563ff6",
   "metadata": {},
   "outputs": [
    {
     "data": {
      "text/plain": [
       "{'n_estimators': [100],\n",
       " 'max_depth': [12],\n",
       " 'min_samples_leaf': [8],\n",
       " 'min_samples_split': [8, 16, 20]}"
      ]
     },
     "execution_count": 98,
     "metadata": {},
     "output_type": "execute_result"
    }
   ],
   "source": [
    "params = { 'n_estimators' : [100],\n",
    "           'max_depth' : [12],\n",
    "            'min_samples_leaf' : [8],\n",
    "            'min_samples_split' : [8, 16, 20]}\n",
    "\n",
    "params"
   ]
  },
  {
   "cell_type": "code",
   "execution_count": 99,
   "id": "29b80327",
   "metadata": {},
   "outputs": [],
   "source": [
    "rf_4 = GridSearchCV(rf, param_grid = params, cv = 3, n_jobs = -1)"
   ]
  },
  {
   "cell_type": "code",
   "execution_count": 100,
   "id": "4367acc6",
   "metadata": {},
   "outputs": [
    {
     "data": {
      "text/plain": [
       "GridSearchCV(cv=3,\n",
       "             estimator=RandomForestRegressor(n_estimators=50, random_state=42),\n",
       "             n_jobs=-1,\n",
       "             param_grid={'max_depth': [12], 'min_samples_leaf': [8],\n",
       "                         'min_samples_split': [8, 16, 20],\n",
       "                         'n_estimators': [100]})"
      ]
     },
     "execution_count": 100,
     "metadata": {},
     "output_type": "execute_result"
    }
   ],
   "source": [
    "rf_4.fit(x_train, y_train)"
   ]
  },
  {
   "cell_type": "code",
   "execution_count": 101,
   "id": "e09d8bed",
   "metadata": {},
   "outputs": [
    {
     "data": {
      "text/plain": [
       "array([20980.51310922, 15260.03541396, 20208.36668919, ...,\n",
       "       11628.01496727,  9012.00533293, 22048.41969517])"
      ]
     },
     "execution_count": 101,
     "metadata": {},
     "output_type": "execute_result"
    }
   ],
   "source": [
    "y_predict = rf_4.predict(x_test)\n",
    "y_predict"
   ]
  },
  {
   "cell_type": "code",
   "execution_count": 102,
   "id": "1af85d25",
   "metadata": {},
   "outputs": [
    {
     "name": "stdout",
     "output_type": "stream",
     "text": [
      "최적 하이퍼 파라미터:  {'max_depth': 12, 'min_samples_leaf': 8, 'min_samples_split': 8, 'n_estimators': 100}\n"
     ]
    }
   ],
   "source": [
    "print('최적 하이퍼 파라미터: ', rf_4.best_params_)"
   ]
  },
  {
   "cell_type": "markdown",
   "id": "c20c4d1c",
   "metadata": {},
   "source": []
  },
  {
   "cell_type": "code",
   "execution_count": 103,
   "id": "3de7cb77",
   "metadata": {},
   "outputs": [
    {
     "data": {
      "text/plain": [
       "{'n_estimators': [100],\n",
       " 'max_depth': [12],\n",
       " 'min_samples_leaf': [8],\n",
       " 'min_samples_split': [8]}"
      ]
     },
     "execution_count": 103,
     "metadata": {},
     "output_type": "execute_result"
    }
   ],
   "source": [
    "params = { 'n_estimators' : [100],\n",
    "           'max_depth' : [12],\n",
    "            'min_samples_leaf' : [8],\n",
    "            'min_samples_split' : [8]}\n",
    "\n",
    "params"
   ]
  },
  {
   "cell_type": "code",
   "execution_count": 104,
   "id": "63c4eac5",
   "metadata": {},
   "outputs": [],
   "source": [
    "rf_5 = GridSearchCV(rf, param_grid = params, cv = 3, n_jobs = -1)"
   ]
  },
  {
   "cell_type": "code",
   "execution_count": 105,
   "id": "bc9d0c18",
   "metadata": {},
   "outputs": [
    {
     "data": {
      "text/plain": [
       "GridSearchCV(cv=3,\n",
       "             estimator=RandomForestRegressor(n_estimators=50, random_state=42),\n",
       "             n_jobs=-1,\n",
       "             param_grid={'max_depth': [12], 'min_samples_leaf': [8],\n",
       "                         'min_samples_split': [8], 'n_estimators': [100]})"
      ]
     },
     "execution_count": 105,
     "metadata": {},
     "output_type": "execute_result"
    }
   ],
   "source": [
    "rf_5.fit(x_train, y_train)"
   ]
  },
  {
   "cell_type": "code",
   "execution_count": 106,
   "id": "01122784",
   "metadata": {},
   "outputs": [
    {
     "data": {
      "text/plain": [
       "array([20980.51310922, 15260.03541396, 20208.36668919, ...,\n",
       "       11628.01496727,  9012.00533293, 22048.41969517])"
      ]
     },
     "execution_count": 106,
     "metadata": {},
     "output_type": "execute_result"
    }
   ],
   "source": [
    "y_predict = rf_5.predict(x_test)\n",
    "y_predict"
   ]
  },
  {
   "cell_type": "code",
   "execution_count": 108,
   "id": "3fd62cb6",
   "metadata": {},
   "outputs": [
    {
     "name": "stdout",
     "output_type": "stream",
     "text": [
      "훈련 세트의 정확도 : 0.9209 \n",
      "테스트 세트의 정확도 : 0.9059 \n"
     ]
    }
   ],
   "source": [
    "print('훈련 세트의 정확도 : {:.4f} '. format(rf_5.score(x_train, y_train)))\n",
    "print('테스트 세트의 정확도 : {:.4f} '.format(rf_5.score(x_test, y_test))) "
   ]
  },
  {
   "cell_type": "code",
   "execution_count": 109,
   "id": "6888fae9",
   "metadata": {},
   "outputs": [
    {
     "name": "stdout",
     "output_type": "stream",
     "text": [
      "경사부스팅의 오차: 1533.8289\n"
     ]
    }
   ],
   "source": [
    "# MAE : 평균오차절대값\n",
    "mae_pred =  mean_absolute_error(y_test, rf_5.predict(x_test))\n",
    "print('랜덤포레스트의 오차: {:.4f}'.format(mae_pred))"
   ]
  },
  {
   "cell_type": "code",
   "execution_count": null,
   "id": "518ae75c",
   "metadata": {},
   "outputs": [],
   "source": []
  },
  {
   "cell_type": "code",
   "execution_count": 66,
   "id": "c62f83c8",
   "metadata": {},
   "outputs": [],
   "source": [
    "#위의 결과로 나온 최적 하이퍼 파라미터로 다시 모델을 학습하여 테스트 세트 데이터에서 예측 성능을 측정\n",
    "rf_clf1 = RandomForestRegressor(n_estimators = 50,\n",
    "                                random_state = 42,\n",
    "                                max_depth = 12,\n",
    "                                min_samples_leaf = 8,\n",
    "                                min_samples_split = 8,\n",
    "                                n_jobs = -1)"
   ]
  },
  {
   "cell_type": "code",
   "execution_count": null,
   "id": "e45b8093",
   "metadata": {},
   "outputs": [],
   "source": [
    "rf_clf1.fit(X_train, y_train)\n",
    "pred = rf_clf1.predict(X_test)\n",
    "print('예측 정확도: {:.4f}'.format(accuracy_score(y_test,pred)))"
   ]
  },
  {
   "cell_type": "code",
   "execution_count": null,
   "id": "9b2e29b2",
   "metadata": {},
   "outputs": [],
   "source": []
  },
  {
   "cell_type": "code",
   "execution_count": 61,
   "id": "dfe1606c",
   "metadata": {},
   "outputs": [
    {
     "name": "stdout",
     "output_type": "stream",
     "text": [
      "훈련 세트의 정확도 : 0.9206 \n",
      "테스트 세트의 정확도 : 0.9057 \n"
     ]
    }
   ],
   "source": [
    "print('훈련 세트의 정확도 : {:.4f} '. format(rf_1.score(x_train, y_train)))\n",
    "print('테스트 세트의 정확도 : {:.4f} '.format(rf_1.score(x_test, y_test))) "
   ]
  },
  {
   "cell_type": "code",
   "execution_count": 47,
   "id": "f75395ea",
   "metadata": {},
   "outputs": [
    {
     "name": "stdout",
     "output_type": "stream",
     "text": [
      "경사부스팅의 오차: 1533.8289\n"
     ]
    }
   ],
   "source": [
    "# MAE : 평균오차절대값\n",
    "mae_pred =  mean_absolute_error(y_test, rf_1.predict(x_test))\n",
    "print('랜덤포레스트의 오차: {:.4f}'.format(mae_pred))"
   ]
  },
  {
   "cell_type": "code",
   "execution_count": null,
   "id": "aa410243",
   "metadata": {},
   "outputs": [],
   "source": []
  },
  {
   "cell_type": "code",
   "execution_count": null,
   "id": "ddecac5b",
   "metadata": {},
   "outputs": [],
   "source": []
  },
  {
   "cell_type": "markdown",
   "id": "cba3fb86",
   "metadata": {},
   "source": [
    "파라미터 명\t설명\n",
    "n_estimators\t- 결정트리의 갯수를 지정\n",
    "- Default = 10\n",
    "- 무작정 트리 갯수를 늘리면 성능 좋아지는 것 대비 시간이 걸릴 수 있음\n",
    "min_samples_split\t- 노드를 분할하기 위한 최소한의 샘플 데이터수\n",
    "→ 과적합을 제어하는데 사용\n",
    "- Default = 2 → 작게 설정할 수록 분할 노드가 많아져 과적합 가능성 증가\n",
    "min_samples_leaf\t- 리프노드가 되기 위해 필요한 최소한의 샘플 데이터수\n",
    "- min_samples_split과 함께 과적합 제어 용도\n",
    "- 불균형 데이터의 경우 특정 클래스의 데이터가 극도로 작을 수 있으므로 작게 설정 필요\n",
    "max_features\t- 최적의 분할을 위해 고려할 최대 feature 개수\n",
    "- Default = 'auto' (결정트리에서는 default가 none이었음)\n",
    "- int형으로 지정 →피처 갯수 / float형으로 지정 →비중\n",
    "- sqrt 또는 auto : 전체 피처 중 √(피처개수) 만큼 선정\n",
    "- log : 전체 피처 중 log2(전체 피처 개수) 만큼 선정\n",
    "max_depth\t- 트리의 최대 깊이\n",
    "- default = None\n",
    "→ 완벽하게 클래스 값이 결정될 때 까지 분할\n",
    "또는 데이터 개수가 min_samples_split보다 작아질 때까지 분할\n",
    "- 깊이가 깊어지면 과적합될 수 있으므로 적절히 제어 필요\n",
    "max_leaf_nodes\t리프노드의 최대 개수"
   ]
  },
  {
   "cell_type": "code",
   "execution_count": 110,
   "id": "59e5e64a",
   "metadata": {},
   "outputs": [],
   "source": [
    "params = { 'n_estimators' : [10, 50, 100, 200, 300],\n",
    "            'max_depth' : [6, 8, 10, 12],\n",
    "            'min_samples_leaf' : [8, 12, 18],\n",
    "            'min_samples_split' : [2, 4, 8, 16, 20]}"
   ]
  },
  {
   "cell_type": "code",
   "execution_count": 111,
   "id": "8c3d635e",
   "metadata": {},
   "outputs": [],
   "source": [
    "rf_6 = GridSearchCV(rf, param_grid = params, cv = 3, n_jobs = -1)"
   ]
  },
  {
   "cell_type": "code",
   "execution_count": 112,
   "id": "6df24e5d",
   "metadata": {},
   "outputs": [
    {
     "data": {
      "text/plain": [
       "GridSearchCV(cv=3,\n",
       "             estimator=RandomForestRegressor(n_estimators=50, random_state=42),\n",
       "             n_jobs=-1,\n",
       "             param_grid={'max_depth': [6, 8, 10, 12],\n",
       "                         'min_samples_leaf': [8, 12, 18],\n",
       "                         'min_samples_split': [2, 4, 8, 16, 20],\n",
       "                         'n_estimators': [10, 50, 100, 200, 300]})"
      ]
     },
     "execution_count": 112,
     "metadata": {},
     "output_type": "execute_result"
    }
   ],
   "source": [
    "rf_6.fit(x_train, y_train)"
   ]
  },
  {
   "cell_type": "code",
   "execution_count": 113,
   "id": "92b97973",
   "metadata": {},
   "outputs": [
    {
     "name": "stdout",
     "output_type": "stream",
     "text": [
      "최적 하이퍼 파라미터:  {'max_depth': 12, 'min_samples_leaf': 8, 'min_samples_split': 2, 'n_estimators': 300}\n"
     ]
    }
   ],
   "source": [
    "print('최적 하이퍼 파라미터: ', rf_6.best_params_)"
   ]
  },
  {
   "cell_type": "code",
   "execution_count": 114,
   "id": "9fbcac33",
   "metadata": {},
   "outputs": [
    {
     "data": {
      "text/plain": [
       "array([20963.73145857, 15230.64004759, 20224.46217464, ...,\n",
       "       11611.87061515,  9020.44784544, 22460.61543877])"
      ]
     },
     "execution_count": 114,
     "metadata": {},
     "output_type": "execute_result"
    }
   ],
   "source": [
    "y_predict = rf_6.predict(x_test)\n",
    "y_predict"
   ]
  },
  {
   "cell_type": "code",
   "execution_count": 115,
   "id": "89e548b6",
   "metadata": {},
   "outputs": [
    {
     "name": "stdout",
     "output_type": "stream",
     "text": [
      "훈련 세트의 정확도 : 0.9213 \n",
      "테스트 세트의 정확도 : 0.9066 \n"
     ]
    }
   ],
   "source": [
    "print('훈련 세트의 정확도 : {:.4f} '. format(rf_6.score(x_train, y_train)))\n",
    "print('테스트 세트의 정확도 : {:.4f} '.format(rf_6.score(x_test, y_test))) "
   ]
  },
  {
   "cell_type": "code",
   "execution_count": 116,
   "id": "e646bcdb",
   "metadata": {},
   "outputs": [
    {
     "name": "stdout",
     "output_type": "stream",
     "text": [
      "경사부스팅의 오차: 1529.2939\n"
     ]
    }
   ],
   "source": [
    "# MAE : 평균오차절대값\n",
    "mae_pred =  mean_absolute_error(y_test, rf_6.predict(x_test))\n",
    "print('랜덤포레스트의 오차: {:.4f}'.format(mae_pred))"
   ]
  },
  {
   "cell_type": "code",
   "execution_count": null,
   "id": "f1587d5f",
   "metadata": {},
   "outputs": [],
   "source": []
  },
  {
   "cell_type": "code",
   "execution_count": 117,
   "id": "ddf9b602",
   "metadata": {},
   "outputs": [],
   "source": [
    "params = { 'n_estimators' : [10, 50, 100, 200, 300],\n",
    "            'min_samples_leaf' : [8, 12, 18],\n",
    "            'min_samples_split' : [2, 4, 8, 16, 20]}"
   ]
  },
  {
   "cell_type": "code",
   "execution_count": 125,
   "id": "d720930d",
   "metadata": {},
   "outputs": [],
   "source": [
    "rf_7 = GridSearchCV(rf, param_grid = params, cv = 3, n_jobs = -1)"
   ]
  },
  {
   "cell_type": "code",
   "execution_count": 119,
   "id": "b6995cab",
   "metadata": {},
   "outputs": [
    {
     "data": {
      "text/plain": [
       "GridSearchCV(cv=3,\n",
       "             estimator=RandomForestRegressor(n_estimators=50, random_state=42),\n",
       "             n_jobs=-1,\n",
       "             param_grid={'min_samples_leaf': [8, 12, 18],\n",
       "                         'min_samples_split': [2, 4, 8, 16, 20],\n",
       "                         'n_estimators': [10, 50, 100, 200, 300]})"
      ]
     },
     "execution_count": 119,
     "metadata": {},
     "output_type": "execute_result"
    }
   ],
   "source": [
    "rf_7.fit(x_train, y_train)"
   ]
  },
  {
   "cell_type": "code",
   "execution_count": 120,
   "id": "fb42f9b4",
   "metadata": {},
   "outputs": [
    {
     "name": "stdout",
     "output_type": "stream",
     "text": [
      "최적 하이퍼 파라미터:  {'min_samples_leaf': 8, 'min_samples_split': 2, 'n_estimators': 300}\n"
     ]
    }
   ],
   "source": [
    "print('최적 하이퍼 파라미터: ', rf_7.best_params_)"
   ]
  },
  {
   "cell_type": "code",
   "execution_count": 121,
   "id": "58a84f1c",
   "metadata": {},
   "outputs": [
    {
     "data": {
      "text/plain": [
       "array([20775.21205477, 15860.24019022, 19546.87437615, ...,\n",
       "       11598.38871518,  8181.41710837, 22464.6529079 ])"
      ]
     },
     "execution_count": 121,
     "metadata": {},
     "output_type": "execute_result"
    }
   ],
   "source": [
    "y_predict = rf_7.predict(x_test)\n",
    "y_predict"
   ]
  },
  {
   "cell_type": "code",
   "execution_count": 122,
   "id": "ee097d42",
   "metadata": {},
   "outputs": [
    {
     "name": "stdout",
     "output_type": "stream",
     "text": [
      "훈련 세트의 정확도 : 0.9378 \n",
      "테스트 세트의 정확도 : 0.9159 \n"
     ]
    }
   ],
   "source": [
    "print('훈련 세트의 정확도 : {:.4f} '. format(rf_7.score(x_train, y_train)))\n",
    "print('테스트 세트의 정확도 : {:.4f} '.format(rf_7.score(x_test, y_test))) "
   ]
  },
  {
   "cell_type": "code",
   "execution_count": 123,
   "id": "75aaee82",
   "metadata": {},
   "outputs": [
    {
     "name": "stdout",
     "output_type": "stream",
     "text": [
      "경사부스팅의 오차: 1409.0081\n"
     ]
    }
   ],
   "source": [
    "# MAE : 평균오차절대값\n",
    "mae_pred =  mean_absolute_error(y_test, rf_7.predict(x_test))\n",
    "print('랜덤포레스트의 오차: {:.4f}'.format(mae_pred))"
   ]
  },
  {
   "cell_type": "code",
   "execution_count": null,
   "id": "3a08685e",
   "metadata": {},
   "outputs": [],
   "source": []
  },
  {
   "cell_type": "code",
   "execution_count": 124,
   "id": "4f84e399",
   "metadata": {},
   "outputs": [],
   "source": [
    "params = { 'n_estimators' : [10, 50, 100, 200, 300],\n",
    "            'min_samples_leaf' : [2, 4, 8, 12, 18],\n",
    "            'min_samples_split' : [2, 4, 8, 16, 20]}"
   ]
  },
  {
   "cell_type": "code",
   "execution_count": 126,
   "id": "e2f07e6d",
   "metadata": {},
   "outputs": [],
   "source": [
    "rf_8 = GridSearchCV(rf, param_grid = params, cv = 3, n_jobs = -1)"
   ]
  },
  {
   "cell_type": "code",
   "execution_count": 127,
   "id": "d2a530aa",
   "metadata": {},
   "outputs": [
    {
     "data": {
      "text/plain": [
       "GridSearchCV(cv=3,\n",
       "             estimator=RandomForestRegressor(n_estimators=50, random_state=42),\n",
       "             n_jobs=-1,\n",
       "             param_grid={'min_samples_leaf': [2, 4, 8, 12, 18],\n",
       "                         'min_samples_split': [2, 4, 8, 16, 20],\n",
       "                         'n_estimators': [10, 50, 100, 200, 300]})"
      ]
     },
     "execution_count": 127,
     "metadata": {},
     "output_type": "execute_result"
    }
   ],
   "source": [
    "rf_8.fit(x_train, y_train)"
   ]
  },
  {
   "cell_type": "code",
   "execution_count": 128,
   "id": "55dd0b7a",
   "metadata": {},
   "outputs": [
    {
     "name": "stdout",
     "output_type": "stream",
     "text": [
      "최적 하이퍼 파라미터:  {'min_samples_leaf': 2, 'min_samples_split': 8, 'n_estimators': 200}\n"
     ]
    }
   ],
   "source": [
    "print('최적 하이퍼 파라미터: ', rf_8.best_params_)"
   ]
  },
  {
   "cell_type": "code",
   "execution_count": 130,
   "id": "23180526",
   "metadata": {},
   "outputs": [
    {
     "name": "stdout",
     "output_type": "stream",
     "text": [
      "[20750.4633174  15164.47981027 19259.03104158 ... 11432.31770686\n",
      "  8241.86323418 21365.74689814]\n"
     ]
    }
   ],
   "source": [
    "y_predict = rf_8.predict(x_test)\n",
    "print(y_predict)"
   ]
  },
  {
   "cell_type": "code",
   "execution_count": 131,
   "id": "6e0b4d7b",
   "metadata": {},
   "outputs": [
    {
     "name": "stdout",
     "output_type": "stream",
     "text": [
      "훈련 세트의 정확도 : 0.9650 \n",
      "테스트 세트의 정확도 : 0.9241 \n"
     ]
    }
   ],
   "source": [
    "print('훈련 세트의 정확도 : {:.4f} '. format(rf_8.score(x_train, y_train)))\n",
    "print('테스트 세트의 정확도 : {:.4f} '.format(rf_8.score(x_test, y_test))) "
   ]
  },
  {
   "cell_type": "code",
   "execution_count": 132,
   "id": "3825c45a",
   "metadata": {},
   "outputs": [
    {
     "name": "stdout",
     "output_type": "stream",
     "text": [
      "경사부스팅의 오차: 1313.4354\n"
     ]
    }
   ],
   "source": [
    "# MAE : 평균오차절대값\n",
    "mae_pred =  mean_absolute_error(y_test, rf_8.predict(x_test))\n",
    "print('랜덤포레스트의 오차: {:.4f}'.format(mae_pred))"
   ]
  },
  {
   "cell_type": "code",
   "execution_count": null,
   "id": "272125af",
   "metadata": {},
   "outputs": [],
   "source": []
  },
  {
   "cell_type": "code",
   "execution_count": 133,
   "id": "8f5b1e53",
   "metadata": {},
   "outputs": [],
   "source": [
    "#위의 결과로 나온 최적 하이퍼 파라미터로 다시 모델을 학습하여 테스트 세트 데이터에서 예측 성능을 측정\n",
    "rf_model = RandomForestRegressor(n_estimators = 200,\n",
    "                                random_state = 42,\n",
    "                                min_samples_leaf = 2,\n",
    "                                min_samples_split = 8,\n",
    "                                n_jobs = -1)"
   ]
  },
  {
   "cell_type": "code",
   "execution_count": 136,
   "id": "5a583153",
   "metadata": {},
   "outputs": [
    {
     "data": {
      "text/plain": [
       "RandomForestRegressor(min_samples_leaf=2, min_samples_split=8, n_estimators=200,\n",
       "                      n_jobs=-1, random_state=42)"
      ]
     },
     "execution_count": 136,
     "metadata": {},
     "output_type": "execute_result"
    }
   ],
   "source": [
    "rf_model.fit(x_train, y_train)"
   ]
  },
  {
   "cell_type": "code",
   "execution_count": 137,
   "id": "9848bd4c",
   "metadata": {},
   "outputs": [
    {
     "name": "stdout",
     "output_type": "stream",
     "text": [
      "[20750.4633174  15164.47981027 19259.03104158 ... 11432.31770686\n",
      "  8241.86323418 21365.74689814]\n"
     ]
    }
   ],
   "source": [
    "y_predict = rf_model.predict(x_test)\n",
    "print(y_predict)"
   ]
  },
  {
   "cell_type": "code",
   "execution_count": 138,
   "id": "43552396",
   "metadata": {},
   "outputs": [
    {
     "name": "stdout",
     "output_type": "stream",
     "text": [
      "훈련 세트의 정확도 : 0.9650 \n",
      "테스트 세트의 정확도 : 0.9241 \n"
     ]
    }
   ],
   "source": [
    "print('훈련 세트의 정확도 : {:.4f} '. format(rf_model.score(x_train, y_train)))\n",
    "print('테스트 세트의 정확도 : {:.4f} '.format(rf_model.score(x_test, y_test))) "
   ]
  },
  {
   "cell_type": "code",
   "execution_count": 139,
   "id": "aa5028ed",
   "metadata": {},
   "outputs": [
    {
     "name": "stdout",
     "output_type": "stream",
     "text": [
      "경사부스팅의 오차: 1313.4354\n"
     ]
    }
   ],
   "source": [
    "# MAE : 평균오차절대값\n",
    "mae_pred =  mean_absolute_error(y_test, rf_model.predict(x_test))\n",
    "print('랜덤포레스트의 오차: {:.4f}'.format(mae_pred))"
   ]
  }
 ],
 "metadata": {
  "kernelspec": {
   "display_name": "Python 3 (ipykernel)",
   "language": "python",
   "name": "python3"
  },
  "language_info": {
   "codemirror_mode": {
    "name": "ipython",
    "version": 3
   },
   "file_extension": ".py",
   "mimetype": "text/x-python",
   "name": "python",
   "nbconvert_exporter": "python",
   "pygments_lexer": "ipython3",
   "version": "3.9.7"
  }
 },
 "nbformat": 4,
 "nbformat_minor": 5
}
